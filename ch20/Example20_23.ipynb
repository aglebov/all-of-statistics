{
 "cells": [
  {
   "cell_type": "code",
   "execution_count": 1,
   "id": "77bf7d3e-a29a-458e-9859-55e262d646bd",
   "metadata": {},
   "outputs": [],
   "source": [
    "import numpy as np\n",
    "import pandas as pd\n",
    "import matplotlib.pyplot as plt\n",
    "import scipy.stats as stats"
   ]
  },
  {
   "cell_type": "code",
   "execution_count": 2,
   "id": "f57b90f3-8965-48bd-8a90-2f6f042b9458",
   "metadata": {},
   "outputs": [],
   "source": [
    "from kreg import w, r, cross_validation_score_reg, kreg_conf_int"
   ]
  },
  {
   "cell_type": "markdown",
   "id": "a9a40472-c99b-403c-94ad-c0b925589ae7",
   "metadata": {},
   "source": [
    "#### Load the data"
   ]
  },
  {
   "cell_type": "code",
   "execution_count": 3,
   "id": "d298b52b-8c4f-4095-831f-a3149b4e76a6",
   "metadata": {},
   "outputs": [
    {
     "data": {
      "text/html": [
       "<div>\n",
       "<style scoped>\n",
       "    .dataframe tbody tr th:only-of-type {\n",
       "        vertical-align: middle;\n",
       "    }\n",
       "\n",
       "    .dataframe tbody tr th {\n",
       "        vertical-align: top;\n",
       "    }\n",
       "\n",
       "    .dataframe thead th {\n",
       "        text-align: right;\n",
       "    }\n",
       "</style>\n",
       "<table border=\"1\" class=\"dataframe\">\n",
       "  <thead>\n",
       "    <tr style=\"text-align: right;\">\n",
       "      <th></th>\n",
       "      <th>0</th>\n",
       "      <th>1</th>\n",
       "      <th>2</th>\n",
       "      <th>3</th>\n",
       "    </tr>\n",
       "  </thead>\n",
       "  <tbody>\n",
       "    <tr>\n",
       "      <th>0</th>\n",
       "      <td>77</td>\n",
       "      <td>1999</td>\n",
       "      <td>675</td>\n",
       "      <td>506</td>\n",
       "    </tr>\n",
       "    <tr>\n",
       "      <th>1</th>\n",
       "      <td>147</td>\n",
       "      <td>2960</td>\n",
       "      <td>682</td>\n",
       "      <td>554</td>\n",
       "    </tr>\n",
       "    <tr>\n",
       "      <th>2</th>\n",
       "      <td>222</td>\n",
       "      <td>6092</td>\n",
       "      <td>1052</td>\n",
       "      <td>901</td>\n",
       "    </tr>\n",
       "    <tr>\n",
       "      <th>3</th>\n",
       "      <td>294</td>\n",
       "      <td>3830</td>\n",
       "      <td>670</td>\n",
       "      <td>577</td>\n",
       "    </tr>\n",
       "    <tr>\n",
       "      <th>4</th>\n",
       "      <td>381</td>\n",
       "      <td>2270</td>\n",
       "      <td>569</td>\n",
       "      <td>471</td>\n",
       "    </tr>\n",
       "    <tr>\n",
       "      <th>5</th>\n",
       "      <td>449</td>\n",
       "      <td>1468</td>\n",
       "      <td>387</td>\n",
       "      <td>325</td>\n",
       "    </tr>\n",
       "    <tr>\n",
       "      <th>6</th>\n",
       "      <td>523</td>\n",
       "      <td>1935</td>\n",
       "      <td>475</td>\n",
       "      <td>408</td>\n",
       "    </tr>\n",
       "    <tr>\n",
       "      <th>7</th>\n",
       "      <td>597</td>\n",
       "      <td>1811</td>\n",
       "      <td>511</td>\n",
       "      <td>441</td>\n",
       "    </tr>\n",
       "    <tr>\n",
       "      <th>8</th>\n",
       "      <td>671</td>\n",
       "      <td>2100</td>\n",
       "      <td>629</td>\n",
       "      <td>546</td>\n",
       "    </tr>\n",
       "    <tr>\n",
       "      <th>9</th>\n",
       "      <td>746</td>\n",
       "      <td>2189</td>\n",
       "      <td>777</td>\n",
       "      <td>680</td>\n",
       "    </tr>\n",
       "    <tr>\n",
       "      <th>10</th>\n",
       "      <td>856</td>\n",
       "      <td>3104</td>\n",
       "      <td>805</td>\n",
       "      <td>738</td>\n",
       "    </tr>\n",
       "    <tr>\n",
       "      <th>11</th>\n",
       "      <td>1004</td>\n",
       "      <td>1084</td>\n",
       "      <td>1219</td>\n",
       "      <td>1085</td>\n",
       "    </tr>\n",
       "    <tr>\n",
       "      <th>12</th>\n",
       "      <td>1147</td>\n",
       "      <td>223</td>\n",
       "      <td>2791</td>\n",
       "      <td>2025</td>\n",
       "    </tr>\n",
       "  </tbody>\n",
       "</table>\n",
       "</div>"
      ],
      "text/plain": [
       "       0     1     2     3\n",
       "0     77  1999   675   506\n",
       "1    147  2960   682   554\n",
       "2    222  6092  1052   901\n",
       "3    294  3830   670   577\n",
       "4    381  2270   569   471\n",
       "5    449  1468   387   325\n",
       "6    523  1935   475   408\n",
       "7    597  1811   511   441\n",
       "8    671  2100   629   546\n",
       "9    746  2189   777   680\n",
       "10   856  3104   805   738\n",
       "11  1004  1084  1219  1085\n",
       "12  1147   223  2791  2025"
      ]
     },
     "execution_count": 3,
     "metadata": {},
     "output_type": "execute_result"
    }
   ],
   "source": [
    "data1 = pd.read_csv('max_050801.dat', sep='\\\\s+', header=None)\n",
    "data1"
   ]
  },
  {
   "cell_type": "code",
   "execution_count": 4,
   "id": "b682ddbf-d0ff-4a1e-a306-52ce044e666a",
   "metadata": {},
   "outputs": [
    {
     "data": {
      "text/html": [
       "<div>\n",
       "<style scoped>\n",
       "    .dataframe tbody tr th:only-of-type {\n",
       "        vertical-align: middle;\n",
       "    }\n",
       "\n",
       "    .dataframe tbody tr th {\n",
       "        vertical-align: top;\n",
       "    }\n",
       "\n",
       "    .dataframe thead th {\n",
       "        text-align: right;\n",
       "    }\n",
       "</style>\n",
       "<table border=\"1\" class=\"dataframe\">\n",
       "  <thead>\n",
       "    <tr style=\"text-align: right;\">\n",
       "      <th></th>\n",
       "      <th>0</th>\n",
       "      <th>1</th>\n",
       "      <th>2</th>\n",
       "      <th>3</th>\n",
       "    </tr>\n",
       "  </thead>\n",
       "  <tbody>\n",
       "    <tr>\n",
       "      <th>0</th>\n",
       "      <td>100</td>\n",
       "      <td>3397</td>\n",
       "      <td>602</td>\n",
       "      <td>602</td>\n",
       "    </tr>\n",
       "    <tr>\n",
       "      <th>1</th>\n",
       "      <td>150</td>\n",
       "      <td>4663</td>\n",
       "      <td>572</td>\n",
       "      <td>572</td>\n",
       "    </tr>\n",
       "    <tr>\n",
       "      <th>2</th>\n",
       "      <td>200</td>\n",
       "      <td>5580</td>\n",
       "      <td>557</td>\n",
       "      <td>557</td>\n",
       "    </tr>\n",
       "    <tr>\n",
       "      <th>3</th>\n",
       "      <td>250</td>\n",
       "      <td>5687</td>\n",
       "      <td>493</td>\n",
       "      <td>493</td>\n",
       "    </tr>\n",
       "    <tr>\n",
       "      <th>4</th>\n",
       "      <td>300</td>\n",
       "      <td>3883</td>\n",
       "      <td>327</td>\n",
       "      <td>327</td>\n",
       "    </tr>\n",
       "    <tr>\n",
       "      <th>5</th>\n",
       "      <td>350</td>\n",
       "      <td>2582</td>\n",
       "      <td>223</td>\n",
       "      <td>223</td>\n",
       "    </tr>\n",
       "    <tr>\n",
       "      <th>6</th>\n",
       "      <td>400</td>\n",
       "      <td>1834</td>\n",
       "      <td>171</td>\n",
       "      <td>171</td>\n",
       "    </tr>\n",
       "    <tr>\n",
       "      <th>7</th>\n",
       "      <td>450</td>\n",
       "      <td>2060</td>\n",
       "      <td>177</td>\n",
       "      <td>177</td>\n",
       "    </tr>\n",
       "    <tr>\n",
       "      <th>8</th>\n",
       "      <td>500</td>\n",
       "      <td>2263</td>\n",
       "      <td>189</td>\n",
       "      <td>189</td>\n",
       "    </tr>\n",
       "    <tr>\n",
       "      <th>9</th>\n",
       "      <td>550</td>\n",
       "      <td>2291</td>\n",
       "      <td>197</td>\n",
       "      <td>197</td>\n",
       "    </tr>\n",
       "    <tr>\n",
       "      <th>10</th>\n",
       "      <td>600</td>\n",
       "      <td>2053</td>\n",
       "      <td>197</td>\n",
       "      <td>197</td>\n",
       "    </tr>\n",
       "    <tr>\n",
       "      <th>11</th>\n",
       "      <td>650</td>\n",
       "      <td>1923</td>\n",
       "      <td>208</td>\n",
       "      <td>208</td>\n",
       "    </tr>\n",
       "    <tr>\n",
       "      <th>12</th>\n",
       "      <td>700</td>\n",
       "      <td>1817</td>\n",
       "      <td>225</td>\n",
       "      <td>225</td>\n",
       "    </tr>\n",
       "    <tr>\n",
       "      <th>13</th>\n",
       "      <td>750</td>\n",
       "      <td>1448</td>\n",
       "      <td>247</td>\n",
       "      <td>247</td>\n",
       "    </tr>\n",
       "    <tr>\n",
       "      <th>14</th>\n",
       "      <td>800</td>\n",
       "      <td>1921</td>\n",
       "      <td>308</td>\n",
       "      <td>308</td>\n",
       "    </tr>\n",
       "    <tr>\n",
       "      <th>15</th>\n",
       "      <td>850</td>\n",
       "      <td>2232</td>\n",
       "      <td>378</td>\n",
       "      <td>378</td>\n",
       "    </tr>\n",
       "    <tr>\n",
       "      <th>16</th>\n",
       "      <td>900</td>\n",
       "      <td>1740</td>\n",
       "      <td>442</td>\n",
       "      <td>442</td>\n",
       "    </tr>\n",
       "    <tr>\n",
       "      <th>17</th>\n",
       "      <td>950</td>\n",
       "      <td>988</td>\n",
       "      <td>508</td>\n",
       "      <td>508</td>\n",
       "    </tr>\n",
       "    <tr>\n",
       "      <th>18</th>\n",
       "      <td>1000</td>\n",
       "      <td>539</td>\n",
       "      <td>601</td>\n",
       "      <td>601</td>\n",
       "    </tr>\n",
       "  </tbody>\n",
       "</table>\n",
       "</div>"
      ],
      "text/plain": [
       "       0     1    2    3\n",
       "0    100  3397  602  602\n",
       "1    150  4663  572  572\n",
       "2    200  5580  557  557\n",
       "3    250  5687  493  493\n",
       "4    300  3883  327  327\n",
       "5    350  2582  223  223\n",
       "6    400  1834  171  171\n",
       "7    450  2060  177  177\n",
       "8    500  2263  189  189\n",
       "9    550  2291  197  197\n",
       "10   600  2053  197  197\n",
       "11   650  1923  208  208\n",
       "12   700  1817  225  225\n",
       "13   750  1448  247  247\n",
       "14   800  1921  308  308\n",
       "15   850  2232  378  378\n",
       "16   900  1740  442  442\n",
       "17   950   988  508  508\n",
       "18  1000   539  601  601"
      ]
     },
     "execution_count": 4,
     "metadata": {},
     "output_type": "execute_result"
    }
   ],
   "source": [
    "data2 = pd.read_csv('boom_050801.dat', sep='\\\\s+', header=None)\n",
    "data2"
   ]
  },
  {
   "cell_type": "code",
   "execution_count": 5,
   "id": "e46d1cda-7ab6-4524-9c53-15b78726f203",
   "metadata": {},
   "outputs": [
    {
     "data": {
      "text/html": [
       "<div>\n",
       "<style scoped>\n",
       "    .dataframe tbody tr th:only-of-type {\n",
       "        vertical-align: middle;\n",
       "    }\n",
       "\n",
       "    .dataframe tbody tr th {\n",
       "        vertical-align: top;\n",
       "    }\n",
       "\n",
       "    .dataframe thead th {\n",
       "        text-align: right;\n",
       "    }\n",
       "</style>\n",
       "<table border=\"1\" class=\"dataframe\">\n",
       "  <thead>\n",
       "    <tr style=\"text-align: right;\">\n",
       "      <th></th>\n",
       "      <th>0</th>\n",
       "      <th>1</th>\n",
       "      <th>2</th>\n",
       "      <th>3</th>\n",
       "      <th>4</th>\n",
       "    </tr>\n",
       "  </thead>\n",
       "  <tbody>\n",
       "    <tr>\n",
       "      <th>0</th>\n",
       "      <td>118</td>\n",
       "      <td>104</td>\n",
       "      <td>167</td>\n",
       "      <td>3770</td>\n",
       "      <td>820</td>\n",
       "    </tr>\n",
       "    <tr>\n",
       "      <th>1</th>\n",
       "      <td>203</td>\n",
       "      <td>173</td>\n",
       "      <td>255</td>\n",
       "      <td>5280</td>\n",
       "      <td>550</td>\n",
       "    </tr>\n",
       "    <tr>\n",
       "      <th>2</th>\n",
       "      <td>289</td>\n",
       "      <td>261</td>\n",
       "      <td>342</td>\n",
       "      <td>3660</td>\n",
       "      <td>340</td>\n",
       "    </tr>\n",
       "    <tr>\n",
       "      <th>3</th>\n",
       "      <td>377</td>\n",
       "      <td>342</td>\n",
       "      <td>418</td>\n",
       "      <td>1650</td>\n",
       "      <td>200</td>\n",
       "    </tr>\n",
       "    <tr>\n",
       "      <th>4</th>\n",
       "      <td>465</td>\n",
       "      <td>418</td>\n",
       "      <td>500</td>\n",
       "      <td>1890</td>\n",
       "      <td>220</td>\n",
       "    </tr>\n",
       "    <tr>\n",
       "      <th>5</th>\n",
       "      <td>553</td>\n",
       "      <td>506</td>\n",
       "      <td>594</td>\n",
       "      <td>2840</td>\n",
       "      <td>290</td>\n",
       "    </tr>\n",
       "    <tr>\n",
       "      <th>6</th>\n",
       "      <td>641</td>\n",
       "      <td>600</td>\n",
       "      <td>676</td>\n",
       "      <td>1670</td>\n",
       "      <td>270</td>\n",
       "    </tr>\n",
       "    <tr>\n",
       "      <th>7</th>\n",
       "      <td>725</td>\n",
       "      <td>676</td>\n",
       "      <td>757</td>\n",
       "      <td>2010</td>\n",
       "      <td>350</td>\n",
       "    </tr>\n",
       "    <tr>\n",
       "      <th>8</th>\n",
       "      <td>837</td>\n",
       "      <td>763</td>\n",
       "      <td>864</td>\n",
       "      <td>2320</td>\n",
       "      <td>450</td>\n",
       "    </tr>\n",
       "  </tbody>\n",
       "</table>\n",
       "</div>"
      ],
      "text/plain": [
       "     0    1    2     3    4\n",
       "0  118  104  167  3770  820\n",
       "1  203  173  255  5280  550\n",
       "2  289  261  342  3660  340\n",
       "3  377  342  418  1650  200\n",
       "4  465  418  500  1890  220\n",
       "5  553  506  594  2840  290\n",
       "6  641  600  676  1670  270\n",
       "7  725  676  757  2010  350\n",
       "8  837  763  864  2320  450"
      ]
     },
     "execution_count": 5,
     "metadata": {},
     "output_type": "execute_result"
    }
   ],
   "source": [
    "data3 = pd.read_csv('dasi.dat', sep='\\\\s+', header=None)\n",
    "data3"
   ]
  },
  {
   "cell_type": "code",
   "execution_count": 6,
   "id": "b0949f9b-532d-47f9-9281-c0c06e7c4776",
   "metadata": {},
   "outputs": [],
   "source": [
    "xi = np.concatenate([data1.iloc[:, 0], data2.iloc[:, 0], data3.iloc[:, 0]])\n",
    "yi = np.concatenate([data1.iloc[:, 1], data2.iloc[:, 1], data3.iloc[:, 3]])\n",
    "sort_idx = np.argsort(xi)\n",
    "xi = xi[sort_idx]\n",
    "yi = yi[sort_idx]"
   ]
  },
  {
   "cell_type": "markdown",
   "id": "fae76656-93bb-4d32-8d08-9b3f108f532d",
   "metadata": {},
   "source": [
    "#### Perform non-parametric regression"
   ]
  },
  {
   "cell_type": "code",
   "execution_count": 7,
   "id": "f0a3c4f5-972b-49e5-b5fd-fa872c98700c",
   "metadata": {},
   "outputs": [],
   "source": [
    "def K(x):\n",
    "    return np.exp(-x ** 2 / 2)"
   ]
  },
  {
   "cell_type": "code",
   "execution_count": 8,
   "id": "afc84015-d99b-4d32-bbc8-7c52ef647b2e",
   "metadata": {},
   "outputs": [],
   "source": [
    "hs = np.linspace(20, 120, 100)\n",
    "bw = np.fromiter((cross_validation_score_reg(K, xi, yi, h) for h in hs), float)"
   ]
  },
  {
   "cell_type": "code",
   "execution_count": 9,
   "id": "abc68565-a72c-4e4c-bb23-8276022a43ed",
   "metadata": {},
   "outputs": [
    {
     "data": {
      "image/png": "[encoded data removed]",
      "text/plain": [
       "<Figure size 640x480 with 1 Axes>"
      ]
     },
     "metadata": {},
     "output_type": "display_data"
    }
   ],
   "source": [
    "fig, ax = plt.subplots()\n",
    "ax.plot(hs, bw);\n",
    "ax.set_xlabel('h');\n",
    "ax.set_ylabel('Cross-validation score');\n",
    "ax.set_title('Optimal bandwidth');"
   ]
  },
  {
   "cell_type": "markdown",
   "id": "736417f1-5f21-42ef-b6d0-98ed3b4c2f70",
   "metadata": {},
   "source": [
    "The minimum cross-validation score is attained at"
   ]
  },
  {
   "cell_type": "code",
   "execution_count": 23,
   "id": "58e33e83-c307-4d86-9532-23bcf6593ba9",
   "metadata": {},
   "outputs": [
    {
     "data": {
      "text/plain": [
       "np.float64(31.111111111111114)"
      ]
     },
     "execution_count": 23,
     "metadata": {},
     "output_type": "execute_result"
    }
   ],
   "source": [
    "h = hs[np.argmin(bw)]\n",
    "h"
   ]
  },
  {
   "cell_type": "code",
   "execution_count": 24,
   "id": "034d8ba3-2265-4209-9ac5-c437715f5014",
   "metadata": {},
   "outputs": [],
   "source": [
    "alpha = 0.05\n",
    "xs = np.linspace(np.min(xi), np.max(xi), 100)\n",
    "r_hat, l, u = kreg_conf_int(K, xi, yi, h, alpha, xs)"
   ]
  },
  {
   "cell_type": "code",
   "execution_count": 25,
   "id": "34b5ec06-c36f-4cd4-a508-051c7e795fd2",
   "metadata": {},
   "outputs": [
    {
     "data": {
      "image/png": "[encoded data removed]",
      "text/plain": [
       "<Figure size 640x480 with 1 Axes>"
      ]
     },
     "metadata": {},
     "output_type": "display_data"
    }
   ],
   "source": [
    "fig, ax = plt.subplots()\n",
    "ax.fill_between(xs, l, u, color='lightgray');\n",
    "ax.plot(xs, r_hat, color='red');\n",
    "ax.scatter(xi, yi);\n",
    "ax.set_xlabel('Cl');\n",
    "ax.set_ylabel('se');\n",
    "ax.set_title('Non-parametric regression fit');"
   ]
  },
  {
   "cell_type": "markdown",
   "id": "9b3dafa5-d030-47ec-8a32-330c158c5d5a",
   "metadata": {},
   "source": [
    "#### Using ``statsmodels``"
   ]
  },
  {
   "cell_type": "code",
   "execution_count": 26,
   "id": "fe5cf315-71bb-46c0-b927-26e30d2015dd",
   "metadata": {},
   "outputs": [],
   "source": [
    "from statsmodels.nonparametric.kernel_regression import KernelReg"
   ]
  },
  {
   "cell_type": "code",
   "execution_count": 39,
   "id": "38ce9328-1e08-468c-834f-e97cb27ab9a3",
   "metadata": {},
   "outputs": [],
   "source": [
    "model = KernelReg(yi, xi, bw=[h], var_type='c', ckertype='gaussian', reg_type='lc').fit(xs)"
   ]
  },
  {
   "cell_type": "code",
   "execution_count": 40,
   "id": "76ef8873-573f-4c98-9be9-dec93f6e1153",
   "metadata": {},
   "outputs": [
    {
     "data": {
      "image/png": "[encoded data removed]",
      "text/plain": [
       "<Figure size 640x480 with 1 Axes>"
      ]
     },
     "metadata": {},
     "output_type": "display_data"
    }
   ],
   "source": [
    "fig, ax = plt.subplots()\n",
    "#ax.fill_between(xs, l, u, color='lightgray');\n",
    "ax.plot(xs, model[0], color='red');\n",
    "ax.scatter(xi, yi);\n",
    "ax.set_xlabel('Cl');\n",
    "ax.set_ylabel('se');\n",
    "ax.set_title('Non-parametric regression fit');"
   ]
  }
 ],
 "metadata": {
  "kernelspec": {
   "display_name": "Python 3 (ipykernel)",
   "language": "python",
   "name": "python3"
  },
  "language_info": {
   "codemirror_mode": {
    "name": "ipython",
    "version": 3
   },
   "file_extension": ".py",
   "mimetype": "text/x-python",
   "name": "python",
   "nbconvert_exporter": "python",
   "pygments_lexer": "ipython3",
   "version": "3.13.0"
  }
 },
 "nbformat": 4,
 "nbformat_minor": 5
}
