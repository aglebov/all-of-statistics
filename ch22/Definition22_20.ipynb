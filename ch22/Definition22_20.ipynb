{
 "cells": [
  {
   "cell_type": "markdown",
   "id": "438bf02e-1e48-42c1-8c40-c3f03b3faa38",
   "metadata": {},
   "source": [
    "There appears to be a typo in Definition 22.20:\n",
    "> Otherwise, define $VC(\\mathcal{A})$ to be the largest $n$ for which $s(\\mathcal{A}, n) = 2^n$."
   ]
  },
  {
   "cell_type": "markdown",
   "id": "20ba749f-bc4a-4ed2-a6ce-dbb749b3cea6",
   "metadata": {},
   "source": [
    "For the definition to be valid, we need to ensure that if $s(\\mathcal{A}, n) < 2^n$, then $s(\\mathcal{A}, m) < 2^m$ for $m > n$.\n",
    "\n",
    "We can demonstrate that by induction. Suppose that $s(\\mathcal{A}, n) < 2^n$, but $s(\\mathcal{A}, n + 1) = 2^{n+1}$. Then there exists a set $F_{n+1}$, such that $\\#\\{F_{n+1} \\cap A: A \\in \\mathcal{A}\\} = 2^{n+1}$, that is $\\{F_{n+1} \\cap A: A \\in \\mathcal{A}\\}$ contains all subsets of $F_{n+1}$. Pick any $x \\in F_{n+1}$. Then among $\\{F_{n+1} \\cap A: A \\in \\mathcal{A}\\}$ there are $2^n$ distinct sets containing $x$ and $2^n$ distinct sets not containing $x$. Consider $F_n = F_{n+1} - \\{x\\}$. Then $\\{F_n \\cap A: A \\in \\mathcal{A}\\} = \\{(F_{n+1} - \\{x\\}) \\cap A: A \\in \\mathcal{A}\\} = \\{F_{n+1} \\cap A - \\{x\\}: A \\in \\mathcal{A}\\}$ contains at least $2^n$ distinct sets. Since it cannot contain more than $2^n$ distinct sets, we have $\\#\\{F_n \\cap A: A \\in \\mathcal{A}\\} = 2^n$ and thus obtain a contradiction. It must therefore hold that $s(\\mathcal{A}, n + 1) < 2^{n+1}$ and by induction $s(\\mathcal{A}, m) = 2^m$ for $m > n$."
   ]
  }
 ],
 "metadata": {
  "kernelspec": {
   "display_name": "Python 3 (ipykernel)",
   "language": "python",
   "name": "python3"
  },
  "language_info": {
   "codemirror_mode": {
    "name": "ipython",
    "version": 3
   },
   "file_extension": ".py",
   "mimetype": "text/x-python",
   "name": "python",
   "nbconvert_exporter": "python",
   "pygments_lexer": "ipython3",
   "version": "3.13.0"
  }
 },
 "nbformat": 4,
 "nbformat_minor": 5
}
