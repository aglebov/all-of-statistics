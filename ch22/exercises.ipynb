{
 "cells": [
  {
   "cell_type": "markdown",
   "id": "1e1e9851-ea68-4643-b169-2115a20d8af5",
   "metadata": {},
   "source": [
    "## Exercise 1\n",
    "\n",
    "We have\n",
    "$$\\begin{split}\n",
    "L(h) \n",
    "&= \\mathbb{P}(h(X) \\neq Y) \\\\\n",
    "&= \\int \\mathbb{P}(h(X) \\neq Y | X = x) f(x) dx \\\\\n",
    "&= \\int (\\mathbb{P}(h(X) = 1, Y = 0 | X = x) + \\mathbb{P}(h(X) = 0, Y = 1 | X = x)) f(x) dx \\\\\n",
    "&= \\int (\\mathbb{P}(h(X) = 1 | X = x) \\mathbb{P}(Y = 0 | X = x) + \\mathbb{P}(h(X) = 0 | X = x) \\mathbb{P}(Y = 1 | X = x)) f(x) dx \\\\\n",
    "&= \\int (\\mathbb{P}(h(X) = 1 | X = x) (1 - \\mathbb{P}(Y = 1 | X = x)) + (1 - \\mathbb{P}(h(X) = 0 | X = x)) \\mathbb{P}(Y = 1 | X = x)) f(x) dx \\\\\n",
    "&= \\int (\\mathbb{P}(h(X) = 1 | X = x) - \\mathbb{P}(h(X) = 1 | X = x) \\mathbb{P}(Y = 1 | X = x)) + \\mathbb{P}(Y = 1 | X = x) - \\mathbb{P}(h(X) = 0 | X = x) \\mathbb{P}(Y = 1 | X = x)) f(x) dx \\\\\n",
    "&= \\int (\\mathbb{P}(Y = 1 | X = x) + \\mathbb{P}(h(X) = 1 | X = x)(1 - 2 \\mathbb{P}(Y = 1 | X = x))) f(x) dx, \\\\\n",
    "\\end{split}$$\n",
    "where we assumed that the classification is performed without the knowledge of the true outcome $Y$, therefore $\\mathbb{P}(h(X) = i, Y = j | X = x) = \\mathbb{P}(h(X) = i | X = x) \\mathbb{P}(Y = j | X = x)$.\n",
    "\n",
    "Consider the term $\\mathbb{P}(h(X) = 1 | X = x)(1 - 2 \\mathbb{P}(Y = 1 | X = x))$. If $\\mathbb{P}(Y = 1 | X = x) > \\frac{1}{2}$, then the term is minimised when $\\mathbb{P}(h(X) = 1 | X = x) = 1$. If $\\mathbb{P}(Y = 1 | X = x) < \\frac{1}{2}$, the term is minimised when $\\mathbb{P}(h(X) = 1 | X = x) = 0$. Therefore $L(h)$ is minimised by setting\n",
    "$$h(x) = \\begin{cases}\n",
    "1, &\\text{if } \\mathbb{P}(Y = 1 | X = x) > \\frac{1}{2} \\\\\n",
    "0, &\\text{otherwise} \\\\\n",
    "\\end{cases}$$\n",
    "which is exactly the Bayes classification rule. Thus $L(h^*) \\leq L(h)$ for any $h$."
   ]
  },
  {
   "cell_type": "markdown",
   "id": "ea40f9f6-7039-4d11-acc9-a73d4a1aae75",
   "metadata": {},
   "source": [
    "## Exercise 2\n",
    "\n",
    "Using the formulation (22.6) of the Bayes classification rule, we set $h^*(x) = 1$ when\n",
    "$$\\pi_1 f_1(x) > \\pi_0 f_0(x).$$\n",
    "For multivariate normal $f_k$, this yields\n",
    "$$\\pi_1 \\frac{1}{(2\\pi)^{d / 2} |\\Sigma_1|^{1/2}} \\exp\\left\\{-\\frac{r_1^2}{2}\\right\\} > \\pi_0 \\frac{1}{(2\\pi)^{d / 2} |\\Sigma_0|^{1/2}} \\exp\\left\\{-\\frac{r_0^2}{2}\\right\\},$$\n",
    "where we denoted\n",
    "$$r_i^2 = (x - \\mu_i)^T \\Sigma_i^{-1}(x - \\mu_i).$$\n",
    "Taking the logarithm on both sides, we obtain\n",
    "$$\\log \\pi_1 - \\frac{d}{2} \\log(2\\pi) - \\frac{1}{2}\\log |\\Sigma_1| -\\frac{r_1^2}{2} > \\log \\pi_0 - \\frac{d}{2} \\log(2\\pi) - \\frac{1}{2} \\log |\\Sigma_0| -\\frac{r_0^2}{2},$$\n",
    "or equivalently\n",
    "$$2 \\log \\pi_1 - \\log |\\Sigma_1| - r_1^2 > 2 \\log \\pi_0 - \\log |\\Sigma_0| - r_0^2.$$\n",
    "Rearranging the terms finally gives us\n",
    "$$r_1^2 < r_0^2 + 2 \\log \\frac{\\pi_1}{\\pi_0} + \\log \\frac{|\\Sigma_0|}{|\\Sigma_1|}.$$"
   ]
  },
  {
   "cell_type": "markdown",
   "id": "2ed81983-aba6-4dfc-b8a0-5332b3d8ead7",
   "metadata": {},
   "source": [
    "## Exercise 3"
   ]
  },
  {
   "cell_type": "code",
   "execution_count": 1,
   "id": "68927d87-78df-4c90-acba-7406ba983aed",
   "metadata": {},
   "outputs": [],
   "source": [
    "import numpy as np\n",
    "import pandas as pd\n",
    "import matplotlib.pyplot as plt\n",
    "import scipy.stats as stats\n",
    "\n",
    "from sklearn.discriminant_analysis import LinearDiscriminantAnalysis, QuadraticDiscriminantAnalysis\n",
    "from sklearn.metrics import confusion_matrix\n",
    "from sklearn.model_selection import cross_val_score, cross_validate, KFold"
   ]
  },
  {
   "cell_type": "code",
   "execution_count": 2,
   "id": "040e6f49-fb74-476e-b473-31c75a4c681f",
   "metadata": {},
   "outputs": [
    {
     "data": {
      "text/html": [
       "<div>\n",
       "<style scoped>\n",
       "    .dataframe tbody tr th:only-of-type {\n",
       "        vertical-align: middle;\n",
       "    }\n",
       "\n",
       "    .dataframe tbody tr th {\n",
       "        vertical-align: top;\n",
       "    }\n",
       "\n",
       "    .dataframe thead th {\n",
       "        text-align: right;\n",
       "    }\n",
       "</style>\n",
       "<table border=\"1\" class=\"dataframe\">\n",
       "  <thead>\n",
       "    <tr style=\"text-align: right;\">\n",
       "      <th></th>\n",
       "      <th>0</th>\n",
       "      <th>1</th>\n",
       "      <th>2</th>\n",
       "      <th>3</th>\n",
       "      <th>4</th>\n",
       "      <th>5</th>\n",
       "      <th>6</th>\n",
       "      <th>7</th>\n",
       "      <th>8</th>\n",
       "      <th>9</th>\n",
       "      <th>...</th>\n",
       "      <th>48</th>\n",
       "      <th>49</th>\n",
       "      <th>50</th>\n",
       "      <th>51</th>\n",
       "      <th>52</th>\n",
       "      <th>53</th>\n",
       "      <th>54</th>\n",
       "      <th>55</th>\n",
       "      <th>56</th>\n",
       "      <th>57</th>\n",
       "    </tr>\n",
       "  </thead>\n",
       "  <tbody>\n",
       "    <tr>\n",
       "      <th>0</th>\n",
       "      <td>0.00</td>\n",
       "      <td>0.64</td>\n",
       "      <td>0.64</td>\n",
       "      <td>0.0</td>\n",
       "      <td>0.32</td>\n",
       "      <td>0.00</td>\n",
       "      <td>0.00</td>\n",
       "      <td>0.00</td>\n",
       "      <td>0.00</td>\n",
       "      <td>0.00</td>\n",
       "      <td>...</td>\n",
       "      <td>0.000</td>\n",
       "      <td>0.000</td>\n",
       "      <td>0.0</td>\n",
       "      <td>0.778</td>\n",
       "      <td>0.000</td>\n",
       "      <td>0.000</td>\n",
       "      <td>3.756</td>\n",
       "      <td>61</td>\n",
       "      <td>278</td>\n",
       "      <td>1</td>\n",
       "    </tr>\n",
       "    <tr>\n",
       "      <th>1</th>\n",
       "      <td>0.21</td>\n",
       "      <td>0.28</td>\n",
       "      <td>0.50</td>\n",
       "      <td>0.0</td>\n",
       "      <td>0.14</td>\n",
       "      <td>0.28</td>\n",
       "      <td>0.21</td>\n",
       "      <td>0.07</td>\n",
       "      <td>0.00</td>\n",
       "      <td>0.94</td>\n",
       "      <td>...</td>\n",
       "      <td>0.000</td>\n",
       "      <td>0.132</td>\n",
       "      <td>0.0</td>\n",
       "      <td>0.372</td>\n",
       "      <td>0.180</td>\n",
       "      <td>0.048</td>\n",
       "      <td>5.114</td>\n",
       "      <td>101</td>\n",
       "      <td>1028</td>\n",
       "      <td>1</td>\n",
       "    </tr>\n",
       "    <tr>\n",
       "      <th>2</th>\n",
       "      <td>0.06</td>\n",
       "      <td>0.00</td>\n",
       "      <td>0.71</td>\n",
       "      <td>0.0</td>\n",
       "      <td>1.23</td>\n",
       "      <td>0.19</td>\n",
       "      <td>0.19</td>\n",
       "      <td>0.12</td>\n",
       "      <td>0.64</td>\n",
       "      <td>0.25</td>\n",
       "      <td>...</td>\n",
       "      <td>0.010</td>\n",
       "      <td>0.143</td>\n",
       "      <td>0.0</td>\n",
       "      <td>0.276</td>\n",
       "      <td>0.184</td>\n",
       "      <td>0.010</td>\n",
       "      <td>9.821</td>\n",
       "      <td>485</td>\n",
       "      <td>2259</td>\n",
       "      <td>1</td>\n",
       "    </tr>\n",
       "    <tr>\n",
       "      <th>3</th>\n",
       "      <td>0.00</td>\n",
       "      <td>0.00</td>\n",
       "      <td>0.00</td>\n",
       "      <td>0.0</td>\n",
       "      <td>0.63</td>\n",
       "      <td>0.00</td>\n",
       "      <td>0.31</td>\n",
       "      <td>0.63</td>\n",
       "      <td>0.31</td>\n",
       "      <td>0.63</td>\n",
       "      <td>...</td>\n",
       "      <td>0.000</td>\n",
       "      <td>0.137</td>\n",
       "      <td>0.0</td>\n",
       "      <td>0.137</td>\n",
       "      <td>0.000</td>\n",
       "      <td>0.000</td>\n",
       "      <td>3.537</td>\n",
       "      <td>40</td>\n",
       "      <td>191</td>\n",
       "      <td>1</td>\n",
       "    </tr>\n",
       "    <tr>\n",
       "      <th>4</th>\n",
       "      <td>0.00</td>\n",
       "      <td>0.00</td>\n",
       "      <td>0.00</td>\n",
       "      <td>0.0</td>\n",
       "      <td>0.63</td>\n",
       "      <td>0.00</td>\n",
       "      <td>0.31</td>\n",
       "      <td>0.63</td>\n",
       "      <td>0.31</td>\n",
       "      <td>0.63</td>\n",
       "      <td>...</td>\n",
       "      <td>0.000</td>\n",
       "      <td>0.135</td>\n",
       "      <td>0.0</td>\n",
       "      <td>0.135</td>\n",
       "      <td>0.000</td>\n",
       "      <td>0.000</td>\n",
       "      <td>3.537</td>\n",
       "      <td>40</td>\n",
       "      <td>191</td>\n",
       "      <td>1</td>\n",
       "    </tr>\n",
       "    <tr>\n",
       "      <th>...</th>\n",
       "      <td>...</td>\n",
       "      <td>...</td>\n",
       "      <td>...</td>\n",
       "      <td>...</td>\n",
       "      <td>...</td>\n",
       "      <td>...</td>\n",
       "      <td>...</td>\n",
       "      <td>...</td>\n",
       "      <td>...</td>\n",
       "      <td>...</td>\n",
       "      <td>...</td>\n",
       "      <td>...</td>\n",
       "      <td>...</td>\n",
       "      <td>...</td>\n",
       "      <td>...</td>\n",
       "      <td>...</td>\n",
       "      <td>...</td>\n",
       "      <td>...</td>\n",
       "      <td>...</td>\n",
       "      <td>...</td>\n",
       "      <td>...</td>\n",
       "    </tr>\n",
       "    <tr>\n",
       "      <th>4596</th>\n",
       "      <td>0.31</td>\n",
       "      <td>0.00</td>\n",
       "      <td>0.62</td>\n",
       "      <td>0.0</td>\n",
       "      <td>0.00</td>\n",
       "      <td>0.31</td>\n",
       "      <td>0.00</td>\n",
       "      <td>0.00</td>\n",
       "      <td>0.00</td>\n",
       "      <td>0.00</td>\n",
       "      <td>...</td>\n",
       "      <td>0.000</td>\n",
       "      <td>0.232</td>\n",
       "      <td>0.0</td>\n",
       "      <td>0.000</td>\n",
       "      <td>0.000</td>\n",
       "      <td>0.000</td>\n",
       "      <td>1.142</td>\n",
       "      <td>3</td>\n",
       "      <td>88</td>\n",
       "      <td>0</td>\n",
       "    </tr>\n",
       "    <tr>\n",
       "      <th>4597</th>\n",
       "      <td>0.00</td>\n",
       "      <td>0.00</td>\n",
       "      <td>0.00</td>\n",
       "      <td>0.0</td>\n",
       "      <td>0.00</td>\n",
       "      <td>0.00</td>\n",
       "      <td>0.00</td>\n",
       "      <td>0.00</td>\n",
       "      <td>0.00</td>\n",
       "      <td>0.00</td>\n",
       "      <td>...</td>\n",
       "      <td>0.000</td>\n",
       "      <td>0.000</td>\n",
       "      <td>0.0</td>\n",
       "      <td>0.353</td>\n",
       "      <td>0.000</td>\n",
       "      <td>0.000</td>\n",
       "      <td>1.555</td>\n",
       "      <td>4</td>\n",
       "      <td>14</td>\n",
       "      <td>0</td>\n",
       "    </tr>\n",
       "    <tr>\n",
       "      <th>4598</th>\n",
       "      <td>0.30</td>\n",
       "      <td>0.00</td>\n",
       "      <td>0.30</td>\n",
       "      <td>0.0</td>\n",
       "      <td>0.00</td>\n",
       "      <td>0.00</td>\n",
       "      <td>0.00</td>\n",
       "      <td>0.00</td>\n",
       "      <td>0.00</td>\n",
       "      <td>0.00</td>\n",
       "      <td>...</td>\n",
       "      <td>0.102</td>\n",
       "      <td>0.718</td>\n",
       "      <td>0.0</td>\n",
       "      <td>0.000</td>\n",
       "      <td>0.000</td>\n",
       "      <td>0.000</td>\n",
       "      <td>1.404</td>\n",
       "      <td>6</td>\n",
       "      <td>118</td>\n",
       "      <td>0</td>\n",
       "    </tr>\n",
       "    <tr>\n",
       "      <th>4599</th>\n",
       "      <td>0.96</td>\n",
       "      <td>0.00</td>\n",
       "      <td>0.00</td>\n",
       "      <td>0.0</td>\n",
       "      <td>0.32</td>\n",
       "      <td>0.00</td>\n",
       "      <td>0.00</td>\n",
       "      <td>0.00</td>\n",
       "      <td>0.00</td>\n",
       "      <td>0.00</td>\n",
       "      <td>...</td>\n",
       "      <td>0.000</td>\n",
       "      <td>0.057</td>\n",
       "      <td>0.0</td>\n",
       "      <td>0.000</td>\n",
       "      <td>0.000</td>\n",
       "      <td>0.000</td>\n",
       "      <td>1.147</td>\n",
       "      <td>5</td>\n",
       "      <td>78</td>\n",
       "      <td>0</td>\n",
       "    </tr>\n",
       "    <tr>\n",
       "      <th>4600</th>\n",
       "      <td>0.00</td>\n",
       "      <td>0.00</td>\n",
       "      <td>0.65</td>\n",
       "      <td>0.0</td>\n",
       "      <td>0.00</td>\n",
       "      <td>0.00</td>\n",
       "      <td>0.00</td>\n",
       "      <td>0.00</td>\n",
       "      <td>0.00</td>\n",
       "      <td>0.00</td>\n",
       "      <td>...</td>\n",
       "      <td>0.000</td>\n",
       "      <td>0.000</td>\n",
       "      <td>0.0</td>\n",
       "      <td>0.125</td>\n",
       "      <td>0.000</td>\n",
       "      <td>0.000</td>\n",
       "      <td>1.250</td>\n",
       "      <td>5</td>\n",
       "      <td>40</td>\n",
       "      <td>0</td>\n",
       "    </tr>\n",
       "  </tbody>\n",
       "</table>\n",
       "<p>4601 rows × 58 columns</p>\n",
       "</div>"
      ],
      "text/plain": [
       "        0     1     2    3     4     5     6     7     8     9   ...     48  \\\n",
       "0     0.00  0.64  0.64  0.0  0.32  0.00  0.00  0.00  0.00  0.00  ...  0.000   \n",
       "1     0.21  0.28  0.50  0.0  0.14  0.28  0.21  0.07  0.00  0.94  ...  0.000   \n",
       "2     0.06  0.00  0.71  0.0  1.23  0.19  0.19  0.12  0.64  0.25  ...  0.010   \n",
       "3     0.00  0.00  0.00  0.0  0.63  0.00  0.31  0.63  0.31  0.63  ...  0.000   \n",
       "4     0.00  0.00  0.00  0.0  0.63  0.00  0.31  0.63  0.31  0.63  ...  0.000   \n",
       "...    ...   ...   ...  ...   ...   ...   ...   ...   ...   ...  ...    ...   \n",
       "4596  0.31  0.00  0.62  0.0  0.00  0.31  0.00  0.00  0.00  0.00  ...  0.000   \n",
       "4597  0.00  0.00  0.00  0.0  0.00  0.00  0.00  0.00  0.00  0.00  ...  0.000   \n",
       "4598  0.30  0.00  0.30  0.0  0.00  0.00  0.00  0.00  0.00  0.00  ...  0.102   \n",
       "4599  0.96  0.00  0.00  0.0  0.32  0.00  0.00  0.00  0.00  0.00  ...  0.000   \n",
       "4600  0.00  0.00  0.65  0.0  0.00  0.00  0.00  0.00  0.00  0.00  ...  0.000   \n",
       "\n",
       "         49   50     51     52     53     54   55    56  57  \n",
       "0     0.000  0.0  0.778  0.000  0.000  3.756   61   278   1  \n",
       "1     0.132  0.0  0.372  0.180  0.048  5.114  101  1028   1  \n",
       "2     0.143  0.0  0.276  0.184  0.010  9.821  485  2259   1  \n",
       "3     0.137  0.0  0.137  0.000  0.000  3.537   40   191   1  \n",
       "4     0.135  0.0  0.135  0.000  0.000  3.537   40   191   1  \n",
       "...     ...  ...    ...    ...    ...    ...  ...   ...  ..  \n",
       "4596  0.232  0.0  0.000  0.000  0.000  1.142    3    88   0  \n",
       "4597  0.000  0.0  0.353  0.000  0.000  1.555    4    14   0  \n",
       "4598  0.718  0.0  0.000  0.000  0.000  1.404    6   118   0  \n",
       "4599  0.057  0.0  0.000  0.000  0.000  1.147    5    78   0  \n",
       "4600  0.000  0.0  0.125  0.000  0.000  1.250    5    40   0  \n",
       "\n",
       "[4601 rows x 58 columns]"
      ]
     },
     "execution_count": 2,
     "metadata": {},
     "output_type": "execute_result"
    }
   ],
   "source": [
    "data = pd.read_csv('spam.dat', sep='\\\\s+', header=None)\n",
    "data"
   ]
  },
  {
   "cell_type": "markdown",
   "id": "019e044a-9819-4ce1-b53e-5cd1775c5056",
   "metadata": {},
   "source": [
    "There are duplicated rows in the data:"
   ]
  },
  {
   "cell_type": "code",
   "execution_count": 3,
   "id": "d21fe964-2109-4fe3-a8ae-ab07920069cd",
   "metadata": {},
   "outputs": [
    {
     "data": {
      "text/plain": [
       "np.int64(391)"
      ]
     },
     "execution_count": 3,
     "metadata": {},
     "output_type": "execute_result"
    }
   ],
   "source": [
    "data.duplicated().sum()"
   ]
  },
  {
   "cell_type": "markdown",
   "id": "8d5d0378-fb21-4200-a88d-fa0ed020d61e",
   "metadata": {},
   "source": [
    "We drop the duplicated rows:"
   ]
  },
  {
   "cell_type": "code",
   "execution_count": 4,
   "id": "2766a496-aaab-447c-b49f-f6c93d381f48",
   "metadata": {},
   "outputs": [],
   "source": [
    "data = data[~data.duplicated()]"
   ]
  },
  {
   "cell_type": "markdown",
   "id": "62975c15-9c6b-4551-8ec0-6a6837d3aacc",
   "metadata": {},
   "source": [
    "(a)"
   ]
  },
  {
   "cell_type": "code",
   "execution_count": 5,
   "id": "9ea03aa4-5b61-4f65-a4c0-3bc5abd73b03",
   "metadata": {},
   "outputs": [],
   "source": [
    "class Model:\n",
    "    def fit(self, X, y):\n",
    "        raise NotImplementedError\n",
    "\n",
    "    def predict(self, X):\n",
    "        raise NotImplementedError"
   ]
  },
  {
   "cell_type": "code",
   "execution_count": 6,
   "id": "a47476f3-f0db-42ee-b63c-07e9aaf1d290",
   "metadata": {},
   "outputs": [],
   "source": [
    "def loglik_clusters(X, loglik_func, clusters, n):\n",
    "    return np.stack([loglik_func(X, clusters, cluster, n) for cluster in clusters], axis=1)"
   ]
  },
  {
   "cell_type": "code",
   "execution_count": 7,
   "id": "ec97e0cb-3841-4dec-86a1-6eb43e5ca6ef",
   "metadata": {},
   "outputs": [],
   "source": [
    "class BayesianModel(Model):\n",
    "    def __init__(self, loglik_func):\n",
    "        self.loglik_func = loglik_func\n",
    "    \n",
    "    def fit(self, X, y):\n",
    "        self.n = X.shape[0]\n",
    "        self.y_distinct = np.unique(y)\n",
    "        self.clusters = [X[y == y_val] for y_val in self.y_distinct]\n",
    "        return self\n",
    "\n",
    "    def predict(self, X):\n",
    "        loglik = loglik_clusters(X, self.loglik_func, self.clusters, self.n)\n",
    "        return self.y_distinct[np.argmax(loglik, axis=1)]\n",
    "\n",
    "    def get_params(self, deep=True):\n",
    "        return {\n",
    "            'loglik_func': self.loglik_func,\n",
    "        }"
   ]
  },
  {
   "cell_type": "code",
   "execution_count": 8,
   "id": "1144ed3b-41d0-4951-a8d0-2ea01e7e403e",
   "metadata": {},
   "outputs": [],
   "source": [
    "def error_rate(conf_matrix):\n",
    "    return 1 - np.sum(np.diag(conf_matrix)) / np.sum(conf_matrix)"
   ]
  },
  {
   "cell_type": "code",
   "execution_count": 9,
   "id": "c12b9c3e-cfbc-4192-9128-4040ae590149",
   "metadata": {},
   "outputs": [],
   "source": [
    "def evaluate(X_train, y_train, model, X_test, y_test):\n",
    "    y_pred = model.fit(X_train, y_train).predict(X_test)\n",
    "    conf_matrix = confusion_matrix(y_test, y_pred)\n",
    "    return y_pred, conf_matrix, error_rate(conf_matrix)"
   ]
  },
  {
   "cell_type": "code",
   "execution_count": 10,
   "id": "2cd5edd0-bc9d-4169-bfee-97c3fecf44e9",
   "metadata": {},
   "outputs": [],
   "source": [
    "cluster_col = 57\n",
    "X = data.drop(columns=cluster_col, axis=1)\n",
    "y = data.iloc[:, cluster_col]"
   ]
  },
  {
   "cell_type": "markdown",
   "id": "ee92f73e-318c-4e19-8ade-3f9e27cd3d78",
   "metadata": {},
   "source": [
    "#### Linear discriminant analysis"
   ]
  },
  {
   "cell_type": "code",
   "execution_count": 11,
   "id": "b8e203ba-f987-4217-b03d-3f7c0208b6cb",
   "metadata": {},
   "outputs": [],
   "source": [
    "def loglik_lda(X, clusters, cluster, n):\n",
    "    # the pooled covariance matrix\n",
    "    S = sum([cluster.shape[0] * cluster.cov() for cluster in clusters]) / n\n",
    "    pi = cluster.shape[0] / n\n",
    "    return stats.multivariate_normal.logpdf(X, mean=cluster.mean(), cov=S, allow_singular=True) + np.log(pi)"
   ]
  },
  {
   "cell_type": "code",
   "execution_count": 12,
   "id": "f049bf09-163d-44cd-80cc-9f67954fb4a5",
   "metadata": {},
   "outputs": [],
   "source": [
    "y_pred, conf_matrix, err_rate = evaluate(X, y, BayesianModel(loglik_lda), X, y)"
   ]
  },
  {
   "cell_type": "markdown",
   "id": "29504983-f76e-427b-b821-eb33dc24e260",
   "metadata": {},
   "source": [
    "The confusion matrix:"
   ]
  },
  {
   "cell_type": "code",
   "execution_count": 13,
   "id": "b0eae69b-b26f-4bae-8f7c-fdd09623d657",
   "metadata": {},
   "outputs": [
    {
     "data": {
      "text/plain": [
       "array([[2422,  109],\n",
       "       [ 362, 1317]])"
      ]
     },
     "execution_count": 13,
     "metadata": {},
     "output_type": "execute_result"
    }
   ],
   "source": [
    "conf_matrix"
   ]
  },
  {
   "cell_type": "markdown",
   "id": "415e44aa-e023-4c5f-b6cf-bb8942f32514",
   "metadata": {},
   "source": [
    "The error rate:"
   ]
  },
  {
   "cell_type": "code",
   "execution_count": 14,
   "id": "c414703c-b383-40c6-a95b-4d002ae2126f",
   "metadata": {},
   "outputs": [
    {
     "data": {
      "text/plain": [
       "np.float64(0.11187648456057009)"
      ]
     },
     "execution_count": 14,
     "metadata": {},
     "output_type": "execute_result"
    }
   ],
   "source": [
    "err_rate"
   ]
  },
  {
   "cell_type": "markdown",
   "id": "efabb471-2945-4581-8e5c-551ba2c52748",
   "metadata": {},
   "source": [
    "Cross-validation error rate:"
   ]
  },
  {
   "cell_type": "code",
   "execution_count": 15,
   "id": "ba95d11d-ad8c-463e-99b3-f128511134f5",
   "metadata": {},
   "outputs": [],
   "source": [
    "K = 5"
   ]
  },
  {
   "cell_type": "code",
   "execution_count": 16,
   "id": "239da9dd-a8ba-4da6-8073-24d333b679e6",
   "metadata": {},
   "outputs": [],
   "source": [
    "kf = KFold(n_splits=K, shuffle=False)"
   ]
  },
  {
   "cell_type": "code",
   "execution_count": 17,
   "id": "564eb509-c202-4229-b1f6-5a3a48fde1fb",
   "metadata": {},
   "outputs": [
    {
     "data": {
      "text/plain": [
       "np.float64(0.1859857482185273)"
      ]
     },
     "execution_count": 17,
     "metadata": {},
     "output_type": "execute_result"
    }
   ],
   "source": [
    "1 - cross_val_score(estimator=BayesianModel(loglik_lda), X=X, y=y, cv=kf, n_jobs=-1, scoring='accuracy').mean()"
   ]
  },
  {
   "cell_type": "markdown",
   "id": "516c1920-2ace-47d2-baf4-9bfe1aefa656",
   "metadata": {},
   "source": [
    "We can obtain the same results using `LinearDiscriminantAnalysis` from `scikit-learn`:"
   ]
  },
  {
   "cell_type": "code",
   "execution_count": 18,
   "id": "41081673-bfa8-4082-ba5b-d07973751a1e",
   "metadata": {},
   "outputs": [
    {
     "data": {
      "text/plain": [
       "np.True_"
      ]
     },
     "execution_count": 18,
     "metadata": {},
     "output_type": "execute_result"
    }
   ],
   "source": [
    "y_pred_sk = LinearDiscriminantAnalysis().fit(X, y).predict(X)\n",
    "np.all(y_pred_sk == y_pred)"
   ]
  },
  {
   "cell_type": "code",
   "execution_count": 19,
   "id": "91740a2e-b464-4c67-918b-b835ae2b34a4",
   "metadata": {},
   "outputs": [
    {
     "data": {
      "text/plain": [
       "np.float64(0.1859857482185273)"
      ]
     },
     "execution_count": 19,
     "metadata": {},
     "output_type": "execute_result"
    }
   ],
   "source": [
    "1 - cross_val_score(estimator=LinearDiscriminantAnalysis(), X=X, y=y, cv=kf, n_jobs=-1, scoring='accuracy').mean()"
   ]
  },
  {
   "cell_type": "markdown",
   "id": "23635e86-f3a8-4311-a687-6093ccc15f14",
   "metadata": {},
   "source": [
    "#### Quadratic discriminant analysis"
   ]
  },
  {
   "cell_type": "code",
   "execution_count": 20,
   "id": "707c77ef-daff-41af-9ceb-d1677319aaaf",
   "metadata": {},
   "outputs": [],
   "source": [
    "def loglik_qda(X, clusters, cluster, n):\n",
    "    pi = cluster.shape[0] / n\n",
    "    return stats.multivariate_normal.logpdf(X, mean=cluster.mean(), cov=cluster.cov(), allow_singular=True) + np.log(pi)"
   ]
  },
  {
   "cell_type": "code",
   "execution_count": 21,
   "id": "d1834a1e-5f86-4062-8d50-9e8dae953b9c",
   "metadata": {},
   "outputs": [],
   "source": [
    "y_pred, conf_matrix, err_rate = evaluate(X, y, BayesianModel(loglik_qda), X, y)"
   ]
  },
  {
   "cell_type": "markdown",
   "id": "123f9a18-d709-4c83-aebf-9cadfa52f82e",
   "metadata": {},
   "source": [
    "The confusion matrix:"
   ]
  },
  {
   "cell_type": "code",
   "execution_count": 22,
   "id": "a496593d-3c7a-4227-a588-e0414028749f",
   "metadata": {},
   "outputs": [
    {
     "data": {
      "text/plain": [
       "array([[1986,  545],\n",
       "       [  86, 1593]])"
      ]
     },
     "execution_count": 22,
     "metadata": {},
     "output_type": "execute_result"
    }
   ],
   "source": [
    "conf_matrix"
   ]
  },
  {
   "cell_type": "markdown",
   "id": "2669c226-1368-4468-ad25-c411469998ce",
   "metadata": {},
   "source": [
    "The error rate:"
   ]
  },
  {
   "cell_type": "code",
   "execution_count": 23,
   "id": "493c84c7-f25a-45a3-8485-cc404f9bfc61",
   "metadata": {},
   "outputs": [
    {
     "data": {
      "text/plain": [
       "np.float64(0.14988123515439433)"
      ]
     },
     "execution_count": 23,
     "metadata": {},
     "output_type": "execute_result"
    }
   ],
   "source": [
    "err_rate"
   ]
  },
  {
   "cell_type": "markdown",
   "id": "1bb629ad-97ae-442f-b506-e1e13d264a37",
   "metadata": {},
   "source": [
    "Cross-validation error rate:"
   ]
  },
  {
   "cell_type": "code",
   "execution_count": 24,
   "id": "8ebffa1c-d0ff-4dac-a967-4315c22df2b4",
   "metadata": {},
   "outputs": [
    {
     "data": {
      "text/plain": [
       "np.float64(0.15890736342042755)"
      ]
     },
     "execution_count": 24,
     "metadata": {},
     "output_type": "execute_result"
    }
   ],
   "source": [
    "1 - cross_val_score(estimator=BayesianModel(loglik_qda), X=X, y=y, cv=kf, n_jobs=-1, scoring='accuracy').mean()"
   ]
  },
  {
   "cell_type": "markdown",
   "id": "159ae183-3142-4bcb-9e1d-5a87cbd0cfb6",
   "metadata": {},
   "source": [
    "The prediction results do not match the output from `QuadraticDiscriminantAnalysis` in `scikit-learn`:"
   ]
  },
  {
   "cell_type": "code",
   "execution_count": 25,
   "id": "82779207-b412-4f0a-9c88-b2b86c54190f",
   "metadata": {},
   "outputs": [
    {
     "data": {
      "text/plain": [
       "np.False_"
      ]
     },
     "execution_count": 25,
     "metadata": {},
     "output_type": "execute_result"
    }
   ],
   "source": [
    "qda = QuadraticDiscriminantAnalysis(store_covariance=True).fit(X, y)\n",
    "y_pred_sk = qda.predict(X)\n",
    "np.all(y_pred_sk == y_pred)"
   ]
  },
  {
   "cell_type": "markdown",
   "id": "4b20d74c-d48d-49e6-8f38-50ff5f2089c8",
   "metadata": {},
   "source": [
    "An alternative implementation that uses singular value decomposition to invert the covariance matrix:"
   ]
  },
  {
   "cell_type": "code",
   "execution_count": 26,
   "id": "b012503b-2f5c-4385-a07c-e15dcb13e8a3",
   "metadata": {},
   "outputs": [],
   "source": [
    "def loglik_qda_svd(X, clusters, cluster, n):\n",
    "    pi = cluster.shape[0] / n\n",
    "    mu = cluster.mean()\n",
    "    _, S, Vt = np.linalg.svd(cluster - mu, full_matrices=False)\n",
    "    S = S / np.sqrt(cluster.shape[0] - 1)\n",
    "    X2 = (X - mu) @ (Vt.T / S)\n",
    "    norm2 = np.sum(X2 ** 2, axis=1)\n",
    "    u = np.sum(np.log(S))\n",
    "    return -0.5 * norm2 - u + np.log(pi)"
   ]
  },
  {
   "cell_type": "code",
   "execution_count": 27,
   "id": "81a968eb-dae7-4263-8e28-341a67ad9887",
   "metadata": {},
   "outputs": [],
   "source": [
    "y_pred, conf_matrix, err_rate = evaluate(X, y, BayesianModel(loglik_qda_svd), X, y)"
   ]
  },
  {
   "cell_type": "markdown",
   "id": "14cfbf3b-34fb-4143-b8fa-36eed71c79ff",
   "metadata": {},
   "source": [
    "The confusion matrix:"
   ]
  },
  {
   "cell_type": "code",
   "execution_count": 28,
   "id": "8fade822-4b7f-4bf5-9dd9-e2f5b84c638b",
   "metadata": {},
   "outputs": [
    {
     "data": {
      "text/plain": [
       "array([[1931,  600],\n",
       "       [  75, 1604]])"
      ]
     },
     "execution_count": 28,
     "metadata": {},
     "output_type": "execute_result"
    }
   ],
   "source": [
    "conf_matrix"
   ]
  },
  {
   "cell_type": "markdown",
   "id": "c5444cdf-e7af-48fc-98ac-71ae6eb26f26",
   "metadata": {},
   "source": [
    "The error rate:"
   ]
  },
  {
   "cell_type": "code",
   "execution_count": 29,
   "id": "a9a30ed0-6a6a-4c0b-a0e6-9a9d38c45fce",
   "metadata": {},
   "outputs": [
    {
     "data": {
      "text/plain": [
       "np.float64(0.16033254156769594)"
      ]
     },
     "execution_count": 29,
     "metadata": {},
     "output_type": "execute_result"
    }
   ],
   "source": [
    "err_rate"
   ]
  },
  {
   "cell_type": "markdown",
   "id": "454d3be5-8fcc-4e29-8936-6832f203e8a3",
   "metadata": {},
   "source": [
    "Now the predictions match `scikit-learn`:"
   ]
  },
  {
   "cell_type": "code",
   "execution_count": 30,
   "id": "c6d9d6ea-0547-46a2-9681-e77fa0733cff",
   "metadata": {},
   "outputs": [
    {
     "data": {
      "text/plain": [
       "np.True_"
      ]
     },
     "execution_count": 30,
     "metadata": {},
     "output_type": "execute_result"
    }
   ],
   "source": [
    "np.all(y_pred_sk == y_pred)"
   ]
  },
  {
   "cell_type": "markdown",
   "id": "a8464220-4245-410d-96bd-048b8b0ef462",
   "metadata": {},
   "source": [
    "Cross-validation error rate:"
   ]
  },
  {
   "cell_type": "code",
   "execution_count": 31,
   "id": "8ec22348-df2f-4a7b-96b4-3518a29595d3",
   "metadata": {},
   "outputs": [
    {
     "data": {
      "text/plain": [
       "np.float64(0.1691211401425179)"
      ]
     },
     "execution_count": 31,
     "metadata": {},
     "output_type": "execute_result"
    }
   ],
   "source": [
    "1 - cross_val_score(estimator=BayesianModel(loglik_qda_svd), X=X, y=y, cv=kf, n_jobs=-1, scoring='accuracy').mean()"
   ]
  },
  {
   "cell_type": "markdown",
   "id": "8368195e-f2fe-4e29-a3dd-a1ed66194670",
   "metadata": {},
   "source": [
    "#### Logistic regression"
   ]
  },
  {
   "cell_type": "markdown",
   "id": "0fc6f0ec-d912-4b17-b4c3-9d1eec23909e",
   "metadata": {},
   "source": [
    "We use the logistic regression implementation from `statsmodels`."
   ]
  },
  {
   "cell_type": "code",
   "execution_count": 32,
   "id": "96dfc009-d0b3-4895-b9ac-e8314c410972",
   "metadata": {},
   "outputs": [],
   "source": [
    "import statsmodels.api as sm"
   ]
  },
  {
   "cell_type": "code",
   "execution_count": 33,
   "id": "c003d33c-2bfa-481d-b9fc-fe4254f2c190",
   "metadata": {},
   "outputs": [],
   "source": [
    "class LogisticRegressionModel(Model):\n",
    "    def fit(self, X, y):\n",
    "        self.fitted_model = sm.GLM(y, sm.add_constant(X), family=sm.families.Binomial()).fit()\n",
    "        return self\n",
    "\n",
    "    def predict(self, X):\n",
    "        return np.round(self.fitted_model.predict(sm.add_constant(X))).astype(int)\n",
    "\n",
    "    def get_params(self, deep=True):\n",
    "        return {}"
   ]
  },
  {
   "cell_type": "code",
   "execution_count": 34,
   "id": "a61d09be-a51e-4516-b9a3-7634d085ed47",
   "metadata": {},
   "outputs": [],
   "source": [
    "y_pred, conf_matrix, err_rate = evaluate(X, y, LogisticRegressionModel(), X, y)"
   ]
  },
  {
   "cell_type": "markdown",
   "id": "77eea7fe-4c75-40ee-8a95-d4ad15b59d36",
   "metadata": {},
   "source": [
    "The confusion matrix:"
   ]
  },
  {
   "cell_type": "code",
   "execution_count": 35,
   "id": "2a9b035f-8706-4aa1-aab1-86585ce631ee",
   "metadata": {},
   "outputs": [
    {
     "data": {
      "text/plain": [
       "array([[2413,  118],\n",
       "       [ 184, 1495]])"
      ]
     },
     "execution_count": 35,
     "metadata": {},
     "output_type": "execute_result"
    }
   ],
   "source": [
    "conf_matrix"
   ]
  },
  {
   "cell_type": "markdown",
   "id": "c395758e-a95c-4a01-80f4-a03ecf6c6f83",
   "metadata": {},
   "source": [
    "The error rate:"
   ]
  },
  {
   "cell_type": "code",
   "execution_count": 36,
   "id": "6490ffc7-c895-4e19-a587-893e734e3155",
   "metadata": {},
   "outputs": [
    {
     "data": {
      "text/plain": [
       "np.float64(0.0717339667458432)"
      ]
     },
     "execution_count": 36,
     "metadata": {},
     "output_type": "execute_result"
    }
   ],
   "source": [
    "err_rate"
   ]
  },
  {
   "cell_type": "markdown",
   "id": "39a9dad3-85c4-4da7-890e-ce5940936a07",
   "metadata": {},
   "source": [
    "Cross-validation error rate:"
   ]
  },
  {
   "cell_type": "code",
   "execution_count": 37,
   "id": "3b2e5cb8-6d65-4c8a-9778-0b33fc5bf937",
   "metadata": {},
   "outputs": [
    {
     "name": "stderr",
     "output_type": "stream",
     "text": [
      "/home/artem/git/all-of-statistics/.venv/lib/python3.13/site-packages/statsmodels/genmod/families/links.py:198: RuntimeWarning: overflow encountered in exp\n",
      "  t = np.exp(-z)\n",
      "/home/artem/git/all-of-statistics/.venv/lib/python3.13/site-packages/statsmodels/genmod/families/links.py:198: RuntimeWarning: overflow encountered in exp\n",
      "  t = np.exp(-z)\n"
     ]
    },
    {
     "data": {
      "text/plain": [
       "np.float64(0.13919239904988134)"
      ]
     },
     "execution_count": 37,
     "metadata": {},
     "output_type": "execute_result"
    }
   ],
   "source": [
    "1 - cross_val_score(estimator=LogisticRegressionModel(), X=X, y=y, cv=kf, n_jobs=-1, scoring='accuracy').mean()"
   ]
  },
  {
   "cell_type": "markdown",
   "id": "a3d2bded-37f4-4b6e-adfe-76bf2b54e8c4",
   "metadata": {},
   "source": [
    "#### Decision tree"
   ]
  },
  {
   "cell_type": "code",
   "execution_count": 38,
   "id": "1e8cce7b-66d0-463e-8981-de5a336dfa22",
   "metadata": {},
   "outputs": [],
   "source": [
    "from joblib import Parallel, delayed"
   ]
  },
  {
   "cell_type": "code",
   "execution_count": 39,
   "id": "be03e625-457d-4117-ab30-ea249ad92e5b",
   "metadata": {},
   "outputs": [],
   "source": [
    "from sklearn.tree import DecisionTreeClassifier, plot_tree"
   ]
  },
  {
   "cell_type": "code",
   "execution_count": 40,
   "id": "6e99adbd-2d43-4c0f-8c8d-bf55188319c9",
   "metadata": {},
   "outputs": [],
   "source": [
    "min_leaf_sizes = [2, 3, 4, 5, 6, 7, 8, 9, 10, 20, 50, 100, 250, 500, 750, 1000, 1500, 2000, 2500]"
   ]
  },
  {
   "cell_type": "code",
   "execution_count": 41,
   "id": "65a7a609-0607-44b9-b05a-5f7afe2a757c",
   "metadata": {},
   "outputs": [],
   "source": [
    "err_rates = 1 - np.array([cross_val_score(\n",
    "    estimator=DecisionTreeClassifier(min_samples_leaf=m),\n",
    "    X=X,\n",
    "    y=y,\n",
    "    cv=kf,\n",
    "    n_jobs=-1,\n",
    "    scoring='accuracy',\n",
    ").mean() for m in min_leaf_sizes])"
   ]
  },
  {
   "cell_type": "code",
   "execution_count": 42,
   "id": "3095cde5-391d-4c60-8b04-4260fcda8fb8",
   "metadata": {},
   "outputs": [
    {
     "data": {
      "image/png": "[encoded data removed]",
      "text/plain": [
       "<Figure size 640x480 with 1 Axes>"
      ]
     },
     "metadata": {},
     "output_type": "display_data"
    }
   ],
   "source": [
    "fig, ax = plt.subplots()\n",
    "ax.plot(min_leaf_sizes, err_rates);\n",
    "ax.set_xscale('log');\n",
    "ax.set_xlabel('min_node_size');\n",
    "ax.set_ylabel('Cross-validation error rates');\n",
    "ax.set_title('Cross-validation error rate');"
   ]
  },
  {
   "cell_type": "markdown",
   "id": "dcfb3662-d3a8-442c-8899-8ea4a7ca0b2b",
   "metadata": {},
   "source": [
    "The smallest error is achieved at:"
   ]
  },
  {
   "cell_type": "code",
   "execution_count": 43,
   "id": "9b148d53-5d5f-4385-84c0-5d0474d707da",
   "metadata": {},
   "outputs": [
    {
     "data": {
      "text/plain": [
       "8"
      ]
     },
     "execution_count": 43,
     "metadata": {},
     "output_type": "execute_result"
    }
   ],
   "source": [
    "m_opt = min_leaf_sizes[np.argmin(err_rates)]\n",
    "m_opt"
   ]
  },
  {
   "cell_type": "code",
   "execution_count": 44,
   "id": "7dbd5991-ce16-442e-92af-ef9e1f13e2ae",
   "metadata": {},
   "outputs": [],
   "source": [
    "clf = DecisionTreeClassifier(min_samples_leaf=m_opt).fit(X, y)"
   ]
  },
  {
   "cell_type": "code",
   "execution_count": 45,
   "id": "ceec726d-0d1e-4405-b6bf-c8686b5ea2a2",
   "metadata": {},
   "outputs": [
    {
     "data": {
      "image/png": "[encoded data removed]",
      "text/plain": [
       "<Figure size 800x500 with 1 Axes>"
      ]
     },
     "metadata": {},
     "output_type": "display_data"
    }
   ],
   "source": [
    "fig, ax = plt.subplots(figsize=(8, 5))\n",
    "plot_tree(clf, feature_names=X.columns, ax=ax);"
   ]
  },
  {
   "cell_type": "markdown",
   "id": "b6c8a7e9-4e15-4072-98b1-2e175eeb2ffc",
   "metadata": {},
   "source": [
    "(b) Cross-validation was performed in (a)."
   ]
  },
  {
   "cell_type": "markdown",
   "id": "7f8a1005-5885-41f0-9c52-0696804b658b",
   "metadata": {},
   "source": [
    "(c) We use the procedure in Example 10.8 to compare the means between groups."
   ]
  },
  {
   "cell_type": "code",
   "execution_count": 46,
   "id": "46a60c69-4cd1-4062-a300-e224153831a0",
   "metadata": {},
   "outputs": [],
   "source": [
    "import scipy.stats as stats"
   ]
  },
  {
   "cell_type": "code",
   "execution_count": 47,
   "id": "6e3aa152-96cd-407a-a1a3-8e64cabab481",
   "metadata": {},
   "outputs": [],
   "source": [
    "def mean_var(X):\n",
    "    return np.mean(X), np.var(X, ddof=1), X.shape[0]"
   ]
  },
  {
   "cell_type": "code",
   "execution_count": 48,
   "id": "64cd1a60-0663-4091-96be-fd7bcd32e7f2",
   "metadata": {},
   "outputs": [],
   "source": [
    "def mean_equality_p_value(i):\n",
    "    mu1, s1, n1 = mean_var(X[y == 0][i])\n",
    "    mu2, s2, n2 = mean_var(X[y == 1][i])\n",
    "    w = (mu1 - mu2) / np.sqrt(s1 / n1 + s2 / n2)\n",
    "    return 2 * stats.norm.sf(np.abs(w))"
   ]
  },
  {
   "cell_type": "code",
   "execution_count": 49,
   "id": "4e0aa84d-1050-4dda-880f-6184a024b91d",
   "metadata": {},
   "outputs": [],
   "source": [
    "n_covariates_to_keep = 10"
   ]
  },
  {
   "cell_type": "code",
   "execution_count": 50,
   "id": "c8e323d4-f6ff-4978-a388-af5ada4ff8e8",
   "metadata": {},
   "outputs": [
    {
     "data": {
      "text/plain": [
       "array([20, 24, 25,  6, 52, 22, 18, 15, 51, 10])"
      ]
     },
     "execution_count": 50,
     "metadata": {},
     "output_type": "execute_result"
    }
   ],
   "source": [
    "p_vals = np.fromiter((mean_equality_p_value(i) for i in X.columns), float)\n",
    "selected_covariates = np.argsort(p_vals)[:n_covariates_to_keep]\n",
    "selected_covariates"
   ]
  },
  {
   "cell_type": "markdown",
   "id": "eaa2fcbf-d720-4e54-88eb-69a86f47be3a",
   "metadata": {},
   "source": [
    "#### LDA"
   ]
  },
  {
   "cell_type": "code",
   "execution_count": 51,
   "id": "843ea3fc-3988-4fe9-8e06-cdd86d58bc98",
   "metadata": {},
   "outputs": [
    {
     "data": {
      "text/plain": [
       "np.float64(0.22969121140142512)"
      ]
     },
     "execution_count": 51,
     "metadata": {},
     "output_type": "execute_result"
    }
   ],
   "source": [
    "1 - cross_val_score(estimator=LinearDiscriminantAnalysis(), X=X[selected_covariates], y=y, cv=kf, n_jobs=-1, scoring='accuracy').mean()"
   ]
  },
  {
   "cell_type": "markdown",
   "id": "2673273b-d83f-4a27-a834-e69f7ace5f52",
   "metadata": {},
   "source": [
    "#### Logistic regression"
   ]
  },
  {
   "cell_type": "code",
   "execution_count": 52,
   "id": "1b9a7798-e11e-4dbb-b04c-f53b008bf3a6",
   "metadata": {},
   "outputs": [
    {
     "data": {
      "text/plain": [
       "np.float64(0.18788598574821846)"
      ]
     },
     "execution_count": 52,
     "metadata": {},
     "output_type": "execute_result"
    }
   ],
   "source": [
    "1 - cross_val_score(estimator=LogisticRegressionModel(), X=X[selected_covariates], y=y, cv=kf, n_jobs=-1, scoring='accuracy').mean()"
   ]
  },
  {
   "cell_type": "markdown",
   "id": "e76b3f24-aa25-4ca3-b205-f2ead513f83a",
   "metadata": {},
   "source": [
    "Both linear discriminant analysis and logistic regression perform worse for the limited set of covariates."
   ]
  },
  {
   "cell_type": "markdown",
   "id": "9e6b516d-9feb-48b6-ad2f-6900d39cc756",
   "metadata": {},
   "source": [
    "## Exercise 4\n",
    "\n",
    "We show that the VC dimension is 3 in this case.\n",
    "\n",
    "First, there are 3-point sets that can shattered by spheres, for example:\n",
    "\n",
    "![Exercise 4](ex4-1.svg)\n",
    "\n",
    "There are, however, no 4-point sets that can be shattered. Suppose a 4-point set is such that one of the points lies inside the triangle formed by the other three points. Then any sphere containing the outer points has to contain the inner point, and thus the outer points cannot be picked out:\n",
    "\n",
    "![Exercise 4](ex4-2.svg)\n",
    "\n",
    "If none of the poins lies inside the triangle formed by the others, then the points form a quadrilateral. In this case, we claim that any sphere containing the points that form the longer diagonal has to contain at least one of the other two points.\n",
    "\n",
    "![Exercise 4](ex4-3.svg)"
   ]
  },
  {
   "cell_type": "markdown",
   "id": "dce763c2-fad6-43af-adac-a684f838d623",
   "metadata": {},
   "source": [
    "## Exercise 5"
   ]
  },
  {
   "cell_type": "code",
   "execution_count": 53,
   "id": "f5ffc3c2-cdd6-4706-913c-fefbc73752d3",
   "metadata": {},
   "outputs": [],
   "source": [
    "from sklearn import svm"
   ]
  },
  {
   "cell_type": "code",
   "execution_count": 54,
   "id": "78b56f2b-59e4-487f-8d45-99281a72bc02",
   "metadata": {},
   "outputs": [],
   "source": [
    "Cs = np.logspace(-2, 6, 25)"
   ]
  },
  {
   "cell_type": "code",
   "execution_count": 55,
   "id": "f25452bd-260e-4452-aa29-1e14bbabf478",
   "metadata": {},
   "outputs": [
    {
     "name": "stdout",
     "output_type": "stream",
     "text": [
      "CPU times: user 326 ms, sys: 46 ms, total: 372 ms\n",
      "Wall time: 5.35 s\n"
     ]
    }
   ],
   "source": [
    "%%time\n",
    "err_rates = 1 - np.array([cross_val_score(\n",
    "    estimator=svm.LinearSVC(C=c),\n",
    "    X=X,\n",
    "    y=y,\n",
    "    cv=kf,\n",
    "    n_jobs=-1,\n",
    "    scoring='accuracy',\n",
    ").mean() for c in Cs])"
   ]
  },
  {
   "cell_type": "code",
   "execution_count": 56,
   "id": "7a10372e-cfb4-42f8-bc2b-7062f6051006",
   "metadata": {},
   "outputs": [
    {
     "data": {
      "image/png": "[encoded data removed]",
      "text/plain": [
       "<Figure size 640x480 with 1 Axes>"
      ]
     },
     "metadata": {},
     "output_type": "display_data"
    }
   ],
   "source": [
    "fig, ax = plt.subplots()\n",
    "ax.plot(Cs, err_rates);\n",
    "ax.set_xscale('log');\n",
    "ax.set_xlabel('C');\n",
    "ax.set_ylabel('Cross-validation error rate');\n",
    "ax.set_title('Cross-validation error rate');"
   ]
  },
  {
   "cell_type": "markdown",
   "id": "8210de8f-e48a-4406-b81c-b8323fbfd49a",
   "metadata": {},
   "source": [
    "## Exercise 6"
   ]
  },
  {
   "cell_type": "markdown",
   "id": "48e13121-a92b-4dad-82fb-447e55dedad1",
   "metadata": {},
   "source": [
    "By Theorem 22.26, a $1-\\alpha$ confidence interval for $L(h)$ is $\\hat{L}(\\hat{h}) \\pm \\epsilon$, where\n",
    "$$\\epsilon = \\frac{32}{n} \\log\\left( \\frac{8(n^{d+1} + 1)}{\\alpha} \\right),$$\n",
    "where $d$ is the dimension of the feature space."
   ]
  },
  {
   "cell_type": "code",
   "execution_count": 57,
   "id": "100d425f-89ef-423f-a18c-27a40299c76c",
   "metadata": {},
   "outputs": [],
   "source": [
    "import math\n",
    "from scipy.optimize import brentq\n",
    "from sklearn import datasets"
   ]
  },
  {
   "cell_type": "code",
   "execution_count": 58,
   "id": "f595b164-5c80-4637-ae27-f58156362bae",
   "metadata": {},
   "outputs": [],
   "source": [
    "iris = datasets.load_iris()"
   ]
  },
  {
   "cell_type": "code",
   "execution_count": 59,
   "id": "f99f3051-34c9-4cf1-b02e-c1600a3373bf",
   "metadata": {},
   "outputs": [],
   "source": [
    "X = iris.data\n",
    "y = iris.target"
   ]
  },
  {
   "cell_type": "code",
   "execution_count": 60,
   "id": "44b5f93c-7464-407e-b08a-298853c85276",
   "metadata": {},
   "outputs": [],
   "source": [
    "n, d = X.shape"
   ]
  },
  {
   "cell_type": "code",
   "execution_count": 61,
   "id": "6951028e-ebda-4d20-80f4-7a1e6cc9ab62",
   "metadata": {},
   "outputs": [],
   "source": [
    "alpha = 0.05"
   ]
  },
  {
   "cell_type": "code",
   "execution_count": 62,
   "id": "c2b2af7f-55a1-498d-bc7b-f4ff5d5f9a9d",
   "metadata": {},
   "outputs": [
    {
     "data": {
      "text/plain": [
       "(np.float64(-2.5152280753984835), np.float64(2.5552280753984835))"
      ]
     },
     "execution_count": 62,
     "metadata": {},
     "output_type": "execute_result"
    }
   ],
   "source": [
    "L_hat = np.mean(LinearDiscriminantAnalysis().fit(X, y).predict(X) != iris.target)\n",
    "eps = np.sqrt(32 / n * np.log(8 * (n ** (d + 1) + 1) / alpha))\n",
    "(L_hat - eps, L_hat + eps)"
   ]
  },
  {
   "cell_type": "markdown",
   "id": "97bc1c82-28cd-4d50-a0e8-a765d51d0909",
   "metadata": {},
   "source": [
    "We can see that this confidence interval is not particularly useful."
   ]
  },
  {
   "cell_type": "markdown",
   "id": "d4e42a27-7161-4a89-a6ff-5c54a4255ab2",
   "metadata": {},
   "source": [
    "In fact, we can approximate for large $n$\n",
    "$$\\epsilon_n^2 = \\frac{32}{n} \\log\\left(\\frac{8(n^{d+1}+1)}{\\alpha}\\right) \\approx \\frac{32}{n} \\log(n^{d+1}) = 32(d+1) \\frac{\\log n}{n}.$$\n",
    "\n",
    "For the bounds to be useful, we need at least $\\epsilon_n \\leq 1$, or\n",
    "$$\\frac{\\log n}{n} \\leq \\frac{1}{32(d+1)}.$$"
   ]
  },
  {
   "cell_type": "code",
   "execution_count": 63,
   "id": "2e079e30-dc9c-4d0a-b45a-6b310ca92946",
   "metadata": {},
   "outputs": [],
   "source": [
    "def find_upper(f, start, inc=1, multiplier=2):\n",
    "    start_val = f(start)\n",
    "    if start_val == 0:\n",
    "        return (start, start)\n",
    "    while True:\n",
    "        end = start + inc\n",
    "        end_val = f(end)\n",
    "        if end_val == 0:\n",
    "            return (end, end)\n",
    "        if end_val * start_val < 0:\n",
    "            return (start, end)\n",
    "        start = end\n",
    "        inc *= multiplier"
   ]
  },
  {
   "cell_type": "code",
   "execution_count": 64,
   "id": "feb4791c-14cf-4cdd-8665-bdb8d8aba824",
   "metadata": {},
   "outputs": [],
   "source": [
    "def find_n(d):\n",
    "    obj = lambda n: np.log(n) / n - 1 / 32 / (d + 1)\n",
    "    return math.ceil(brentq(obj, *find_upper(obj, 2)))"
   ]
  },
  {
   "cell_type": "markdown",
   "id": "30ff05b7-f187-4a6c-b233-4ff29e1218a7",
   "metadata": {},
   "source": [
    "The minimum number of observation for the bound to be useful:"
   ]
  },
  {
   "cell_type": "code",
   "execution_count": 65,
   "id": "f8916c0f-7d1b-407b-8775-67ce2cb42a28",
   "metadata": {},
   "outputs": [
    {
     "data": {
      "text/html": [
       "<div>\n",
       "<style scoped>\n",
       "    .dataframe tbody tr th:only-of-type {\n",
       "        vertical-align: middle;\n",
       "    }\n",
       "\n",
       "    .dataframe tbody tr th {\n",
       "        vertical-align: top;\n",
       "    }\n",
       "\n",
       "    .dataframe thead th {\n",
       "        text-align: right;\n",
       "    }\n",
       "</style>\n",
       "<table border=\"1\" class=\"dataframe\">\n",
       "  <thead>\n",
       "    <tr style=\"text-align: right;\">\n",
       "      <th></th>\n",
       "      <th>n</th>\n",
       "    </tr>\n",
       "    <tr>\n",
       "      <th>d</th>\n",
       "      <th></th>\n",
       "    </tr>\n",
       "  </thead>\n",
       "  <tbody>\n",
       "    <tr>\n",
       "      <th>1</th>\n",
       "      <td>381</td>\n",
       "    </tr>\n",
       "    <tr>\n",
       "      <th>2</th>\n",
       "      <td>617</td>\n",
       "    </tr>\n",
       "    <tr>\n",
       "      <th>3</th>\n",
       "      <td>866</td>\n",
       "    </tr>\n",
       "    <tr>\n",
       "      <th>4</th>\n",
       "      <td>1124</td>\n",
       "    </tr>\n",
       "    <tr>\n",
       "      <th>5</th>\n",
       "      <td>1390</td>\n",
       "    </tr>\n",
       "    <tr>\n",
       "      <th>6</th>\n",
       "      <td>1661</td>\n",
       "    </tr>\n",
       "    <tr>\n",
       "      <th>7</th>\n",
       "      <td>1938</td>\n",
       "    </tr>\n",
       "    <tr>\n",
       "      <th>8</th>\n",
       "      <td>2219</td>\n",
       "    </tr>\n",
       "    <tr>\n",
       "      <th>9</th>\n",
       "      <td>2505</td>\n",
       "    </tr>\n",
       "    <tr>\n",
       "      <th>10</th>\n",
       "      <td>2794</td>\n",
       "    </tr>\n",
       "    <tr>\n",
       "      <th>11</th>\n",
       "      <td>3086</td>\n",
       "    </tr>\n",
       "    <tr>\n",
       "      <th>12</th>\n",
       "      <td>3381</td>\n",
       "    </tr>\n",
       "    <tr>\n",
       "      <th>13</th>\n",
       "      <td>3679</td>\n",
       "    </tr>\n",
       "    <tr>\n",
       "      <th>14</th>\n",
       "      <td>3979</td>\n",
       "    </tr>\n",
       "    <tr>\n",
       "      <th>15</th>\n",
       "      <td>4282</td>\n",
       "    </tr>\n",
       "  </tbody>\n",
       "</table>\n",
       "</div>"
      ],
      "text/plain": [
       "       n\n",
       "d       \n",
       "1    381\n",
       "2    617\n",
       "3    866\n",
       "4   1124\n",
       "5   1390\n",
       "6   1661\n",
       "7   1938\n",
       "8   2219\n",
       "9   2505\n",
       "10  2794\n",
       "11  3086\n",
       "12  3381\n",
       "13  3679\n",
       "14  3979\n",
       "15  4282"
      ]
     },
     "execution_count": 65,
     "metadata": {},
     "output_type": "execute_result"
    }
   ],
   "source": [
    "ds = np.arange(1, 16)\n",
    "pd.DataFrame({'n': [find_n(d) for d in ds]}, index=pd.Index(ds, name='d'))"
   ]
  },
  {
   "cell_type": "markdown",
   "id": "c3928485-7b73-47c4-9c85-c6fcddc8d7d9",
   "metadata": {},
   "source": [
    "## Exercise 7\n",
    "\n",
    "A linear classifier has a linear decision boundary, which for $\\mathbb{R}$ is a point. Thus a linear classifier on $\\mathbb{R}$ will classify all observations on one side of the point as belonging to one class and all points on the other side as belonging to the other class.\n",
    "\n",
    "Suppose $Y_i = 1$ whenever $|X_i| \\leq 1$ and $Y_i = 0$ otherwise. Consider any decision boundary $c < 1$. Then all points $X_i > c$ will be classified as belonging to the same class. However, there will be points in the interval $(c, 1)$ for which $Y = 1$ and points in the interval $(1, +\\infty)$ for which $Y = 0$, so they cannot be perfectly classified. Consider now a decision boundary $c \\geq 1$. Then all points $X < c$ will be classified as belonging to the same class, however among them there will be points in the interval $(-1, 1)$ for which $Y = 1$ and points in the interval $(-\\infty, -1)$ for which $Y = 0$, so they cannot be perfectly classified.\n",
    "\n",
    "Ther kernelised points $Z_i = (X_i, X_i^2)$ can be trivially separated by the classifier\n",
    "$$h(z_i) = \\begin{cases}\n",
    "1, &\\text{if } z_{i,2}^2 \\leq 1 \\\\\n",
    "0, &\\text{otherwise}, \\\\\n",
    "\\end{cases}$$\n",
    "where $z_i = (z_{i,1}, z_{i,2})$ with $z_{i,1}=x_i$ and $z_{i,2} = x_i^2$."
   ]
  },
  {
   "cell_type": "markdown",
   "id": "5468a526-3210-4a68-b702-b67cf9d68889",
   "metadata": {},
   "source": [
    "## Exercise 8"
   ]
  },
  {
   "cell_type": "code",
   "execution_count": 66,
   "id": "ac689a84-bc40-42ee-a0b7-77ecc488bd19",
   "metadata": {},
   "outputs": [],
   "source": [
    "ps = np.arange(1, 11)\n",
    "Cs = np.logspace(-2, 6, 25)"
   ]
  },
  {
   "cell_type": "code",
   "execution_count": 67,
   "id": "b0616f55-411d-401f-89c7-12fb85507c71",
   "metadata": {},
   "outputs": [
    {
     "name": "stdout",
     "output_type": "stream",
     "text": [
      "CPU times: user 1.86 s, sys: 54.3 ms, total: 1.91 s\n",
      "Wall time: 13 s\n"
     ]
    }
   ],
   "source": [
    "%%time\n",
    "err_rates = 1 - np.array([[cross_val_score(\n",
    "    estimator=svm.SVC(kernel='poly', degree=p, coef0=1, gamma=1, C=C),\n",
    "    X=X,\n",
    "    y=y,\n",
    "    cv=kf,\n",
    "    n_jobs=-1,\n",
    "    scoring='accuracy',\n",
    ").mean() for C in Cs] for p in ps])"
   ]
  },
  {
   "cell_type": "code",
   "execution_count": 68,
   "id": "82e6a085-1550-455c-b23f-a25a2d81e72e",
   "metadata": {},
   "outputs": [
    {
     "data": {
      "image/png": "[encoded data removed]",
      "text/plain": [
       "<Figure size 640x480 with 1 Axes>"
      ]
     },
     "metadata": {},
     "output_type": "display_data"
    }
   ],
   "source": [
    "fig, ax = plt.subplots()\n",
    "for i, p in enumerate(ps):\n",
    "    ax.plot(Cs, err_rates[i], label=f'p = {p}');\n",
    "ax.set_xscale('log');\n",
    "ax.set_xlabel('$C$');\n",
    "ax.set_ylabel('Cross-validation error rate');\n",
    "ax.set_title('Cross-validation error rate');\n",
    "ax.legend();"
   ]
  },
  {
   "cell_type": "markdown",
   "id": "57133882-6893-4f05-9f06-414695343faf",
   "metadata": {},
   "source": [
    "The smalleest error rate is achieved for $p$:"
   ]
  },
  {
   "cell_type": "code",
   "execution_count": 69,
   "id": "7c5780d5-1045-4f4f-b778-23ee443d6762",
   "metadata": {},
   "outputs": [
    {
     "data": {
      "text/plain": [
       "np.int64(1)"
      ]
     },
     "execution_count": 69,
     "metadata": {},
     "output_type": "execute_result"
    }
   ],
   "source": [
    "min_p_idx = np.argmin(np.min(err_rates, axis=1))\n",
    "ps[min_p_idx]"
   ]
  },
  {
   "cell_type": "markdown",
   "id": "4454f854-4de6-4b22-896e-9cd65d8d2ddd",
   "metadata": {},
   "source": [
    "and $C$:"
   ]
  },
  {
   "cell_type": "code",
   "execution_count": 70,
   "id": "69c9cf16-c511-4530-b3ca-07c83ab14061",
   "metadata": {},
   "outputs": [
    {
     "data": {
      "text/plain": [
       "np.float64(1.0)"
      ]
     },
     "execution_count": 70,
     "metadata": {},
     "output_type": "execute_result"
    }
   ],
   "source": [
    "Cs[np.argmin(err_rates[min_p_idx])]"
   ]
  },
  {
   "cell_type": "markdown",
   "id": "56624c00-3875-4082-8ccd-f5e51b4641f0",
   "metadata": {},
   "source": [
    "## Exercise 9"
   ]
  },
  {
   "cell_type": "code",
   "execution_count": 71,
   "id": "971f0583-7881-44a7-84c4-48fedb14de43",
   "metadata": {},
   "outputs": [],
   "source": [
    "from sklearn.neighbors import KNeighborsClassifier"
   ]
  },
  {
   "cell_type": "code",
   "execution_count": 72,
   "id": "39b44749-f1fa-4689-872c-1627c110ae85",
   "metadata": {},
   "outputs": [],
   "source": [
    "ks = np.arange(1, 50)"
   ]
  },
  {
   "cell_type": "code",
   "execution_count": 73,
   "id": "f65784e7-73d8-4621-b819-898f246f67ae",
   "metadata": {},
   "outputs": [
    {
     "name": "stdout",
     "output_type": "stream",
     "text": [
      "CPU times: user 296 ms, sys: 7.82 ms, total: 304 ms\n",
      "Wall time: 679 ms\n"
     ]
    }
   ],
   "source": [
    "%%time\n",
    "err_rates = 1 - np.array([cross_val_score(\n",
    "    estimator=KNeighborsClassifier(n_neighbors=k, algorithm='brute'),\n",
    "    X=X,\n",
    "    y=y,\n",
    "    cv=kf,\n",
    "    n_jobs=-1,\n",
    "    scoring='accuracy',\n",
    ").mean() for k in ks])"
   ]
  },
  {
   "cell_type": "code",
   "execution_count": 74,
   "id": "8ef7333f-5151-4ad7-b0e3-f841a968c5ab",
   "metadata": {},
   "outputs": [
    {
     "data": {
      "image/png": "[encoded data removed]",
      "text/plain": [
       "<Figure size 640x480 with 1 Axes>"
      ]
     },
     "metadata": {},
     "output_type": "display_data"
    }
   ],
   "source": [
    "fig, ax = plt.subplots()\n",
    "ax.plot(ks, err_rates);\n",
    "ax.set_xlabel('$k$');\n",
    "ax.set_ylabel('Cross-validation error rate');\n",
    "ax.set_title('Cross-validation error rate');"
   ]
  },
  {
   "cell_type": "markdown",
   "id": "8cdfccea-6795-4a20-a7ea-1d28d6ae3a1f",
   "metadata": {},
   "source": [
    "The cross-validation error is minimised by using a single neighbour:"
   ]
  },
  {
   "cell_type": "code",
   "execution_count": 75,
   "id": "cfeb230b-7ecc-4e52-bfb3-cfd3e4026caa",
   "metadata": {},
   "outputs": [
    {
     "data": {
      "text/plain": [
       "np.int64(1)"
      ]
     },
     "execution_count": 75,
     "metadata": {},
     "output_type": "execute_result"
    }
   ],
   "source": [
    "ks[np.argmin(err_rates)]"
   ]
  },
  {
   "cell_type": "markdown",
   "id": "2303c5b3-c63d-41d1-8597-92f0de8b7732",
   "metadata": {},
   "source": [
    "## Exercise 10\n",
    "\n",
    "The probability of a point occurring inside of the sphere of radius $v_d(r)$ centered at the origin is the ratio of the volume of the sphere to the volume of the cube. The cube has unit volume, hence $\\mathbb{P}(|X| \\leq r) = v_d(r)$.\n",
    "$$\\mathbb{P}(R \\leq r) = 1 - \\mathbb{P}(R > r) = 1 - \\mathbb{P}(\\min |X_i| > r) = 1 - \\mathbb{P}(\\forall i: |X_i| > r) = 1 - \\mathbb{P}(|X_i| > r)^n = 1 - (1 - v_d(r))^n.$$\n",
    "Note that $v_d(r) = r^d v_d(1)$, so\n",
    "$$\\mathbb{P}(R \\leq r) = 1 - (1 - r^d v_d(1))^n.$$\n",
    "At the median we have $\\mathbb{P}(R \\leq r) = \\frac{1}{2}$, leading to\n",
    "$$\\frac{1}{2} = 1 - (1 - r^d v_d(1))^n,$$\n",
    "which we solve for $r$ to obtain\n",
    "$$r = \\left(\\frac{1 - \\left(\\frac12\\right)^{1/n}}{v_d(1)}\\right)^{1/d}.$$"
   ]
  },
  {
   "cell_type": "markdown",
   "id": "979e4dbf-3030-4af6-a9e7-a6f80ccd1aad",
   "metadata": {},
   "source": [
    "We plot $r$ as a function of $n$:"
   ]
  },
  {
   "cell_type": "code",
   "execution_count": 76,
   "id": "74f707ca-771c-415e-adc3-e1332f77172e",
   "metadata": {},
   "outputs": [],
   "source": [
    "from scipy.special import gamma"
   ]
  },
  {
   "cell_type": "code",
   "execution_count": 77,
   "id": "454453de-158a-4405-8ddb-fec0e49a1069",
   "metadata": {},
   "outputs": [],
   "source": [
    "def v(d, r):\n",
    "    return r ** d * np.pi ** (d / 2) / gamma(d / 2 + 1)"
   ]
  },
  {
   "cell_type": "code",
   "execution_count": 78,
   "id": "0c2fb481-4f40-407e-8054-dce5ca5b4504",
   "metadata": {},
   "outputs": [],
   "source": [
    "def median_r(d, n):\n",
    "    return ((1 - 0.5 ** (1 / n)) / v(d, 1)) ** (1 / d)"
   ]
  },
  {
   "cell_type": "code",
   "execution_count": 79,
   "id": "d68b7810-9dbb-4f97-8fc4-9a45724e90e3",
   "metadata": {},
   "outputs": [
    {
     "data": {
      "image/png": "[encoded data removed]",
      "text/plain": [
       "<Figure size 640x480 with 1 Axes>"
      ]
     },
     "metadata": {},
     "output_type": "display_data"
    }
   ],
   "source": [
    "ns = np.arange(1, 1001)\n",
    "ds = np.arange(1, 6)\n",
    "fig, ax = plt.subplots()\n",
    "for d in ds:\n",
    "    ax.plot(ns, median_r(d, ns), label=f'd = {d}');\n",
    "ax.set_xlabel('$n$');\n",
    "ax.set_ylabel('median distance to closest neighbour');\n",
    "ax.legend();"
   ]
  },
  {
   "cell_type": "code",
   "execution_count": 80,
   "id": "f09ca790-41b1-4add-9750-22e7361ba3be",
   "metadata": {},
   "outputs": [],
   "source": [
    "def find_d(n):\n",
    "    obj = lambda d: median_r(d, n) - 0.5\n",
    "    return math.ceil(brentq(obj, *find_upper(obj, 2)))"
   ]
  },
  {
   "cell_type": "markdown",
   "id": "b08791f3-6121-4aab-929a-8866cbb3ae13",
   "metadata": {},
   "source": [
    "The dimension $d$ for which the median exceeds the edge of the cube (0.5):"
   ]
  },
  {
   "cell_type": "code",
   "execution_count": 81,
   "id": "c823d4a2-3a89-48a4-810d-5b30b2d32011",
   "metadata": {},
   "outputs": [
    {
     "data": {
      "text/html": [
       "<div>\n",
       "<style scoped>\n",
       "    .dataframe tbody tr th:only-of-type {\n",
       "        vertical-align: middle;\n",
       "    }\n",
       "\n",
       "    .dataframe tbody tr th {\n",
       "        vertical-align: top;\n",
       "    }\n",
       "\n",
       "    .dataframe thead th {\n",
       "        text-align: right;\n",
       "    }\n",
       "</style>\n",
       "<table border=\"1\" class=\"dataframe\">\n",
       "  <thead>\n",
       "    <tr style=\"text-align: right;\">\n",
       "      <th></th>\n",
       "      <th>d</th>\n",
       "    </tr>\n",
       "    <tr>\n",
       "      <th>n</th>\n",
       "      <th></th>\n",
       "    </tr>\n",
       "  </thead>\n",
       "  <tbody>\n",
       "    <tr>\n",
       "      <th>100</th>\n",
       "      <td>9</td>\n",
       "    </tr>\n",
       "    <tr>\n",
       "      <th>1000</th>\n",
       "      <td>12</td>\n",
       "    </tr>\n",
       "    <tr>\n",
       "      <th>10000</th>\n",
       "      <td>14</td>\n",
       "    </tr>\n",
       "  </tbody>\n",
       "</table>\n",
       "</div>"
      ],
      "text/plain": [
       "        d\n",
       "n        \n",
       "100     9\n",
       "1000   12\n",
       "10000  14"
      ]
     },
     "execution_count": 81,
     "metadata": {},
     "output_type": "execute_result"
    }
   ],
   "source": [
    "ns = [100, 1000, 10000]\n",
    "pd.DataFrame({'d': [find_d(n) for n in ns]}, index=pd.Index(ns, name='n'))"
   ]
  },
  {
   "cell_type": "markdown",
   "id": "f9ed8805-ad94-4f4a-903f-513a18fd1b39",
   "metadata": {},
   "source": [
    "## Exercise 11"
   ]
  },
  {
   "cell_type": "code",
   "execution_count": 82,
   "id": "68ad39ce-db7e-4d07-8af8-4db30324532d",
   "metadata": {},
   "outputs": [],
   "source": [
    "from sklearn.ensemble import BaggingClassifier"
   ]
  },
  {
   "cell_type": "code",
   "execution_count": 83,
   "id": "c568c4ff-7425-4583-974e-73f546186fa7",
   "metadata": {},
   "outputs": [],
   "source": [
    "data = pd.read_csv('spam.dat', sep='\\\\s+', header=None)\n",
    "cluster_col = 57\n",
    "X = data.drop(columns=cluster_col, axis=1)\n",
    "y = data.iloc[:, cluster_col]"
   ]
  },
  {
   "cell_type": "code",
   "execution_count": 84,
   "id": "9cb73350-60a7-4f6b-bfcd-56ed9956af7b",
   "metadata": {},
   "outputs": [],
   "source": [
    "ms1 = np.array([1, 2, 3, 4, 5, 6, 7, 8, 9, 10, 20, 50, 100, 250, 500, 750, 1000, 1500, 2000, 2500], dtype='int64')\n",
    "ns1 = np.array([2, 5, 10, 20, 50, 100, 200, 500], dtype='int64')"
   ]
  },
  {
   "cell_type": "code",
   "execution_count": 85,
   "id": "dc6817ad-e10c-46b0-8c4a-93511f520b2c",
   "metadata": {},
   "outputs": [
    {
     "name": "stdout",
     "output_type": "stream",
     "text": [
      "CPU times: user 3.73 s, sys: 871 ms, total: 4.61 s\n",
      "Wall time: 11min 49s\n"
     ]
    }
   ],
   "source": [
    "%%time\n",
    "err_rates = 1 - np.array([[cross_val_score(\n",
    "    estimator=BaggingClassifier(DecisionTreeClassifier(min_samples_leaf=m), n_estimators=n, n_jobs=-1),\n",
    "    X=X,\n",
    "    y=y,\n",
    "    cv=kf,\n",
    "    n_jobs=-1,\n",
    "    scoring='accuracy',\n",
    ").mean() for m in ms1] for n in ns1])"
   ]
  },
  {
   "cell_type": "code",
   "execution_count": 86,
   "id": "15590aa3-40c5-42bf-b169-d441811466ed",
   "metadata": {},
   "outputs": [],
   "source": [
    "ms2 = np.arange(1, 6)\n",
    "ns2 = np.logspace(1, 4, 20).astype(int)"
   ]
  },
  {
   "cell_type": "code",
   "execution_count": 87,
   "id": "a6fdef58-a171-492e-a82f-b86964590bd1",
   "metadata": {},
   "outputs": [
    {
     "name": "stderr",
     "output_type": "stream",
     "text": [
      "/home/artem/git/all-of-statistics/.venv/lib/python3.13/site-packages/joblib/externals/loky/process_executor.py:752: UserWarning: A worker stopped while some jobs were given to the executor. This can be caused by a too short worker timeout or by a memory leak.\n",
      "  warnings.warn(\n"
     ]
    },
    {
     "name": "stdout",
     "output_type": "stream",
     "text": [
      "CPU times: user 18.4 s, sys: 6.42 s, total: 24.9 s\n",
      "Wall time: 2h 53min 30s\n"
     ]
    }
   ],
   "source": [
    "%%time\n",
    "err_rates2 = 1 - np.array([[cross_val_score(\n",
    "    estimator=BaggingClassifier(DecisionTreeClassifier(min_samples_leaf=m), n_estimators=n, n_jobs=-1),\n",
    "    X=X,\n",
    "    y=y,\n",
    "    cv=kf,\n",
    "    n_jobs=-1,\n",
    "    scoring='accuracy',\n",
    ").mean() for m in ms2] for n in ns2])"
   ]
  },
  {
   "cell_type": "code",
   "execution_count": 88,
   "id": "12c3a603-65b1-4eda-a4d7-eadda7a1992e",
   "metadata": {},
   "outputs": [
    {
     "data": {
      "image/png": "[encoded data removed]",
      "text/plain": [
       "<Figure size 1500x500 with 2 Axes>"
      ]
     },
     "metadata": {},
     "output_type": "display_data"
    }
   ],
   "source": [
    "fig, axs = plt.subplots(1, 2, figsize=(15, 5))\n",
    "\n",
    "for i_n, n in enumerate(ns1):\n",
    "    axs[0].plot(ms1, err_rates[i_n], label=f'{n}');\n",
    "axs[0].set_xlabel('min_samples_leaf');\n",
    "axs[0].set_ylabel('Cross-validation error rates');\n",
    "axs[0].set_title('Cross-validation error rate');\n",
    "axs[0].legend(title='n_estimators');\n",
    "axs[0].set_xscale('log');\n",
    "\n",
    "for i_m, m in enumerate(ms2):\n",
    "    axs[1].plot(ns2, err_rates2[:, i_m], label=f'{m}');\n",
    "axs[1].set_xlabel('n_estimators');\n",
    "axs[1].set_ylabel('Cross-validation error rates');\n",
    "axs[1].set_title('Cross-validation error rate');\n",
    "axs[1].legend(title='min_samples_leaf');\n",
    "axs[1].set_xscale('log');"
   ]
  },
  {
   "cell_type": "markdown",
   "id": "2589b261-2441-4cf5-b95c-976b63ee88c1",
   "metadata": {},
   "source": [
    "The lowest cross-validation error rate is attained by using 90 estimators with `min_sample_leaf=3`."
   ]
  },
  {
   "cell_type": "markdown",
   "id": "f29383b4-1551-45ff-ada5-30e575415cc1",
   "metadata": {},
   "source": [
    "## Exercise 12"
   ]
  },
  {
   "cell_type": "code",
   "execution_count": 89,
   "id": "693497d5-fbb6-4d3b-a1a4-643bc3f2179d",
   "metadata": {},
   "outputs": [],
   "source": [
    "from sklearn.ensemble import AdaBoostClassifier"
   ]
  },
  {
   "cell_type": "code",
   "execution_count": 95,
   "id": "c1be30b1-2910-4fe5-86a1-1ec901b715dd",
   "metadata": {},
   "outputs": [],
   "source": [
    "Js = np.arange(1, 31) * 10"
   ]
  },
  {
   "cell_type": "code",
   "execution_count": 96,
   "id": "9ae8289d-1917-4bfa-95b5-44e4df85fbcc",
   "metadata": {
    "scrolled": true
   },
   "outputs": [
    {
     "name": "stderr",
     "output_type": "stream",
     "text": [
      "/home/artem/git/all-of-statistics/.venv/lib/python3.13/site-packages/sklearn/ensemble/_weight_boosting.py:527: FutureWarning: The SAMME.R algorithm (the default) is deprecated and will be removed in 1.6. Use the SAMME algorithm to circumvent this warning.\n",
      "  warnings.warn(\n",
      "/home/artem/git/all-of-statistics/.venv/lib/python3.13/site-packages/sklearn/ensemble/_weight_boosting.py:527: FutureWarning: The SAMME.R algorithm (the default) is deprecated and will be removed in 1.6. Use the SAMME algorithm to circumvent this warning.\n",
      "  warnings.warn(\n",
      "/home/artem/git/all-of-statistics/.venv/lib/python3.13/site-packages/sklearn/ensemble/_weight_boosting.py:527: FutureWarning: The SAMME.R algorithm (the default) is deprecated and will be removed in 1.6. Use the SAMME algorithm to circumvent this warning.\n",
      "  warnings.warn(\n",
      "/home/artem/git/all-of-statistics/.venv/lib/python3.13/site-packages/sklearn/ensemble/_weight_boosting.py:527: FutureWarning: The SAMME.R algorithm (the default) is deprecated and will be removed in 1.6. Use the SAMME algorithm to circumvent this warning.\n",
      "  warnings.warn(\n",
      "/home/artem/git/all-of-statistics/.venv/lib/python3.13/site-packages/sklearn/ensemble/_weight_boosting.py:527: FutureWarning: The SAMME.R algorithm (the default) is deprecated and will be removed in 1.6. Use the SAMME algorithm to circumvent this warning.\n",
      "  warnings.warn(\n",
      "/home/artem/git/all-of-statistics/.venv/lib/python3.13/site-packages/sklearn/ensemble/_weight_boosting.py:527: FutureWarning: The SAMME.R algorithm (the default) is deprecated and will be removed in 1.6. Use the SAMME algorithm to circumvent this warning.\n",
      "  warnings.warn(\n",
      "/home/artem/git/all-of-statistics/.venv/lib/python3.13/site-packages/sklearn/ensemble/_weight_boosting.py:527: FutureWarning: The SAMME.R algorithm (the default) is deprecated and will be removed in 1.6. Use the SAMME algorithm to circumvent this warning.\n",
      "  warnings.warn(\n",
      "/home/artem/git/all-of-statistics/.venv/lib/python3.13/site-packages/sklearn/ensemble/_weight_boosting.py:527: FutureWarning: The SAMME.R algorithm (the default) is deprecated and will be removed in 1.6. Use the SAMME algorithm to circumvent this warning.\n",
      "  warnings.warn(\n",
      "/home/artem/git/all-of-statistics/.venv/lib/python3.13/site-packages/sklearn/ensemble/_weight_boosting.py:527: FutureWarning: The SAMME.R algorithm (the default) is deprecated and will be removed in 1.6. Use the SAMME algorithm to circumvent this warning.\n",
      "  warnings.warn(\n",
      "/home/artem/git/all-of-statistics/.venv/lib/python3.13/site-packages/sklearn/ensemble/_weight_boosting.py:527: FutureWarning: The SAMME.R algorithm (the default) is deprecated and will be removed in 1.6. Use the SAMME algorithm to circumvent this warning.\n",
      "  warnings.warn(\n",
      "/home/artem/git/all-of-statistics/.venv/lib/python3.13/site-packages/sklearn/ensemble/_weight_boosting.py:527: FutureWarning: The SAMME.R algorithm (the default) is deprecated and will be removed in 1.6. Use the SAMME algorithm to circumvent this warning.\n",
      "  warnings.warn(\n",
      "/home/artem/git/all-of-statistics/.venv/lib/python3.13/site-packages/sklearn/ensemble/_weight_boosting.py:527: FutureWarning: The SAMME.R algorithm (the default) is deprecated and will be removed in 1.6. Use the SAMME algorithm to circumvent this warning.\n",
      "  warnings.warn(\n",
      "/home/artem/git/all-of-statistics/.venv/lib/python3.13/site-packages/sklearn/ensemble/_weight_boosting.py:527: FutureWarning: The SAMME.R algorithm (the default) is deprecated and will be removed in 1.6. Use the SAMME algorithm to circumvent this warning.\n",
      "  warnings.warn(\n",
      "/home/artem/git/all-of-statistics/.venv/lib/python3.13/site-packages/sklearn/ensemble/_weight_boosting.py:527: FutureWarning: The SAMME.R algorithm (the default) is deprecated and will be removed in 1.6. Use the SAMME algorithm to circumvent this warning.\n",
      "  warnings.warn(\n",
      "/home/artem/git/all-of-statistics/.venv/lib/python3.13/site-packages/sklearn/ensemble/_weight_boosting.py:527: FutureWarning: The SAMME.R algorithm (the default) is deprecated and will be removed in 1.6. Use the SAMME algorithm to circumvent this warning.\n",
      "  warnings.warn(\n",
      "/home/artem/git/all-of-statistics/.venv/lib/python3.13/site-packages/sklearn/ensemble/_weight_boosting.py:527: FutureWarning: The SAMME.R algorithm (the default) is deprecated and will be removed in 1.6. Use the SAMME algorithm to circumvent this warning.\n",
      "  warnings.warn(\n",
      "/home/artem/git/all-of-statistics/.venv/lib/python3.13/site-packages/sklearn/ensemble/_weight_boosting.py:527: FutureWarning: The SAMME.R algorithm (the default) is deprecated and will be removed in 1.6. Use the SAMME algorithm to circumvent this warning.\n",
      "  warnings.warn(\n",
      "/home/artem/git/all-of-statistics/.venv/lib/python3.13/site-packages/sklearn/ensemble/_weight_boosting.py:527: FutureWarning: The SAMME.R algorithm (the default) is deprecated and will be removed in 1.6. Use the SAMME algorithm to circumvent this warning.\n",
      "  warnings.warn(\n",
      "/home/artem/git/all-of-statistics/.venv/lib/python3.13/site-packages/sklearn/ensemble/_weight_boosting.py:527: FutureWarning: The SAMME.R algorithm (the default) is deprecated and will be removed in 1.6. Use the SAMME algorithm to circumvent this warning.\n",
      "  warnings.warn(\n",
      "/home/artem/git/all-of-statistics/.venv/lib/python3.13/site-packages/sklearn/ensemble/_weight_boosting.py:527: FutureWarning: The SAMME.R algorithm (the default) is deprecated and will be removed in 1.6. Use the SAMME algorithm to circumvent this warning.\n",
      "  warnings.warn(\n",
      "/home/artem/git/all-of-statistics/.venv/lib/python3.13/site-packages/sklearn/ensemble/_weight_boosting.py:527: FutureWarning: The SAMME.R algorithm (the default) is deprecated and will be removed in 1.6. Use the SAMME algorithm to circumvent this warning.\n",
      "  warnings.warn(\n",
      "/home/artem/git/all-of-statistics/.venv/lib/python3.13/site-packages/sklearn/ensemble/_weight_boosting.py:527: FutureWarning: The SAMME.R algorithm (the default) is deprecated and will be removed in 1.6. Use the SAMME algorithm to circumvent this warning.\n",
      "  warnings.warn(\n",
      "/home/artem/git/all-of-statistics/.venv/lib/python3.13/site-packages/sklearn/ensemble/_weight_boosting.py:527: FutureWarning: The SAMME.R algorithm (the default) is deprecated and will be removed in 1.6. Use the SAMME algorithm to circumvent this warning.\n",
      "  warnings.warn(\n",
      "/home/artem/git/all-of-statistics/.venv/lib/python3.13/site-packages/sklearn/ensemble/_weight_boosting.py:527: FutureWarning: The SAMME.R algorithm (the default) is deprecated and will be removed in 1.6. Use the SAMME algorithm to circumvent this warning.\n",
      "  warnings.warn(\n",
      "/home/artem/git/all-of-statistics/.venv/lib/python3.13/site-packages/sklearn/ensemble/_weight_boosting.py:527: FutureWarning: The SAMME.R algorithm (the default) is deprecated and will be removed in 1.6. Use the SAMME algorithm to circumvent this warning.\n",
      "  warnings.warn(\n",
      "/home/artem/git/all-of-statistics/.venv/lib/python3.13/site-packages/sklearn/ensemble/_weight_boosting.py:527: FutureWarning: The SAMME.R algorithm (the default) is deprecated and will be removed in 1.6. Use the SAMME algorithm to circumvent this warning.\n",
      "  warnings.warn(\n",
      "/home/artem/git/all-of-statistics/.venv/lib/python3.13/site-packages/sklearn/ensemble/_weight_boosting.py:527: FutureWarning: The SAMME.R algorithm (the default) is deprecated and will be removed in 1.6. Use the SAMME algorithm to circumvent this warning.\n",
      "  warnings.warn(\n",
      "/home/artem/git/all-of-statistics/.venv/lib/python3.13/site-packages/sklearn/ensemble/_weight_boosting.py:527: FutureWarning: The SAMME.R algorithm (the default) is deprecated and will be removed in 1.6. Use the SAMME algorithm to circumvent this warning.\n",
      "  warnings.warn(\n",
      "/home/artem/git/all-of-statistics/.venv/lib/python3.13/site-packages/sklearn/ensemble/_weight_boosting.py:527: FutureWarning: The SAMME.R algorithm (the default) is deprecated and will be removed in 1.6. Use the SAMME algorithm to circumvent this warning.\n",
      "  warnings.warn(\n",
      "/home/artem/git/all-of-statistics/.venv/lib/python3.13/site-packages/sklearn/ensemble/_weight_boosting.py:527: FutureWarning: The SAMME.R algorithm (the default) is deprecated and will be removed in 1.6. Use the SAMME algorithm to circumvent this warning.\n",
      "  warnings.warn(\n",
      "/home/artem/git/all-of-statistics/.venv/lib/python3.13/site-packages/sklearn/ensemble/_weight_boosting.py:527: FutureWarning: The SAMME.R algorithm (the default) is deprecated and will be removed in 1.6. Use the SAMME algorithm to circumvent this warning.\n",
      "  warnings.warn(\n",
      "/home/artem/git/all-of-statistics/.venv/lib/python3.13/site-packages/sklearn/ensemble/_weight_boosting.py:527: FutureWarning: The SAMME.R algorithm (the default) is deprecated and will be removed in 1.6. Use the SAMME algorithm to circumvent this warning.\n",
      "  warnings.warn(\n",
      "/home/artem/git/all-of-statistics/.venv/lib/python3.13/site-packages/sklearn/ensemble/_weight_boosting.py:527: FutureWarning: The SAMME.R algorithm (the default) is deprecated and will be removed in 1.6. Use the SAMME algorithm to circumvent this warning.\n",
      "  warnings.warn(\n",
      "/home/artem/git/all-of-statistics/.venv/lib/python3.13/site-packages/sklearn/ensemble/_weight_boosting.py:527: FutureWarning: The SAMME.R algorithm (the default) is deprecated and will be removed in 1.6. Use the SAMME algorithm to circumvent this warning.\n",
      "  warnings.warn(\n",
      "/home/artem/git/all-of-statistics/.venv/lib/python3.13/site-packages/sklearn/ensemble/_weight_boosting.py:527: FutureWarning: The SAMME.R algorithm (the default) is deprecated and will be removed in 1.6. Use the SAMME algorithm to circumvent this warning.\n",
      "  warnings.warn(\n",
      "/home/artem/git/all-of-statistics/.venv/lib/python3.13/site-packages/sklearn/ensemble/_weight_boosting.py:527: FutureWarning: The SAMME.R algorithm (the default) is deprecated and will be removed in 1.6. Use the SAMME algorithm to circumvent this warning.\n",
      "  warnings.warn(\n",
      "/home/artem/git/all-of-statistics/.venv/lib/python3.13/site-packages/sklearn/ensemble/_weight_boosting.py:527: FutureWarning: The SAMME.R algorithm (the default) is deprecated and will be removed in 1.6. Use the SAMME algorithm to circumvent this warning.\n",
      "  warnings.warn(\n",
      "/home/artem/git/all-of-statistics/.venv/lib/python3.13/site-packages/sklearn/ensemble/_weight_boosting.py:527: FutureWarning: The SAMME.R algorithm (the default) is deprecated and will be removed in 1.6. Use the SAMME algorithm to circumvent this warning.\n",
      "  warnings.warn(\n",
      "/home/artem/git/all-of-statistics/.venv/lib/python3.13/site-packages/sklearn/ensemble/_weight_boosting.py:527: FutureWarning: The SAMME.R algorithm (the default) is deprecated and will be removed in 1.6. Use the SAMME algorithm to circumvent this warning.\n",
      "  warnings.warn(\n",
      "/home/artem/git/all-of-statistics/.venv/lib/python3.13/site-packages/sklearn/ensemble/_weight_boosting.py:527: FutureWarning: The SAMME.R algorithm (the default) is deprecated and will be removed in 1.6. Use the SAMME algorithm to circumvent this warning.\n",
      "  warnings.warn(\n",
      "/home/artem/git/all-of-statistics/.venv/lib/python3.13/site-packages/sklearn/ensemble/_weight_boosting.py:527: FutureWarning: The SAMME.R algorithm (the default) is deprecated and will be removed in 1.6. Use the SAMME algorithm to circumvent this warning.\n",
      "  warnings.warn(\n",
      "/home/artem/git/all-of-statistics/.venv/lib/python3.13/site-packages/sklearn/ensemble/_weight_boosting.py:527: FutureWarning: The SAMME.R algorithm (the default) is deprecated and will be removed in 1.6. Use the SAMME algorithm to circumvent this warning.\n",
      "  warnings.warn(\n",
      "/home/artem/git/all-of-statistics/.venv/lib/python3.13/site-packages/sklearn/ensemble/_weight_boosting.py:527: FutureWarning: The SAMME.R algorithm (the default) is deprecated and will be removed in 1.6. Use the SAMME algorithm to circumvent this warning.\n",
      "  warnings.warn(\n",
      "/home/artem/git/all-of-statistics/.venv/lib/python3.13/site-packages/sklearn/ensemble/_weight_boosting.py:527: FutureWarning: The SAMME.R algorithm (the default) is deprecated and will be removed in 1.6. Use the SAMME algorithm to circumvent this warning.\n",
      "  warnings.warn(\n",
      "/home/artem/git/all-of-statistics/.venv/lib/python3.13/site-packages/sklearn/ensemble/_weight_boosting.py:527: FutureWarning: The SAMME.R algorithm (the default) is deprecated and will be removed in 1.6. Use the SAMME algorithm to circumvent this warning.\n",
      "  warnings.warn(\n",
      "/home/artem/git/all-of-statistics/.venv/lib/python3.13/site-packages/sklearn/ensemble/_weight_boosting.py:527: FutureWarning: The SAMME.R algorithm (the default) is deprecated and will be removed in 1.6. Use the SAMME algorithm to circumvent this warning.\n",
      "  warnings.warn(\n",
      "/home/artem/git/all-of-statistics/.venv/lib/python3.13/site-packages/sklearn/ensemble/_weight_boosting.py:527: FutureWarning: The SAMME.R algorithm (the default) is deprecated and will be removed in 1.6. Use the SAMME algorithm to circumvent this warning.\n",
      "  warnings.warn(\n",
      "/home/artem/git/all-of-statistics/.venv/lib/python3.13/site-packages/sklearn/ensemble/_weight_boosting.py:527: FutureWarning: The SAMME.R algorithm (the default) is deprecated and will be removed in 1.6. Use the SAMME algorithm to circumvent this warning.\n",
      "  warnings.warn(\n",
      "/home/artem/git/all-of-statistics/.venv/lib/python3.13/site-packages/sklearn/ensemble/_weight_boosting.py:527: FutureWarning: The SAMME.R algorithm (the default) is deprecated and will be removed in 1.6. Use the SAMME algorithm to circumvent this warning.\n",
      "  warnings.warn(\n",
      "/home/artem/git/all-of-statistics/.venv/lib/python3.13/site-packages/sklearn/ensemble/_weight_boosting.py:527: FutureWarning: The SAMME.R algorithm (the default) is deprecated and will be removed in 1.6. Use the SAMME algorithm to circumvent this warning.\n",
      "  warnings.warn(\n",
      "/home/artem/git/all-of-statistics/.venv/lib/python3.13/site-packages/sklearn/ensemble/_weight_boosting.py:527: FutureWarning: The SAMME.R algorithm (the default) is deprecated and will be removed in 1.6. Use the SAMME algorithm to circumvent this warning.\n",
      "  warnings.warn(\n",
      "/home/artem/git/all-of-statistics/.venv/lib/python3.13/site-packages/sklearn/ensemble/_weight_boosting.py:527: FutureWarning: The SAMME.R algorithm (the default) is deprecated and will be removed in 1.6. Use the SAMME algorithm to circumvent this warning.\n",
      "  warnings.warn(\n",
      "/home/artem/git/all-of-statistics/.venv/lib/python3.13/site-packages/sklearn/ensemble/_weight_boosting.py:527: FutureWarning: The SAMME.R algorithm (the default) is deprecated and will be removed in 1.6. Use the SAMME algorithm to circumvent this warning.\n",
      "  warnings.warn(\n",
      "/home/artem/git/all-of-statistics/.venv/lib/python3.13/site-packages/sklearn/ensemble/_weight_boosting.py:527: FutureWarning: The SAMME.R algorithm (the default) is deprecated and will be removed in 1.6. Use the SAMME algorithm to circumvent this warning.\n",
      "  warnings.warn(\n",
      "/home/artem/git/all-of-statistics/.venv/lib/python3.13/site-packages/sklearn/ensemble/_weight_boosting.py:527: FutureWarning: The SAMME.R algorithm (the default) is deprecated and will be removed in 1.6. Use the SAMME algorithm to circumvent this warning.\n",
      "  warnings.warn(\n",
      "/home/artem/git/all-of-statistics/.venv/lib/python3.13/site-packages/sklearn/ensemble/_weight_boosting.py:527: FutureWarning: The SAMME.R algorithm (the default) is deprecated and will be removed in 1.6. Use the SAMME algorithm to circumvent this warning.\n",
      "  warnings.warn(\n",
      "/home/artem/git/all-of-statistics/.venv/lib/python3.13/site-packages/sklearn/ensemble/_weight_boosting.py:527: FutureWarning: The SAMME.R algorithm (the default) is deprecated and will be removed in 1.6. Use the SAMME algorithm to circumvent this warning.\n",
      "  warnings.warn(\n",
      "/home/artem/git/all-of-statistics/.venv/lib/python3.13/site-packages/sklearn/ensemble/_weight_boosting.py:527: FutureWarning: The SAMME.R algorithm (the default) is deprecated and will be removed in 1.6. Use the SAMME algorithm to circumvent this warning.\n",
      "  warnings.warn(\n",
      "/home/artem/git/all-of-statistics/.venv/lib/python3.13/site-packages/sklearn/ensemble/_weight_boosting.py:527: FutureWarning: The SAMME.R algorithm (the default) is deprecated and will be removed in 1.6. Use the SAMME algorithm to circumvent this warning.\n",
      "  warnings.warn(\n",
      "/home/artem/git/all-of-statistics/.venv/lib/python3.13/site-packages/sklearn/ensemble/_weight_boosting.py:527: FutureWarning: The SAMME.R algorithm (the default) is deprecated and will be removed in 1.6. Use the SAMME algorithm to circumvent this warning.\n",
      "  warnings.warn(\n",
      "/home/artem/git/all-of-statistics/.venv/lib/python3.13/site-packages/sklearn/ensemble/_weight_boosting.py:527: FutureWarning: The SAMME.R algorithm (the default) is deprecated and will be removed in 1.6. Use the SAMME algorithm to circumvent this warning.\n",
      "  warnings.warn(\n",
      "/home/artem/git/all-of-statistics/.venv/lib/python3.13/site-packages/sklearn/ensemble/_weight_boosting.py:527: FutureWarning: The SAMME.R algorithm (the default) is deprecated and will be removed in 1.6. Use the SAMME algorithm to circumvent this warning.\n",
      "  warnings.warn(\n",
      "/home/artem/git/all-of-statistics/.venv/lib/python3.13/site-packages/sklearn/ensemble/_weight_boosting.py:527: FutureWarning: The SAMME.R algorithm (the default) is deprecated and will be removed in 1.6. Use the SAMME algorithm to circumvent this warning.\n",
      "  warnings.warn(\n",
      "/home/artem/git/all-of-statistics/.venv/lib/python3.13/site-packages/sklearn/ensemble/_weight_boosting.py:527: FutureWarning: The SAMME.R algorithm (the default) is deprecated and will be removed in 1.6. Use the SAMME algorithm to circumvent this warning.\n",
      "  warnings.warn(\n",
      "/home/artem/git/all-of-statistics/.venv/lib/python3.13/site-packages/sklearn/ensemble/_weight_boosting.py:527: FutureWarning: The SAMME.R algorithm (the default) is deprecated and will be removed in 1.6. Use the SAMME algorithm to circumvent this warning.\n",
      "  warnings.warn(\n",
      "/home/artem/git/all-of-statistics/.venv/lib/python3.13/site-packages/sklearn/ensemble/_weight_boosting.py:527: FutureWarning: The SAMME.R algorithm (the default) is deprecated and will be removed in 1.6. Use the SAMME algorithm to circumvent this warning.\n",
      "  warnings.warn(\n",
      "/home/artem/git/all-of-statistics/.venv/lib/python3.13/site-packages/sklearn/ensemble/_weight_boosting.py:527: FutureWarning: The SAMME.R algorithm (the default) is deprecated and will be removed in 1.6. Use the SAMME algorithm to circumvent this warning.\n",
      "  warnings.warn(\n",
      "/home/artem/git/all-of-statistics/.venv/lib/python3.13/site-packages/sklearn/ensemble/_weight_boosting.py:527: FutureWarning: The SAMME.R algorithm (the default) is deprecated and will be removed in 1.6. Use the SAMME algorithm to circumvent this warning.\n",
      "  warnings.warn(\n",
      "/home/artem/git/all-of-statistics/.venv/lib/python3.13/site-packages/sklearn/ensemble/_weight_boosting.py:527: FutureWarning: The SAMME.R algorithm (the default) is deprecated and will be removed in 1.6. Use the SAMME algorithm to circumvent this warning.\n",
      "  warnings.warn(\n",
      "/home/artem/git/all-of-statistics/.venv/lib/python3.13/site-packages/sklearn/ensemble/_weight_boosting.py:527: FutureWarning: The SAMME.R algorithm (the default) is deprecated and will be removed in 1.6. Use the SAMME algorithm to circumvent this warning.\n",
      "  warnings.warn(\n",
      "/home/artem/git/all-of-statistics/.venv/lib/python3.13/site-packages/sklearn/ensemble/_weight_boosting.py:527: FutureWarning: The SAMME.R algorithm (the default) is deprecated and will be removed in 1.6. Use the SAMME algorithm to circumvent this warning.\n",
      "  warnings.warn(\n",
      "/home/artem/git/all-of-statistics/.venv/lib/python3.13/site-packages/sklearn/ensemble/_weight_boosting.py:527: FutureWarning: The SAMME.R algorithm (the default) is deprecated and will be removed in 1.6. Use the SAMME algorithm to circumvent this warning.\n",
      "  warnings.warn(\n",
      "/home/artem/git/all-of-statistics/.venv/lib/python3.13/site-packages/sklearn/ensemble/_weight_boosting.py:527: FutureWarning: The SAMME.R algorithm (the default) is deprecated and will be removed in 1.6. Use the SAMME algorithm to circumvent this warning.\n",
      "  warnings.warn(\n",
      "/home/artem/git/all-of-statistics/.venv/lib/python3.13/site-packages/sklearn/ensemble/_weight_boosting.py:527: FutureWarning: The SAMME.R algorithm (the default) is deprecated and will be removed in 1.6. Use the SAMME algorithm to circumvent this warning.\n",
      "  warnings.warn(\n",
      "/home/artem/git/all-of-statistics/.venv/lib/python3.13/site-packages/sklearn/ensemble/_weight_boosting.py:527: FutureWarning: The SAMME.R algorithm (the default) is deprecated and will be removed in 1.6. Use the SAMME algorithm to circumvent this warning.\n",
      "  warnings.warn(\n",
      "/home/artem/git/all-of-statistics/.venv/lib/python3.13/site-packages/sklearn/ensemble/_weight_boosting.py:527: FutureWarning: The SAMME.R algorithm (the default) is deprecated and will be removed in 1.6. Use the SAMME algorithm to circumvent this warning.\n",
      "  warnings.warn(\n",
      "/home/artem/git/all-of-statistics/.venv/lib/python3.13/site-packages/sklearn/ensemble/_weight_boosting.py:527: FutureWarning: The SAMME.R algorithm (the default) is deprecated and will be removed in 1.6. Use the SAMME algorithm to circumvent this warning.\n",
      "  warnings.warn(\n",
      "/home/artem/git/all-of-statistics/.venv/lib/python3.13/site-packages/sklearn/ensemble/_weight_boosting.py:527: FutureWarning: The SAMME.R algorithm (the default) is deprecated and will be removed in 1.6. Use the SAMME algorithm to circumvent this warning.\n",
      "  warnings.warn(\n",
      "/home/artem/git/all-of-statistics/.venv/lib/python3.13/site-packages/sklearn/ensemble/_weight_boosting.py:527: FutureWarning: The SAMME.R algorithm (the default) is deprecated and will be removed in 1.6. Use the SAMME algorithm to circumvent this warning.\n",
      "  warnings.warn(\n",
      "/home/artem/git/all-of-statistics/.venv/lib/python3.13/site-packages/sklearn/ensemble/_weight_boosting.py:527: FutureWarning: The SAMME.R algorithm (the default) is deprecated and will be removed in 1.6. Use the SAMME algorithm to circumvent this warning.\n",
      "  warnings.warn(\n",
      "/home/artem/git/all-of-statistics/.venv/lib/python3.13/site-packages/sklearn/ensemble/_weight_boosting.py:527: FutureWarning: The SAMME.R algorithm (the default) is deprecated and will be removed in 1.6. Use the SAMME algorithm to circumvent this warning.\n",
      "  warnings.warn(\n",
      "/home/artem/git/all-of-statistics/.venv/lib/python3.13/site-packages/sklearn/ensemble/_weight_boosting.py:527: FutureWarning: The SAMME.R algorithm (the default) is deprecated and will be removed in 1.6. Use the SAMME algorithm to circumvent this warning.\n",
      "  warnings.warn(\n",
      "/home/artem/git/all-of-statistics/.venv/lib/python3.13/site-packages/sklearn/ensemble/_weight_boosting.py:527: FutureWarning: The SAMME.R algorithm (the default) is deprecated and will be removed in 1.6. Use the SAMME algorithm to circumvent this warning.\n",
      "  warnings.warn(\n",
      "/home/artem/git/all-of-statistics/.venv/lib/python3.13/site-packages/sklearn/ensemble/_weight_boosting.py:527: FutureWarning: The SAMME.R algorithm (the default) is deprecated and will be removed in 1.6. Use the SAMME algorithm to circumvent this warning.\n",
      "  warnings.warn(\n",
      "/home/artem/git/all-of-statistics/.venv/lib/python3.13/site-packages/sklearn/ensemble/_weight_boosting.py:527: FutureWarning: The SAMME.R algorithm (the default) is deprecated and will be removed in 1.6. Use the SAMME algorithm to circumvent this warning.\n",
      "  warnings.warn(\n",
      "/home/artem/git/all-of-statistics/.venv/lib/python3.13/site-packages/sklearn/ensemble/_weight_boosting.py:527: FutureWarning: The SAMME.R algorithm (the default) is deprecated and will be removed in 1.6. Use the SAMME algorithm to circumvent this warning.\n",
      "  warnings.warn(\n",
      "/home/artem/git/all-of-statistics/.venv/lib/python3.13/site-packages/sklearn/ensemble/_weight_boosting.py:527: FutureWarning: The SAMME.R algorithm (the default) is deprecated and will be removed in 1.6. Use the SAMME algorithm to circumvent this warning.\n",
      "  warnings.warn(\n",
      "/home/artem/git/all-of-statistics/.venv/lib/python3.13/site-packages/sklearn/ensemble/_weight_boosting.py:527: FutureWarning: The SAMME.R algorithm (the default) is deprecated and will be removed in 1.6. Use the SAMME algorithm to circumvent this warning.\n",
      "  warnings.warn(\n",
      "/home/artem/git/all-of-statistics/.venv/lib/python3.13/site-packages/sklearn/ensemble/_weight_boosting.py:527: FutureWarning: The SAMME.R algorithm (the default) is deprecated and will be removed in 1.6. Use the SAMME algorithm to circumvent this warning.\n",
      "  warnings.warn(\n",
      "/home/artem/git/all-of-statistics/.venv/lib/python3.13/site-packages/sklearn/ensemble/_weight_boosting.py:527: FutureWarning: The SAMME.R algorithm (the default) is deprecated and will be removed in 1.6. Use the SAMME algorithm to circumvent this warning.\n",
      "  warnings.warn(\n",
      "/home/artem/git/all-of-statistics/.venv/lib/python3.13/site-packages/sklearn/ensemble/_weight_boosting.py:527: FutureWarning: The SAMME.R algorithm (the default) is deprecated and will be removed in 1.6. Use the SAMME algorithm to circumvent this warning.\n",
      "  warnings.warn(\n",
      "/home/artem/git/all-of-statistics/.venv/lib/python3.13/site-packages/sklearn/ensemble/_weight_boosting.py:527: FutureWarning: The SAMME.R algorithm (the default) is deprecated and will be removed in 1.6. Use the SAMME algorithm to circumvent this warning.\n",
      "  warnings.warn(\n",
      "/home/artem/git/all-of-statistics/.venv/lib/python3.13/site-packages/sklearn/ensemble/_weight_boosting.py:527: FutureWarning: The SAMME.R algorithm (the default) is deprecated and will be removed in 1.6. Use the SAMME algorithm to circumvent this warning.\n",
      "  warnings.warn(\n",
      "/home/artem/git/all-of-statistics/.venv/lib/python3.13/site-packages/sklearn/ensemble/_weight_boosting.py:527: FutureWarning: The SAMME.R algorithm (the default) is deprecated and will be removed in 1.6. Use the SAMME algorithm to circumvent this warning.\n",
      "  warnings.warn(\n",
      "/home/artem/git/all-of-statistics/.venv/lib/python3.13/site-packages/sklearn/ensemble/_weight_boosting.py:527: FutureWarning: The SAMME.R algorithm (the default) is deprecated and will be removed in 1.6. Use the SAMME algorithm to circumvent this warning.\n",
      "  warnings.warn(\n",
      "/home/artem/git/all-of-statistics/.venv/lib/python3.13/site-packages/sklearn/ensemble/_weight_boosting.py:527: FutureWarning: The SAMME.R algorithm (the default) is deprecated and will be removed in 1.6. Use the SAMME algorithm to circumvent this warning.\n",
      "  warnings.warn(\n",
      "/home/artem/git/all-of-statistics/.venv/lib/python3.13/site-packages/sklearn/ensemble/_weight_boosting.py:527: FutureWarning: The SAMME.R algorithm (the default) is deprecated and will be removed in 1.6. Use the SAMME algorithm to circumvent this warning.\n",
      "  warnings.warn(\n",
      "/home/artem/git/all-of-statistics/.venv/lib/python3.13/site-packages/sklearn/ensemble/_weight_boosting.py:527: FutureWarning: The SAMME.R algorithm (the default) is deprecated and will be removed in 1.6. Use the SAMME algorithm to circumvent this warning.\n",
      "  warnings.warn(\n",
      "/home/artem/git/all-of-statistics/.venv/lib/python3.13/site-packages/sklearn/ensemble/_weight_boosting.py:527: FutureWarning: The SAMME.R algorithm (the default) is deprecated and will be removed in 1.6. Use the SAMME algorithm to circumvent this warning.\n",
      "  warnings.warn(\n",
      "/home/artem/git/all-of-statistics/.venv/lib/python3.13/site-packages/sklearn/ensemble/_weight_boosting.py:527: FutureWarning: The SAMME.R algorithm (the default) is deprecated and will be removed in 1.6. Use the SAMME algorithm to circumvent this warning.\n",
      "  warnings.warn(\n",
      "/home/artem/git/all-of-statistics/.venv/lib/python3.13/site-packages/sklearn/ensemble/_weight_boosting.py:527: FutureWarning: The SAMME.R algorithm (the default) is deprecated and will be removed in 1.6. Use the SAMME algorithm to circumvent this warning.\n",
      "  warnings.warn(\n",
      "/home/artem/git/all-of-statistics/.venv/lib/python3.13/site-packages/sklearn/ensemble/_weight_boosting.py:527: FutureWarning: The SAMME.R algorithm (the default) is deprecated and will be removed in 1.6. Use the SAMME algorithm to circumvent this warning.\n",
      "  warnings.warn(\n",
      "/home/artem/git/all-of-statistics/.venv/lib/python3.13/site-packages/sklearn/ensemble/_weight_boosting.py:527: FutureWarning: The SAMME.R algorithm (the default) is deprecated and will be removed in 1.6. Use the SAMME algorithm to circumvent this warning.\n",
      "  warnings.warn(\n",
      "/home/artem/git/all-of-statistics/.venv/lib/python3.13/site-packages/sklearn/ensemble/_weight_boosting.py:527: FutureWarning: The SAMME.R algorithm (the default) is deprecated and will be removed in 1.6. Use the SAMME algorithm to circumvent this warning.\n",
      "  warnings.warn(\n",
      "/home/artem/git/all-of-statistics/.venv/lib/python3.13/site-packages/sklearn/ensemble/_weight_boosting.py:527: FutureWarning: The SAMME.R algorithm (the default) is deprecated and will be removed in 1.6. Use the SAMME algorithm to circumvent this warning.\n",
      "  warnings.warn(\n",
      "/home/artem/git/all-of-statistics/.venv/lib/python3.13/site-packages/sklearn/ensemble/_weight_boosting.py:527: FutureWarning: The SAMME.R algorithm (the default) is deprecated and will be removed in 1.6. Use the SAMME algorithm to circumvent this warning.\n",
      "  warnings.warn(\n",
      "/home/artem/git/all-of-statistics/.venv/lib/python3.13/site-packages/sklearn/ensemble/_weight_boosting.py:527: FutureWarning: The SAMME.R algorithm (the default) is deprecated and will be removed in 1.6. Use the SAMME algorithm to circumvent this warning.\n",
      "  warnings.warn(\n",
      "/home/artem/git/all-of-statistics/.venv/lib/python3.13/site-packages/sklearn/ensemble/_weight_boosting.py:527: FutureWarning: The SAMME.R algorithm (the default) is deprecated and will be removed in 1.6. Use the SAMME algorithm to circumvent this warning.\n",
      "  warnings.warn(\n",
      "/home/artem/git/all-of-statistics/.venv/lib/python3.13/site-packages/sklearn/ensemble/_weight_boosting.py:527: FutureWarning: The SAMME.R algorithm (the default) is deprecated and will be removed in 1.6. Use the SAMME algorithm to circumvent this warning.\n",
      "  warnings.warn(\n",
      "/home/artem/git/all-of-statistics/.venv/lib/python3.13/site-packages/sklearn/ensemble/_weight_boosting.py:527: FutureWarning: The SAMME.R algorithm (the default) is deprecated and will be removed in 1.6. Use the SAMME algorithm to circumvent this warning.\n",
      "  warnings.warn(\n",
      "/home/artem/git/all-of-statistics/.venv/lib/python3.13/site-packages/sklearn/ensemble/_weight_boosting.py:527: FutureWarning: The SAMME.R algorithm (the default) is deprecated and will be removed in 1.6. Use the SAMME algorithm to circumvent this warning.\n",
      "  warnings.warn(\n",
      "/home/artem/git/all-of-statistics/.venv/lib/python3.13/site-packages/sklearn/ensemble/_weight_boosting.py:527: FutureWarning: The SAMME.R algorithm (the default) is deprecated and will be removed in 1.6. Use the SAMME algorithm to circumvent this warning.\n",
      "  warnings.warn(\n",
      "/home/artem/git/all-of-statistics/.venv/lib/python3.13/site-packages/sklearn/ensemble/_weight_boosting.py:527: FutureWarning: The SAMME.R algorithm (the default) is deprecated and will be removed in 1.6. Use the SAMME algorithm to circumvent this warning.\n",
      "  warnings.warn(\n",
      "/home/artem/git/all-of-statistics/.venv/lib/python3.13/site-packages/sklearn/ensemble/_weight_boosting.py:527: FutureWarning: The SAMME.R algorithm (the default) is deprecated and will be removed in 1.6. Use the SAMME algorithm to circumvent this warning.\n",
      "  warnings.warn(\n",
      "/home/artem/git/all-of-statistics/.venv/lib/python3.13/site-packages/sklearn/ensemble/_weight_boosting.py:527: FutureWarning: The SAMME.R algorithm (the default) is deprecated and will be removed in 1.6. Use the SAMME algorithm to circumvent this warning.\n",
      "  warnings.warn(\n",
      "/home/artem/git/all-of-statistics/.venv/lib/python3.13/site-packages/sklearn/ensemble/_weight_boosting.py:527: FutureWarning: The SAMME.R algorithm (the default) is deprecated and will be removed in 1.6. Use the SAMME algorithm to circumvent this warning.\n",
      "  warnings.warn(\n",
      "/home/artem/git/all-of-statistics/.venv/lib/python3.13/site-packages/sklearn/ensemble/_weight_boosting.py:527: FutureWarning: The SAMME.R algorithm (the default) is deprecated and will be removed in 1.6. Use the SAMME algorithm to circumvent this warning.\n",
      "  warnings.warn(\n",
      "/home/artem/git/all-of-statistics/.venv/lib/python3.13/site-packages/sklearn/ensemble/_weight_boosting.py:527: FutureWarning: The SAMME.R algorithm (the default) is deprecated and will be removed in 1.6. Use the SAMME algorithm to circumvent this warning.\n",
      "  warnings.warn(\n",
      "/home/artem/git/all-of-statistics/.venv/lib/python3.13/site-packages/sklearn/ensemble/_weight_boosting.py:527: FutureWarning: The SAMME.R algorithm (the default) is deprecated and will be removed in 1.6. Use the SAMME algorithm to circumvent this warning.\n",
      "  warnings.warn(\n",
      "/home/artem/git/all-of-statistics/.venv/lib/python3.13/site-packages/sklearn/ensemble/_weight_boosting.py:527: FutureWarning: The SAMME.R algorithm (the default) is deprecated and will be removed in 1.6. Use the SAMME algorithm to circumvent this warning.\n",
      "  warnings.warn(\n",
      "/home/artem/git/all-of-statistics/.venv/lib/python3.13/site-packages/sklearn/ensemble/_weight_boosting.py:527: FutureWarning: The SAMME.R algorithm (the default) is deprecated and will be removed in 1.6. Use the SAMME algorithm to circumvent this warning.\n",
      "  warnings.warn(\n",
      "/home/artem/git/all-of-statistics/.venv/lib/python3.13/site-packages/sklearn/ensemble/_weight_boosting.py:527: FutureWarning: The SAMME.R algorithm (the default) is deprecated and will be removed in 1.6. Use the SAMME algorithm to circumvent this warning.\n",
      "  warnings.warn(\n",
      "/home/artem/git/all-of-statistics/.venv/lib/python3.13/site-packages/sklearn/ensemble/_weight_boosting.py:527: FutureWarning: The SAMME.R algorithm (the default) is deprecated and will be removed in 1.6. Use the SAMME algorithm to circumvent this warning.\n",
      "  warnings.warn(\n",
      "/home/artem/git/all-of-statistics/.venv/lib/python3.13/site-packages/sklearn/ensemble/_weight_boosting.py:527: FutureWarning: The SAMME.R algorithm (the default) is deprecated and will be removed in 1.6. Use the SAMME algorithm to circumvent this warning.\n",
      "  warnings.warn(\n",
      "/home/artem/git/all-of-statistics/.venv/lib/python3.13/site-packages/sklearn/ensemble/_weight_boosting.py:527: FutureWarning: The SAMME.R algorithm (the default) is deprecated and will be removed in 1.6. Use the SAMME algorithm to circumvent this warning.\n",
      "  warnings.warn(\n",
      "/home/artem/git/all-of-statistics/.venv/lib/python3.13/site-packages/sklearn/ensemble/_weight_boosting.py:527: FutureWarning: The SAMME.R algorithm (the default) is deprecated and will be removed in 1.6. Use the SAMME algorithm to circumvent this warning.\n",
      "  warnings.warn(\n",
      "/home/artem/git/all-of-statistics/.venv/lib/python3.13/site-packages/sklearn/ensemble/_weight_boosting.py:527: FutureWarning: The SAMME.R algorithm (the default) is deprecated and will be removed in 1.6. Use the SAMME algorithm to circumvent this warning.\n",
      "  warnings.warn(\n",
      "/home/artem/git/all-of-statistics/.venv/lib/python3.13/site-packages/sklearn/ensemble/_weight_boosting.py:527: FutureWarning: The SAMME.R algorithm (the default) is deprecated and will be removed in 1.6. Use the SAMME algorithm to circumvent this warning.\n",
      "  warnings.warn(\n",
      "/home/artem/git/all-of-statistics/.venv/lib/python3.13/site-packages/sklearn/ensemble/_weight_boosting.py:527: FutureWarning: The SAMME.R algorithm (the default) is deprecated and will be removed in 1.6. Use the SAMME algorithm to circumvent this warning.\n",
      "  warnings.warn(\n",
      "/home/artem/git/all-of-statistics/.venv/lib/python3.13/site-packages/sklearn/ensemble/_weight_boosting.py:527: FutureWarning: The SAMME.R algorithm (the default) is deprecated and will be removed in 1.6. Use the SAMME algorithm to circumvent this warning.\n",
      "  warnings.warn(\n",
      "/home/artem/git/all-of-statistics/.venv/lib/python3.13/site-packages/sklearn/ensemble/_weight_boosting.py:527: FutureWarning: The SAMME.R algorithm (the default) is deprecated and will be removed in 1.6. Use the SAMME algorithm to circumvent this warning.\n",
      "  warnings.warn(\n",
      "/home/artem/git/all-of-statistics/.venv/lib/python3.13/site-packages/sklearn/ensemble/_weight_boosting.py:527: FutureWarning: The SAMME.R algorithm (the default) is deprecated and will be removed in 1.6. Use the SAMME algorithm to circumvent this warning.\n",
      "  warnings.warn(\n",
      "/home/artem/git/all-of-statistics/.venv/lib/python3.13/site-packages/sklearn/ensemble/_weight_boosting.py:527: FutureWarning: The SAMME.R algorithm (the default) is deprecated and will be removed in 1.6. Use the SAMME algorithm to circumvent this warning.\n",
      "  warnings.warn(\n",
      "/home/artem/git/all-of-statistics/.venv/lib/python3.13/site-packages/sklearn/ensemble/_weight_boosting.py:527: FutureWarning: The SAMME.R algorithm (the default) is deprecated and will be removed in 1.6. Use the SAMME algorithm to circumvent this warning.\n",
      "  warnings.warn(\n",
      "/home/artem/git/all-of-statistics/.venv/lib/python3.13/site-packages/sklearn/ensemble/_weight_boosting.py:527: FutureWarning: The SAMME.R algorithm (the default) is deprecated and will be removed in 1.6. Use the SAMME algorithm to circumvent this warning.\n",
      "  warnings.warn(\n",
      "/home/artem/git/all-of-statistics/.venv/lib/python3.13/site-packages/sklearn/ensemble/_weight_boosting.py:527: FutureWarning: The SAMME.R algorithm (the default) is deprecated and will be removed in 1.6. Use the SAMME algorithm to circumvent this warning.\n",
      "  warnings.warn(\n",
      "/home/artem/git/all-of-statistics/.venv/lib/python3.13/site-packages/sklearn/ensemble/_weight_boosting.py:527: FutureWarning: The SAMME.R algorithm (the default) is deprecated and will be removed in 1.6. Use the SAMME algorithm to circumvent this warning.\n",
      "  warnings.warn(\n",
      "/home/artem/git/all-of-statistics/.venv/lib/python3.13/site-packages/sklearn/ensemble/_weight_boosting.py:527: FutureWarning: The SAMME.R algorithm (the default) is deprecated and will be removed in 1.6. Use the SAMME algorithm to circumvent this warning.\n",
      "  warnings.warn(\n",
      "/home/artem/git/all-of-statistics/.venv/lib/python3.13/site-packages/sklearn/ensemble/_weight_boosting.py:527: FutureWarning: The SAMME.R algorithm (the default) is deprecated and will be removed in 1.6. Use the SAMME algorithm to circumvent this warning.\n",
      "  warnings.warn(\n",
      "/home/artem/git/all-of-statistics/.venv/lib/python3.13/site-packages/sklearn/ensemble/_weight_boosting.py:527: FutureWarning: The SAMME.R algorithm (the default) is deprecated and will be removed in 1.6. Use the SAMME algorithm to circumvent this warning.\n",
      "  warnings.warn(\n",
      "/home/artem/git/all-of-statistics/.venv/lib/python3.13/site-packages/sklearn/ensemble/_weight_boosting.py:527: FutureWarning: The SAMME.R algorithm (the default) is deprecated and will be removed in 1.6. Use the SAMME algorithm to circumvent this warning.\n",
      "  warnings.warn(\n",
      "/home/artem/git/all-of-statistics/.venv/lib/python3.13/site-packages/sklearn/ensemble/_weight_boosting.py:527: FutureWarning: The SAMME.R algorithm (the default) is deprecated and will be removed in 1.6. Use the SAMME algorithm to circumvent this warning.\n",
      "  warnings.warn(\n",
      "/home/artem/git/all-of-statistics/.venv/lib/python3.13/site-packages/sklearn/ensemble/_weight_boosting.py:527: FutureWarning: The SAMME.R algorithm (the default) is deprecated and will be removed in 1.6. Use the SAMME algorithm to circumvent this warning.\n",
      "  warnings.warn(\n",
      "/home/artem/git/all-of-statistics/.venv/lib/python3.13/site-packages/sklearn/ensemble/_weight_boosting.py:527: FutureWarning: The SAMME.R algorithm (the default) is deprecated and will be removed in 1.6. Use the SAMME algorithm to circumvent this warning.\n",
      "  warnings.warn(\n",
      "/home/artem/git/all-of-statistics/.venv/lib/python3.13/site-packages/sklearn/ensemble/_weight_boosting.py:527: FutureWarning: The SAMME.R algorithm (the default) is deprecated and will be removed in 1.6. Use the SAMME algorithm to circumvent this warning.\n",
      "  warnings.warn(\n",
      "/home/artem/git/all-of-statistics/.venv/lib/python3.13/site-packages/sklearn/ensemble/_weight_boosting.py:527: FutureWarning: The SAMME.R algorithm (the default) is deprecated and will be removed in 1.6. Use the SAMME algorithm to circumvent this warning.\n",
      "  warnings.warn(\n",
      "/home/artem/git/all-of-statistics/.venv/lib/python3.13/site-packages/sklearn/ensemble/_weight_boosting.py:527: FutureWarning: The SAMME.R algorithm (the default) is deprecated and will be removed in 1.6. Use the SAMME algorithm to circumvent this warning.\n",
      "  warnings.warn(\n",
      "/home/artem/git/all-of-statistics/.venv/lib/python3.13/site-packages/sklearn/ensemble/_weight_boosting.py:527: FutureWarning: The SAMME.R algorithm (the default) is deprecated and will be removed in 1.6. Use the SAMME algorithm to circumvent this warning.\n",
      "  warnings.warn(\n",
      "/home/artem/git/all-of-statistics/.venv/lib/python3.13/site-packages/sklearn/ensemble/_weight_boosting.py:527: FutureWarning: The SAMME.R algorithm (the default) is deprecated and will be removed in 1.6. Use the SAMME algorithm to circumvent this warning.\n",
      "  warnings.warn(\n",
      "/home/artem/git/all-of-statistics/.venv/lib/python3.13/site-packages/sklearn/ensemble/_weight_boosting.py:527: FutureWarning: The SAMME.R algorithm (the default) is deprecated and will be removed in 1.6. Use the SAMME algorithm to circumvent this warning.\n",
      "  warnings.warn(\n"
     ]
    },
    {
     "name": "stdout",
     "output_type": "stream",
     "text": [
      "CPU times: user 660 ms, sys: 140 ms, total: 800 ms\n",
      "Wall time: 1min 29s\n"
     ]
    }
   ],
   "source": [
    "%%time\n",
    "err_rates = 1 - np.array([cross_val_score(\n",
    "    estimator=AdaBoostClassifier(DecisionTreeClassifier(max_depth=1), n_estimators=J),\n",
    "    X=X,\n",
    "    y=y,\n",
    "    cv=kf,\n",
    "    n_jobs=-1,\n",
    "    scoring='accuracy',\n",
    ").mean() for J in Js])"
   ]
  },
  {
   "cell_type": "code",
   "execution_count": 97,
   "id": "41063e29-f902-4e8f-96aa-9c8eaafbebca",
   "metadata": {},
   "outputs": [
    {
     "data": {
      "image/png": "[encoded data removed]",
      "text/plain": [
       "<Figure size 640x480 with 1 Axes>"
      ]
     },
     "metadata": {},
     "output_type": "display_data"
    }
   ],
   "source": [
    "fig, ax = plt.subplots()\n",
    "ax.plot(Js, err_rates);\n",
    "ax.set_xlabel('$J$');\n",
    "ax.set_ylabel('Cross-validation error rate');\n",
    "ax.set_title('Cross-validation error rate');"
   ]
  },
  {
   "cell_type": "markdown",
   "id": "e479bd83-7e12-42a5-a2ce-082df22b10d0",
   "metadata": {},
   "source": [
    "There does not appear to be much of a dependency on the number of estimators in this case."
   ]
  },
  {
   "cell_type": "markdown",
   "id": "25f7b81c-54b2-432b-a007-2b725445a8da",
   "metadata": {},
   "source": [
    "## Exercise 13"
   ]
  },
  {
   "cell_type": "markdown",
   "id": "a08078d0-a08b-4cdf-b6d3-ffffeca22efa",
   "metadata": {},
   "source": [
    "We have\n",
    "$$\\begin{split}\n",
    "\\mathbb{P}(Y \\neq h^*(x)) \n",
    "&= \\mathbb{P}(Y = 1, h^*(x) = 0) + \\mathbb{P}(Y = 0, h^*(x) = 1) \\\\\n",
    "&= \\mathbb{P}(Y = 1) \\mathbb{P}(h^*(x) = 0) + \\mathbb{P}(Y = 0) \\mathbb{P}(h^*(x) = 1) \\\\\n",
    "&= r(x) \\mathbb{P}(h^*(x) = 0) + (1-r(x)) \\mathbb{P}(h^*(x) = 1), \\\\\n",
    "\\end{split}$$\n",
    "where\n",
    "$$\\mathbb{P}(h^*(x) = 1) = \\begin{cases}\n",
    "1, &\\text{if } r(x) \\geq \\frac{1}{2} \\\\\n",
    "0, &\\text{if } r(x) < \\frac{1}{2} \\\\\n",
    "\\end{cases}$$\n",
    "so\n",
    "$$\\begin{split}\n",
    "\\mathbb{P}(Y \\neq h^*(x)) = \\begin{cases}\n",
    "1 - r(x), &\\text{if } r(x) \\geq \\frac{1}{2} \\\\\n",
    "r(x), &\\text{if } r(x) < \\frac{1}{2} \\\\\n",
    "\\end{cases}\n",
    "\\end{split}$$"
   ]
  },
  {
   "cell_type": "markdown",
   "id": "9e134890-211e-42e6-aebd-7f420b37e3e2",
   "metadata": {},
   "source": [
    "Now,\n",
    "$$\\begin{split}\n",
    "\\mathbb{P}(Y \\neq h(x)) \n",
    "&= \\mathbb{P}(Y = 1, h(x) = 0) + \\mathbb{P}(Y = 0, h(x) = 1) \\\\\n",
    "&= \\mathbb{P}(Y = 1) \\mathbb{P}(h(x) = 0) + \\mathbb{P}(Y = 0) \\mathbb{P}(h(x) = 1) \\\\\n",
    "&= r(x) \\mathbb{P}\\left(\\hat{r}(x) < \\frac{1}{2}\\right) + (1-r(x)) \\mathbb{P}\\left(\\hat{r}(x) \\geq \\frac{1}{2}\\right) \\\\\n",
    "&\\approx r(x) \\Phi\\left(\\frac{\\frac{1}{2} - \\overline{r}(x)}{\\sigma(x)}\\right) + (1-r(x)) \\left(1 - \\Phi\\left(\\frac{\\frac{1}{2} - \\overline{r}(x)}{\\sigma(x)}\\right)\\right) \\\\\n",
    "&= (1 - r(x)) + r(x) \\Phi\\left(\\frac{\\frac{1}{2} - \\overline{r}(x)}{\\sigma(x)}\\right) - (1-r(x))\\Phi\\left(\\frac{\\frac{1}{2} - \\overline{r}(x)}{\\sigma(x)}\\right) \\\\\n",
    "&= (1 - r(x)) + (2 r(x) - 1) \\Phi\\left(\\frac{\\frac{1}{2} - \\overline{r}(x)}{\\sigma(x)}\\right) \\\\\n",
    "&= (1 - r(x)) + (2 r(x) - 1) \\left(1 - \\Phi\\left(\\frac{\\overline{r}(x) - \\frac{1}{2}}{\\sigma(x)}\\right)\\right) \\\\\n",
    "&= \\mathbb{P}(Y \\neq h^*(x)) + |2 r(x) - 1| \\left(1 - \\Phi\\left(\\text{sign}\\left(r(x) - \\frac{1}{2}\\right)\\frac{\\overline{r}(x) - \\frac{1}{2}}{\\sigma(x)}\\right)\\right) \\\\\n",
    "\\end{split}$$\n",
    "when $r(x) \\geq \\frac{1}{2}$. Also,\n",
    "$$\\begin{split}\n",
    "\\mathbb{P}(Y \\neq h(x)) \n",
    "&= (1 - r(x)) + (2 r(x) - 1) \\left(1 - \\Phi\\left(\\frac{\\overline{r}(x) - \\frac{1}{2}}{\\sigma(x)}\\right)\\right) \\\\\n",
    "&= r(x) - (2r(x) - 1) + (2 r(x) - 1) \\left(1 - \\Phi\\left(\\frac{\\overline{r}(x) - \\frac{1}{2}}{\\sigma(x)}\\right)\\right) \\\\\n",
    "&= r(x) - (2 r(x) - 1) \\Phi\\left(\\frac{\\overline{r}(x) - \\frac{1}{2}}{\\sigma(x)}\\right) \\\\\n",
    "&= r(x) - (2 r(x) - 1) \\left(1 - \\Phi\\left(-\\frac{\\overline{r}(x) - \\frac{1}{2}}{\\sigma(x)}\\right)\\right) \\\\\n",
    "&= \\mathbb{P}(Y \\neq h^*(x)) + |2 r(x) - 1| \\left(1 - \\Phi\\left(\\text{sign}\\left(r(x) - \\frac{1}{2}\\right)\\frac{\\overline{r}(x) - \\frac{1}{2}}{\\sigma(x)}\\right)\\right) \\\\\n",
    "\\end{split}$$\n",
    "when $r(x) < \\frac{1}{2}$. In both cases, we have\n",
    "$$\\mathbb{P}(Y \\neq h(x))  = \\mathbb{P}(Y \\neq h^*(x)) + |2 r(x) - 1| \\left(1 - \\Phi\\left(\\text{sign}\\left(r(x) - \\frac{1}{2}\\right)\\frac{\\overline{r}(x) - \\frac{1}{2}}{\\sigma(x)}\\right)\\right).$$"
   ]
  }
 ],
 "metadata": {
  "kernelspec": {
   "display_name": "Python 3 (ipykernel)",
   "language": "python",
   "name": "python3"
  },
  "language_info": {
   "codemirror_mode": {
    "name": "ipython",
    "version": 3
   },
   "file_extension": ".py",
   "mimetype": "text/x-python",
   "name": "python",
   "nbconvert_exporter": "python",
   "pygments_lexer": "ipython3",
   "version": "3.13.0"
  }
 },
 "nbformat": 4,
 "nbformat_minor": 5
}
