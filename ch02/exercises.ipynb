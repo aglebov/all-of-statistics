{
 "cells": [
  {
   "cell_type": "markdown",
   "metadata": {},
   "source": [
    "#### Exercise 1\n",
    "\n",
    "By Lemma 2.15, $P(X=x) = F(x) - F(x-)$, while by Theorem 2.8, $F(x) = F(x^+)$, therefore $P(X=x) = F(x^+) - F(x^-)$."
   ]
  },
  {
   "cell_type": "markdown",
   "metadata": {},
   "source": [
    "#### Exercise 2\n",
    "\n",
    "The CDF is as follows:\n",
    "$$\n",
    "F(x) = \\begin{cases}\n",
    "0, &\\text{if } x < 2, \\\\\n",
    "0.1, &\\text{if } 2 \\leq x < 3, \\\\\n",
    "0.2, &\\text{if } 3 \\leq x < 5, \\\\\n",
    "1, &\\text{if } x \\geq 5.\n",
    "\\end{cases}\n",
    "$$\n",
    "\n",
    "By Lemma 2.15, $P(2 < X \\leq 4.8) = F(4.8) - F(2) = 0.1$. Using the result of Exercise 1, $P(2 \\leq X \\leq 4.8) = P(X=2) + P(2 < X \\leq 4.8) = 0.2$."
   ]
  },
  {
   "cell_type": "markdown",
   "metadata": {},
   "source": [
    "#### Exercise 3\n",
    "\n",
    "1. Notice that $\\{X < x\\} = \\bigcup_{y < x}\\{X \\leq y\\}$, i.e. $\\{X \\leq y\\} \\xrightarrow[y \\uparrow x]{} \\{X < x\\}$. Then by continuity of probability, $P(\\{X < x\\}) = \\lim_{y \\uparrow x} P(\\{X \\leq y\\}) = \\lim_{y \\uparrow x} F(y) = F(x^-)$. Also, by definition $F(x) = P(X \\leq x)$.\n",
    "\n",
    "Since $\\{X < x\\} \\cup \\{X = x\\} = \\{X \\leq x\\}$, while $\\{X < x\\}$ and $\\{X = x\\}$ are disjoint, we have from Axiom 3 that $P(X = x) = P(X \\leq x) - P(X < x) = F(x) - F(x^-)$.\n",
    "\n",
    "2. Notice that $\\{X \\leq x\\} \\cup \\{x < X \\leq y\\} = \\{X \\leq y\\}$ and $\\{X \\leq x\\}$ and $\\{x < X \\leq y\\}$ are disjoint, hence by Axiom 3, $P(x < X \\leq y) = P(X \\leq y) - P(X \\leq x) = F(y) - F(x)$.\n",
    "\n",
    "3. By Equations (1.1) $P(X > x) = 1 - P(X \\leq x) = 1 - F(x)$.\n",
    "\n",
    "4. Notice that $\\bigcap_{a \\uparrow x, b \\downarrow x} (a, b) = \\{x\\}$. Therefore using Definition 2.16, $P(X = x) = \\lim_{a \\uparrow x, b \\downarrow x} P(a < X < b) = \\lim_{a \\uparrow x, b \\downarrow x} \\int_a^b f_X(x) dx = 0.$\n",
    "\n",
    "Consider disjoint sets $\\{a\\} \\cup \\{a < X < b\\} = \\{a \\leq X < b\\}$. We have from Axiom 3, $P(a < X < b) = P(a \\leq X < b) - P(X = a) = P(a \\leq X < b)$. The other equalities are proven in the same fashion."
   ]
  },
  {
   "cell_type": "markdown",
   "metadata": {},
   "source": [
    "#### Exercise 4\n",
    "\n",
    "(a) \n",
    "$$F(x) = \\int_{-\\infty}^x f_X(x) dx =\n",
    "\\begin{cases}\n",
    "0, &\\text{if } x \\leq 0, \\\\\n",
    "\\frac{x}{4}, &\\text{if } 0 < x < 1, \\\\\n",
    "\\frac14 + \\frac{3(x - 3)}{8}, &\\text{if } 3 < x < 5, \\\\\n",
    "1, &\\text{if } x \\geq 5.\n",
    "\\end{cases}\n",
    "$$\n",
    "\n",
    "(b) Given $Y = \\frac{1}{X}$, we have $P(Y \\leq y) = P\\left(\\frac{1}{x} \\leq y\\right)$.\n",
    "\n",
    "Consider cases:\n",
    "   * $Y < 0$: $P(Y < 0) = P(X < 0) = 0$.\n",
    "   * $Y = 0$: there is no $x$ such that $1/x = 0$, hence $P(Y = 0) = 0$.\n",
    "   * $0 < y \\leq \\frac{1}{5}$: $P(Y \\leq y) = P(Y \\leq 0) + P(0 < Y \\leq y) = P\\left(X \\geq \\frac{1}{y}\\right) = \\int_{1/y}^\\infty f_X(x) dx = 0$.\n",
    "   * $\\frac15 < y \\leq \\frac13$: $P(Y \\leq y) = P\\left(Y \\leq \\frac15\\right) + P\\left(\\frac15 < Y \\leq y\\right) = P\\left(\\frac{1}{y} \\leq X < 5\\right) = \\int_{1/y}^5 f_X(x) dx = \\int_{1/y}^5 \\frac38 dx = \\frac38\\left(5 - \\frac{1}{y}\\right)$.\n",
    "   * $\\frac13 < y \\leq 1$: $P(Y \\leq y) = P\\left(Y \\leq \\frac13\\right) + P\\left(\\frac13 < Y \\leq y\\right) = \\frac34 + \\int_{1/3}^{1/y} f_X(x) dx = \\frac34$.\n",
    "   * $y > 1$: $P(Y \\leq y) = P\\left(Y \\leq 1\\right) + P\\left(1 < Y \\leq y\\right) = \\frac34 + \\int_{1/y}^1 f_X(x) dx = \\frac34 + \\frac14\\left(1 - \\frac{1}{y}\\right)$.\n",
    "\n",
    "Thus, the CDF is:\n",
    "$$F_Y(y) = \\begin{cases}\n",
    "0, &\\text{if } y \\leq \\frac{1}{5}, \\\\\n",
    "\\frac38\\left(5 - \\frac{1}{y}\\right), &\\text{if } \\frac{1}{5} < y \\leq \\frac{1}{3}, \\\\\n",
    "\\frac34, &\\text{if } \\frac{1}{3} < y \\leq 1, \\\\\n",
    "\\frac34 + \\frac14\\left(1 - \\frac{1}{y}\\right), &\\text{if } y > 1.\n",
    "\\end{cases}$$\n",
    "\n",
    "Correspondingly, the PDF is:\n",
    "$$f_Y(y) = \\frac{F_Y(y)}{dy} = \\begin{cases}\n",
    "0, &\\text{if } y \\leq \\frac{1}{5}, \\\\\n",
    "\\frac{3}{8y^2}, &\\text{if } \\frac{1}{5} < y \\leq \\frac{1}{3}, \\\\\n",
    "0, &\\text{if } \\frac{1}{3} < y \\leq 1, \\\\\n",
    "\\frac{1}{4y^2}, &\\text{if } y > 1.\n",
    "\\end{cases}$$\n",
    "\n",
    "Alternatively, we could have used Equation (2.12) to obtain the expression for $f_Y(y)$ from $f_X(x)$ directly."
   ]
  },
  {
   "cell_type": "markdown",
   "metadata": {},
   "source": [
    "#### Exercise 5\n",
    "\n",
    "Suppose $X$ and $Y$ are independent discrete random variables. Then by definition, $P(X \\in A, Y \\in B) = P(X \\in A) P(Y \\in B)$. For any $x$ and $y$, take $A = \\{x\\}, B=\\{y\\}$ so that $P(X = x, Y = y) = P(X = x) P(Y = y)$ and thus $f_{X,Y}(x, y) = f_X(x) f_Y(y)$.\n",
    "\n",
    "Now suppose that for any $x$ and $y$ it holds that $f_{XY}(x, y) = f_X(x) f_Y(y)$. Take any sets $A$ and $B$: we have $\\{X \\in A, Y \\in B\\} = \\{\\omega | X(\\omega) \\in A, Y(\\omega) \\in B\\} = \\{\\omega | X(\\omega) = x, Y(\\omega) = y, x \\in A, y \\in B\\} = \\bigcup_{x \\in A, y \\in B} \\{ \\omega | X(\\omega) = x, Y(\\omega) = y \\}$ and the events $\\{ \\omega | X(\\omega) = x, Y(\\omega) = y \\}$ are disjoint. Therefore by Axiom 3, $P(X \\in A, Y \\in B) = \\sum_{x \\in A, y \\in B} P(X = x, Y = y) = \\sum_{x \\in A, y \\in B} f_{X,Y}(x, y) = \\sum_{x \\in A, y \\in B} f_X(x) f_Y(y) = \\left(\\sum_{x \\in A} f_X(x)\\right) \\left(\\sum_{y \\in B} f_Y(y)\\right) = \\left(\\sum_{x \\in A} P(X=x)\\right) \\left(\\sum_{y \\in B} P(Y=y)\\right) = P\\left(\\bigcup_{x \\in A} {X = x}\\right) P\\left(\\bigcup_{y \\in B} {Y = y}\\right) = P(X \\in A) P(Y \\in B)$."
   ]
  },
  {
   "cell_type": "markdown",
   "metadata": {},
   "source": [
    "#### Exercise 6\n",
    "\n",
    "If $y < 0$, $P(Y \\leq y) = P(I_A(X) < y) = 0$. If $0 \\leq y < 1$, $P(Y \\leq y) = P(I_A(X) \\leq y) = P(I_A(X) = 0) = P(X \\notin A)$. If $y \\geq 1$, $P(Y \\leq y) = P(I_A(X) \\leq y) = 1$.\n",
    "\n",
    "Thus,\n",
    "$$F_Y(y) = \\begin{cases}\n",
    "0, &\\text{if } y < 0, \\\\\n",
    "P(X \\notin A), &\\text{if } 0 \\leq y < 1, \\\\\n",
    "1, &\\text{if } y \\geq 1.\n",
    "\\end{cases}$$"
   ]
  },
  {
   "cell_type": "markdown",
   "metadata": {},
   "source": [
    "#### Exercise 7\n",
    "\n",
    "Given $Z = \\min(X, Y)$, we have $\\{Z \\leq z\\} = \\{\\min(X, Y) \\leq q\\} = \\{X \\leq z \\lor Y \\leq z\\} = \\{X > z, Y > z\\}^c$, therefore $P(Z \\leq z) = 1 - P(Z>z) = 1 - P(X > z, Y > z)$. Since $X$ and $Y$ are independent, $P(X > z, Y > z) = P(X > z) P(Y > z) = (1 - P(X \\leq z))(1 - P(Y \\leq z))$.\n",
    "\n",
    "If $z < 0$, $P(X \\leq z) = P(Y \\leq z) = 0$, hence $P(Z \\leq z) = 0$. \n",
    "\n",
    "If $0 \\leq z < 1$, $=P(X \\leq z) = P(Y \\leq z) = (1-z)$ and $P(Z \\leq z) = 1 - (1 - z)^2$.\n",
    "\n",
    "If $z \\geq 1$, then $P(X \\leq z) = P(Y \\leq z) = 1$ and $P(Z \\leq z) = 1$.\n",
    "\n",
    "The density is then \n",
    "$$\n",
    "f_Z(z) = \\frac{dF_Z(z)}{dz} = \\begin{cases}\n",
    "0, &\\text{if } z < 0, \\\\\n",
    "2(1-z), &\\text{if } 0 \\leq z < 1, \\\\\n",
    "0, &\\text{if } z \\geq 1.\n",
    "\\end{cases}\n",
    "$$."
   ]
  },
  {
   "cell_type": "markdown",
   "metadata": {},
   "source": [
    "#### Exercise 8\n",
    "\n",
    "If $x < 0$, then $\\{X^+ \\leq x\\} = \\{\\max(0, X) \\leq x\\} = \\empty$. If $x \\geq 0$, then $\\{X^+ \\leq x\\} = \\{\\max(0, X) \\leq x\\} = \\{X \\leq x\\}$. Therefore,\n",
    "$$F_{X^+}(x) = \\begin{cases}\n",
    "0, &\\text{if } x < 0, \\\\\n",
    "F_X(x), &\\text{if } x \\geq 0.\n",
    "\\end{cases}$$"
   ]
  },
  {
   "cell_type": "markdown",
   "metadata": {},
   "source": [
    "#### Exercise 9\n",
    "\n",
    "If $X \\sim \\text{Exp}(\\beta)$, then $f(x) = \\frac{1}{\\beta} e^{-\\frac{x}{\\beta}}$ for $x \\geq 0$.\n",
    "\n",
    "Then $F(x) = \\int_0^x f(x) dx = \\int_0^x \\frac{1}{\\beta} e^{-\\frac{x}{\\beta}} dx = 1 - e^{-\\frac{x}{\\beta}}$ and $F^{-1}(q) = -\\beta \\log(1 - q)$.\n",
    "\n"
   ]
  },
  {
   "cell_type": "markdown",
   "metadata": {},
   "source": [
    "#### Exercise 10\n",
    "\n",
    "Since $X$ and $Y$ are independent, we have $P(X \\in A, Y \\in B) = P(X \\in A) P(Y \\in B)$ for any $A$ and $B$.\n",
    "\n",
    "We need to show that for any $C$ and $D$, $P(g(X) \\in C, h(Y) \\in D) = P(g(X) \\in C) P(h(Y) \\in D)$.\n",
    "\n",
    "Take $A = g^{-1}(C)$ and $B = h^{-1}(D)$. Then $P(g(X) \\in C, h(Y) \\in D) = P(X \\in g^{-1}(C), Y \\in h^{-1}(D)) = P(X \\in g^{-1}(C)) P(Y \\in h^{-1}(D)) = P(g(X) \\in C) P(h(Y) \\in D)$."
   ]
  },
  {
   "cell_type": "markdown",
   "metadata": {},
   "source": [
    "#### Exercise 11\n",
    "\n",
    "(a) Note that:\n",
    "   * $P(X = 0) = \\frac12$,\n",
    "   * $P(X=1)=\\frac12$, \n",
    "   * $P(Y=0)=\\frac12$, \n",
    "   * $P(Y=1)=\\frac12$,\n",
    "   * $P(X = 0, Y = 0) = 0$,\n",
    "   * $P(X = 0, Y = 1) = \\frac12$,\n",
    "   * $P(X = 1, Y = 0) = \\frac12$,\n",
    "   * $P(X = 1, Y = 1) = 0$.\n",
    "\n",
    "Clearly, $P(X = 0, Y = 0) = 0 \\neq P(X = 0) P(Y = 0) = \\frac14$, so the $X$ and $Y$ are dependent.\n",
    "\n",
    "(b) Given $N \\sim \\text{Poisson}(\\lambda)$, we have $f_N(n) = e^{-\\lambda} \\frac{\\lambda^n}{n!}$.\n",
    "\n",
    "For a fixed $N$, $X | N \\sim \\text{Binomial}(N, \\frac12)$, so $f_{X|N}(x, n) = {n \\choose x} \\frac{1}{2^n}$.\n",
    "\n",
    "We find the marginal mass function \n",
    "$$\n",
    "\\begin{split}\n",
    "f_X(x) \n",
    "&= \\sum_{n=x}^\\infty f_{X|N}(x, n) f_N(n) \n",
    "= \\sum_{n=x}^\\infty {n \\choose x} \\frac{1}{2^n} e^{-\\lambda} \\frac{\\lambda^n}{n!} \n",
    "= \\sum_{n=x}^\\infty \\frac{n!}{x! (n-x)!} \\frac{1}{2^n} e^{-\\lambda} \\frac{\\lambda^n}{n!} \n",
    "= \\frac{e^{-\\lambda}}{x!} \\sum_{n=x}^\\infty \\frac{1}{(n - x)!} \\left(\\frac{\\lambda}{2}\\right)^n\n",
    "= \\frac{e^{-\\lambda}}{x!} \\left(\\frac{\\lambda}{2}\\right)^x \\sum_{n=0}^\\infty \\frac{1}{n!} \\left(\\frac{\\lambda}{2}\\right)^n \\\\\n",
    "&= \\frac{e^{-\\lambda}}{x!} \\left(\\frac{\\lambda}{2}\\right)^x e^\\frac{\\lambda}{2}\n",
    "= e^{-\\frac{\\lambda}{2}}\\frac{\\left(\\frac{\\lambda}{2}\\right)^x}{x!}.\n",
    "\\end{split}\n",
    "$$\n",
    "\n",
    "We can see that $X \\sim \\text{Poisson}\\left(\\frac{\\lambda}{2}\\right)$. Symmetrically, $f_Y(y) =e^{-\\lambda/2}\\frac{(\\lambda/2)^y}{y!}$.\n",
    "\n",
    "The joint probability mass function \n",
    "$$\n",
    "\\begin{split}\n",
    "P(X = x, Y = y) \n",
    "&= P(X = x, N = x + y)\n",
    "= P(X = x | N = x + y) P(N = x + y) \n",
    "= f_{X|N}(x, x + y) f_N(x + y) \\\\\n",
    "&= {x + y \\choose x} \\frac{1}{2^{x + y}} e^{-\\lambda} \\frac{\\lambda^{x + y}}{(x + y)!}\n",
    "= \\frac{1}{x! y!} e^{-\\lambda} \\left(\\frac{\\lambda}{2}\\right)^{x + y}\n",
    "= f_X(x) f_Y(y) \\\\\n",
    "&= P_X(X=x) P_Y(Y=y).\n",
    "\\end{split}\n",
    "$$\n",
    "\n",
    "Therefore we conclude that $X$ and $Y$ are independent."
   ]
  },
  {
   "cell_type": "markdown",
   "metadata": {},
   "source": [
    "#### Exercise 12\n",
    "\n",
    "Suppose that the range of $X$ is $(a, b)$ and the range of $Y$ is $(c, d)$.\n",
    "\n",
    "Given that $f(x, y) = g(x) h(y)$, we have\n",
    "$$f_Y(y) = \\int_{-\\infty}^{+\\infty} f(x, y) dx = \\int_a^b g(x) h(y) dx = h(y) \\cdot G,$$\n",
    "where $G = \\int_a^b g(x) dx$ does not depend on $y$. Also $G \\neq 0$, otherwise $f_Y(y) = 0$ and $\\int_c^d f_Y(y) dy = 0$, so $f_Y(y)$ would not be not a probability density function. Then\n",
    "$$h(y) = \\frac{f_Y(y)}{G}.$$\n",
    "\n",
    "Similarly, $f_X(x) = g(x) \\cdot H$, where $H = \\int_c^d h(y) dy$ and \n",
    "$$g(x) = \\frac{f_X(x)}{H}.$$\n",
    "\n",
    "Note that $GH = \\int_a^b g(x) dx \\int_c^d h(y) dy = \\int_a^b\\int_c^d g(x) h(y) dx dy = \\int_a^b \\int_c^d f(x, y) dx dy = 1$.\n",
    "\n",
    "Combining the three expressions,\n",
    "$$f(x, y) = \\frac{f_X(x) f_Y(y)}{GH} = f_X(x) f_Y(y)$$\n",
    "and thus $X$ and $Y$ are independent."
   ]
  },
  {
   "cell_type": "markdown",
   "metadata": {},
   "source": [
    "#### Exercise 13\n",
    "\n",
    "(a) Using equation (2.12) with $r=e^x$ and $s=\\log y$:\n",
    "$$f_Y(y) = f_X(\\log y) \\cdot \\frac{1}{y} = \\frac{1}{y\\sqrt{2\\pi}}e^{-\\log^2 y}.$$"
   ]
  },
  {
   "cell_type": "code",
   "execution_count": 4,
   "metadata": {},
   "outputs": [],
   "source": [
    "import numpy as np\n",
    "import matplotlib.pyplot as plt\n",
    "import scipy.stats as stats"
   ]
  },
  {
   "cell_type": "code",
   "execution_count": 2,
   "metadata": {},
   "outputs": [],
   "source": [
    "def fY(y):\n",
    "    return np.exp(-np.log(y) ** 2) / np.sqrt(2 * np.pi) / y"
   ]
  },
  {
   "cell_type": "code",
   "execution_count": 3,
   "metadata": {},
   "outputs": [
    {
     "data": {
      "image/png": "[encoded data removed]",
      "text/plain": [
       "<Figure size 640x480 with 1 Axes>"
      ]
     },
     "metadata": {},
     "output_type": "display_data"
    }
   ],
   "source": [
    "x = np.linspace(0.001, 5, 100)\n",
    "fix, ax = plt.subplots()\n",
    "ax.plot(x, fY(x));"
   ]
  },
  {
   "cell_type": "markdown",
   "metadata": {},
   "source": [
    "(b)"
   ]
  },
  {
   "cell_type": "code",
   "execution_count": 40,
   "metadata": {},
   "outputs": [],
   "source": [
    "rng = np.random.default_rng(12345)"
   ]
  },
  {
   "cell_type": "code",
   "execution_count": 41,
   "metadata": {},
   "outputs": [],
   "source": [
    "n = 10000\n",
    "x = stats.norm.rvs(size=n, random_state=rng)"
   ]
  },
  {
   "cell_type": "code",
   "execution_count": 42,
   "metadata": {},
   "outputs": [
    {
     "data": {
      "image/png": "[encoded data removed]",
      "text/plain": [
       "<Figure size 640x480 with 1 Axes>"
      ]
     },
     "metadata": {},
     "output_type": "display_data"
    }
   ],
   "source": [
    "fig, ax = plt.subplots()\n",
    "_, bins, _ = ax.hist(np.exp(x), density=True, alpha=0.4, bins=100, label='Sample histogram');\n",
    "mids = (bins[:-1] + bins[1:]) / 2\n",
    "ax.plot(mids, fY(mids), label='Theoretical PDF');\n",
    "ax.legend();"
   ]
  },
  {
   "cell_type": "markdown",
   "metadata": {},
   "source": [
    "#### Exercise 14\n",
    "\n",
    "The PDF of the uniform distribution on a unit disk is $f(x, y) = f(r, \\varphi) = \\frac{1}{\\pi}$.\n",
    "\n",
    "The CDF of $R = \\sqrt{X^2 + Y^2}$ is $F(r) = P(R \\leq r) = P(X^2 + Y^2 \\leq r^2) = \\int_0^r 2\\pi r f(r, \\varphi) dr = r^2$ and the PDF is correspondingly $f(r) = 2r$."
   ]
  },
  {
   "cell_type": "markdown",
   "metadata": {},
   "source": [
    "#### Exercise 15\n",
    "\n",
    "Given $F$ is a continuous strictly increasing CDF, it has an inverse $F^{-1}$, which is also continuous and strictly increasing.\n",
    "\n",
    "Let $Y = F(X)$, then the CDF of $Y$ is $F(y) = P(Y \\leq y) = P(F(X) \\leq y) = P(X \\leq F^{-1}(Y)) = F(F^{-1}(y)) = y$ and the PDF is $f(y) = \\frac{dF(y)}{dy} = 1$, i.e. $Y \\sim \\text{Uniform}(0, 1)$.\n",
    "\n",
    "Let $U \\sim \\text{Uniform}(0, 1)$ and $X = F^{-1}(U)$. The CDF of $X$ is $F(x) = P(X \\leq x) = P(F^{-1}(U) \\leq x) = P(U \\leq F(x)) = F(x)$.\n",
    "\n",
    "From the results of Exercise 9, the CDF of $\\text{Exp}(\\beta)$ is $F(x) = 1 - e^{-x/\\beta}$ and $F^{-1}(y) = -\\beta \\log(1-y)$, therefore $F^{-1}(U) = -\\beta \\log(1 - U) \\sim \\text{Exp}(\\beta)$."
   ]
  },
  {
   "cell_type": "markdown",
   "metadata": {},
   "source": [
    "#### Exercise 16\n",
    "\n",
    "By definition, $P(X = x | X + Y = n) = \\frac{P(X = x, X + Y = n)}{P(X + Y = n)}$.\n",
    "\n",
    "Now since $X$ and $Y$ are independent, $P(X = x, X + Y = n) = P(X = x, Y = n-x) = P(X = x) P(Y=n-x) = e^{-\\lambda-\\mu} \\frac{\\lambda^x \\mu^{n-x}}{x! (n-x)!}$.\n",
    "\n",
    "Furthermore,\n",
    "$$P(X + Y = n) \n",
    "= \\sum_{x=0}^n P(X = x, X + Y = n) \n",
    "= \\sum_{x=0}^n e^{-\\lambda-\\mu} \\frac{\\lambda^x \\mu^{n-x}}{x! (n-x)!} \n",
    "= \\frac{e^{-\\lambda-\\mu}}{n!} \\sum_{x=0}^n \\frac{n!}{x! (n-x)!} \\lambda^x \\mu^{n-x}\n",
    "= \\frac{e^{-\\lambda-\\mu}}{n!} (\\lambda + \\mu)^n.$$\n",
    "\n",
    "Then \n",
    "$$\n",
    "P(X = x | X + Y = n) \n",
    "= \\frac{e^{-\\lambda-\\mu} \\frac{\\lambda^x \\mu^{n-x}}{x! (n-x)!}}{\\frac{e^{-\\lambda-\\mu}}{n!} (\\lambda + \\mu)^n}\n",
    "= \\frac{n!}{x! (n-x)!} \\frac{\\lambda^x \\mu^{n-x}}{(\\lambda + \\mu)^n}\n",
    "= {n \\choose x} \\left(\\frac{\\lambda}{\\lambda + \\mu}\\right)^x \\left(\\frac{\\mu}{\\lambda + \\mu}\\right)^{n-x}\n",
    "= {n \\choose x} \\left(\\frac{\\lambda}{\\lambda + \\mu}\\right)^x \\left(1 - \\frac{\\lambda}{\\lambda + \\mu}\\right)^{n-x}\n",
    "= {n \\choose x} \\pi^x (1 - \\pi)^{n-x},\n",
    "$$\n",
    "where $\\pi = \\lambda / (\\lambda + \\mu)$, and therefore $X$ given that $X + Y=n$ is indeed $\\text{Binomial}(n, \\pi)$."
   ]
  },
  {
   "cell_type": "markdown",
   "metadata": {},
   "source": [
    "#### Exercise 17\n",
    "\n",
    "First, we find $c$. Since $1 = \\int\\int_{-\\infty}^{+\\infty} f(x,y) dx dy = c \\int_0^1 dx \\int_0^1 (x + y^2) dy = c \\int_0^1 \\left(x + \\frac13\\right) dx = \\frac56 c$, we have $c = \\frac65$.\n",
    "\n",
    "Now $f_Y(y) = \\int_{-\\infty}^{+\\infty} f(x,y) dx = \\frac65 \\int_0^1 (x + y^2) dx = \\frac65 \\left(\\frac12 + y^2\\right)$.\n",
    "\n",
    "Then $$f_{X|Y}(x|y) = \\frac{f(x, y)}{f_Y(y)} = \\frac{x + y^2}{\\frac12 + y^2}$$\n",
    "and\n",
    "$$P(X < \\frac12 | Y = \\frac12) = \\int_0^{1/2} f_{X|Y}(x|y) dx = \\int_0^1 \\frac{x + \\frac14}{\\frac12 + \\frac14} dx = \\frac13.$$"
   ]
  },
  {
   "cell_type": "markdown",
   "metadata": {},
   "source": [
    "#### Exercise 18"
   ]
  },
  {
   "cell_type": "code",
   "execution_count": 55,
   "metadata": {},
   "outputs": [],
   "source": [
    "import numpy as np\n",
    "import scipy.stats as stats\n",
    "from scipy.optimize import brentq"
   ]
  },
  {
   "cell_type": "markdown",
   "metadata": {},
   "source": [
    "Given $X \\sim N(3, 16)$, we have:\n",
    "\n",
    "(a) $P(X < 7) = \\Phi(1)$:"
   ]
  },
  {
   "cell_type": "code",
   "execution_count": 47,
   "metadata": {},
   "outputs": [
    {
     "data": {
      "text/plain": [
       "0.8413447460685429"
      ]
     },
     "execution_count": 47,
     "metadata": {},
     "output_type": "execute_result"
    }
   ],
   "source": [
    "stats.norm.cdf(1)"
   ]
  },
  {
   "cell_type": "markdown",
   "metadata": {},
   "source": [
    "(b) $P(X > -2) = 1 - P(X \\leq -2) = 1 - \\Phi(-\\frac54)$:"
   ]
  },
  {
   "cell_type": "code",
   "execution_count": 49,
   "metadata": {},
   "outputs": [
    {
     "data": {
      "text/plain": [
       "0.8943502263331446"
      ]
     },
     "execution_count": 49,
     "metadata": {},
     "output_type": "execute_result"
    }
   ],
   "source": [
    "1 - stats.norm.cdf(-5/4)"
   ]
  },
  {
   "cell_type": "markdown",
   "metadata": {},
   "source": [
    "(c) $P(X > x) = 0.05$ is equivalent to $P(X \\leq x) = 0.95$ or $x = F^{-1}(0.95) = 4 \\Phi^{-1}(0.95) + 3$:"
   ]
  },
  {
   "cell_type": "code",
   "execution_count": 50,
   "metadata": {},
   "outputs": [
    {
     "data": {
      "text/plain": [
       "9.57941450780589"
      ]
     },
     "execution_count": 50,
     "metadata": {},
     "output_type": "execute_result"
    }
   ],
   "source": [
    "4 * stats.norm.ppf(0.95) + 3"
   ]
  },
  {
   "cell_type": "markdown",
   "metadata": {},
   "source": [
    "(d) $P(0 \\leq X < 4) = \\Phi(\\frac14) - \\Phi(-\\frac34)$:"
   ]
  },
  {
   "cell_type": "code",
   "execution_count": 51,
   "metadata": {},
   "outputs": [
    {
     "data": {
      "text/plain": [
       "0.3720789733060555"
      ]
     },
     "execution_count": 51,
     "metadata": {},
     "output_type": "execute_result"
    }
   ],
   "source": [
    "stats.norm.cdf(1/4) - stats.norm.cdf(-3/4)"
   ]
  },
  {
   "cell_type": "markdown",
   "metadata": {},
   "source": [
    "(e) $P(|X| > |x|) = 0.05$ is equivalent to $P(-|x| \\leq X \\leq |x|) = 0.95$, where also $P(-|x| \\leq X \\leq |x|) = P(X \\leq |x|) - P(X < -|x|) = F(|x|) - F(-|x|) = \\Phi(\\frac{|x| - \\mu}{\\sigma}) - \\Phi(\\frac{-|x| - \\mu}{\\sigma})$. We solve this equation numerically."
   ]
  },
  {
   "cell_type": "code",
   "execution_count": 56,
   "metadata": {},
   "outputs": [],
   "source": [
    "def obj(x, mu, sigma, alpha):\n",
    "    return stats.norm.cdf((np.abs(x) - mu) / sigma) - stats.norm.cdf((-np.abs(x) - mu) / sigma) - (1 - alpha)"
   ]
  },
  {
   "cell_type": "code",
   "execution_count": 59,
   "metadata": {},
   "outputs": [
    {
     "data": {
      "text/plain": [
       "9.61098386627788"
      ]
     },
     "execution_count": 59,
     "metadata": {},
     "output_type": "execute_result"
    }
   ],
   "source": [
    "x = brentq(obj, 1, 20, args=(3, 4, 0.05))\n",
    "x"
   ]
  },
  {
   "cell_type": "markdown",
   "metadata": {},
   "source": [
    "Now we verify the solution:"
   ]
  },
  {
   "cell_type": "code",
   "execution_count": 60,
   "metadata": {},
   "outputs": [
    {
     "data": {
      "text/plain": [
       "0.9500000000000001"
      ]
     },
     "execution_count": 60,
     "metadata": {},
     "output_type": "execute_result"
    }
   ],
   "source": [
    "stats.norm.cdf((np.abs(x) - 3) / 4) - stats.norm.cdf((-np.abs(x) - 3) / 4)"
   ]
  },
  {
   "cell_type": "markdown",
   "metadata": {},
   "source": [
    "#### Exercise 19\n",
    "\n",
    "Suppose $r$ is strictly monotone.\n",
    "\n",
    "If $r$ is increasing, then $F_Y(y) = P(r(X) \\leq y) = P(X \\leq s(y)) = F_X(s(y))$. Then $f_Y(y) = \\frac{dF_Y(y)}{dy} = f_X(s(y)) \\frac{ds(y)}{dy}$, where $\\frac{ds(y)}{dy} > 0$.\n",
    "\n",
    "If $r$ is decreasing, then $F_Y(y) = P(r(X) \\leq y) = P(X \\geq s(y)) = 1 - P(X < s(y)) = 1 - F_X(s(y))$. Then $f_Y(y) = \\frac{dF_Y(y)}{dy} = -f_X(s(y)) \\frac{ds(y)}{dy}$, where $\\frac{ds(y)}{dy} < 0$.\n",
    "\n",
    "Combining the two cases, we see that $f_Y(y) = f_X(s(y)) \\left|\\frac{ds(y)}{dy}\\right|$."
   ]
  },
  {
   "cell_type": "markdown",
   "metadata": {},
   "source": [
    "#### Exercise 20\n",
    "\n",
    "If $Z = X - Y$, then $Z$ takes values between -1 and 1, and $X + Y \\leq z$ is equivalent to $X \\leq Y + z$.\n",
    "\n",
    "If $z < 0$, then the area covered by $X - Y \\leq z$ is $\\frac12(1 + z)^2$, hence $P(X - Y \\leq z) = \\frac12(1 + z)^2$.\n",
    "\n",
    "![Figure 1](ex20-2.svg)\n",
    "\n",
    "If $z \\geq 0$, then the area covered by $X - Y \\leq z$ is $1 - \\frac12(1 - z)^2$, hence $P(X - Y \\leq z) = 1 - \\frac12(1 - z)^2$.\n",
    "\n",
    "![Figure 1](ex20-1.svg)\n",
    "\n",
    "Therefore, the CDF of $Z$ is\n",
    "$$F_Z(z)=\\begin{cases}\n",
    "0, &\\text{if } z < -1, \\\\\n",
    "\\frac12(1 + z)^2, &\\text{if } -1 \\leq z < 0, \\\\\n",
    "1 - \\frac12(1 - z)^2, &\\text{if } 0 \\leq z < 1, \\\\\n",
    "1, &\\text{if } 1 \\leq z\n",
    "\\end{cases}$$\n",
    "\n",
    "and the PDF is\n",
    "$$f_Z(z)=\\begin{cases}\n",
    "0, &\\text{if } z < -1, \\\\\n",
    "1 + z, &\\text{if } -1 \\leq z < 0, \\\\\n",
    "1 - z, &\\text{if } 0 \\leq z < 1, \\\\\n",
    "0, &\\text{if } 1 \\leq z.\n",
    "\\end{cases}$$"
   ]
  },
  {
   "cell_type": "markdown",
   "metadata": {},
   "source": [
    "If $Z = X / Y$, then $Z$ takes values between 0 and $+\\infty$, and $X / Y \\leq z$ is equivalent to $X \\leq zY$.\n",
    "\n",
    "If $z < 1$, then the area covered by $X / Y \\leq z$ is $\\frac{z}{2}$, hence $P(X / Y \\leq z) = \\frac{z}{2}$.\n",
    "\n",
    "![Figure 1](ex20-3.svg)\n",
    "\n",
    "If $z \\geq 1$, then the area covered by $X / Y \\leq z$ is $1 - \\frac{1}{2z}$, hence $P(X / Y \\leq z) = 1 - \\frac{1}{2z}$.\n",
    "\n",
    "![Figure 1](ex20-4.svg)\n",
    "\n",
    "Therefore, the CDF of $Z$ is\n",
    "$$F_Z(z)=\\begin{cases}\n",
    "0, &\\text{if } z < 0, \\\\\n",
    "\\frac{z}{2}, &\\text{if } 0 \\leq z < 1, \\\\\n",
    "1 - \\frac{1}{2z}, &\\text{if } 1 \\leq z\n",
    "\\end{cases}$$\n",
    "\n",
    "and the PDF is\n",
    "$$f_Z(z)=\\begin{cases}\n",
    "0, &\\text{if } z < 0, \\\\\n",
    "\\frac12, &\\text{if } 0 \\leq z < 1, \\\\\n",
    "\\frac{1}{2z^2}, &\\text{if } 1 \\leq z.\n",
    "\\end{cases}$$\n"
   ]
  },
  {
   "cell_type": "markdown",
   "metadata": {},
   "source": [
    "#### Exercise 21\n",
    "\n",
    "Fiven that $X_1, \\dots, X_n \\sim \\text{Exp}(\\beta)$ are IID, we have \n",
    "$$F_Y(y) = P(Y \\leq y) = P(\\max(X_1, \\dots, X_n) \\leq y) = P(X_1 \\leq y, \\dots, X_n \\leq y) = P(X_1 \\leq y) \\dots P(X_n \\leq y) = \\left(1 - e^{-\\frac{y}{\\beta}}\\right)^n$$\n",
    "and\n",
    "$$f_Y(y) = \\frac{n}{\\beta} \\left(1 - e^{-\\frac{y}{\\beta}}\\right)^{n-1} e^{-\\frac{y}{\\beta}}.$$"
   ]
  }
 ],
 "metadata": {
  "kernelspec": {
   "display_name": ".venv",
   "language": "python",
   "name": "python3"
  },
  "language_info": {
   "codemirror_mode": {
    "name": "ipython",
    "version": 3
   },
   "file_extension": ".py",
   "mimetype": "text/x-python",
   "name": "python",
   "nbconvert_exporter": "python",
   "pygments_lexer": "ipython3",
   "version": "3.11.3"
  },
  "orig_nbformat": 4
 },
 "nbformat": 4,
 "nbformat_minor": 2
}
