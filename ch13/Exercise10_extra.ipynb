{
 "cells": [
  {
   "cell_type": "markdown",
   "id": "524f9177-488e-4d0f-aa4a-f8e7a97a6237",
   "metadata": {},
   "source": [
    "We check that\n",
    "$$\\frac{\\sum_{i=1}^n (x_i - x_*)^2}{n \\sum_{i=1}^n (x_i - \\overline{x}_n)^2}$$\n",
    "is bounded.\n",
    "\n",
    "First, note that\n",
    "$$\\sum_{i=1}^n (x_i - x_*)^2\n",
    "= \\sum_{i=1}^n (x_i - \\overline{x}_n + \\overline{x}_n - x_* )^2\n",
    "= \\sum_{i=1}^n (x_i - \\overline{x}_n)^2 - 2 (\\overline{x}_n - x_* ) \\sum_{i=1}^n (x_i - \\overline{x}_n) + n (\\overline{x}_n - x_*)^2\n",
    "= \\sum_{i=1}^n (x_i - \\overline{x}_n)^2 + (\\overline{x}_n - x_*)^2,\n",
    "$$\n",
    "thus\n",
    "$$\\frac{\\sum_{i=1}^n (x_i - x_*)^2}{n \\sum_{i=1}^n (x_i - \\overline{x}_n)^2} \n",
    "= \\frac{\\sum_{i=1}^n (x_i - \\overline{x}_n)^2 + n (\\overline{x}_n - x_*)^2}{n \\sum_{i=1}^n (x_i - \\overline{x}_n)^2}\n",
    "= \\frac{1}{n} + \\frac{(\\overline{x}_n - x_*)^2}{\\sum_{i=1}^n (x_i - \\overline{x}_n)^2}.$$\n",
    "\n",
    "The first term tends to 0 as $n \\to \\infty$, so we only need to check the second term."
   ]
  },
  {
   "cell_type": "markdown",
   "id": "24d24a46-7fa4-4bba-8088-a5287e325e69",
   "metadata": {},
   "source": [
    "We show that $\\sum_{i=1}^n (x_i - \\overline{x}_n)^2$ is a non-decreasing function of $n$ by checking the difference between consecutive terms:\n",
    "$$\\begin{split}\n",
    "\\sum_{i=1}^{n+1} (x_i - \\overline{x}_{n+1})^2 - \\sum_{i=1}^{n} (x_i - \\overline{x}_{n})^2\n",
    "&= \\sum_{i=1}^{n+1} x_i^2 - (n + 1) \\overline{x}_{n+1}^2 - \\sum_{i=1}^{n} x_i^2 + n \\overline{x}_n^2 \\\\\n",
    "&= \\sum_{i=1}^{n} x_i^2 + x_{n+1}^2 - (n + 1) \\overline{x}_{n+1}^2 - \\sum_{i=1}^{n} x_i^2 + n \\overline{x}_n^2 \\\\\n",
    "&= x_{n+1}^2 - (n + 1) \\overline{x}_{n+1}^2 + n \\overline{x}_n^2 \\\\\n",
    "&= x_{n+1}^2 - \\frac{1}{n + 1} \\left(\\sum_{i=1}^{n+1} x_i\\right)^2 + \\frac{1}{n} \\left( \\sum_{i=1}^n x_i \\right)^2 \\\\\n",
    "&= x_{n+1}^2 - \\frac{1}{n + 1} \\left(\\sum_{i=1}^{n} x_i + x_{n+1}\\right)^2 + \\frac{1}{n} \\left( \\sum_{i=1}^n x_i \\right)^2 \\\\\n",
    "&= x_{n+1}^2 - \\frac{1}{n + 1} \\left(\\sum_{i=1}^{n} x_i \\right)^2 - \\frac{2}{n+1} x_{n+1} \\sum_{i=1}^{n} x_i - \\frac{1}{n+1} x_{n+1}^2 + \\frac{1}{n} \\left( \\sum_{i=1}^n x_i \\right)^2 \\\\\n",
    "&= \\frac{n}{n+1} x_{n+1}^2 - \\frac{2}{n+1} x_{n+1} \\sum_{i=1}^{n} x_i + \\frac{1}{n(n+1)} \\left( \\sum_{i=1}^n x_i \\right)^2 \\\\\n",
    "&= \\frac{n}{n+1} \\left( x_{n+1}^2 - 2 x_{n+1}\\overline{x}_n + \\overline{x}_n^2 \\right) \\\\\n",
    "&= \\frac{n}{n+1} \\left( x_{n+1} - \\overline{x}_n \\right)^2 \\\\\n",
    "&\\geq 0.\n",
    "\\end{split}$$"
   ]
  },
  {
   "cell_type": "markdown",
   "id": "6e7e464c-c107-4301-afad-9e9d35a307ab",
   "metadata": {},
   "source": [
    "As a non-decreasing function, if $\\sum_{i=1}^n (x_i - \\overline{x}_n)^2$ is bounded, it has a limit, so it is Cauchy and thus for any $\\varepsilon$ there is $N$ such that for all $n \\geq N$:\n",
    "$$\\frac{n}{n+1} \\left( x_{n+1} - \\overline{x}_n \\right)^2 \\leq \\varepsilon,$$\n",
    "i.e.\n",
    "$$| x_{n+1} - \\overline{x}_n | \\leq \\sqrt{\\frac{n+1}{n}\\varepsilon}.$$\n",
    "\n",
    "But\n",
    "$$x_{n+1} - \\overline{x}_n = (n+1) (\\overline{x}_{n+1} - \\overline{x}_n),$$\n",
    "so\n",
    "$$|\\overline{x}_{n+1} - \\overline{x}_n| = \\frac{1}{n+1} | x_{n+1} - \\overline{x}_n | \\leq \\sqrt{\\frac{\\varepsilon}{n(n+1)}},$$\n",
    "which implied that $\\overline{x}_n$ is Cauchy and therefore converges.\n",
    "\n",
    "In this case, both the numerator and the denominator in\n",
    "$$\\frac{(\\overline{x}_n - x_*)^2}{\\sum_{i=1}^n (x_i - \\overline{x}_n)^2}$$\n",
    "have limits and the limit of the denominator is not zero unless all $x_i$ are the same, so the ratio has a limit as well."
   ]
  },
  {
   "cell_type": "markdown",
   "id": "b96ad6bc-d527-4108-844c-f42d56255e25",
   "metadata": {},
   "source": [
    "If the sum $\\sum_{i=1}^n (x_i - \\overline{x}_n)^2$ is unbounded, but $\\overline{x}_n$ is bounded, then\n",
    "$$\\frac{(\\overline{x}_n - x_*)^2}{\\sum_{i=1}^n (x_i - \\overline{x}_n)^2} \\to 0,$$\n",
    "as the numerator is bounded, but the denominator can be made arbitrarily large."
   ]
  },
  {
   "cell_type": "markdown",
   "id": "cb77cb00-aeaf-41f6-a27b-3aa6d2ce4fd0",
   "metadata": {},
   "source": [
    "Suppose $\\overline{x}_n$ is unbounded. Then for any $k \\leq n$ we have\n",
    "$$\\frac{(\\overline{x}_n - x_*)^2}{\\sum_{i=1}^n (x_i - \\overline{x}_n)^2} \n",
    "\\leq \\frac{(\\overline{x}_n - x_*)^2}{\\sum_{i=1}^k (x_i - \\overline{x}_n)^2}\n",
    "= \\frac{\\left(1 - \\frac{x_*}{\\overline{x}_n}\\right)^2}{\\sum_{i=1}^k \\left(1 - \\frac{x_i}{\\overline{x}_n}\\right)^2}.$$\n",
    "\n",
    "Since $\\overline{x}_n$ is unbounded, for any $C > 0$, we can find $n$ such that $|\\overline{x}_n| > C$. In particular, for some fixed $l > 1$, let $C = l \\max\\{|x_*|, |x_1|, \\dots, |x_k|\\}$. Then we can find $n_C$ such that for all $n \\geq n_C$:\n",
    "$$\\left(1 - \\frac{x_*}{\\overline{x}_n}\\right)^2 \\leq \\left(1 + \\frac{1}{l}\\right)^2$$\n",
    "and for all $i \\leq k$\n",
    "$$\\left(1 - \\frac{x_i}{\\overline{x}_n}\\right)^2 \\geq \\left(1 - \\frac{1}{l}\\right)^2,$$\n",
    "so\n",
    "$$\\frac{\\left(1 - \\frac{x_*}{\\overline{x}_n}\\right)^2}{\\sum_{i=1}^k \\left(1 - \\frac{x_i}{\\overline{x}_n}\\right)^2}\n",
    "\\leq \\frac{\\left(1 + \\frac{1}{l}\\right)^2}{k \\left(1 - \\frac{1}{l}\\right)^2}.$$\n",
    "\n",
    "Then for any $\\varepsilon > 0$, we can find\n",
    "$$k = \\left\\lceil \\frac{1}{\\varepsilon} \\frac{\\left(1 + \\frac{1}{l}\\right)^2}{\\left(1 - \\frac{1}{l}\\right)^2} \\right\\rceil$$\n",
    "so that for any $n \\geq n_C$,\n",
    "$$\\frac{(\\overline{x}_n - x_*)^2}{\\sum_{i=1}^n (x_i - \\overline{x}_n)^2} \\leq \\frac{\\left(1 + \\frac{1}{l}\\right)^2}{k \\left(1 - \\frac{1}{l}\\right)^2} \\leq \\varepsilon,$$\n",
    "so by definition\n",
    "$$\\frac{(\\overline{x}_n - x_*)^2}{\\sum_{i=1}^n (x_i - \\overline{x}_n)^2} \\to 0.$$"
   ]
  }
 ],
 "metadata": {
  "kernelspec": {
   "display_name": "Python 3 (ipykernel)",
   "language": "python",
   "name": "python3"
  },
  "language_info": {
   "codemirror_mode": {
    "name": "ipython",
    "version": 3
   },
   "file_extension": ".py",
   "mimetype": "text/x-python",
   "name": "python",
   "nbconvert_exporter": "python",
   "pygments_lexer": "ipython3",
   "version": "3.12.6"
  }
 },
 "nbformat": 4,
 "nbformat_minor": 5
}
