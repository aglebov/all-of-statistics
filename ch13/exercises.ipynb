{
 "cells": [
  {
   "cell_type": "markdown",
   "id": "edf88691-87ad-4e26-a4d9-621ab4025e54",
   "metadata": {},
   "source": [
    "## Exercise 1\n",
    "\n",
    "The proof is in a separate notebook."
   ]
  },
  {
   "cell_type": "markdown",
   "id": "bea62911-5045-4cd7-962c-d0813a4373ba",
   "metadata": {},
   "source": [
    "## Exercise 2\n",
    "\n",
    "The proof is in a separate notebook."
   ]
  }
 ],
 "metadata": {
  "kernelspec": {
   "display_name": "Python 3 (ipykernel)",
   "language": "python",
   "name": "python3"
  },
  "language_info": {
   "codemirror_mode": {
    "name": "ipython",
    "version": 3
   },
   "file_extension": ".py",
   "mimetype": "text/x-python",
   "name": "python",
   "nbconvert_exporter": "python",
   "pygments_lexer": "ipython3",
   "version": "3.12.6"
  }
 },
 "nbformat": 4,
 "nbformat_minor": 5
}
