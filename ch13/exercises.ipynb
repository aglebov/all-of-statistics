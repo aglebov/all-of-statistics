{
 "cells": [
  {
   "cell_type": "markdown",
   "id": "edf88691-87ad-4e26-a4d9-621ab4025e54",
   "metadata": {},
   "source": [
    "## Exercise 1\n",
    "\n",
    "We have\n",
    "$$\\mathbb{E}[\\hat{\\epsilon}_i^2] = \\mathbb{V}[\\hat{\\epsilon}_i] + \\mathbb{E}[\\hat{\\epsilon}_i]^2,$$\n",
    "where using Theorem 13.8\n",
    "$$\\mathbb{E}[\\hat{\\epsilon}_i] = \\mathbb{E}[Y_i - \\hat{\\beta_0} - \\hat{\\beta}_1 X_i] = \\beta_0 + \\beta_1 X_i - \\beta_0 - \\beta_1 X_i = 0.$$\n",
    "\n",
    "Then\n",
    "$$\\mathbb{V}[\\hat{\\epsilon}_i] \n",
    "= \\mathbb{V}[Y_i - \\hat{\\beta}_0 - \\hat{\\beta}_1 X_i] \n",
    "= \\mathbb{V}[Y_i] + \\mathbb{V}[\\hat{\\beta}_0] + X_i^2 \\mathbb{V}[\\hat{\\beta}_1] - 2 \\text{Cov}[Y_i, \\hat{\\beta}_0] - 2 X_i \\text{Cov}[Y_i, \\hat{\\beta}_1] + 2 X_i \\text{Cov}[\\hat{\\beta}_0, \\hat{\\beta}_1].$$\n",
    "Now,\n",
    "$$\\begin{split}\n",
    "\\mathbb{V}[Y_i] &= \\sigma^2 \\\\\n",
    "\\mathbb{V}[\\hat{\\beta}_0] &= \\sigma^2 \\frac{\\sum_{i=1}^n X_i^2}{n \\sum_{i=1}^n (X_i - \\overline{X}_n)^2} \\\\\n",
    "\\mathbb{V}[\\hat{\\beta}_1] &= \\sigma^2 \\frac{1}{\\sum_{i=1}^n (X_i - \\overline{X}_n)^2} \\\\\n",
    "\\text{Cov}[Y_i, \\hat{\\beta}_1] &= \\text{Cov}\\left[Y_i, \\sum_{j=1}^n \\frac{X_j - \\overline{X}_n}{\\sum_{k=1}^n (X_k - \\overline{X}_n)^2} Y_j \\right] \n",
    "    = \\sum_{j=1}^n \\frac{X_j - \\overline{X}_n}{\\sum_{k=1}^n (X_k - \\overline{X}_n)^2} \\text{Cov}[Y_i, Y_j]\n",
    "    = \\sigma^2 \\frac{X_i - \\overline{X}_n}{\\sum_{k=1}^n (X_k - \\overline{X}_n)^2} \\\\\n",
    "\\text{Cov}[Y_i, \\hat{\\beta}_0] &= \\text{Cov}[Y_i, \\overline{Y}_n - \\hat{\\beta}_1 \\overline{X}_n] \n",
    "    = \\text{Cov}[Y_i, \\overline{Y}_n] - \\overline{X}_n \\text{Cov}[Y_i, \\hat{\\beta}_1]\n",
    "    = \\frac{\\sigma^2}{n} - \\overline{X}_n \\sigma^2 \\frac{X_i - \\overline{X}_n}{\\sum_{k=1}^n (X_k - \\overline{X}_n)^2}. \\\\\n",
    "\\text{Cov}[\\hat{\\beta}_0, \\hat{\\beta}_1] &= \\text{Cov}[\\overline{Y}_n - \\hat{\\beta}_1 \\overline{X}_n, \\hat{\\beta}_1]\n",
    "    = \\text{Cov}[\\overline{Y}_n, \\hat{\\beta}_1] - \\overline{X}_n \\text{Cov}[\\hat{\\beta}_1, \\hat{\\beta}_1] \n",
    "    = - \\sigma^2 \\frac{\\overline{X}_n}{\\sum_{i=1}^n (X_i - \\overline{X}_n)^2}\\\\\n",
    "\\end{split}$$\n",
    "where we used the fact that\n",
    "$$\\text{Cov}[\\overline{Y}_n, \\hat{\\beta}_1] = 0$$\n",
    "from the proof of Theorem 13.8.\n",
    "\n",
    "Thus,\n",
    "$$\\begin{split}\n",
    "\\mathbb{E}\\left[\\sum_{i=1}^n \\hat{\\epsilon}_i^2 \\right] \n",
    "&= \\sum_{i=1}^n \\mathbb{E}[\\hat{\\epsilon}_i^2] \\\\\n",
    "&= \\sum_{i=1}^n \\mathbb{V}[\\hat{\\epsilon}_i^2] \\\\\n",
    "&= \\sigma^2 \\sum_{i=1}^n \\left[\n",
    "   1 + \n",
    "   \\frac{\\sum_{j=1}^n X_j^2}{n \\sum_{k=1}^n (X_k - \\overline{X}_n)^2} + \n",
    "   \\frac{X_i^2}{\\sum_{k=1}^n (X_k - \\overline{X}_n)^2} - \n",
    "   \\frac{2}{n} + 2 \\overline{X}_n \\frac{X_i - \\overline{X}_n}{\\sum_{k=1}^n (X_k - \\overline{X}_n)^2} - \n",
    "   2 X_i \\frac{X_i - \\overline{X}_n}{\\sum_{k=1}^n (X_k - \\overline{X}_n)^2} - \n",
    "   2 \\frac{X_i \\overline{X}_n}{\\sum_{k=1}^n (X_k - \\overline{X}_n)^2} \\right] \\\\\n",
    "&= \\frac{\\sigma^2}{\\sum_{k=1}^n (X_k - \\overline{X}_n)^2}  \\sum_{i=1}^n \\left[ \\frac{n-2}{n} \\sum_{j=1}^n (X_j - \\overline{X}_n)^2 + \\frac{1}{n} \\sum_{j=1}^n X_j^2 + X_i^2 - 2 \\overline{X}_n (X_i - \\overline{X}_n) - 2 X_i (X_i - \\overline{X}_n) - 2X_i \\overline{X}_n \\right] \\\\\n",
    "&= \\frac{\\sigma^2}{\\sum_{k=1}^n (X_k - \\overline{X}_n)^2}  \\sum_{i=1}^n \\left[ \\frac{n-2}{n} \\sum_{j=1}^n (X_j - \\overline{X}_n)^2 + \\frac{1}{n} \\sum_{j=1}^n X_j^2 + X_i^2 - 2 \\overline{X}_n (X_i - \\overline{X}_n) - 2 X_i^2 + 2 X_i \\overline{X}_n - 2X_i \\overline{X}_n \\right] \\\\\n",
    "&= \\frac{\\sigma^2}{\\sum_{k=1}^n (X_k - \\overline{X}_n)^2}  \\sum_{i=1}^n \\left[ \\frac{n-2}{n} \\sum_{j=1}^n (X_j - \\overline{X}_n)^2 + \\frac{1}{n} \\sum_{j=1}^n X_j^2 - X_i^2 - 2 \\overline{X}_n (X_i - \\overline{X}_n) \\right] \\\\\n",
    "&= \\frac{\\sigma^2}{\\sum_{k=1}^n (X_k - \\overline{X}_n)^2}  \\left[ (n - 2) \\sum_{j=1}^n (X_j - \\overline{X}_n)^2 + \\sum_{j=1}^n X_j^2 - \\sum_{j=1}^n X_j^2 \\right] \\\\\n",
    "&= \\frac{(n - 2)\\sigma^2}{\\sum_{k=1}^n (X_k - \\overline{X}_n)^2}  \\sum_{j=1}^n (X_j - \\overline{X}_n)^2 \\\\\n",
    "&= (n - 2) \\sigma^2\n",
    "\\end{split}$$\n",
    "and\n",
    "$$\\mathbb{E}[\\hat{\\sigma}^2] = \\frac{1}{n} \\mathbb{E}\\left[\\sum_{i=1}^n \\hat{\\epsilon}_i^2 \\right] = \\sigma^2$$\n",
    "and the estimator $\\hat{\\sigma}^2$ is unbiased."
   ]
  }
 ],
 "metadata": {
  "kernelspec": {
   "display_name": "Python 3 (ipykernel)",
   "language": "python",
   "name": "python3"
  },
  "language_info": {
   "codemirror_mode": {
    "name": "ipython",
    "version": 3
   },
   "file_extension": ".py",
   "mimetype": "text/x-python",
   "name": "python",
   "nbconvert_exporter": "python",
   "pygments_lexer": "ipython3",
   "version": "3.12.6"
  }
 },
 "nbformat": 4,
 "nbformat_minor": 5
}
