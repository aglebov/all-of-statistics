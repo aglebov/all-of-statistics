{
 "cells": [
  {
   "cell_type": "markdown",
   "id": "aa7f7bc2-239d-4c13-99fc-5fd60567a48c",
   "metadata": {},
   "source": [
    "## Theorem 13.8"
   ]
  },
  {
   "cell_type": "markdown",
   "id": "cae2ef5a-f1b3-4dc2-935b-1324d6bcdb33",
   "metadata": {},
   "source": [
    "Note that $\\mathbb{E}[Y_i] = \\beta_0 + \\beta_1 X_i$ and $\\mathbb{V}[Y_i] = \\sigma^2$. Then\n",
    "$$\\mathbb{E}\\left[\\overline{Y}_n\\right] = \\mathbb{E}\\left[\\frac{1}{n} \\sum_{i=1}^n Y_i \\right] = \\frac{1}{n} \\sum_{i=1}^n \\mathbb{E}\\left[Y_i \\right] = \\beta_0 + \\beta_1 \\overline{X}_n$$\n",
    "and\n",
    "$$\\mathbb{V}[\\overline{Y}_n] = \\mathbb{V}\\left[\\frac{1}{n} \\sum_{i=1}^n Y_i \\right] = \\frac{1}{n^2} \\sum_{i=1}^n \\mathbb{V}[Y_n] = \\frac{\\sigma^2}{n},$$\n",
    "since the observations are assumed to be independent."
   ]
  },
  {
   "cell_type": "markdown",
   "id": "f8d8f5b1-999c-40d0-ab60-126eb2cb1023",
   "metadata": {},
   "source": [
    "Since \n",
    "$$\\hat{\\beta}_1 \n",
    "= \\frac{\\sum_{i=1}^n (X_i - \\overline{X}_n)(Y_i - \\overline{Y}_n)}{\\sum_{i=1}^n (X_i - \\overline{X}_n)^2},$$\n",
    "we have\n",
    "$$\\mathbb{E}[\\hat{\\beta}_1] \n",
    "= \\frac{\\sum_{i=1}^n (X_i - \\overline{X}_n)\\mathbb{E}[Y_i - \\overline{Y}_n]}{\\sum_{i=1}^n (X_i - \\overline{X}_n)^2}\n",
    "= \\frac{\\sum_{i=1}^n (X_i - \\overline{X}_n)(\\beta_0 + \\beta_1 X_i - \\beta_0 - \\beta_1 \\overline{X}_n)}{\\sum_{i=1}^n (X_i - \\overline{X}_n)^2}\n",
    "= \\beta_1 \\frac{\\sum_{i=1}^n (X_i - \\overline{X}_n)^2}{\\sum_{i=1}^n (X_i - \\overline{X}_n)^2}\n",
    "= \\beta_1.$$"
   ]
  },
  {
   "cell_type": "markdown",
   "id": "cde077bf-c046-4c94-80ab-2fa3adfb2234",
   "metadata": {},
   "source": [
    "Further,\n",
    "$$\\hat{\\beta}_0 = \\overline{Y}_n - \\hat{\\beta}_1 \\overline{X}_n,$$\n",
    "so\n",
    "$$\\mathbb{E}[\\hat{\\beta}_0] = \\mathbb{E}[\\overline{Y}_n] - \\mathbb{E}[\\hat{\\beta}_1] \\overline{X}_n = \\beta_0 + \\beta_1 \\overline{X}_n - \\beta_1 \\overline{X}_n = \\beta_0.$$"
   ]
  },
  {
   "cell_type": "markdown",
   "id": "6932cf4d-58bf-4999-bfc7-3b380e367cff",
   "metadata": {},
   "source": [
    "We have\n",
    "$$\\hat{\\beta}_1 \n",
    "= \\frac{\\sum_{i=1}^n (X_i - \\overline{X}_n)(Y_i - \\overline{Y}_n)}{\\sum_{i=1}^n (X_i - \\overline{X}_n)^2}\n",
    "= \\sum_{i=1}^n\\frac{ X_i - \\overline{X}_n}{\\sum_{i=1}^n (X_i - \\overline{X}_n)^2} Y_i - \\overline{Y}_n \\frac{\\sum_{i=1}^n (X_i - \\overline{X}_n)}{\\sum_{i=1}^n (X_i - \\overline{X}_n)^2}\n",
    "= \\sum_{i=1}^n\\frac{ X_i - \\overline{X}_n}{\\sum_{i=1}^n (X_i - \\overline{X}_n)^2} Y_i,$$\n",
    "since\n",
    "$$\\sum_{i=1}^n (X_i - \\overline{X}_n) = 0.$$\n",
    "Thus\n",
    "$$\\mathbb{V}[\\hat{\\beta}_1] \n",
    "= \\sum_{i=1}^n \\left(\\frac{(X_i - \\overline{X}_n)}{\\sum_{i=1}^n (X_i - \\overline{X}_n)^2}\\right)^2 \\mathbb{V}[Y_i]\n",
    "= \\frac{\\sum_{i=1}^n(X_i - \\overline{X}_n)^2}{\\left(\\sum_{i=1}^n (X_i - \\overline{X}_n)^2\\right)^2} \\sigma^2 \n",
    "= \\frac{\\sigma^2}{\\sum_{i=1}^n (X_i - \\overline{X}_n)^2}.$$"
   ]
  },
  {
   "cell_type": "markdown",
   "id": "d60e137c-346f-4670-948d-01297a441615",
   "metadata": {},
   "source": [
    "Now,\n",
    "$$\\mathbb{V}[\\hat{\\beta}_0] = \\mathbb{V}[\\overline{Y}_n - \\hat{\\beta}_1 \\overline{X}_n] = \\mathbb{V}[\\overline{Y}_n] + \\mathbb{V}[\\hat{\\beta}_1] \\overline{X}_n^2 - 2 \\overline{X}_n \\text{Cov}[\\overline{Y}_n, \\hat{\\beta}_1],$$\n",
    "where\n",
    "$$\\begin{split}\n",
    "\\text{Cov}[\\overline{Y}_n, \\hat{\\beta}_1] \n",
    "&= \\text{Cov}\\left[ \\frac{1}{n}\\sum_{i=1}^n Y_i, \\frac{\\sum_{j=1}^n (X_j - \\overline{X}_n)}{\\sum_{k=1}^n (X_k - \\overline{X}_n)^2} Y_j\\right] \\\\\n",
    "&= \\frac{1}{n}\\sum_{i=1}^n \\frac{\\sum_{j=1}^n (X_j - \\overline{X}_n)}{\\sum_{k=1}^n (X_k - \\overline{X}_n)^2} \\text{Cov}\\left[Y_i, Y_j\\right] \\\\\n",
    "&= \\frac{1}{n}\\sum_{i=1}^n \\frac{X_i - \\overline{X}_n}{\\sum_{k=1}^n (X_k - \\overline{X}_n)^2} \\sigma^2 \\\\\n",
    "&= 0,\n",
    "\\end{split}$$\n",
    "so\n",
    "$$\\begin{split}\n",
    "\\mathbb{V}[\\hat{\\beta}_0] \n",
    "&= \\mathbb{V}[\\overline{Y}_n] + \\mathbb{V}[\\hat{\\beta}_1] \\overline{X}_n^2 \\\\\n",
    "&= \\frac{\\sigma^2}{n} + \\frac{\\sigma^2}{\\sum_{i=1}^n (X_i - \\overline{X}_n)^2} \\overline{X}_n^2 \\\\\n",
    "&= \\sigma^2 \\frac{\\sum_{i=1}^n (X_i - \\overline{X}_n)^2 + n \\overline{X}_n^2}{n \\sum_{i=1}^n (X_i - \\overline{X}_n)^2} \\\\\n",
    "&= \\sigma^2 \\frac{\\sum_{i=1}^n X_i^2 - 2 \\overline{X}_n \\sum_{i=1}^n X_i + n \\overline{X}_n^2 + n \\overline{X}_n^2}{n \\sum_{i=1}^n (X_i - \\overline{X}_n)^2} \\\\\n",
    "&= \\sigma^2 \\frac{\\sum_{i=1}^n X_i^2}{n \\sum_{i=1}^n (X_i - \\overline{X}_n)^2} \\\\\n",
    "\\end{split}$$\n"
   ]
  },
  {
   "cell_type": "markdown",
   "id": "4b776c47-2307-4709-9790-6de07545a7ff",
   "metadata": {},
   "source": [
    "Finally,\n",
    "$$\\text{Cov}[\\hat{\\beta}_0, \\hat{\\beta}_1] \n",
    "= \\text{Cov}[\\overline{Y}_n - \\hat{\\beta}_1 \\overline{X}_n, \\hat{\\beta}_1]\n",
    "= \\text{Cov}[\\overline{Y}_n, \\hat{\\beta}_1] - \\overline{X}_n \\mathbb{V}[\\hat{\\beta}_1]\n",
    "= -\\frac{\\sigma^2 \\overline{X}_n }{\\sum_{i=1}^n (X_i - \\overline{X}_n)^2}.$$"
   ]
  }
 ],
 "metadata": {
  "kernelspec": {
   "display_name": "Python 3 (ipykernel)",
   "language": "python",
   "name": "python3"
  },
  "language_info": {
   "codemirror_mode": {
    "name": "ipython",
    "version": 3
   },
   "file_extension": ".py",
   "mimetype": "text/x-python",
   "name": "python",
   "nbconvert_exporter": "python",
   "pygments_lexer": "ipython3",
   "version": "3.12.6"
  }
 },
 "nbformat": 4,
 "nbformat_minor": 5
}
