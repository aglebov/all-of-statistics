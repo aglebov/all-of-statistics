{
 "cells": [
  {
   "cell_type": "markdown",
   "id": "25fee8ea-9599-41a0-a818-9e2a2f3e4dd6",
   "metadata": {},
   "source": [
    "## Theorem 13.4"
   ]
  },
  {
   "cell_type": "markdown",
   "id": "69fa19c9-d9bd-438a-9fcd-7098d086eccd",
   "metadata": {},
   "source": [
    "We aim to minimise \n",
    "$$\\text{RSS} = \\sum_{i=1}^n \\hat{\\epsilon}_i^2 = \\sum_{i=1}^n (Y_i - \\beta_0 - \\beta_1 X_i)^2.$$\n",
    "Taking derivatives by $\\beta_0$ and $\\beta_1$ and setting them to 0, we obtain the equations:\n",
    "$$\\begin{split}\n",
    "-2 \\sum_{i=1}^n (Y_i - \\beta_0 - \\beta_1 X_i) &= 0 \\\\\n",
    "2 \\sum_{i=1}^n (Y_i - \\beta_0 - \\beta_1 X_i) X_i &= 0. \\\\\n",
    "\\end{split}$$\n",
    "The first equation yields\n",
    "$$\\hat{\\beta}_0 = \\overline{Y}_n - \\hat{\\beta}_1 \\overline{X}_n,$$\n",
    "then the second equation becomes\n",
    "$$\\begin{split}\n",
    "0 \n",
    "&= \\sum_{i=1}^n (Y_i - \\beta_0 - \\beta_1 X_i) X_i \\\\\n",
    "&= \\sum_{i=1}^n X_i Y_i - \\beta_0 \\sum_{i=1}^n X_i - \\beta_1 \\sum_{i=1}^n X_i^2 \\\\\n",
    "&= \\sum_{i=1}^n X_i Y_i - (\\overline{Y}_n - \\hat{\\beta}_1 \\overline{X}_n) n \\overline{X}_n - \\beta_1 \\sum_{i=1}^n X_i^2 \\\\\n",
    "&= \\sum_{i=1}^n X_i Y_i - n \\overline{X}_n \\overline{Y}_n + \\hat{\\beta}_1 \\overline{X}_n^2 - \\beta_1 \\sum_{i=1}^n X_i^2, \\\\\n",
    "\\end{split}$$\n",
    "from which\n",
    "$$\\begin{split}\n",
    "\\hat{\\beta}_1 \n",
    "&= \\frac{\\frac{1}{n} \\sum_{i=1}^n X_i Y_i - \\overline{X}_n \\overline{Y}_n}{\\frac{1}{n} \\sum_{i=1}^n X_i^2 - \\overline{X}_n^2} \\\\\n",
    "&= \\frac{\\frac{1}{n} \\sum_{i=1}^n X_i Y_i - \\frac{1}{n^2} \\sum_{i=1}^n X_i \\sum_{j=1}^n Y_j}{\\frac{1}{n} \\sum_{i=1}^n X_i^2 - \\frac{1}{n} \\sum_{i=1}^n X_i \\sum_{j=1}^n X_j} \\\\\n",
    "&= \\frac{\\frac{1}{n} \\sum_{i=1}^n X_i \\left(Y_i - \\frac{1}{n} \\sum_{j=1}^n Y_j\\right)}{\\frac{1}{n} \\sum_{i=1}^n X_i \\left( X_i - \\frac{1}{n} \\sum_{j=1}^n X_j \\right)} \\\\\n",
    "&= \\frac{\\frac{1}{n} \\sum_{i=1}^n X_i \\left(Y_i - \\overline{Y}_n\\right)}{\\frac{1}{n} \\sum_{i=1}^n X_i \\left( X_i - \\overline{X}_n \\right)} \\\\\n",
    "&= \\frac{\\frac{1}{n} \\sum_{i=1}^n X_i \\left(Y_i - \\overline{Y}_n\\right) + \\overline{X}_n \\sum_{i=1}^n (Y_i - \\overline{Y}_n)}{\\frac{1}{n} \\sum_{i=1}^n X_i \\left( X_i - \\overline{X}_n \\right) + \\overline{X}_n \\sum_{i=1}^n (X_i - \\overline{X}_n)}\\\\\n",
    "&= \\frac{\\frac{1}{n} \\sum_{i=1}^n (X_i - \\overline{X}_n) (Y_i - \\overline{Y}_n)}{\\frac{1}{n} \\sum_{i=1}^n (X_i - \\overline{X}_n) (X_i - \\overline{X}_n)}, \\\\\n",
    "\\end{split}$$\n",
    "since\n",
    "$$\\begin{split}\n",
    "\\sum_{i=1}^n (X_i - \\overline{X}_n) &= 0, \\\\\n",
    "\\sum_{i=1}^n (Y_i - \\overline{Y}_n) &= 0. \\\\\n",
    "\\end{split}$$"
   ]
  },
  {
   "cell_type": "markdown",
   "id": "e4b50ea0-82ea-49f0-9ab9-1c3b1eefd796",
   "metadata": {},
   "source": [
    "We have\n",
    "$$\\mathbb{E}[\\hat{\\epsilon}_i^2] = \\mathbb{V}[\\hat{\\epsilon}_i] + \\mathbb{E}[\\hat{\\epsilon}_i]^2,$$\n",
    "where using Theorem 13.8\n",
    "$$\\mathbb{E}[\\hat{\\epsilon}_i] = \\mathbb{E}[Y_i - \\hat{\\beta_0} - \\hat{\\beta}_1 X_i] = \\beta_0 + \\beta_1 X_i - \\beta_0 - \\beta_1 X_i = 0.$$\n",
    "\n",
    "Then\n",
    "$$\\mathbb{V}[\\hat{\\epsilon}_i] \n",
    "= \\mathbb{V}[Y_i - \\hat{\\beta}_0 - \\hat{\\beta}_1 X_i] \n",
    "= \\mathbb{V}[Y_i] + \\mathbb{V}[\\hat{\\beta}_0] + X_i^2 \\mathbb{V}[\\hat{\\beta}_1] - 2 \\text{Cov}[Y_i, \\hat{\\beta}_0] - 2 X_i \\text{Cov}[Y_i, \\hat{\\beta}_1] + 2 X_i \\text{Cov}[\\hat{\\beta}_0, \\hat{\\beta}_1].$$\n",
    "Now,\n",
    "$$\\begin{split}\n",
    "\\mathbb{V}[Y_i] &= \\sigma^2 \\\\\n",
    "\\mathbb{V}[\\hat{\\beta}_0] &= \\sigma^2 \\frac{\\sum_{i=1}^n X_i^2}{n \\sum_{i=1}^n (X_i - \\overline{X}_n)^2} \\\\\n",
    "\\mathbb{V}[\\hat{\\beta}_1] &= \\sigma^2 \\frac{1}{\\sum_{i=1}^n (X_i - \\overline{X}_n)^2} \\\\\n",
    "\\text{Cov}[Y_i, \\hat{\\beta}_1] &= \\text{Cov}\\left[Y_i, \\sum_{j=1}^n \\frac{X_j - \\overline{X}_n}{\\sum_{k=1}^n (X_k - \\overline{X}_n)^2} Y_j \\right] \n",
    "    = \\sum_{j=1}^n \\frac{X_j - \\overline{X}_n}{\\sum_{k=1}^n (X_k - \\overline{X}_n)^2} \\text{Cov}[Y_i, Y_j]\n",
    "    = \\sigma^2 \\frac{X_i - \\overline{X}_n}{\\sum_{k=1}^n (X_k - \\overline{X}_n)^2} \\\\\n",
    "\\text{Cov}[Y_i, \\hat{\\beta}_0] &= \\text{Cov}[Y_i, \\overline{Y}_n - \\hat{\\beta}_1 \\overline{X}_n] \n",
    "    = \\text{Cov}[Y_i, \\overline{Y}_n] - \\overline{X}_n \\text{Cov}[Y_i, \\hat{\\beta}_1]\n",
    "    = \\frac{\\sigma^2}{n} - \\overline{X}_n \\sigma^2 \\frac{X_i - \\overline{X}_n}{\\sum_{k=1}^n (X_k - \\overline{X}_n)^2}. \\\\\n",
    "\\text{Cov}[\\hat{\\beta}_0, \\hat{\\beta}_1] &= \\text{Cov}[\\overline{Y}_n - \\hat{\\beta}_1 \\overline{X}_n, \\hat{\\beta}_1]\n",
    "    = \\text{Cov}[\\overline{Y}_n, \\hat{\\beta}_1] - \\overline{X}_n \\text{Cov}[\\hat{\\beta}_1, \\hat{\\beta}_1] \n",
    "    = - \\sigma^2 \\frac{\\overline{X}_n}{\\sum_{i=1}^n (X_i - \\overline{X}_n)^2}\\\\\n",
    "\\end{split}$$\n",
    "where we used the fact that\n",
    "$$\\text{Cov}[\\overline{Y}_n, \\hat{\\beta}_1] = 0$$\n",
    "from the proof of Theorem 13.8.\n",
    "\n",
    "Thus,\n",
    "$$\\begin{split}\n",
    "\\mathbb{E}\\left[\\sum_{i=1}^n \\hat{\\epsilon}_i^2 \\right] \n",
    "&= \\sum_{i=1}^n \\mathbb{E}[\\hat{\\epsilon}_i^2] \\\\\n",
    "&= \\sum_{i=1}^n \\mathbb{V}[\\hat{\\epsilon}_i] \\\\\n",
    "&= \\sigma^2 \\sum_{i=1}^n \\left[\n",
    "   1 + \n",
    "   \\frac{\\sum_{j=1}^n X_j^2}{n \\sum_{k=1}^n (X_k - \\overline{X}_n)^2} + \n",
    "   \\frac{X_i^2}{\\sum_{k=1}^n (X_k - \\overline{X}_n)^2} - \n",
    "   \\frac{2}{n} + 2 \\overline{X}_n \\frac{X_i - \\overline{X}_n}{\\sum_{k=1}^n (X_k - \\overline{X}_n)^2} - \n",
    "   2 X_i \\frac{X_i - \\overline{X}_n}{\\sum_{k=1}^n (X_k - \\overline{X}_n)^2} - \n",
    "   2 \\frac{X_i \\overline{X}_n}{\\sum_{k=1}^n (X_k - \\overline{X}_n)^2} \\right] \\\\\n",
    "&= \\frac{\\sigma^2}{\\sum_{k=1}^n (X_k - \\overline{X}_n)^2}  \\sum_{i=1}^n \\left[ \\frac{n-2}{n} \\sum_{j=1}^n (X_j - \\overline{X}_n)^2 + \\frac{1}{n} \\sum_{j=1}^n X_j^2 + X_i^2 - 2 \\overline{X}_n (X_i - \\overline{X}_n) - 2 X_i (X_i - \\overline{X}_n) - 2X_i \\overline{X}_n \\right] \\\\\n",
    "&= \\frac{\\sigma^2}{\\sum_{k=1}^n (X_k - \\overline{X}_n)^2}  \\sum_{i=1}^n \\left[ \\frac{n-2}{n} \\sum_{j=1}^n (X_j - \\overline{X}_n)^2 + \\frac{1}{n} \\sum_{j=1}^n X_j^2 + X_i^2 - 2 \\overline{X}_n (X_i - \\overline{X}_n) - 2 X_i^2 + 2 X_i \\overline{X}_n - 2X_i \\overline{X}_n \\right] \\\\\n",
    "&= \\frac{\\sigma^2}{\\sum_{k=1}^n (X_k - \\overline{X}_n)^2}  \\sum_{i=1}^n \\left[ \\frac{n-2}{n} \\sum_{j=1}^n (X_j - \\overline{X}_n)^2 + \\frac{1}{n} \\sum_{j=1}^n X_j^2 - X_i^2 - 2 \\overline{X}_n (X_i - \\overline{X}_n) \\right] \\\\\n",
    "&= \\frac{\\sigma^2}{\\sum_{k=1}^n (X_k - \\overline{X}_n)^2}  \\left[ (n - 2) \\sum_{j=1}^n (X_j - \\overline{X}_n)^2 + \\sum_{j=1}^n X_j^2 - \\sum_{j=1}^n X_j^2 \\right] \\\\\n",
    "&= \\frac{(n - 2)\\sigma^2}{\\sum_{k=1}^n (X_k - \\overline{X}_n)^2}  \\sum_{j=1}^n (X_j - \\overline{X}_n)^2 \\\\\n",
    "&= (n - 2) \\sigma^2\n",
    "\\end{split}$$\n",
    "and\n",
    "$$\\mathbb{E}[\\hat{\\sigma}^2] = \\frac{1}{n-2} \\mathbb{E}\\left[\\sum_{i=1}^n \\hat{\\epsilon}_i^2 \\right] = \\sigma^2$$\n",
    "and the estimator $\\hat{\\sigma}^2$ is unbiased."
   ]
  },
  {
   "cell_type": "markdown",
   "id": "ebb667a8-d3cc-4c88-ac0f-9fd66cb2c8c8",
   "metadata": {},
   "source": [
    "We also check that $\\text{Cov}[Y_i, \\hat{Y_i}] \\geq 0$:\n",
    "$$\\begin{split}\n",
    "\\text{Cov}[Y_i, \\hat{Y}_i] \n",
    "&= \\text{Cov}[Y_i, \\hat{\\beta}_0 + \\hat{\\beta}_1 X_i]  \\\\\n",
    "&= \\text{Cov}[Y_i, \\hat{\\beta}_0] + X_i \\text{Cov}[Y_i, \\hat{\\beta}_1]  \\\\\n",
    "&= \\frac{\\sigma^2}{n} - \\overline{X}_n \\sigma^2 \\frac{X_i - \\overline{X}_n}{\\sum_{k=1}^n (X_k - \\overline{X}_n)^2} + X_i \\sigma^2 \\frac{X_i - \\overline{X}_n}{\\sum_{k=1}^n (X_k - \\overline{X}_n)^2} \\\\\n",
    "&= \\frac{\\sigma^2}{n \\sum_{k=1}^n (X_k - \\overline{X}_n)^2} \\left[\\sum_{k=1}^n (X_k - \\overline{X}_n)^2 - n \\overline{X}_n (X_i - \\overline{X}_n) + n X_i (X_i - \\overline{X}_n) \\right] \\\\\n",
    "&= \\frac{\\sigma^2}{n \\sum_{k=1}^n (X_k - \\overline{X}_n)^2} \\left[\\sum_{k=1}^n X_k^2 - n \\overline{X}_n^2 - n \\overline{X}_n X_i + n \\overline{X}_n^2 + n X_i^2 - n X_i \\overline{X}_n \\right] \\\\\n",
    "&= \\frac{\\sigma^2}{n \\sum_{k=1}^n (X_k - \\overline{X}_n)^2} \\left[\\sum_{k=1}^n X_k^2 - 2 n \\overline{X}_n X_i + n X_i^2 \\right] \\\\\n",
    "&= \\frac{\\sigma^2}{n \\sum_{k=1}^n (X_k - \\overline{X}_n)^2} \\left[\\sum_{k=1}^n (X_k^2 - 2 X_k X_i + X_i^2) \\right] \\\\\n",
    "&= \\frac{\\sigma^2}{n \\sum_{k=1}^n (X_k - \\overline{X}_n)^2} \\sum_{k=1}^n (X_k - X_i)^2 \\geq 0.\\\\\n",
    "\\end{split}$$"
   ]
  }
 ],
 "metadata": {
  "kernelspec": {
   "display_name": "Python 3 (ipykernel)",
   "language": "python",
   "name": "python3"
  },
  "language_info": {
   "codemirror_mode": {
    "name": "ipython",
    "version": 3
   },
   "file_extension": ".py",
   "mimetype": "text/x-python",
   "name": "python",
   "nbconvert_exporter": "python",
   "pygments_lexer": "ipython3",
   "version": "3.12.6"
  }
 },
 "nbformat": 4,
 "nbformat_minor": 5
}
