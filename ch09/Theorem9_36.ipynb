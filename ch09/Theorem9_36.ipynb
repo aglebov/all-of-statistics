{
 "cells": [
  {
   "cell_type": "markdown",
   "id": "48aa8924-5dd2-48b8-940d-347bb3ab1f6b",
   "metadata": {},
   "source": [
    "First, we clarify the definition 9.32 of sufficiency: A statistic $T(x^n)$ is sufficient if for all $x^n$ and $y^n$, $T(x^n) = T(y^n)$ implies $x^n \\leftrightarrow y^n$."
   ]
  },
  {
   "cell_type": "markdown",
   "id": "0ed63d97-c8cf-4c15-a4f9-e15378904244",
   "metadata": {},
   "source": [
    "We need the following lemma to prove Theorem 9.36:\n",
    "\n",
    "**Lemma**. If for all $x$ and $y$, $f(x) = f(y)$ implies $g(x) = g(y)$, then there is a function $h$, such that $g(x) = h(f(x))$.\n",
    "\n",
    "**Proof**. Let $f: D \\to C$, where $C$ is the co-domain of $f$. We construct $h$ as follows:\n",
    "   * if $y \\in C$, then take any $x \\in f^{-1}(\\{y\\})$ and set $h(y) = g(x)$. Since $y \\in C$, $f^{-1}(\\{y\\}) \\neq \\emptyset$, so we can always pick one $x$. If $x, x' \\in f^{-1}(\\{y\\})$, then $f(x) = f(x')$ and by assumption of the lemma, $g(x) = g(x')$, so the value is selected unambiguously.\n",
    "   * if $y \\notin C$, take $h(y) = 0$.\n",
    "\n",
    "We have defined $h(y)$ for all $y$, and $h(f(x)) = g(x)$ by construction."
   ]
  },
  {
   "cell_type": "markdown",
   "id": "a6a3a7d4-a820-4378-8c8f-da08a5efa7af",
   "metadata": {},
   "source": [
    "Now we can prove **Theorem 9.36**. We prove it both ways.\n",
    "\n",
    "Suppose $T$ is minimal sufficient. We want to show\n",
    "$$T(x^n) = T(y^n) \\iff x^n \\leftrightarrow y^n.$$\n",
    "Since $T$ is sufficient, we have for all $x^n$ and $y^n$ that $T(x^n) = T(y^n)$ implies $x^n \\leftrightarrow y^n$, so one direction is immediate.\n",
    "\n",
    "Now assume $x^n \\leftrightarrow y^n$ for some $x^n$ and $y^n$, but $T(x^n) \\neq T(y^n)$. Construct another statistic $S(z^n)$ in the following way:\n",
    "$$S(z^n) = \\begin{cases}\n",
    "T(z^n), &\\text{ if } z^n \\neq y^n \\\\\n",
    "T(x^n), &\\text{ if } z^n = y^n, \\\\\n",
    "\\end{cases}$$\n",
    "so that $S$ coincides with $T$ except for $S(x^n) = S(y^n)$. When $z_1^n, z_2^n \\neq y^n$, then $S(z_1^n) = S(z_2^n)$ if and only if $T(z_1^n) = T(z_2^n)$, so $z_1^n \\leftrightarrow z_2^n$. Also $S(x^n) = S(y^n)$ and $x^n \\leftrightarrow y^n$ by assumption. We can see that $S$ is sufficient. But $T$ is not a function of $S$, since for any function $h$, $h(S(x^n)) = h(S(y^n))$, but $T(x^n) \\neq T(y^n)$, so $T$ cannot be minimal. We reach a contradiction, so we conclude that $T(x^n) = T(y^n)$.\n",
    "\n",
    "Now suppose that\n",
    "$$T(x^n) = T(y^n) \\iff x^n \\leftrightarrow y^n.$$\n",
    "We want to show that $T$ is minimal sufficient.\n",
    "\n",
    "Again, sufficiency is immediate from $T(x^n) = T(y^n) \\implies x^n \\leftrightarrow y^n$. Suppose that there is another sufficient statistic $S$. By definition then $S(x^n) = S(y^n) \\implies x^n \\leftrightarrow y^n$. By assumption, $x^n \\leftrightarrow y^n \\implies T(x^n) = T(y^n)$, so $S(x^n) = S(y^n) \\implies T(x^n) = T(y^n)$. We use the preceding Lemma to establish that there $T$ is a function of $S$, hence $T$ is minimal sufficient."
   ]
  }
 ],
 "metadata": {
  "kernelspec": {
   "display_name": "Python 3 (ipykernel)",
   "language": "python",
   "name": "python3"
  },
  "language_info": {
   "codemirror_mode": {
    "name": "ipython",
    "version": 3
   },
   "file_extension": ".py",
   "mimetype": "text/x-python",
   "name": "python",
   "nbconvert_exporter": "python",
   "pygments_lexer": "ipython3",
   "version": "3.13.0"
  }
 },
 "nbformat": 4,
 "nbformat_minor": 5
}
