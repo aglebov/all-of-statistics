{
 "cells": [
  {
   "cell_type": "markdown",
   "id": "c26c7d26-70dd-4ff3-9820-423eb88d64e0",
   "metadata": {},
   "source": [
    "## Exercise 1\n",
    "\n",
    "We have $\\mathbb{E}[X_i] = \\alpha \\beta$, $\\mathbb{E}[X_i^2] = \\mathbb{V}[X_i] + \\mathbb{E}[X_i]^2 = \\alpha \\beta^2 + \\alpha^2 \\beta^2 = \\alpha \\beta^2 (1 + \\alpha)$. Using the method of moments, we set\n",
    "$$\\begin{split}\n",
    "\\mathbb{E}[X_i] &= \\alpha \\beta = \\overline{X}, \\\\\n",
    "\\mathbb{E}[X_i^2] &= \\alpha \\beta^2 (1 + \\alpha) = \\overline{X^2}. \\\\\n",
    "\\end{split}$$\n",
    "Solving the system of equations gives us\n",
    "$$\\begin{split}\n",
    "\\hat{\\alpha} &= \\frac{\\overline{X}^2}{\\overline{X^2} - \\overline{X}^2}, \\\\\n",
    "\\hat{\\beta} &= \\frac{\\overline{X^2} - \\overline{X}^2}{\\overline{X}}. \\\\\n",
    "\\end{split}$$"
   ]
  },
  {
   "cell_type": "markdown",
   "id": "e97c896b-3c00-4ab0-8921-1601c2ff6e88",
   "metadata": {},
   "source": [
    "## Exercise 2\n",
    "\n",
    "(a) We have \n",
    "$$\\begin{split}\n",
    "\\mathbb{E}[X_i] &= \\frac{a + b}{2} \\\\\n",
    "\\mathbb{E}[X_i^2] &= \\mathbb{V}[X_i] + \\mathbb{E}[X_i]^2 = \\frac{(b-a)^2}{12} + \\frac{(a+b)^2}{4} = \\frac{a^3 + b^2 + ab}{3}. \\\\\n",
    "\\end{split}$$\n",
    "\n",
    "Solving the system yields\n",
    "$$\\begin{split}\n",
    "\\hat{a} &= \\overline{X} - \\sqrt{3(\\overline{X^2} - \\overline{X}^2)}, \\\\\n",
    "\\hat{b} &= \\overline{X} + \\sqrt{3(\\overline{X^2} - \\overline{X}^2)}. \\\\\n",
    "\\end{split}$$\n",
    "\n",
    "(b) The density of $X_i$ is $f(x) = \\frac{1}{b-a} \\mathbb{1}_{[a,b]}(x)$, so the likelihood\n",
    "$$\\mathcal{L}(X_1, \\dots, X_n) = \\prod_{i=1}^n f(x) = \\frac{1}{(b-a)^n} \\mathbb{1}_{[a,b]}(\\min(X_1, \\dots, X_n)) \\mathbb{1}_{[a,b]}(\\max(X_1, \\dots, X_n))$$\n",
    "is maximised when\n",
    "$$\\begin{split}\n",
    "\\hat{a}_{MLE} &= \\min(X_1, \\dots, X_n), \\\\\n",
    "\\hat{b}_{MLE} &= \\max(X_1, \\dots, X_n). \\\\\n",
    "\\end{split}$$\n",
    "\n",
    "(c) Since $\\tau = \\mathbb{E}[X_i] = \\frac{a+b}{2}$, by equivariance of MLE (Theorem 9.14), we have\n",
    "$$\\hat{\\tau} = \\frac{\\hat{a}_{MLE} + \\hat{b}_{MLE}}{2}.$$\n",
    "\n",
    "(d) The non-parametric plugin estimator of $\\tau = \\int x dF(x)$ is \n",
    "$$\\tilde{\\tau} = \\frac{1}{n} \\sum_{i=1}^n X_i = \\overline{X}.$$\n",
    "We have \n",
    "$$\\mathbb{E}[\\tilde{\\tau}] = \\mathbb{E}[X_i] = \\frac{a+b}{2},$$\n",
    "hence $\\tilde{\\tau}$ is unbiased. Also\n",
    "$$\\mathbb{V}[\\tilde{\\tau}] = \\frac{\\mathbb{V}[X_i]}{n} = \\frac{(b-a)^2}{12n}.$$\n",
    "Using the expression (6.7), we have\n",
    "$$\\text{MSE} = \\frac{(b-a)^2}{12n.}.$$"
   ]
  },
  {
   "cell_type": "code",
   "execution_count": 1,
   "id": "aefb1136-023a-4b8b-8343-4d5691bcac84",
   "metadata": {},
   "outputs": [],
   "source": [
    "import numpy as np\n",
    "import scipy.stats as stats"
   ]
  },
  {
   "cell_type": "code",
   "execution_count": 2,
   "id": "6e1a0e1d-2cd3-4988-9a59-ebf0a5bcea79",
   "metadata": {},
   "outputs": [],
   "source": [
    "rng = np.random.default_rng(12345)"
   ]
  },
  {
   "cell_type": "code",
   "execution_count": 3,
   "id": "0fbe6ded-6101-404a-a1a0-74fa235543da",
   "metadata": {},
   "outputs": [],
   "source": [
    "a = 1\n",
    "b = 3\n",
    "n = 10"
   ]
  },
  {
   "cell_type": "code",
   "execution_count": 4,
   "id": "ad55fa74-ecfb-4da0-a2f4-8569d57af054",
   "metadata": {},
   "outputs": [],
   "source": [
    "m = 1000"
   ]
  },
  {
   "cell_type": "code",
   "execution_count": 5,
   "id": "2bb4506a-bf7a-41db-8079-232d0eb14991",
   "metadata": {},
   "outputs": [],
   "source": [
    "x = stats.uniform.rvs(size=(m, n), loc=a, scale=b - a, random_state=rng)"
   ]
  },
  {
   "cell_type": "code",
   "execution_count": 6,
   "id": "03c15bf9-f1a8-4c92-8cc5-1d6b970ccd08",
   "metadata": {},
   "outputs": [],
   "source": [
    "a_mle = np.min(x, axis=1)\n",
    "b_mle = np.max(x, axis=1)"
   ]
  },
  {
   "cell_type": "code",
   "execution_count": 7,
   "id": "09a63920-c27d-4ce2-89f6-e3d2a9b3fd59",
   "metadata": {},
   "outputs": [],
   "source": [
    "tau_mle = (a_mle + b_mle) / 2"
   ]
  },
  {
   "cell_type": "markdown",
   "id": "79966939-e81a-46cd-86f8-87501d0c0908",
   "metadata": {},
   "source": [
    "MSE of $\\hat{\\tau}$:"
   ]
  },
  {
   "cell_type": "code",
   "execution_count": 8,
   "id": "ceeb4372-4c14-4c06-b92c-f369f47b13f3",
   "metadata": {},
   "outputs": [
    {
     "data": {
      "text/plain": [
       "np.float64(0.015456295552161428)"
      ]
     },
     "execution_count": 8,
     "metadata": {},
     "output_type": "execute_result"
    }
   ],
   "source": [
    "np.mean((tau_mle - (b - a)) ** 2)"
   ]
  },
  {
   "cell_type": "markdown",
   "id": "aa0a7c8b-f968-4f0d-9c74-b6b1d9401b71",
   "metadata": {},
   "source": [
    "MSE of $\\tilde{\\tau}$:"
   ]
  },
  {
   "cell_type": "code",
   "execution_count": 9,
   "id": "b105737b-7c03-4285-aa2c-90af39b82f17",
   "metadata": {},
   "outputs": [
    {
     "data": {
      "text/plain": [
       "0.03333333333333333"
      ]
     },
     "execution_count": 9,
     "metadata": {},
     "output_type": "execute_result"
    }
   ],
   "source": [
    "(b - a) ** 2 / 12 / n"
   ]
  },
  {
   "cell_type": "markdown",
   "id": "f6fadf59-90e0-4d8a-9e53-af7af740a403",
   "metadata": {},
   "source": [
    "We can see that MLE produces a more efficient estimate."
   ]
  },
  {
   "cell_type": "markdown",
   "id": "db030960-610c-458d-84ba-72699fcd43cb",
   "metadata": {},
   "source": [
    "## Exercise 3\n",
    "\n",
    "(a) From Example 9.11, we have the MLE estimates for $\\mu$ and $\\sigma^2$:\n",
    "$$\\begin{split}\n",
    "\\hat{\\mu} &= \\overline{X}, \\\\\n",
    "\\hat{\\sigma}^2 &= \\overline{X^2} - \\overline{X}^2. \\\\\n",
    "\\end{split}$$\n",
    "The quantile $\\tau = \\mu + \\sigma z_{0.05}$, so by Theorem 9.14 (equivariance of MLE),\n",
    "$$\\hat{\\tau} = \\hat{\\mu} + \\hat{\\sigma} z_{0.05} = \\overline{X} + z_{0.05} \\sqrt{\\overline{X^2} - \\overline{X}^2}.$$\n",
    "\n",
    "(b) We proceed based on Example 9.29 with $\\tau = \\mu + \\sigma z_\\alpha$. The Fisher information matrix is\n",
    "$$I_n(\\mu, \\sigma) = \\begin{pmatrix}\n",
    "\\frac{n}{\\sigma^2} & 0 \\\\\n",
    "0 & \\frac{2n}{\\sigma^2} \\\\\n",
    "\\end{pmatrix},$$\n",
    "so\n",
    "$$J_n(\\mu, \\sigma) = I_n^{-1}(\\mu, \\sigma) = \\frac{1}{n} \\begin{pmatrix}\n",
    "\\sigma^2 & 0 \\\\\n",
    "0 & \\frac{\\sigma^2}{2} \\\\\n",
    "\\end{pmatrix}.$$\n",
    "The gradient of $g$ is\n",
    "$$\\nabla g = \\begin{pmatrix}\n",
    "1 \\\\\n",
    "z_{0.05} \\\\\n",
    "\\end{pmatrix},$$\n",
    "therefore\n",
    "$$\\widehat{\\text{se}}(\\hat{\\tau}) = \\sqrt{(\\widehat{\\nabla g})^T \\widehat{J}_n \\widehat{\\nabla g}} = \\sqrt{\\frac{\\hat{\\sigma}^2}{n} \\left(1 + \\frac{z_{0.05}}{2}\\right)}$$\n",
    "and the approximate confidence interval for $\\tau$ by Theorem 9.19 is\n",
    "$$\\hat{\\tau} \\pm z_{\\alpha / 2} \\widehat{\\text{se}}(\\hat{\\tau}) \n",
    "= \\hat{\\mu} + \\hat{\\sigma} z_{0.05} \\pm z_{\\alpha / 2} \\sqrt{\\frac{\\hat{\\sigma}^2}{n} \\left(1 + \\frac{z_{0.05}}{2}\\right)}.$$"
   ]
  },
  {
   "cell_type": "code",
   "execution_count": 10,
   "id": "96d4fada-c6e7-4773-ba76-f70374955349",
   "metadata": {},
   "outputs": [],
   "source": [
    "x = np.array([\n",
    "    3.23, -2.50,  1.88, -0.68,  4.43, 0.17,\n",
    "    1.03, -0.07, -0.01,  0.76,  1.76, 3.18,\n",
    "    0.33, -0.31,  0.30, -0.61,  1.52, 5.43,\n",
    "    1.54,  2.28,  0.42,  2.33, -1.03, 4.00,\n",
    "    0.39,\n",
    "])"
   ]
  },
  {
   "cell_type": "code",
   "execution_count": 11,
   "id": "548b46f3-d9d5-4e19-bfbf-e89a1981938f",
   "metadata": {},
   "outputs": [],
   "source": [
    "mu_mle = np.mean(x)\n",
    "sigma_mle = np.sqrt(np.mean(x ** 2) - mu_mle ** 2)"
   ]
  },
  {
   "cell_type": "markdown",
   "id": "bb27f0bc-6388-4212-8a1f-3982bdf20917",
   "metadata": {},
   "source": [
    "The MLE $\\hat{\\tau}$:"
   ]
  },
  {
   "cell_type": "code",
   "execution_count": 12,
   "id": "701aea64-cf62-42fc-9291-c5108a086c2c",
   "metadata": {},
   "outputs": [
    {
     "data": {
      "text/plain": [
       "np.float64(4.180410658803283)"
      ]
     },
     "execution_count": 12,
     "metadata": {},
     "output_type": "execute_result"
    }
   ],
   "source": [
    "tau_mle = mu_mle + stats.norm.ppf(0.95) * sigma_mle\n",
    "tau_mle"
   ]
  },
  {
   "cell_type": "markdown",
   "id": "0999763e-04d4-4f87-8947-83b4d7564cfe",
   "metadata": {},
   "source": [
    "The standard error:"
   ]
  },
  {
   "cell_type": "code",
   "execution_count": 13,
   "id": "b95c45c5-9e1b-4952-8867-49a0e774d6d1",
   "metadata": {},
   "outputs": [
    {
     "data": {
      "text/plain": [
       "np.float64(0.5911779036243616)"
      ]
     },
     "execution_count": 13,
     "metadata": {},
     "output_type": "execute_result"
    }
   ],
   "source": [
    "sigma_mle * np.sqrt((1 + stats.norm.ppf(0.95)) / x.shape[0])"
   ]
  },
  {
   "cell_type": "markdown",
   "id": "ac114c2c-13a0-4091-9ded-8b5270226728",
   "metadata": {},
   "source": [
    "Using the parametric bootstrap:"
   ]
  },
  {
   "cell_type": "code",
   "execution_count": 14,
   "id": "281d9bbf-86bd-4684-91d3-49b66cbd0a60",
   "metadata": {},
   "outputs": [],
   "source": [
    "m = 1000"
   ]
  },
  {
   "cell_type": "code",
   "execution_count": 15,
   "id": "82282c55-f129-4ae6-8e58-556a5e431e8e",
   "metadata": {},
   "outputs": [],
   "source": [
    "y = stats.norm.rvs(size=(m, x.shape[0]), loc=mu_mle, scale=sigma_mle, random_state=rng)"
   ]
  },
  {
   "cell_type": "code",
   "execution_count": 16,
   "id": "65839092-c813-40c5-bebd-a7fb4561d92c",
   "metadata": {},
   "outputs": [],
   "source": [
    "mu_star = np.mean(y, axis=1)\n",
    "sigma_star = np.std(y, axis=1)\n",
    "tau_star = mu_star + sigma_star * stats.norm.ppf(0.95)"
   ]
  },
  {
   "cell_type": "markdown",
   "id": "14ab1f53-40b5-4fbe-876e-46bcc9ea1225",
   "metadata": {},
   "source": [
    "The bootstrap standard error is:"
   ]
  },
  {
   "cell_type": "code",
   "execution_count": 17,
   "id": "07c0e0aa-78e1-4e47-b3f0-685123dda3dc",
   "metadata": {},
   "outputs": [
    {
     "data": {
      "text/plain": [
       "np.float64(0.5446103266099905)"
      ]
     },
     "execution_count": 17,
     "metadata": {},
     "output_type": "execute_result"
    }
   ],
   "source": [
    "np.std(tau_star)"
   ]
  },
  {
   "cell_type": "markdown",
   "id": "90841423-0ccf-49c6-a564-5008838915b1",
   "metadata": {},
   "source": [
    "## Exercise 4\n",
    "\n",
    "From Example 9.12, the MLE estimator of $\\theta$ is $\\max(X_1, \\dots, X_n)$.\n",
    "\n",
    "Building on the results of Exercise 7 in Chapter 8 and Exercise 3 in Chapter 3, we have for $Y_n = \\max(X_1, \\dots, X_n)$:\n",
    "$$f(y) = \\begin{cases}\n",
    "\\frac{n}{\\theta} \\left(\\frac{y}{\\theta}\\right)^{n-1}, &\\text{ if } y \\in [0, \\theta] \\\\\n",
    "0, &\\text{otherwise}\n",
    "\\end{cases}$$\n",
    "\n",
    "For $\\varepsilon \\in (0, \\theta)$,\n",
    "$$\\mathbb{P}[Y < \\theta - \\varepsilon] = \\int_0^{\\theta - \\varepsilon} f(y) dy = \\left(1 - \\frac{\\varepsilon}{\\theta}\\right)^n \\to 0$$\n",
    "as $n \\to \\infty$. If $\\varepsilon > \\theta$, then $\\mathbb{P}[Y < \\theta - \\varepsilon] = 0$. Thus, by definition $Y \\xrightarrow{P} \\theta$, and so the MLE estimator is consistent."
   ]
  },
  {
   "cell_type": "markdown",
   "id": "82378bb6-b563-4078-9f69-2f5d0432ee05",
   "metadata": {},
   "source": [
    "## Exercise 5\n",
    "\n",
    "For the method of moments, we have $\\mathbb{E}[X_i] = \\lambda$, so setting $\\mathbb{E}[X_i] = \\overline{X}$ gives us $\\hat{\\lambda} = \\overline{X}$.\n",
    "\n",
    "If $X_i \\sim \\text{Poisson}(\\lambda)$, then\n",
    "$$f(x) = e^{-\\lambda}\\frac{\\lambda^x}{x!},$$\n",
    "so the likelihood is\n",
    "$$\\mathcal{L}(X_1, \\dots, X_n) = \\prod_{i=1}^n f(X_i) = e^{-\\lambda n} \\lambda^{\\sum_{i=1}^n X_i} \\left(\\prod_{i=1}^n X_i!\\right)^{-1},$$\n",
    "and the log-likelihood\n",
    "$$\\log \\mathcal{L}(X_1, \\dots, X_n) = -\\lambda n + \\sum_{i=1}^n X_i \\log \\lambda - \\sum_{i=1}^n \\log X_i!.$$\n",
    "Thus\n",
    "$$\\frac{\\partial \\log \\mathcal{L}}{\\partial \\lambda} = -n + \\frac{1}{\\lambda} \\sum_{i=1}^n X_i,$$\n",
    "from which\n",
    "$$\\hat{\\lambda} = \\overline{X}.$$\n",
    "Further,\n",
    "$$\\frac{\\partial^2 \\log \\mathcal{L}}{\\partial \\lambda^2} = -\\frac{n \\overline{X}}{\\lambda^2},$$\n",
    "so\n",
    "$$I_n(\\lambda) = \\mathbb{E}\\left[-\\frac{\\partial^2 \\log \\mathcal{L}}{\\partial \\lambda^2}\\right] = \\frac{n \\mathbb{E}[\\overline{X}]}{\\lambda^2} = \\frac{n}{\\lambda}$$\n",
    "and\n",
    "$$I(\\lambda) = \\frac{I_n(\\lambda)}{n} = \\frac{1}{\\lambda}.$$"
   ]
  },
  {
   "cell_type": "markdown",
   "id": "6be26721-45d1-4d43-9822-567dc3f2bb33",
   "metadata": {},
   "source": [
    "## Exercise 6\n",
    "\n",
    "(a) We have\n",
    "$$\\psi = \\mathbb{P}(Y_1=1) = \\mathbb{P}(X_1 > 0) = 1 - \\mathbb{P}(X_1 \\leq 0) = 1 - \\Phi(-\\theta).$$\n",
    "From Example 9.11, $\\hat{\\theta} = \\overline{X}$, thus by Theorem 9.14 (equivariance of MLE), \n",
    "$$\\hat{\\psi} = 1 - \\Phi\\left(-\\overline{X}\\right).$$\n",
    "\n",
    "(b) From Example 9.21, we have $\\widehat{\\text{se}}(\\hat{\\theta}) = \\frac{1}{\\sqrt{n}}$, since the variance of $X_1$ is 1.\n",
    "\n",
    "Using Theorem 9.24 (The Delta Method) with $g(\\theta) = 1 - \\Phi(-\\theta)$ and $g'(\\theta) = f(-\\theta)$, we have\n",
    "$$\\widehat{\\text{se}}(\\widehat{\\psi}) = f(-\\hat{\\theta})\\; \\widehat{\\text{se}}(\\hat{\\theta}) = \\frac{f(-\\hat{\\theta})}{\\sqrt{n}}.$$\n",
    "\n",
    "The approximate 95% confidence interval is then\n",
    "$$(\\widehat{\\psi} - 2 \\widehat{\\text{se}}(\\widehat{\\psi}), \\widehat{\\psi} + 2 \\widehat{\\text{se}}(\\widehat{\\psi})).$$\n",
    "\n",
    "(c) We can view $Y_i$ as Bernoulli random variables with parameter $\\psi = 1 - \\Phi(-\\theta)$. Then\n",
    "$$\\mathbb{E}[\\tilde{\\psi}] = \\psi$$\n",
    "and\n",
    "$$\\mathbb{V}[\\tilde{\\psi}] = \\frac{\\mathbb{V}[Y_i]}{n} = \\frac{\\psi (1 - \\psi)}{n} \\to 0$$\n",
    "as $n \\to 0$, thus $\\tilde{\\psi}$ converges in quadratic mean ot $\\psi$. By theorem 5.4(a), $\\tilde{\\psi} \\xrightarrow{P} \\psi$, so $\\tilde{\\psi}$ is consistent.\n",
    "\n",
    "(d) From (b), we have that the asymptotic variance of $\\widehat{\\psi}$ is \n",
    "$$\\frac{f(-\\hat{\\theta})^2}{n},$$\n",
    "The asymptotice relative efficiency of $\\tilde{\\psi}$ to $\\widehat{\\psi}$ is\n",
    "$$\\frac{f(-\\hat{\\theta})^2}{\\psi (1 - \\psi)}.$$\n",
    "\n",
    "(e) By the law of large numbers (Theorem 5.6), we have $\\overline{X} \\xrightarrow{P} \\mathbb{E}[X]$. Then by Theorem 5.5(f), we get\n",
    "$$\\widehat{\\psi} \\xrightarrow{P} 1 - \\Phi(-\\mathbb{E}[X]),$$\n",
    "whereas\n",
    "$$\\phi = 1 - F_X(0).$$\n",
    "In general, we cannot expect $F_X(0) = \\Phi(-\\mathbb{E}[X])$ for an arbitrary distribution of $X$, hence the estimator $\\widehat{\\psi}$ is no longer consistent."
   ]
  },
  {
   "cell_type": "markdown",
   "id": "0c6cc475-2080-4f17-858f-b61cd9d166d4",
   "metadata": {},
   "source": [
    "## Exercise 7\n",
    "\n",
    "(a) The likelihood is given by\n",
    "$$\\mathcal{L}(X_1, X_2) = {n_1 \\choose X_1} p_1^{X_1} (1-p_1)^{n_1 - X_1} {n_2 \\choose X_2} p_2^{X_2} (1-p_2)^{n_2 - X_2},$$\n",
    "so\n",
    "$$\\log \\mathcal{L}(X_1, X_2) = X_1 \\log p_1 + (n_1 - X_1) \\log (1-p_1) + X_2 \\log p_2 + (n_2 - X_2) \\log (1-p_2) + \\log {n_1 \\choose X_1} + \\log {n_2 \\choose X_2}.$$\n",
    "Then\n",
    "$$\\begin{split}\n",
    "\\frac{\\partial}{\\partial p_1} \\log \\mathcal{L}(X_1, X_2) &= \\frac{X_1}{p_1} - \\frac{n_1 - X_1}{1 - p_1} \\\\\n",
    "\\frac{\\partial}{\\partial p_2} \\log \\mathcal{L}(X_1, X_2) &= \\frac{X_2}{p_2} - \\frac{n_2 - X_2}{1 - p_2} \\\\\n",
    "\\frac{\\partial^2}{\\partial p_1^2} \\log \\mathcal{L}(X_1, X_2) &= -\\frac{X_1}{p_1^2} - \\frac{n_1 - X_1}{(1 - p_1)^2} \\\\\n",
    "\\frac{\\partial^2}{\\partial p_2^2} \\log \\mathcal{L}(X_1, X_2) &= -\\frac{X_2}{p_2^2} - \\frac{n_2 - X_2}{(1 - p_2)^2} \\\\\n",
    "\\frac{\\partial^2}{\\partial p_1 \\partial p_2} \\log \\mathcal{L}(X_1, X_2) &= 0 \\\\\n",
    "\\end{split}$$\n",
    "Setting $\\frac{\\partial}{\\partial p_1} \\log \\mathcal{L}(X_1, X_2) = 0$ and $\\frac{\\partial}{\\partial p_2} \\log \\mathcal{L}(X_1, X_2) = 0$, we obtain \n",
    "$$\\begin{split}\n",
    "\\widehat{p}_1 &= \\frac{X_1}{n_1}, \\\\\n",
    "\\widehat{p}_1 &= \\frac{X_2}{n_2}. \\\\\n",
    "\\end{split}$$\n",
    "\n",
    "(b) The expectations are\n",
    "$$\\begin{split}\n",
    "\\mathbb{E}\\left[-\\frac{\\partial^2}{\\partial p_1^2} \\log \\mathcal{L}(X_1, X_2)\\right] &= \\frac{\\mathbb{E}[X_1]}{p_1^2} + \\frac{n_1 - \\mathbb{E}[X_1]}{(1 - p_1)^2} = \\frac{n_1}{p_1} + \\frac{n_1}{1 - p_1} = \\frac{n_1}{p_1 (1 - p_1)}, \\\\\n",
    "\\mathbb{E}\\left[-\\frac{\\partial^2}{\\partial p_2^2} \\log \\mathcal{L}(X_1, X_2)\\right] &= \\frac{\\mathbb{E}[X_2]}{p_2^2} + \\frac{n_2 - \\mathbb{E}[X_2]}{(1 - p_2)^2} = \\frac{n_2}{p_2} + \\frac{n_2}{1 - p_2} = \\frac{n_2}{p_2 (1 - p_2)}, \\\\\n",
    "\\mathbb{E}\\left[-\\frac{\\partial^2}{\\partial p_1 \\partial p_2} \\log \\mathcal{L}(X_1, X_2)\\right] &= 0, \\\\\n",
    "\\end{split}$$\n",
    "so the Fisher information matrix is given by\n",
    "$$I(p_1, p_2) = \\begin{pmatrix}\n",
    "\\frac{n_1}{p_1 (1 - p_1)} & 0 \\\\\n",
    "0 & \\frac{n_2}{p_2 (1 - p_2)} \\\\\n",
    "\\end{pmatrix}.$$\n",
    "\n",
    "(c) Inverting the Fisher information matrix obtained above, we get\n",
    "$$J = I(p_1, p_2)^{-1} = \\begin{pmatrix}\n",
    "\\frac{p_1 (1 - p_1)}{n_1} & 0 \\\\\n",
    "0 & \\frac{p_2 (1 - p_2)}{n_2} \\\\\n",
    "\\end{pmatrix}.$$\n",
    "\n",
    "For $\\psi = p_1 - p_2$, we have\n",
    "$$\\nabla \\psi = \\begin{pmatrix}\n",
    "1 \\\\\n",
    "-1 \\\\\n",
    "\\end{pmatrix}.$$\n",
    "\n",
    "Then by Theorem 9.28 (Multiparameter delta method), we obtain\n",
    "$$\\widehat{\\text{se}}(\\widehat{\\psi})^2 \n",
    "= (\\widehat{\\nabla \\psi})^T \\widehat{J} (\\widehat{\\nabla \\psi})\n",
    "= \\frac{\\hat{p}_1 (1 - \\hat{p}_1)}{n_1} + \\frac{\\hat{p}_2 (1 - \\hat{p}_2)}{n_2}\n",
    "= \\frac{X_1 (n_1 - X_1)}{n_1^3} + \\frac{X_2 (n_2 - X_2)}{n_2^3}.\n",
    "$$\n",
    "\n",
    "(d)"
   ]
  },
  {
   "cell_type": "code",
   "execution_count": 18,
   "id": "47d62deb-74c8-404c-bb31-c683dffa082a",
   "metadata": {},
   "outputs": [],
   "source": [
    "n1 = 200\n",
    "n2 = 200\n",
    "X1 = 160\n",
    "X2 = 148"
   ]
  },
  {
   "cell_type": "code",
   "execution_count": 19,
   "id": "6d9bb4fa-8127-49ce-bd47-6b41caf62e3e",
   "metadata": {},
   "outputs": [],
   "source": [
    "alpha = 0.1"
   ]
  },
  {
   "cell_type": "markdown",
   "id": "6ecebffd-fc68-42f9-93f8-a86ba56cfdca",
   "metadata": {},
   "source": [
    "The estimator $\\hat{\\psi}$:"
   ]
  },
  {
   "cell_type": "code",
   "execution_count": 20,
   "id": "00dff50f-2347-4b39-ae0d-fc15d5df1722",
   "metadata": {},
   "outputs": [
    {
     "data": {
      "text/plain": [
       "0.06000000000000005"
      ]
     },
     "execution_count": 20,
     "metadata": {},
     "output_type": "execute_result"
    }
   ],
   "source": [
    "p1_mle = X1 / n1\n",
    "p2_mle = X2 / n2\n",
    "psi_mle = p1_mle - p2_mle\n",
    "psi_mle"
   ]
  },
  {
   "cell_type": "markdown",
   "id": "00dd208d-c710-4197-b96f-70d7077fe0df",
   "metadata": {},
   "source": [
    "The 90% confidence interval using the delta method:"
   ]
  },
  {
   "cell_type": "code",
   "execution_count": 21,
   "id": "100ecbb6-c2ec-413b-9cc1-0c253dceebf9",
   "metadata": {},
   "outputs": [
    {
     "data": {
      "text/plain": [
       "array([-0.00904468,  0.12904468])"
      ]
     },
     "execution_count": 21,
     "metadata": {},
     "output_type": "execute_result"
    }
   ],
   "source": [
    "se = np.sqrt(X1 * (n1 - X1) / n1 ** 3 + X2 * (n2 - X2) / n2 ** 3)\n",
    "psi_mle + stats.norm.ppf([alpha / 2, 1 - alpha / 2]) * se"
   ]
  },
  {
   "cell_type": "markdown",
   "id": "b5051de2-2875-4286-81db-60d26e42f370",
   "metadata": {},
   "source": [
    "The 90% confidence interval using the parametric bootstrap:"
   ]
  },
  {
   "cell_type": "code",
   "execution_count": 22,
   "id": "4d7eee8c-e7ab-46fc-a538-a4bbdb070034",
   "metadata": {},
   "outputs": [],
   "source": [
    "m = 1000"
   ]
  },
  {
   "cell_type": "code",
   "execution_count": 23,
   "id": "ea9c5775-01b2-4478-8955-bc632e50b84e",
   "metadata": {},
   "outputs": [],
   "source": [
    "x1 = stats.binom.rvs(size=m, n=n1, p=p1_mle, random_state=rng)\n",
    "x2 = stats.binom.rvs(size=m, n=n2, p=p2_mle, random_state=rng)"
   ]
  },
  {
   "cell_type": "code",
   "execution_count": 24,
   "id": "07a36809-8b87-4b15-93ed-e4edde57be21",
   "metadata": {},
   "outputs": [
    {
     "data": {
      "text/plain": [
       "array([-0.01 ,  0.125])"
      ]
     },
     "execution_count": 24,
     "metadata": {},
     "output_type": "execute_result"
    }
   ],
   "source": [
    "2 * psi_mle - np.quantile(x1 / n1 - x2 / n2, q=[1 - alpha / 2, alpha / 2])"
   ]
  },
  {
   "cell_type": "markdown",
   "id": "bc2a7038-2160-4e03-8b30-3a13f7ef1656",
   "metadata": {},
   "source": [
    "## Exercise 8\n",
    "\n",
    "The likelihood is given by\n",
    "$$\\mathcal{L}(X_1, \\dots, X_n) \n",
    "= \\prod_{i=1}^n \\frac{1}{\\sqrt{2\\pi} \\sigma} e^{-\\frac{(X_i - \\mu)^2}{2\\sigma^2}}\n",
    "= (2\\pi)^{-\\frac{n}{2}} \\sigma^{-n} \\exp\\left\\{-\\frac{1}{2\\sigma^2} \\sum_{i=1}^n (X_i - \\mu)^2\\right\\},$$\n",
    "so\n",
    "$$\\log \\mathcal{L}(X_1, \\dots, X_n) \n",
    "= -\\frac{n}{2} \\log (2\\pi) -n \\log \\sigma -\\frac{1}{2\\sigma^2} \\sum_{i=1}^n (X_i - \\mu)^2.$$\n",
    "Then\n",
    "$$\\begin{split}\n",
    "\\frac{\\partial}{\\partial \\mu} \\log \\mathcal{L}(X_1, \\dots, X_n) &= \\frac{1}{\\sigma^2} \\sum_{i=1}^n (X_1 - \\mu) \\\\\n",
    "\\frac{\\partial}{\\partial \\sigma} \\log \\mathcal{L}(X_1, \\dots, X_n) &= -\\frac{n}{\\sigma} + \\frac{1}{\\sigma^3} \\sum_{i=1}^n (X_1 - \\mu)^2 \\\\\n",
    "\\frac{\\partial^2}{\\partial \\mu^2} \\log \\mathcal{L}(X_1, \\dots, X_n) &= -\\frac{n}{\\sigma_2} \\\\\n",
    "\\frac{\\partial^2}{\\partial \\sigma^2} \\log \\mathcal{L}(X_1, \\dots, X_n) &= \\frac{n}{\\sigma^2} - \\frac{3}{\\sigma^4} \\sum_{i=1}^n (X_1 - \\mu)^2 \\\\\n",
    "\\frac{\\partial^2}{\\partial p_1 \\partial p_2} \\log \\mathcal{L}(X_1, \\dots, X_n) &= -\\frac{2}{\\sigma^3} \\sum_{i=1}^n (X_1 - \\mu)\\\\\n",
    "\\end{split}$$\n",
    "and\n",
    "$$\\begin{split}\n",
    "\\mathbb{E}\\left[-\\frac{\\partial^2}{\\partial \\mu^2} \\log \\mathcal{L}(X_1, \\dots, X_n)\\right] &= \\frac{n}{\\sigma_2} \\\\\n",
    "\\mathbb{E}\\left[-\\frac{\\partial^2}{\\partial \\sigma^2} \\log \\mathcal{L}(X_1, \\dots, X_n)\\right] \n",
    "&= -\\frac{n}{\\sigma^2} + \\frac{3}{\\sigma^4} \\sum_{i=1}^n \\mathbb{E}[(X_1 - \\mu)^2]\n",
    "= -\\frac{n}{\\sigma^2} + \\frac{3}{\\sigma^4} n\\sigma^2\n",
    "= \\frac{2n}{\\sigma^2} \\\\\n",
    "\\mathbb{E}\\left[-\\frac{\\partial^2}{\\partial p_1 \\partial p_2} \\log \\mathcal{L}(X_1, \\dots, X_n)\\right] &= \\frac{2}{\\sigma^3} \\sum_{i=1}^n \\mathbb{E}[X_1 - \\mu] = 0\\\\\n",
    "\\end{split}$$\n",
    "Therefore, the Fisher information matrix is given by\n",
    "$$I_n(\\mu, \\sigma) = \\begin{pmatrix}\n",
    "\\frac{n}{\\sigma_2} & 0 \\\\\n",
    "0 & \\frac{2n}{\\sigma^2} \\\\\n",
    "\\end{pmatrix}.$$"
   ]
  },
  {
   "cell_type": "markdown",
   "id": "3f595759-9088-47fb-bc4e-534542ffe0c0",
   "metadata": {},
   "source": [
    "## Exercise 9\n",
    "\n",
    "(a) Following Example 9.21, we have\n",
    "$$\\widehat{\\text{se}}(\\widehat{\\mu}) = \\frac{\\sigma}{\\sqrt{n}} = \\frac{1}{\\sqrt{n}}.$$\n",
    "Then by Theorem 9.21 (The Delta Method) with $g(x) = e^x$, we have\n",
    "$$\\widehat{\\text{se}}(\\widehat{\\theta}) = e^{\\widehat{\\mu}} \\widehat{\\text{se}}(\\widehat{\\mu}) = \\frac{e^{\\overline{X}}}{\\sqrt{n}}.$$"
   ]
  },
  {
   "cell_type": "code",
   "execution_count": 25,
   "id": "66afac94-8a73-495f-bb32-be896dac5037",
   "metadata": {},
   "outputs": [],
   "source": [
    "mu = 5\n",
    "sigma = 1\n",
    "n = 100"
   ]
  },
  {
   "cell_type": "code",
   "execution_count": 26,
   "id": "51b2f3d7-05e8-4d8e-a1ea-a632e8380fd3",
   "metadata": {},
   "outputs": [],
   "source": [
    "alpha = 0.05"
   ]
  },
  {
   "cell_type": "code",
   "execution_count": 27,
   "id": "148328bd-8056-4bde-8366-4d5ad67a236f",
   "metadata": {},
   "outputs": [],
   "source": [
    "x = stats.norm.rvs(size=n, loc=mu, scale=sigma, random_state=rng)"
   ]
  },
  {
   "cell_type": "code",
   "execution_count": 28,
   "id": "0c6b0408-5d40-41b5-80ed-50855a51d50e",
   "metadata": {},
   "outputs": [
    {
     "data": {
      "text/plain": [
       "np.float64(159.50924633813153)"
      ]
     },
     "execution_count": 28,
     "metadata": {},
     "output_type": "execute_result"
    }
   ],
   "source": [
    "theta_mle = np.exp(np.mean(x))\n",
    "theta_mle"
   ]
  },
  {
   "cell_type": "markdown",
   "id": "8da7ac87-7a86-4c98-ada3-9314e99e5bc5",
   "metadata": {},
   "source": [
    "The 95% confidence interval using the delta method:"
   ]
  },
  {
   "cell_type": "code",
   "execution_count": 29,
   "id": "2b798993-5388-43d1-844e-ead582309db1",
   "metadata": {},
   "outputs": [
    {
     "data": {
      "text/plain": [
       "array([128.24600854, 190.77248414])"
      ]
     },
     "execution_count": 29,
     "metadata": {},
     "output_type": "execute_result"
    }
   ],
   "source": [
    "se_theta = np.exp(np.mean(x)) / np.sqrt(n)\n",
    "theta_mle + stats.norm.ppf([alpha / 2, 1 - alpha / 2]) * se_theta"
   ]
  },
  {
   "cell_type": "markdown",
   "id": "fbf9dd0f-5ec6-428e-ba30-0c0c3f9e49c8",
   "metadata": {},
   "source": [
    "Using parametric bootstrap:"
   ]
  },
  {
   "cell_type": "code",
   "execution_count": 30,
   "id": "f4cf6d96-07b2-4f16-af80-5577486fde86",
   "metadata": {},
   "outputs": [
    {
     "data": {
      "text/plain": [
       "array([128.46309869, 190.55539399])"
      ]
     },
     "execution_count": 30,
     "metadata": {},
     "output_type": "execute_result"
    }
   ],
   "source": [
    "x_star = stats.norm.rvs(size=(m, n), loc=np.mean(x), scale=sigma, random_state=rng)\n",
    "theta_star = np.exp(np.mean(x_star, axis=1))\n",
    "theta_mle + stats.norm.ppf([alpha / 2, 1 - alpha / 2]) * np.std(theta_star)"
   ]
  },
  {
   "cell_type": "markdown",
   "id": "845501ca-1bb2-4b2b-8a77-a8d781bbb0c4",
   "metadata": {},
   "source": [
    "Using non-parametric bootstrap:"
   ]
  },
  {
   "cell_type": "code",
   "execution_count": 31,
   "id": "83a0d3bc-cf68-42bd-81ef-25c43b7b9fd0",
   "metadata": {},
   "outputs": [
    {
     "data": {
      "text/plain": [
       "array([123.44854827, 188.07992447])"
      ]
     },
     "execution_count": 31,
     "metadata": {},
     "output_type": "execute_result"
    }
   ],
   "source": [
    "theta_star2 = stats.bootstrap((x,), lambda x: np.exp(np.mean(x)), n_resamples=m, random_state=rng).bootstrap_distribution\n",
    "2 * theta_mle - np.quantile(theta_star2, q=[1 - alpha / 2, alpha / 2])"
   ]
  },
  {
   "cell_type": "markdown",
   "id": "69f4e9f3-7db2-4de6-82e6-f8c4c6b8e6a3",
   "metadata": {},
   "source": [
    "The three intervals are consistent."
   ]
  },
  {
   "cell_type": "markdown",
   "id": "53d39c75-6b81-4d6c-b833-990d9e32c530",
   "metadata": {},
   "source": [
    "(b)"
   ]
  },
  {
   "cell_type": "code",
   "execution_count": 32,
   "id": "ea0dc56a-7c90-499f-8f8a-04a0eeaeac30",
   "metadata": {},
   "outputs": [],
   "source": [
    "import matplotlib.pyplot as plt"
   ]
  },
  {
   "cell_type": "code",
   "execution_count": 33,
   "id": "a34ded93-f4c7-4ef8-9d07-9b813af2c765",
   "metadata": {},
   "outputs": [
    {
     "data": {
      "image/png": "[encoded data removed]",
      "text/plain": [
       "<Figure size 1500x400 with 3 Axes>"
      ]
     },
     "metadata": {},
     "output_type": "display_data"
    }
   ],
   "source": [
    "xs = np.linspace(100, 230, 100)\n",
    "\n",
    "fig, axs = plt.subplots(1, 3, figsize=(15, 4), sharex=True, sharey=True);\n",
    "\n",
    "axs[0].plot(xs, stats.norm.pdf(xs, loc=theta_mle, scale=se_theta), label='Approximation');\n",
    "axs[0].plot(xs, stats.lognorm.pdf(xs, s=1 / np.sqrt(n), scale=np.exp(mu)), label='Sampling distribution');\n",
    "axs[0].set_title('Asymptotic approximation');\n",
    "#axs[0].legend();\n",
    "\n",
    "axs[1].hist(theta_star, bins=20, density=True, label='Bootstrap sample');\n",
    "axs[1].plot(xs, stats.lognorm.pdf(xs, s=1 / np.sqrt(n), scale=np.exp(mu)), label='Sampling distribution');\n",
    "axs[1].set_title('Sample from parametric bootstrap');\n",
    "#axs[1].legend();\n",
    "\n",
    "axs[2].hist(theta_star2, density=True, bins=20);\n",
    "axs[2].plot(xs, stats.lognorm.pdf(xs, s=1 / np.sqrt(n), scale=np.exp(mu)), label='Sampling distribution');\n",
    "axs[2].set_title('Sample from non-parametric bootstrap');"
   ]
  },
  {
   "cell_type": "markdown",
   "id": "8114364f-cd0f-4c15-8b2d-4d175ccb0f2e",
   "metadata": {},
   "source": [
    "We can see that all three approached provide similar approximations of the true sampling distribution."
   ]
  },
  {
   "cell_type": "markdown",
   "id": "fcb9a35e-41c7-4a0c-986b-d6d115a33890",
   "metadata": {},
   "source": [
    "## Exercise 10\n",
    "\n",
    "(a) Using the results of Exercise 4, we have for $Y_n = \\max(X_1, \\dots, X_n)$\n",
    "$$f(x) = \\begin{cases}\n",
    "\\frac{n}{\\theta} \\left(\\frac{x}{\\theta}\\right)^{n-1}, &\\text{ if } x \\in [0, \\theta] \\\\\n",
    "0, &\\text{otherwise}\n",
    "\\end{cases}$$"
   ]
  },
  {
   "cell_type": "code",
   "execution_count": 35,
   "id": "090def11-0014-43cb-8bad-e9a0f11f42c3",
   "metadata": {},
   "outputs": [],
   "source": [
    "theta = 1\n",
    "n = 50\n",
    "m = 1000"
   ]
  },
  {
   "cell_type": "code",
   "execution_count": 38,
   "id": "55c7ac40-8dfb-4f93-a812-61828def35ae",
   "metadata": {},
   "outputs": [],
   "source": [
    "x = stats.uniform.rvs(size=n, loc=0, scale=theta, random_state=rng)"
   ]
  },
  {
   "cell_type": "code",
   "execution_count": 39,
   "id": "bbdd4619-df1d-4320-b01d-a07213c3159f",
   "metadata": {},
   "outputs": [
    {
     "data": {
      "text/plain": [
       "np.float64(0.9860261691306146)"
      ]
     },
     "execution_count": 39,
     "metadata": {},
     "output_type": "execute_result"
    }
   ],
   "source": [
    "theta_hat = np.max(x)\n",
    "theta_hat"
   ]
  },
  {
   "cell_type": "markdown",
   "id": "a9982127-856e-455c-8d57-6674bb7610a2",
   "metadata": {},
   "source": [
    "Sample from the parametric bootstrap:"
   ]
  },
  {
   "cell_type": "code",
   "execution_count": 41,
   "id": "2031849c-3279-46b8-a58b-5d7892ce0203",
   "metadata": {},
   "outputs": [],
   "source": [
    "x_star_param = stats.uniform.rvs(size=(m, n), loc=0, scale=theta_hat, random_state=rng)\n",
    "theta_star_param = np.max(x_star_param, axis=1)"
   ]
  },
  {
   "cell_type": "markdown",
   "id": "b5264280-4572-4ee6-baab-0827496878ae",
   "metadata": {},
   "source": [
    "Sample from non-parametric bootstrap:"
   ]
  },
  {
   "cell_type": "code",
   "execution_count": 46,
   "id": "803f0ab0-1497-497b-ae8a-2c71fb8e5bb7",
   "metadata": {},
   "outputs": [],
   "source": [
    "theta_star_nonparam = stats.bootstrap((x,), lambda x: np.max(x), n_resamples=m, random_state=rng).bootstrap_distribution"
   ]
  },
  {
   "cell_type": "code",
   "execution_count": 48,
   "id": "173ea078-88c8-42ae-b32e-cdaa0d9ff339",
   "metadata": {},
   "outputs": [
    {
     "data": {
      "image/png": "[encoded data removed]",
      "text/plain": [
       "<Figure size 1000x400 with 2 Axes>"
      ]
     },
     "metadata": {},
     "output_type": "display_data"
    }
   ],
   "source": [
    "xs = np.linspace(0.85, 1., 100)\n",
    "\n",
    "fig, axs = plt.subplots(1, 2, figsize=(10, 4), sharex=True)\n",
    "\n",
    "axs[0].hist(theta_star_param, bins=50, density=True, label='Bootstrap sample');\n",
    "axs[0].plot(xs, n / theta * (xs / theta) ** (n - 1), label='True distribution');\n",
    "axs[0].set_title('Sample from parametric bootstrap');\n",
    "axs[0].legend();\n",
    "\n",
    "axs[1].hist(theta_star_nonparam, bins=50, density=True, label='Bootstrap sample');\n",
    "axs[1].plot(xs, n / theta * (xs / theta) ** (n - 1), label='True distribution');\n",
    "axs[1].set_title('Sample from non-parametric bootstrap');\n",
    "axs[1].legend();"
   ]
  },
  {
   "cell_type": "markdown",
   "id": "dccb4a6f-a083-43f6-9f1d-90c0787ecb6f",
   "metadata": {},
   "source": [
    "(b) We showed in Exercise 7 in Chapter 8 that $\\mathbb{P}(\\hat{\\theta}^* = \\hat{\\theta}) \\approx 0.632$. In the parametric bootstrap, $\\hat{\\theta}^*$ has a continuous distribution with density\n",
    "$$f(\\hat{\\theta}^*) = \\begin{cases}\n",
    "\\frac{n}{\\hat{\\theta}} \\left(\\frac{\\hat{\\theta}^*}{\\hat{\\theta}}\\right)^{n-1}, &\\text{ if } \\hat{\\theta}^* \\in [0, \\hat{\\theta}] \\\\\n",
    "0, &\\text{otherwise}\n",
    "\\end{cases}$$\n",
    "so $\\mathbb{P}(\\hat{\\theta}^* = \\hat{\\theta}) = 0$."
   ]
  }
 ],
 "metadata": {
  "kernelspec": {
   "display_name": "Python 3 (ipykernel)",
   "language": "python",
   "name": "python3"
  },
  "language_info": {
   "codemirror_mode": {
    "name": "ipython",
    "version": 3
   },
   "file_extension": ".py",
   "mimetype": "text/x-python",
   "name": "python",
   "nbconvert_exporter": "python",
   "pygments_lexer": "ipython3",
   "version": "3.13.0"
  }
 },
 "nbformat": 4,
 "nbformat_minor": 5
}
