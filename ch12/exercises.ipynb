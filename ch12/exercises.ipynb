{
 "cells": [
  {
   "cell_type": "code",
   "execution_count": 125,
   "id": "ab5b2455-3975-455d-b558-1ea31e0538f1",
   "metadata": {},
   "outputs": [],
   "source": [
    "import numpy as np\n",
    "import pandas as pd\n",
    "import matplotlib.pyplot as plt\n",
    "import scipy.stats as stats"
   ]
  },
  {
   "cell_type": "markdown",
   "id": "9b98d2c2-1dfd-4955-8a31-c8ff544bcdc6",
   "metadata": {},
   "source": [
    "## Exercise 1\n",
    "\n",
    "(a) The risk of an estimator $\\hat{p}(i)$ under the squared error loss is given by\n",
    "$$\\begin{split}\n",
    "R(p, \\hat{p}) \n",
    "&= \\sum_{i=0}^n {n \\choose i} (p - \\hat{p}(i))^2 p^i (1-p)^{n-i} \\\\\n",
    "&= \\sum_{i=0}^n {n \\choose i} (p^2  - 2 p \\hat{p}(i) + \\hat{p}(i)^2) p^i (1-p)^{n-i} \\\\\n",
    "&= p^2 \\sum_{i=0}^n {n \\choose i} p^i (1-p)^{n-i} - 2 p \\sum_{i=0}^n \\hat{p}(i) {n \\choose i} p^i (1-p)^{n-i} + \\sum_{i=0}^n \\hat{p}(i)^2 {n \\choose i} p^i (1-p)^{n-i} \\\\\n",
    "&= p^2 - 2 p \\sum_{i=0}^n \\hat{p}(i) {n \\choose i} p^i (1-p)^{n-i} + \\sum_{i=0}^n \\hat{p}(i)^2 {n \\choose i} p^i (1-p)^{n-i}. \\\\\n",
    "\\end{split}$$\n",
    "Then the Bayes risk under the $\\text{Beta}(\\alpha, \\beta)$ prior is\n",
    "$$\\begin{split}\n",
    "r(f,\\hat{p}) \n",
    "&= \\int R(p, \\hat{p}) f(p) dp \\\\\n",
    "&= \\int R(p, \\hat{p}) \\frac{\\Gamma(\\alpha + \\beta)}{\\Gamma(\\alpha) \\Gamma(\\beta)} p^{\\alpha - 1} (1 - p)^{\\beta - 1} dp \\\\\n",
    "&= \\frac{\\Gamma(\\alpha + \\beta)}{\\Gamma(\\alpha) \\Gamma(\\beta)} \\int \\left( p^2 - 2 p \\sum_{i=0}^n \\hat{p}(i) {n \\choose i} p^i (1-p)^{n-i} + \\sum_{i=0}^n \\hat{p}(i)^2 {n \\choose i} p^i (1-p)^{n-i} \\right) p^{\\alpha - 1} (1 - p)^{\\beta - 1} dp \\\\\n",
    "&= \\frac{\\Gamma(\\alpha + \\beta)}{\\Gamma(\\alpha) \\Gamma(\\beta)} \\left[ \\int p^{\\alpha + 2 - 1} (1 - p)^{\\beta - 1} dp - 2 \\sum_{i=0}^n \\hat{p}(i) {n \\choose i} \\int p^{\\alpha + i + 1 - 1} (1-p)^{\\beta + n-i - 1} dp + \\sum_{i=0}^n \\hat{p}(i)^2 {n \\choose i} \\int p^{\\alpha + i - 1} (1-p)^{\\beta + n-i - 1} dp \\right] \\\\\n",
    "&= \\frac{\\Gamma(\\alpha + \\beta)}{\\Gamma(\\alpha) \\Gamma(\\beta)} \\left[ \\frac{\\Gamma(\\alpha + 2) \\Gamma(\\beta)}{\\Gamma(\\alpha + \\beta + 2)} - 2 \\sum_{i=0}^n \\hat{p}(i) {n \\choose i} \\frac{\\Gamma(\\alpha + i + 1) \\Gamma(\\beta + n - i)}{\\Gamma(\\alpha + \\beta + n + 1)} + \\sum_{i=0}^n \\hat{p}(i)^2 {n \\choose i} \\frac{\\Gamma(\\alpha + i) \\Gamma(\\beta + n - i)}{\\Gamma(\\alpha + \\beta + n)} \\right] \\\\\n",
    "&= \\frac{\\Gamma(\\alpha + \\beta)}{\\Gamma(\\alpha) \\Gamma(\\beta)} \\left[ \\frac{\\Gamma(\\alpha + 2) \\Gamma(\\beta)}{\\Gamma(\\alpha + \\beta + 2)} + \\frac{\\Gamma(\\alpha + i) \\Gamma(\\beta + n - i)}{\\Gamma(\\alpha + \\beta + n)} \\sum_{i=0}^n  {n \\choose i} \\left( - 2 \\hat{p}(i) \\frac{\\alpha + i}{\\alpha + \\beta + n} + \\hat{p}(i)^2 \\right)  \\right] \\\\\n",
    "&= \\frac{\\Gamma(\\alpha + \\beta)}{\\Gamma(\\alpha) \\Gamma(\\beta)} \\left[ \\frac{\\Gamma(\\alpha + 2) \\Gamma(\\beta)}{\\Gamma(\\alpha + \\beta + 2)} + \\frac{\\Gamma(\\alpha + i) \\Gamma(\\beta + n - i)}{\\Gamma(\\alpha + \\beta + n)} \\sum_{i=0}^n  {n \\choose i} \\left( \\left( \\hat{p}(i) - \\frac{\\alpha + i}{\\alpha + \\beta + n} \\right)^2 \\right) - \\left(\\frac{\\alpha + i}{\\alpha + \\beta + n} \\right)^2 \\right]. \\\\\n",
    "\\end{split}$$\n",
    "\n",
    "The Bayes risk is minimised when\n",
    "$$\\hat{p}(i) = \\frac{\\alpha + i}{\\alpha + \\beta + n},$$\n",
    "which is also the posterior mean."
   ]
  },
  {
   "cell_type": "markdown",
   "id": "0ff17526-cfd8-4f7d-a34c-11750bcaa5b8",
   "metadata": {},
   "source": [
    "(b) The risk of an estimator $\\hat{\\lambda}(i)$ under the squared error loss is given by\n",
    "$$R(\\lambda, \\hat{\\lambda}) = \\sum_{i=0}^\\infty (\\lambda - \\hat{\\lambda}(i))^2 e^{-\\lambda} \\frac{\\lambda^i}{i!},$$\n",
    "so the Bayes risk under the $\\text{Gamma}(\\alpha, \\beta)$ prior is\n",
    "$$\\begin{split}\n",
    "r(f, \\hat{\\lambda}) \n",
    "&= \\int R(\\lambda, \\hat{\\lambda}) f(\\lambda) d\\lambda \\\\\n",
    "&= \\int \\left( \\sum_{i=0}^\\infty (\\lambda - \\hat{\\lambda}(i))^2 e^{-\\lambda} \\frac{\\lambda^i}{i!} \\right) \\frac{\\beta^\\alpha}{\\Gamma(\\alpha)} \\lambda^{\\alpha - 1} e^{-\\beta \\lambda} d\\lambda \\\\\n",
    "&= \\frac{\\beta^\\alpha}{\\Gamma(\\alpha)} \\sum_{i=0}^\\infty \\frac{1}{i!} \\int (\\lambda - \\hat{\\lambda}(i))^2 \\lambda^{\\alpha + i - 1} e^{-(\\beta + 1) \\lambda} d\\lambda \\\\\n",
    "&= \\frac{\\beta^\\alpha}{\\Gamma(\\alpha)} \\sum_{i=0}^\\infty \\frac{1}{i!} \\left( \\int \\lambda^{\\alpha + i + 2 - 1} e^{-(\\beta + 1) \\lambda} d\\lambda - 2 \\hat{\\lambda}(i) \\int \\lambda^{\\alpha + i + 1 - 1} e^{-(\\beta + 1) \\lambda} d\\lambda + \\hat{\\lambda}(i)^2 \\int \\lambda^{\\alpha + i - 1} e^{-(\\beta + 1) \\lambda} d\\lambda \\right) \\\\\n",
    "&= \\frac{\\beta^\\alpha}{\\Gamma(\\alpha)} \\sum_{i=0}^\\infty \\frac{1}{i!} \\left( \\frac{\\Gamma(\\alpha + i + 2)}{(\\beta + 1)^{\\alpha + i + 2}} - 2 \\hat{\\lambda}(i)  \\frac{\\Gamma(\\alpha + i + 1)}{(\\beta + 1)^{\\alpha + i + 1}} + \\hat{\\lambda}(i)^2  \\frac{\\Gamma(\\alpha + i)}{(\\beta + 1)^{\\alpha + i}} \\right) \\\\\n",
    "&= \\frac{\\beta^\\alpha}{\\Gamma(\\alpha)}  \\sum_{i=0}^\\infty \\frac{1}{i!} \\frac{\\Gamma(\\alpha + i)}{(\\beta + 1)^{\\alpha + i}} \\left( \\frac{(\\alpha + i)(\\alpha + i + 1)}{(\\beta + 1)^2} - 2 \\hat{\\lambda}(i) \\frac{\\alpha + i}{\\beta + 1} + \\hat{\\lambda}(i)^2 \\right) \\\\\n",
    "&= \\frac{\\beta^\\alpha}{\\Gamma(\\alpha)}  \\sum_{i=0}^\\infty \\frac{1}{i!} \\frac{\\Gamma(\\alpha + i)}{(\\beta + 1)^{\\alpha + i}} \\left( \\frac{(\\alpha + i)(\\alpha + i + 1)}{(\\beta + 1)^2} + \\left( \\hat{\\lambda}(i) - \\frac{\\alpha + i}{\\beta + 1}\\right)^2 - \\left( \\frac{\\alpha + i}{\\beta + 1} \\right)^2 \\right). \\\\\n",
    "\\end{split}$$\n",
    "This is minimised by\n",
    "$$\\hat{\\lambda}(i) = \\frac{\\alpha + i}{\\beta + 1},$$\n",
    "which is of course also the posterior mean."
   ]
  },
  {
   "cell_type": "markdown",
   "id": "d3ddbb1e-6fb5-4b53-b2f0-bddcc307937e",
   "metadata": {},
   "source": [
    "(c) The risk of an estimateor $\\hat{\\theta}(x)$ under the squred error loss is given by\n",
    "$$\\begin{split}\n",
    "R(\\theta, \\hat{\\theta}) \n",
    "&= \\int (\\theta - \\hat{\\theta}(x))^2 \\frac{1}{\\sqrt{2\\pi}\\sigma} \\exp\\left\\{-\\frac{(x-\\theta)^2}{2\\sigma^2}\\right\\} dx \\\\\n",
    "&= \\theta^2 - 2 \\theta \\frac{1}{\\sqrt{2\\pi}\\sigma} \\int \\hat{\\theta}(x) \\exp\\left\\{-\\frac{(x-\\theta)^2}{2\\sigma^2}\\right\\} dx + \\frac{1}{\\sqrt{2\\pi}\\sigma} \\int \\hat{\\theta}(x)^2 \\exp\\left\\{-\\frac{(x-\\theta)^2}{2\\sigma^2}\\right\\} dx, \\\\\n",
    "\\end{split}$$\n",
    "so the Bayes risk under the $N(a, b^2)$ prior is\n",
    "$$\\begin{split}\n",
    "r(f, \\hat{\\theta}) \n",
    "&= \\int R(\\theta, \\hat{\\theta}) f(\\theta) d\\theta \\\\\n",
    "&= \\int \\left( \\theta^2 - 2 \\theta \\frac{1}{\\sqrt{2\\pi}\\sigma} \\int \\hat{\\theta}(x) \\exp\\left\\{-\\frac{(x-\\theta)^2}{2\\sigma^2}\\right\\} dx + \\frac{1}{\\sqrt{2\\pi}\\sigma} \\int \\hat{\\theta}(x)^2 \\exp\\left\\{-\\frac{(x-\\theta)^2}{2\\sigma^2}\\right\\} dx \\right) \\frac{1}{\\sqrt{2\\pi} b} \\exp\\left\\{ -\\frac{(\\theta - a)^2}{2b^2} \\right\\} d\\theta \\\\\n",
    "&= \\int \\theta^2 \\frac{1}{\\sqrt{2\\pi} b} \\exp\\left\\{ -\\frac{(\\theta - a)^2}{2b^2} \\right\\} d\\theta - 2 \\int \\theta \\frac{1}{\\sqrt{2\\pi}\\sigma} \\int \\hat{\\theta}(x) \\exp\\left\\{-\\frac{(x-\\theta)^2}{2\\sigma^2}\\right\\} \\frac{1}{\\sqrt{2\\pi} b} \\exp\\left\\{ -\\frac{(\\theta - a)^2}{2b^2} \\right\\} dx d\\theta + \\int \\frac{1}{\\sqrt{2\\pi}\\sigma} \\int \\hat{\\theta}(x)^2 \\exp\\left\\{-\\frac{(x-\\theta)^2}{2\\sigma^2}\\right\\} \\frac{1}{\\sqrt{2\\pi} b} \\exp\\left\\{ -\\frac{(\\theta - a)^2}{2b^2} \\right\\} dx d\\theta \\\\\n",
    "&= I_1 + -2 I_2 + I_3,\n",
    "\\end{split}$$\n",
    "where\n",
    "$$\\begin{split}\n",
    "I_1 &= \\int \\theta^2 \\frac{1}{\\sqrt{2\\pi} b} \\exp\\left\\{ -\\frac{(\\theta - a)^2}{2b^2} \\right\\} d\\theta = \\mathbb{E}[\\theta^2] = \\mathbb{V}[\\theta] + \\mathbb{E}[\\theta]^2 = b^2 + a^2, \\\\\n",
    "I_2 &= \\int \\theta \\frac{1}{\\sqrt{2\\pi}\\sigma} \\int \\hat{\\theta}(x) \\exp\\left\\{-\\frac{(x-\\theta)^2}{2\\sigma^2}\\right\\} \\frac{1}{\\sqrt{2\\pi} b} \\exp\\left\\{ -\\frac{(\\theta - a)^2}{2b^2} \\right\\} dx d\\theta \\\\\n",
    "&= \\frac{1}{2\\pi\\sigma b} \\int \\hat{\\theta}(x) \\int \\theta \\exp\\left\\{ -\\frac{(x-\\theta)^2}{2\\sigma^2} - \\frac{(\\theta - a)^2}{2b^2} \\right\\} d\\theta dx \\\\\n",
    "&= \\frac{1}{2\\pi\\sigma b} \\int \\hat{\\theta}(x) \\int \\theta \\exp\\left\\{ -\\frac{x^2-2x\\theta+\\theta^2}{2\\sigma^2} - \\frac{\\theta^2 - 2a\\theta + a^2}{2b^2} \\right\\} d\\theta dx \\\\\n",
    "&= \\frac{1}{2\\pi\\sigma b} \\exp\\left\\{-\\frac{a^2}{2b^2}\\right\\} \\int \\hat{\\theta}(x) \\exp\\left\\{-\\frac{x^2}{2\\sigma^2}\\right\\} \\int \\theta \\exp\\left\\{ -\\frac{1}{2} \\theta^2 \\left( \\frac{1}{\\sigma^2} + \\frac{1}{b^2} \\right) + \\theta \\left( \\frac{x}{\\sigma^2} + \\frac{a}{b^2} \\right)  \\right\\} d\\theta dx \\\\\n",
    "&= \\frac{1}{2\\pi\\sigma b} \\exp\\left\\{-\\frac{a^2}{2b^2}\\right\\} \\int \\hat{\\theta}(x) \\exp\\left\\{-\\frac{x^2}{2\\sigma^2}\\right\\} \\int \\theta \\exp\\left\\{ -\\frac{1}{2\\tau^2} ( \\theta^2 - 2 \\theta \\mu ) \\right\\} d\\theta dx, \\\\\n",
    "&= \\frac{1}{2\\pi\\sigma b} \\exp\\left\\{-\\frac{a^2}{2b^2}\\right\\} \\int \\hat{\\theta}(x) \\exp\\left\\{-\\frac{x^2}{2\\sigma^2}\\right\\} \\int \\theta \\exp\\left\\{ -\\frac{1}{2\\tau^2} ( (\\theta - \\mu)^2 - \\mu^2 ) \\right\\} d\\theta dx, \\\\\n",
    "&= \\frac{1}{2\\pi\\sigma b} \\exp\\left\\{-\\frac{a^2}{2b^2}\\right\\} \\int \\hat{\\theta}(x) \\exp\\left\\{-\\frac{x^2}{2\\sigma^2} + \\frac{\\mu^2}{2\\tau^2}\\right\\} \\int \\theta \\exp\\left\\{ -\\frac{(\\theta - \\mu)^2}{2\\tau^2}  \\right\\} d\\theta dx, \\\\\n",
    "&= \\frac{1}{2\\pi\\sigma b} \\exp\\left\\{-\\frac{a^2}{2b^2}\\right\\} \\int \\hat{\\theta}(x) \\exp\\left\\{-\\frac{x^2}{2\\sigma^2} + \\frac{\\mu^2}{2\\tau^2}\\right\\} \\sqrt{2\\pi} \\tau \\mu dx, \\\\\n",
    "&= \\frac{\\tau}{\\sqrt{2\\pi}\\sigma b } \\exp\\left\\{-\\frac{a^2}{2b^2}\\right\\} \\int \\hat{\\theta}(x) \\mu \\exp\\left\\{-\\frac{x^2}{2\\sigma^2} + \\frac{\\mu^2}{2\\tau^2}\\right\\}  dx, \\\\\n",
    "I_3 &= \\int \\frac{1}{\\sqrt{2\\pi}\\sigma} \\int \\hat{\\theta}(x)^2 \\exp\\left\\{-\\frac{(x-\\theta)^2}{2\\sigma^2}\\right\\} \\frac{1}{\\sqrt{2\\pi} b} \\exp\\left\\{ -\\frac{(\\theta - a)^2}{2b^2} \\right\\} d\\theta dx \\\\\n",
    "&= \\frac{1}{2\\pi\\sigma b} \\exp\\left\\{-\\frac{a^2}{2b^2}\\right\\} \\int \\hat{\\theta}(x)^2 \\exp\\left\\{-\\frac{x^2}{2\\sigma^2} + \\frac{\\mu^2}{2\\tau^2}\\right\\} \\int \\exp\\left\\{ -\\frac{(\\theta - \\mu)^2}{2\\tau^2}  \\right\\} d\\theta dx, \\\\\n",
    "&= \\frac{1}{2\\pi\\sigma b} \\exp\\left\\{-\\frac{a^2}{2b^2}\\right\\} \\int \\hat{\\theta}(x)^2 \\exp\\left\\{-\\frac{x^2}{2\\sigma^2} + \\frac{\\mu^2}{2\\tau^2}\\right\\} \\sqrt{2\\pi} \\tau dx, \\\\\n",
    "&= \\frac{\\tau}{\\sqrt{2\\pi}\\sigma b} \\exp\\left\\{-\\frac{a^2}{2b^2}\\right\\} \\int \\hat{\\theta}(x)^2 \\exp\\left\\{-\\frac{x^2}{2\\sigma^2} + \\frac{\\mu^2}{2\\tau^2}\\right\\} dx, \\\\\n",
    "\\end{split}\n",
    "$$\n",
    "and\n",
    "$$\\begin{split}\n",
    "\\frac{1}{\\tau^2} &= \\frac{1}{\\sigma^2} + \\frac{1}{b^2} \\\\\n",
    "\\mu &= \\frac{\\frac{x}{\\sigma^2} + \\frac{a}{b^2}}{\\frac{1}{\\sigma^2} + \\frac{1}{b^2}}.\n",
    "\\end{split}$$\n",
    "Therefore,\n",
    "$$\\begin{split}\n",
    "r(f, \\hat{\\theta}) \n",
    "&= I_1 + -2I_2 + I_3 \\\\\n",
    "&= b^2 + a^2 - 2 \\frac{\\tau}{\\sqrt{2\\pi}\\sigma b } \\exp\\left\\{-\\frac{a^2}{2b^2}\\right\\} \\int \\hat{\\theta}(x) \\mu \\exp\\left\\{-\\frac{x^2}{2\\sigma^2} + \\frac{\\mu^2}{2\\tau^2}\\right\\} dx + \\frac{\\tau}{\\sqrt{2\\pi}\\sigma b} \\exp\\left\\{-\\frac{a^2}{2b^2}\\right\\} \\int \\hat{\\theta}(x)^2 \\exp\\left\\{-\\frac{x^2}{2\\sigma^2} + \\frac{\\mu^2}{2\\tau^2}\\right\\} \\sqrt{2\\pi} dx \\\\\n",
    "&= b^2 + a^2 + \\frac{\\tau}{\\sqrt{2\\pi}\\sigma b } \\exp\\left\\{-\\frac{a^2}{2b^2}\\right\\} \\int (\\hat{\\theta}(x)^2 - 2 \\mu\\hat{\\theta}(x)) \\exp\\left\\{-\\frac{x^2}{2\\sigma^2} + \\frac{\\mu^2}{2\\tau^2}\\right\\} dx \\\\\n",
    "&= b^2 + a^2 + \\frac{\\tau}{\\sqrt{2\\pi}\\sigma b } \\exp\\left\\{-\\frac{a^2}{2b^2}\\right\\} \\int ((\\hat{\\theta}(x) - \\mu)^2 - \\mu^2) \\exp\\left\\{-\\frac{x^2}{2\\sigma^2} + \\frac{\\mu^2}{2\\tau^2}\\right\\} dx,\n",
    "\\end{split}$$\n",
    "which is minimised by\n",
    "$$\\hat{\\theta} = \\mu = \\frac{\\frac{x}{\\sigma^2} + \\frac{a}{b^2}}{\\frac{1}{\\sigma^2} + \\frac{1}{b^2}}.$$"
   ]
  },
  {
   "cell_type": "markdown",
   "id": "65c88f18-844f-413e-9920-3574bd7b1a9e",
   "metadata": {},
   "source": [
    "## Exercise 2\n",
    "\n",
    "From Definition 12.6, we have that multiplying the risk by a positive constant does not change the resulting Bayes and minimax estimators. Therefore, the Bayes estimator under $L(\\theta, \\hat{\\theta}) = (\\theta-\\hat{\\theta})^2 / \\sigma^2$ is the same as under the squared error loss.\n",
    "\n",
    "By Theorem 12.20, $\\widehat{X}$ is admissible under the squared error loss. The risk is\n",
    "$$\\mathbb{E}[(\\widehat{X} - \\theta)^2] = \\mathbb{V}[\\widehat{X}] = \\frac{\\sigma^2}{n},$$\n",
    "which is constant with respect to $\\theta$, so by Theorem 12.21, $\\widehat{X}$ is also minimax."
   ]
  },
  {
   "cell_type": "markdown",
   "id": "c5be8d4b-7428-4553-98b2-f807a8e82365",
   "metadata": {},
   "source": [
    "## Exercise 3\n",
    "\n",
    "Since the parameter space is finite, the posterior risk becomes\n",
    "$$\\begin{split}\n",
    "r(\\hat{\\theta} | x)\n",
    "&= \\int L(\\theta, \\hat{\\theta}(x)) f(\\theta|x) d\\theta \\\\\n",
    "&= \\sum_{i=1}^k \\mathbb{1}_{\\hat{\\theta}(x) \\neq \\theta_i} \\mathbb{P}(\\theta_i | x) \\\\\n",
    "&= \\mathbb{P}(\\hat{\\theta}(x) \\neq \\theta_i | x) \\\\\n",
    "&= 1 - \\mathbb{P}(\\hat{\\theta}(x) = \\theta_i | x). \\\\\n",
    "\\end{split}$$\n",
    "This is minimised when $\\mathbb{P}(\\hat{\\theta}(x) = \\theta_i | x)$ is maximised, which is when \n",
    "$$\\hat{\\theta}(x) = \\underset{\\theta_i}{\\operatorname{argmax}} \\mathbb{P}[\\theta_i | x].$$"
   ]
  },
  {
   "cell_type": "markdown",
   "id": "80659374-df45-468c-b600-d76a447ef5e0",
   "metadata": {},
   "source": [
    "## Exercise 4\n",
    "\n",
    "The risk of an estimator $\\hat{\\sigma}^2 = b S^2$ is given by\n",
    "$$\\begin{split}\n",
    "\\mathbb{E}[L(\\sigma^2, \\hat{\\sigma}^2)] \n",
    "&= \\mathbb{E}\\left[ \\frac{bS^2}{\\sigma^2} - 1 - \\log \\left(\\frac{b S^2}{\\sigma^2}\\right)\\right] \\\\\n",
    "&= b\\frac{\\mathbb{E}[S^2]}{\\sigma^2} - 1 - \\log b - \\mathbb{E}\\left[ \\log \\left( \\frac{S^2}{\\sigma^2} \\right)\\right] \\\\\n",
    "&= b\\frac{\\sigma^2}{\\sigma^2} - 1 - \\log b - \\mathbb{E}\\left[ \\log \\left( \\frac{S^2}{\\sigma^2} \\right)\\right] \\\\\n",
    "&= b - 1 - \\log b - \\mathbb{E}\\left[ \\log \\left( \\frac{S^2}{\\sigma^2} \\right)\\right]. \\\\\n",
    "\\end{split}$$\n",
    "\n",
    "Taking the derivative and setting it to 0:\n",
    "$$1 - \\frac{1}{b} = 0,$$\n",
    "we obtain $b = 1$. The second derivative\n",
    "$$\\frac{1}{b^2} > 0,$$\n",
    "so this is a minimum. Hence the risk is minimised by $b = 1$."
   ]
  },
  {
   "cell_type": "markdown",
   "id": "b8b8064a-fa42-45a1-bb17-18f5ae84425f",
   "metadata": {},
   "source": [
    "## Exercise 5"
   ]
  },
  {
   "cell_type": "code",
   "execution_count": 76,
   "id": "8b0023c4-1a87-4371-8cd8-4e207233b0d1",
   "metadata": {},
   "outputs": [],
   "source": [
    "n = 10\n",
    "i = 3\n",
    "a = 0.1"
   ]
  },
  {
   "cell_type": "code",
   "execution_count": 78,
   "id": "28199734-c675-45c5-b09b-c1864c993875",
   "metadata": {},
   "outputs": [],
   "source": [
    "def p_hat(i):\n",
    "    return np.where(i == 5, a, 0)"
   ]
  },
  {
   "cell_type": "code",
   "execution_count": 83,
   "id": "edff83fb-e37a-49fe-a1fe-a8d2fdc4a865",
   "metadata": {},
   "outputs": [],
   "source": [
    "def risk(p):\n",
    "    i = np.arange(n + 1)\n",
    "    return np.sum(stats.binom.pmf(i, n, p) * (1 - p_hat(i) / p) ** 2, axis=1)"
   ]
  },
  {
   "cell_type": "code",
   "execution_count": 112,
   "id": "7c8ce7e2-d123-435c-8a8b-9aa91462524c",
   "metadata": {},
   "outputs": [
    {
     "data": {
      "text/plain": [
       "np.float64(1.000027487640225)"
      ]
     },
     "execution_count": 112,
     "metadata": {},
     "output_type": "execute_result"
    }
   ],
   "source": [
    "p = np.linspace(0, 1, 10000)[1:].reshape(-1, 1)\n",
    "i = np.arange(n + 1)\n",
    "np.nanmax(risk(p))"
   ]
  },
  {
   "cell_type": "code",
   "execution_count": 103,
   "id": "390b67b4-36d1-45e7-ae93-9554cc711ffe",
   "metadata": {},
   "outputs": [
    {
     "data": {
      "text/plain": [
       "array([0.03703704])"
      ]
     },
     "execution_count": 103,
     "metadata": {},
     "output_type": "execute_result"
    }
   ],
   "source": [
    "p[36]"
   ]
  },
  {
   "cell_type": "code",
   "execution_count": 111,
   "id": "3030a491-5366-495e-990a-e542fd7d7738",
   "metadata": {},
   "outputs": [
    {
     "data": {
      "text/plain": [
       "array([6.85639514e-01, 2.63707505e-01, 4.56416836e-02, 4.68119832e-03,\n",
       "       3.15080656e-04, 4.20269121e-05])"
      ]
     },
     "execution_count": 111,
     "metadata": {},
     "output_type": "execute_result"
    }
   ],
   "source": [
    "(stats.binom.pmf(i, n, p[36]) * (1 - p_hat(i) / p[36]) ** 2)[:6]"
   ]
  },
  {
   "cell_type": "code",
   "execution_count": 98,
   "id": "f421765b-929b-4142-9957-78b2692e6582",
   "metadata": {},
   "outputs": [
    {
     "data": {
      "image/png": "[encoded data removed]",
      "text/plain": [
       "<Figure size 640x480 with 1 Axes>"
      ]
     },
     "metadata": {},
     "output_type": "display_data"
    }
   ],
   "source": [
    "fig, ax = plt.subplots()\n",
    "ax.plot(p, risk(p));"
   ]
  },
  {
   "cell_type": "markdown",
   "id": "1a734a08-a5d5-4de9-8833-76741b33dcb6",
   "metadata": {},
   "source": [
    "## Exercise 6"
   ]
  },
  {
   "cell_type": "code",
   "execution_count": 115,
   "id": "4d6a2721-8300-46ce-8784-3fb3c3617680",
   "metadata": {},
   "outputs": [],
   "source": [
    "rng = np.random.default_rng(12345)"
   ]
  },
  {
   "cell_type": "code",
   "execution_count": 116,
   "id": "105c1e7d-d0ce-42f3-bc7f-b5be6afc5c97",
   "metadata": {},
   "outputs": [],
   "source": [
    "def squared_error_loss(theta_hat, theta):\n",
    "    return np.sum((theta - theta_hat) ** 2)"
   ]
  },
  {
   "cell_type": "code",
   "execution_count": 141,
   "id": "68324046-000b-4c9f-babb-17216b7a7304",
   "metadata": {},
   "outputs": [],
   "source": [
    "def evaluate_estimator(rvs, estimator, theta, m=100_000):\n",
    "    k = len(theta)\n",
    "    X = rvs(theta, size=(m, k), random_state=rng)\n",
    "    theta_hat = np.apply_along_axis(estimator, 1, X)\n",
    "    risk = np.apply_along_axis(squared_error_loss, 1, theta_hat, theta)\n",
    "    return np.mean(risk)"
   ]
  },
  {
   "cell_type": "code",
   "execution_count": 142,
   "id": "960d29a8-c0ce-4e46-a63f-6361594fa3a2",
   "metadata": {},
   "outputs": [],
   "source": [
    "def mle_estimator(x):\n",
    "    return x"
   ]
  },
  {
   "cell_type": "code",
   "execution_count": 143,
   "id": "39cebcc2-6792-4ef2-b015-31a3f310bd13",
   "metadata": {},
   "outputs": [],
   "source": [
    "def james_stein_estimator(x):\n",
    "    return np.maximum(0, 1 - (k - 2) / np.sum(x ** 2)) * x"
   ]
  },
  {
   "cell_type": "code",
   "execution_count": 144,
   "id": "c90069da-acb4-470f-922e-4401d1df663a",
   "metadata": {},
   "outputs": [],
   "source": [
    "thetas = [\n",
    "    np.array([2.]),\n",
    "    np.array([1., 2.]),\n",
    "    np.array([1., 2., 3.]),\n",
    "    np.array([2., 3., 4.]),\n",
    "    np.array([2., 3., 4., 5.]),\n",
    "    np.array([20., 30., 40., 50.]),\n",
    "]"
   ]
  },
  {
   "cell_type": "code",
   "execution_count": 145,
   "id": "77442d69-6eda-48ac-a83c-2bc69ffa9d51",
   "metadata": {},
   "outputs": [
    {
     "data": {
      "text/html": [
       "<div>\n",
       "<style scoped>\n",
       "    .dataframe tbody tr th:only-of-type {\n",
       "        vertical-align: middle;\n",
       "    }\n",
       "\n",
       "    .dataframe tbody tr th {\n",
       "        vertical-align: top;\n",
       "    }\n",
       "\n",
       "    .dataframe thead th {\n",
       "        text-align: right;\n",
       "    }\n",
       "</style>\n",
       "<table border=\"1\" class=\"dataframe\">\n",
       "  <thead>\n",
       "    <tr style=\"text-align: right;\">\n",
       "      <th></th>\n",
       "      <th>MLE</th>\n",
       "      <th>James-Stein</th>\n",
       "    </tr>\n",
       "  </thead>\n",
       "  <tbody>\n",
       "    <tr>\n",
       "      <th>0</th>\n",
       "      <td>1.001841</td>\n",
       "      <td>1.454350</td>\n",
       "    </tr>\n",
       "    <tr>\n",
       "      <th>1</th>\n",
       "      <td>1.989989</td>\n",
       "      <td>2.018032</td>\n",
       "    </tr>\n",
       "    <tr>\n",
       "      <th>2</th>\n",
       "      <td>3.003070</td>\n",
       "      <td>2.917795</td>\n",
       "    </tr>\n",
       "    <tr>\n",
       "      <th>3</th>\n",
       "      <td>3.015192</td>\n",
       "      <td>2.965855</td>\n",
       "    </tr>\n",
       "    <tr>\n",
       "      <th>4</th>\n",
       "      <td>4.016537</td>\n",
       "      <td>3.942073</td>\n",
       "    </tr>\n",
       "    <tr>\n",
       "      <th>5</th>\n",
       "      <td>4.021539</td>\n",
       "      <td>4.003718</td>\n",
       "    </tr>\n",
       "  </tbody>\n",
       "</table>\n",
       "</div>"
      ],
      "text/plain": [
       "        MLE  James-Stein\n",
       "0  1.001841     1.454350\n",
       "1  1.989989     2.018032\n",
       "2  3.003070     2.917795\n",
       "3  3.015192     2.965855\n",
       "4  4.016537     3.942073\n",
       "5  4.021539     4.003718"
      ]
     },
     "execution_count": 145,
     "metadata": {},
     "output_type": "execute_result"
    }
   ],
   "source": [
    "%%time\n",
    "pd.DataFrame([\n",
    "    [\n",
    "        evaluate_estimator(stats.norm.rvs, mle_estimator, theta),\n",
    "        evaluate_estimator(stats.norm.rvs, james_stein_estimator, theta),\n",
    "    ] for theta in thetas\n",
    "], columns=['MLE', 'James-Stein'])"
   ]
  }
 ],
 "metadata": {
  "kernelspec": {
   "display_name": "Python 3 (ipykernel)",
   "language": "python",
   "name": "python3"
  },
  "language_info": {
   "codemirror_mode": {
    "name": "ipython",
    "version": 3
   },
   "file_extension": ".py",
   "mimetype": "text/x-python",
   "name": "python",
   "nbconvert_exporter": "python",
   "pygments_lexer": "ipython3",
   "version": "3.12.6"
  }
 },
 "nbformat": 4,
 "nbformat_minor": 5
}
