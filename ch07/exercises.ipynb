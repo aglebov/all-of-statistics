{
 "cells": [
  {
   "cell_type": "markdown",
   "metadata": {},
   "source": [
    "## Exercise 1\n",
    "\n",
    "Given\n",
    "$$\\hat{F}_n(x) = \\frac{\\sum_{i=1}^n I(X_i \\leq x)}{n},$$\n",
    "we have\n",
    "$$E[\\hat{F}_n(x)] = \\frac{\\sum_{i=1}^n E[I(X_i \\leq x)]}{n} = \\frac{\\sum_{i=1}^n P(X_i \\leq x)}{n} = P(X_i \\leq x) = F(x),$$\n",
    "where we used the fact that $E[I(X_i \\leq x)] = P(X_i \\leq x)$, as proved on p. 49.\n",
    "\n",
    "Therefore, \n",
    "$$\\text{bias} = E[\\hat{F}_n(x)] - F(x) = 0$$\n",
    "for all $x$.\n",
    "\n",
    "Now,\n",
    "$$\\begin{split}\n",
    "E\\left[\\hat{F}_n^2(x)\\right]\n",
    "&= E\\left[\\left(\\frac{\\sum_{i=1}^n I(X_i \\leq x)}{n}\\right)^2\\right] \n",
    "= \\frac{1}{n^2}E\\left[\\sum_{i=1}^n \\sum_{j=1}^n I(X_i \\leq x) I(X_j \\leq x)\\right]\n",
    "= \\frac{1}{n^2}E\\left[\\sum_{i=1}^n I^2(X_i \\leq x) + \\sum_{i=1}^n \\sum_{j \\neq i} I(X_i \\leq x) I(X_j \\leq x)\\right] \\\\\n",
    "&= \\frac{1}{n^2}E\\left[\\sum_{i=1}^n I(X_i \\leq x) + \\sum_{i=1}^n \\sum_{j \\neq i} I(X_i \\leq x) I(X_j \\leq x)\\right]\n",
    "= \\frac{1}{n^2}\\left(\\sum_{i=1}^n E[I(X_i \\leq x)] + \\sum_{i=1}^n \\sum_{j \\neq i} E[I(X_i \\leq x)] E[I(X_j \\leq x)]\\right) \\\\\n",
    "&= \\frac{1}{n^2}\\left(n F(x) + n(n-1) F^2(x)\\right)\n",
    "= \\frac{F(x) + (n-1) F^2(x)}{n},\n",
    "\\end{split}$$\n",
    "and therefore\n",
    "$$V\\left[\\hat{F}_n^2(x)\\right] = E\\left[\\hat{F}_n^2(x)\\right] - E[\\hat{F}_n(x)]^2 = \\frac{F(x) + (n-1) F^2(x)}{n} - F^2(x) = \\frac{F(x)(1 - F(x))}{n}.$$\n",
    "\n",
    "By Theorem 6.9, $\\text{MSE} = \\text{bias}^2 + V\\left[\\hat{F}_n^2(x)\\right] = \\frac{F(x)(1 - F(x))}{n} \\xrightarrow[n \\to \\infty]{} 0$.\n",
    "\n",
    "Then by Theorem 6.10, $\\hat{F}_n(x) \\xrightarrow[]{P} F(x)$."
   ]
  },
  {
   "cell_type": "markdown",
   "metadata": {},
   "source": [
    "## Exercise 2\n",
    "\n",
    "Using the results of Examples 7.10 and 7.11,\n",
    "$$\\hat{p} = \\frac{1}{n} \\sum_{i=1}^n X_i,$$\n",
    "$$\\hat{q} = \\frac{1}{m} \\sum_{i=1}^m Y_i,$$\n",
    "$$\\hat{\\sigma}_{p} = \\frac{1}{n-1} \\sum_{i=1}^n (X_i - \\hat{p})^2,$$\n",
    "$$\\hat{\\sigma}_{q} = \\frac{1}{m-1} \\sum_{i=1}^m (Y_i - \\hat{q})^2,$$\n",
    "and\n",
    "$$\\hat{\\text{se}}_{\\hat{p}} = \\frac{\\hat{\\sigma}_p}{\\sqrt{n}}.$$\n",
    "\n",
    "The approximate 90% confidence interval for $p$ is \n",
    "$$\\hat{p} \\pm z_{\\alpha/2} \\cdot \\hat{\\text{se}}_{\\hat{p}}.$$\n",
    "\n",
    "Using the results of Example 7.15,\n",
    "$$\\hat{p} - \\hat{q} = \\frac{1}{n} \\sum_{i=1}^n X_i - \\frac{1}{m} \\sum_{i=1}^m Y_i$$\n",
    "and\n",
    "$$\\hat{\\text{se}}^2_{\\hat{p} - \\hat{q}} = V[\\hat{p} - \\hat{q}] = V[\\hat{p}] + V[\\hat{q}] = \\hat{\\text{se}}_{\\hat{p}}^2 + \\hat{\\text{se}}_{\\hat{q}}^2.$$\n",
    "\n",
    "The approximate 90% confidence interval for $p - q$ is \n",
    "$$\\hat{p} - \\hat{q} \\pm z_{\\alpha/2} \\cdot \\hat{\\text{se}}_{\\hat{p} - \\hat{q}}.$$\n"
   ]
  },
  {
   "cell_type": "markdown",
   "metadata": {},
   "source": [
    "## Exercise 3"
   ]
  },
  {
   "cell_type": "code",
   "execution_count": 6,
   "metadata": {},
   "outputs": [],
   "source": [
    "import numpy as np\n",
    "import pandas as pd\n",
    "import scipy.stats as stats\n",
    "import matplotlib.pyplot as plt"
   ]
  },
  {
   "cell_type": "code",
   "execution_count": 45,
   "metadata": {},
   "outputs": [],
   "source": [
    "rng = np.random.default_rng(12345)"
   ]
  },
  {
   "cell_type": "code",
   "execution_count": 43,
   "metadata": {},
   "outputs": [],
   "source": [
    "n = 100\n",
    "m = 1000"
   ]
  },
  {
   "cell_type": "markdown",
   "metadata": {},
   "source": [
    "#### Normal distribution"
   ]
  },
  {
   "cell_type": "code",
   "execution_count": 51,
   "metadata": {},
   "outputs": [],
   "source": [
    "x = stats.norm.rvs(size=(m, n), random_state=rng)"
   ]
  },
  {
   "cell_type": "code",
   "execution_count": 52,
   "metadata": {},
   "outputs": [],
   "source": [
    "Fn = np.cumsum(np.repeat(1 / n, n))"
   ]
  },
  {
   "cell_type": "code",
   "execution_count": 53,
   "metadata": {},
   "outputs": [],
   "source": [
    "alpha = 0.05\n",
    "eps = np.sqrt(np.log(2 / alpha) / 2 / n)"
   ]
  },
  {
   "cell_type": "code",
   "execution_count": 54,
   "metadata": {},
   "outputs": [],
   "source": [
    "# find the bounds of the confidence intervals\n",
    "L = np.maximum(Fn - eps, 0)\n",
    "U = np.minimum(Fn + eps, 1)"
   ]
  },
  {
   "cell_type": "code",
   "execution_count": 55,
   "metadata": {},
   "outputs": [],
   "source": [
    "sorted_x = np.sort(x, axis=1)"
   ]
  },
  {
   "cell_type": "code",
   "execution_count": 56,
   "metadata": {},
   "outputs": [],
   "source": [
    "F = stats.norm.cdf(sorted_x)"
   ]
  },
  {
   "cell_type": "code",
   "execution_count": 63,
   "metadata": {},
   "outputs": [],
   "source": [
    "# whether the CI for the empirical CDF contains the true CDF\n",
    "contains = np.all((L <= F) & (F <= U), axis=1)"
   ]
  },
  {
   "cell_type": "markdown",
   "metadata": {},
   "source": [
    "Coverage:"
   ]
  },
  {
   "cell_type": "code",
   "execution_count": 64,
   "metadata": {},
   "outputs": [
    {
     "data": {
      "text/plain": [
       "np.float64(0.962)"
      ]
     },
     "execution_count": 64,
     "metadata": {},
     "output_type": "execute_result"
    }
   ],
   "source": [
    "np.mean(contains)"
   ]
  },
  {
   "cell_type": "markdown",
   "metadata": {},
   "source": [
    "Cases where the true CDF is outside of the confidence interval:"
   ]
  },
  {
   "cell_type": "code",
   "execution_count": 65,
   "metadata": {},
   "outputs": [
    {
     "data": {
      "text/plain": [
       "(array([  7, 111, 123, 133, 207, 241, 302, 423, 465, 531, 539, 568, 569,\n",
       "        588, 599, 612, 653, 654, 669, 676, 681, 698, 702, 743, 755, 780,\n",
       "        793, 795, 831, 832, 846, 901, 902, 910, 960, 970, 971, 993]),)"
      ]
     },
     "execution_count": 65,
     "metadata": {},
     "output_type": "execute_result"
    }
   ],
   "source": [
    "np.where(~contains)"
   ]
  },
  {
   "cell_type": "code",
   "execution_count": 62,
   "metadata": {},
   "outputs": [
    {
     "data": {
      "image/png": "[encoded data removed]",
      "text/plain": [
       "<Figure size 640x480 with 1 Axes>"
      ]
     },
     "metadata": {},
     "output_type": "display_data"
    }
   ],
   "source": [
    "idx = 111\n",
    "fig, ax = plt.subplots()\n",
    "ax.plot(sorted_x[idx], Fn, '-.', label='$\\\\hat{{F}}_n(x)$');\n",
    "ax.plot(sorted_x[idx], L, '-.', label='$\\\\hat{{F}}_n(x) - \\\\epsilon_n$');\n",
    "ax.plot(sorted_x[idx], U, '-.', label='$\\\\hat{{F}}_n(x) + \\\\epsilon_n$');\n",
    "ax.plot(sorted_x[idx], F[idx], '-', color='gray', label='$F(x)$');\n",
    "ax.set_title('Empirical CDF: Normal distribution');\n",
    "ax.legend();"
   ]
  },
  {
   "cell_type": "markdown",
   "metadata": {},
   "source": [
    "#### Cauchy distribution"
   ]
  },
  {
   "cell_type": "code",
   "execution_count": 68,
   "metadata": {},
   "outputs": [],
   "source": [
    "x = stats.cauchy.rvs(size=(m, n), random_state=rng)\n",
    "sorted_x = np.sort(x, axis=1)\n",
    "F = stats.cauchy.cdf(sorted_x)"
   ]
  },
  {
   "cell_type": "code",
   "execution_count": 69,
   "metadata": {},
   "outputs": [],
   "source": [
    "# whether the CI for the empirical CDF contains the true CDF\n",
    "contains = np.all((L <= F) & (F <= U), axis=1)"
   ]
  },
  {
   "cell_type": "markdown",
   "metadata": {},
   "source": [
    "Coverage:"
   ]
  },
  {
   "cell_type": "code",
   "execution_count": 70,
   "metadata": {},
   "outputs": [
    {
     "data": {
      "text/plain": [
       "np.float64(0.956)"
      ]
     },
     "execution_count": 70,
     "metadata": {},
     "output_type": "execute_result"
    }
   ],
   "source": [
    "np.mean(contains)"
   ]
  },
  {
   "cell_type": "markdown",
   "metadata": {},
   "source": [
    "Cases where the true CDF is outside of the confidence interval:"
   ]
  },
  {
   "cell_type": "code",
   "execution_count": 72,
   "metadata": {},
   "outputs": [
    {
     "data": {
      "text/plain": [
       "(array([ 10,  39,  60,  87, 101, 116, 158, 160, 185, 194, 202, 242, 249,\n",
       "        261, 277, 278, 284, 290, 307, 335, 338, 349, 376, 406, 448, 485,\n",
       "        502, 526, 553, 558, 699, 709, 752, 776, 789, 822, 837, 843, 866,\n",
       "        876, 885, 922, 957, 971]),)"
      ]
     },
     "execution_count": 72,
     "metadata": {},
     "output_type": "execute_result"
    }
   ],
   "source": [
    "np.where(~contains)"
   ]
  },
  {
   "cell_type": "code",
   "execution_count": 78,
   "metadata": {},
   "outputs": [
    {
     "data": {
      "image/png": "[encoded data removed]",
      "text/plain": [
       "<Figure size 640x480 with 1 Axes>"
      ]
     },
     "metadata": {},
     "output_type": "display_data"
    }
   ],
   "source": [
    "idx = 10\n",
    "fig, ax = plt.subplots()\n",
    "ax.plot(sorted_x[idx], Fn, '-.', label='$\\\\hat{{F}}_n(x)$');\n",
    "ax.plot(sorted_x[idx], L, '-.', label='$\\\\hat{{F}}_n(x) - \\\\epsilon_n$');\n",
    "ax.plot(sorted_x[idx], U, '-.', label='$\\\\hat{{F}}_n(x) + \\\\epsilon_n$');\n",
    "ax.plot(sorted_x[idx], F[idx], '-', color='gray', label='$F(x)$');\n",
    "ax.set_title('Empirical CDF: Cauchy distribution');\n",
    "ax.legend();"
   ]
  },
  {
   "cell_type": "markdown",
   "metadata": {},
   "source": [
    "We can see that the coverage remains good, since Theorem 7.5 makes no assumption of the underlying distribution."
   ]
  },
  {
   "cell_type": "markdown",
   "metadata": {},
   "source": [
    "## Exercise 4\n",
    "\n",
    "By Theorem 7.3, $\\mathbb{E}\\left[\\hat{F}_n(x)\\right] = F(x)$ and $\\mathbb{V}\\left[\\hat{F}_n(x)\\right] = F(x) (1-F(x))$.\n",
    "\n",
    "Then by Theorem 5.8, $\\hat{F}_n(x) \\approx N\\left(F(x), \\frac{F(x)(1-F(x))}{n}\\right)$."
   ]
  },
  {
   "cell_type": "markdown",
   "metadata": {},
   "source": [
    "## Exercise 5\n",
    "\n",
    "Note that $I(A) I(B) = I(A,B)$, where $A$ and $B$ are events, and that $\\mathbb{E}[I(X \\in A)] = P(X \\in A)$. Then\n",
    "$$\\begin{split}\n",
    "E\\left[\\hat{F}_n(x) \\hat{F}_n(y)\\right]\n",
    "&= \\mathbb{E}\\left[\\frac{1}{n} \\sum_{i=1}^n I(X_i \\leq x) \\cdot \\frac{1}{n} \\sum_{j=1}^n I(X_j \\leq y)\\right] \\\\\n",
    "&= \\frac{1}{n^2} \\mathbb{E}\\left[\\sum_{i=1}^n \\sum_{j=1}^n I(X_i \\leq x) I(X_j \\leq y) \\right] \\\\\n",
    "&= \\frac{1}{n^2} \\sum_{i=1}^n \\sum_{j=1}^n \\mathbb{E}[I(X_i \\leq x) I(X_j \\leq y)] \\\\\n",
    "&= \\frac{1}{n^2} \\left( \\sum_{i=1}^n \\mathbb{E}[I(X_i \\leq x) I(X_i \\leq y)] + \\sum_{i\\neq j} \\mathbb{E}[I(X_i \\leq x) I(X_j \\leq y)] \\right) \\\\\n",
    "&= \\frac{1}{n^2} \\left( n \\mathbb{E}[I(X_1 \\leq x, X_1 \\leq y)] + n(n-1) \\mathbb{E}[I(X_1 \\leq x)] \\mathbb{E}[I(X_1 \\leq y)] \\right) \\\\\n",
    "&= \\frac{\\mathbb{E}[I(X_1 \\leq \\min(x, y))] + (n-1) F(x) F(y)}{n} \\\\\n",
    "&= \\frac{F(\\min(x, y)) + (n-1) F(x) F(y)}{n} \\\\\n",
    "\\end{split}$$\n",
    "where we used the assumption that $X_i$ and $X_j$ are independent for $i \\neq j$.\n",
    "\n",
    "And finally,\n",
    "$$\\text{Cov}\\left[\\hat{F}_n(x), \\hat{F}_n(y)\\right] \n",
    "= E\\left[\\hat{F}_n(x) \\hat{F}_n(y)\\right] - E\\left[\\hat{F}_n(x)\\right] E\\left[\\hat{F}_n(y)\\right]\n",
    "= \\frac{F(\\min(x, y)) + (n-1) F(x) F(y)}{n} - F(x) F(y)\n",
    "= \\frac{F(\\min(x, y)) - F(x) F(y)}{n}.$$"
   ]
  },
  {
   "cell_type": "markdown",
   "metadata": {},
   "source": [
    "## Exercise 6\n",
    "\n",
    "Using the results of Exercise 5, \n",
    "$$\\begin{split}\n",
    "\\hat{\\text{se}}_{\\hat{\\theta}}^2\n",
    "&= \\mathbb{V}[\\hat{\\theta}] \\\\\n",
    "&= \\mathbb{V}\\left[\\hat{F}_n(a)\\right] + \\mathbb{V}\\left[\\hat{F}_n(b)\\right] - 2 \\text{Cov}\\left[\\hat{F}_n(a), \\hat{F}_n(b)\\right] \\\\\n",
    "&= \\frac{F(a)(1 - F(a))}{n} + \\frac{F(b)(1 - F(b))}{n} - 2 \\frac{F(\\min(a, b)) - F(a) F(b)}{n} \\\\\n",
    "&= \\frac{(F(b) - F(a))(1 - (F(b)-F(a)))}{n}. \\\\\n",
    "\\end{split}$$\n",
    "\n",
    "The $1 - \\alpha$ confidence interval is then\n",
    "$$\\hat{\\theta} \\pm z_{\\alpha / 2} \\cdot \\hat{\\text{se}}_{\\hat{\\theta}}.$$"
   ]
  },
  {
   "cell_type": "markdown",
   "metadata": {},
   "source": [
    "## Exercise 7"
   ]
  },
  {
   "cell_type": "code",
   "execution_count": 79,
   "metadata": {},
   "outputs": [
    {
     "data": {
      "text/html": [
       "<div>\n",
       "<style scoped>\n",
       "    .dataframe tbody tr th:only-of-type {\n",
       "        vertical-align: middle;\n",
       "    }\n",
       "\n",
       "    .dataframe tbody tr th {\n",
       "        vertical-align: top;\n",
       "    }\n",
       "\n",
       "    .dataframe thead th {\n",
       "        text-align: right;\n",
       "    }\n",
       "</style>\n",
       "<table border=\"1\" class=\"dataframe\">\n",
       "  <thead>\n",
       "    <tr style=\"text-align: right;\">\n",
       "      <th></th>\n",
       "      <th>lat</th>\n",
       "      <th>long</th>\n",
       "      <th>depth</th>\n",
       "      <th>mag</th>\n",
       "      <th>stations</th>\n",
       "    </tr>\n",
       "    <tr>\n",
       "      <th>Obs.</th>\n",
       "      <th></th>\n",
       "      <th></th>\n",
       "      <th></th>\n",
       "      <th></th>\n",
       "      <th></th>\n",
       "    </tr>\n",
       "  </thead>\n",
       "  <tbody>\n",
       "    <tr>\n",
       "      <th>1</th>\n",
       "      <td>-20.42</td>\n",
       "      <td>181.62</td>\n",
       "      <td>562</td>\n",
       "      <td>4.8</td>\n",
       "      <td>41</td>\n",
       "    </tr>\n",
       "    <tr>\n",
       "      <th>2</th>\n",
       "      <td>-20.62</td>\n",
       "      <td>181.03</td>\n",
       "      <td>650</td>\n",
       "      <td>4.2</td>\n",
       "      <td>15</td>\n",
       "    </tr>\n",
       "    <tr>\n",
       "      <th>3</th>\n",
       "      <td>-26.00</td>\n",
       "      <td>184.10</td>\n",
       "      <td>42</td>\n",
       "      <td>5.4</td>\n",
       "      <td>43</td>\n",
       "    </tr>\n",
       "    <tr>\n",
       "      <th>4</th>\n",
       "      <td>-17.97</td>\n",
       "      <td>181.66</td>\n",
       "      <td>626</td>\n",
       "      <td>4.1</td>\n",
       "      <td>19</td>\n",
       "    </tr>\n",
       "    <tr>\n",
       "      <th>5</th>\n",
       "      <td>-20.42</td>\n",
       "      <td>181.96</td>\n",
       "      <td>649</td>\n",
       "      <td>4.0</td>\n",
       "      <td>11</td>\n",
       "    </tr>\n",
       "    <tr>\n",
       "      <th>...</th>\n",
       "      <td>...</td>\n",
       "      <td>...</td>\n",
       "      <td>...</td>\n",
       "      <td>...</td>\n",
       "      <td>...</td>\n",
       "    </tr>\n",
       "    <tr>\n",
       "      <th>996</th>\n",
       "      <td>-25.93</td>\n",
       "      <td>179.54</td>\n",
       "      <td>470</td>\n",
       "      <td>4.4</td>\n",
       "      <td>22</td>\n",
       "    </tr>\n",
       "    <tr>\n",
       "      <th>997</th>\n",
       "      <td>-12.28</td>\n",
       "      <td>167.06</td>\n",
       "      <td>248</td>\n",
       "      <td>4.7</td>\n",
       "      <td>35</td>\n",
       "    </tr>\n",
       "    <tr>\n",
       "      <th>998</th>\n",
       "      <td>-20.13</td>\n",
       "      <td>184.20</td>\n",
       "      <td>244</td>\n",
       "      <td>4.5</td>\n",
       "      <td>34</td>\n",
       "    </tr>\n",
       "    <tr>\n",
       "      <th>999</th>\n",
       "      <td>-17.40</td>\n",
       "      <td>187.80</td>\n",
       "      <td>40</td>\n",
       "      <td>4.5</td>\n",
       "      <td>14</td>\n",
       "    </tr>\n",
       "    <tr>\n",
       "      <th>1000</th>\n",
       "      <td>-21.59</td>\n",
       "      <td>170.56</td>\n",
       "      <td>165</td>\n",
       "      <td>6.0</td>\n",
       "      <td>119</td>\n",
       "    </tr>\n",
       "  </tbody>\n",
       "</table>\n",
       "<p>1000 rows × 5 columns</p>\n",
       "</div>"
      ],
      "text/plain": [
       "        lat    long  depth  mag  stations\n",
       "Obs.                                     \n",
       "1    -20.42  181.62    562  4.8        41\n",
       "2    -20.62  181.03    650  4.2        15\n",
       "3    -26.00  184.10     42  5.4        43\n",
       "4    -17.97  181.66    626  4.1        19\n",
       "5    -20.42  181.96    649  4.0        11\n",
       "...     ...     ...    ...  ...       ...\n",
       "996  -25.93  179.54    470  4.4        22\n",
       "997  -12.28  167.06    248  4.7        35\n",
       "998  -20.13  184.20    244  4.5        34\n",
       "999  -17.40  187.80     40  4.5        14\n",
       "1000 -21.59  170.56    165  6.0       119\n",
       "\n",
       "[1000 rows x 5 columns]"
      ]
     },
     "execution_count": 79,
     "metadata": {},
     "output_type": "execute_result"
    }
   ],
   "source": [
    "data = pd.read_fwf('fijiquakes.dat').set_index('Obs.')\n",
    "data"
   ]
  },
  {
   "cell_type": "code",
   "execution_count": 80,
   "metadata": {},
   "outputs": [],
   "source": [
    "n = data.shape[0]"
   ]
  },
  {
   "cell_type": "code",
   "execution_count": 81,
   "metadata": {},
   "outputs": [],
   "source": [
    "alpha = 0.05\n",
    "eps = np.sqrt(np.log(2 / alpha) / 2 / n)"
   ]
  },
  {
   "cell_type": "code",
   "execution_count": 82,
   "metadata": {},
   "outputs": [],
   "source": [
    "# define the grid on which we evaluate Fn(x)\n",
    "grid = np.unique(data['mag'])"
   ]
  },
  {
   "cell_type": "code",
   "execution_count": 84,
   "metadata": {},
   "outputs": [],
   "source": [
    "Fn = stats.ecdf(data['mag']).cdf.evaluate\n",
    "Fn_est = Fn(grid)\n",
    "L = np.maximum(Fn_est - eps, 0)\n",
    "U = np.minimum(Fn_est + eps, 1)"
   ]
  },
  {
   "cell_type": "code",
   "execution_count": 86,
   "metadata": {},
   "outputs": [
    {
     "data": {
      "image/png": "[encoded data removed]",
      "text/plain": [
       "<Figure size 640x480 with 1 Axes>"
      ]
     },
     "metadata": {},
     "output_type": "display_data"
    }
   ],
   "source": [
    "fig, ax = plt.subplots()\n",
    "ax.plot(grid, Fn_est, label='$\\\\hat{{F}}_n(x)$');\n",
    "ax.plot(grid, L, '--', label='$\\\\hat{{F}}_n(x) - \\\\epsilon_n$');\n",
    "ax.plot(grid, U, '--', label='$\\\\hat{{F}}_n(x) + \\\\epsilon_n$');\n",
    "ax.set_title('Empirical CDF');\n",
    "ax.legend();"
   ]
  },
  {
   "cell_type": "markdown",
   "metadata": {},
   "source": [
    "Using the results of Exercise 6:"
   ]
  },
  {
   "cell_type": "code",
   "execution_count": 136,
   "metadata": {},
   "outputs": [],
   "source": [
    "def se_sq(Fn, n, x):\n",
    "    return Fn(x) * (1 - Fn(x)) / n"
   ]
  },
  {
   "cell_type": "code",
   "execution_count": 90,
   "metadata": {},
   "outputs": [],
   "source": [
    "a = 4.9\n",
    "b = 4.3\n",
    "theta = Fn(a) - Fn(b)\n",
    "se_theta = np.sqrt(theta * (1 - theta) / n)"
   ]
  },
  {
   "cell_type": "code",
   "execution_count": 91,
   "metadata": {},
   "outputs": [
    {
     "data": {
      "text/plain": [
       "np.float64(0.526)"
      ]
     },
     "execution_count": 91,
     "metadata": {},
     "output_type": "execute_result"
    }
   ],
   "source": [
    "theta"
   ]
  },
  {
   "cell_type": "code",
   "execution_count": 92,
   "metadata": {},
   "outputs": [
    {
     "data": {
      "text/plain": [
       "np.float64(0.01578999683343857)"
      ]
     },
     "execution_count": 92,
     "metadata": {},
     "output_type": "execute_result"
    }
   ],
   "source": [
    "se_theta"
   ]
  },
  {
   "cell_type": "markdown",
   "metadata": {},
   "source": [
    "The 95% confidence interval for $F(4.9) - F(4.3)$ is"
   ]
  },
  {
   "cell_type": "code",
   "execution_count": 100,
   "metadata": {},
   "outputs": [],
   "source": [
    "def confint(theta, se, alpha):\n",
    "    return theta + np.array(stats.norm.interval(1 - alpha)) * se"
   ]
  },
  {
   "cell_type": "code",
   "execution_count": 101,
   "metadata": {},
   "outputs": [
    {
     "data": {
      "text/plain": [
       "array([0.49505217, 0.55694783])"
      ]
     },
     "execution_count": 101,
     "metadata": {},
     "output_type": "execute_result"
    }
   ],
   "source": [
    "confint(theta, se_theta, alpha)"
   ]
  },
  {
   "cell_type": "markdown",
   "metadata": {},
   "source": [
    "## Exercise 8"
   ]
  },
  {
   "cell_type": "code",
   "execution_count": 102,
   "metadata": {},
   "outputs": [
    {
     "data": {
      "text/html": [
       "<div>\n",
       "<style scoped>\n",
       "    .dataframe tbody tr th:only-of-type {\n",
       "        vertical-align: middle;\n",
       "    }\n",
       "\n",
       "    .dataframe tbody tr th {\n",
       "        vertical-align: top;\n",
       "    }\n",
       "\n",
       "    .dataframe thead th {\n",
       "        text-align: right;\n",
       "    }\n",
       "</style>\n",
       "<table border=\"1\" class=\"dataframe\">\n",
       "  <thead>\n",
       "    <tr style=\"text-align: right;\">\n",
       "      <th></th>\n",
       "      <th>eruptions</th>\n",
       "      <th>waiting</th>\n",
       "    </tr>\n",
       "  </thead>\n",
       "  <tbody>\n",
       "    <tr>\n",
       "      <th>1</th>\n",
       "      <td>3.600</td>\n",
       "      <td>79</td>\n",
       "    </tr>\n",
       "    <tr>\n",
       "      <th>2</th>\n",
       "      <td>1.800</td>\n",
       "      <td>54</td>\n",
       "    </tr>\n",
       "    <tr>\n",
       "      <th>3</th>\n",
       "      <td>3.333</td>\n",
       "      <td>74</td>\n",
       "    </tr>\n",
       "    <tr>\n",
       "      <th>4</th>\n",
       "      <td>2.283</td>\n",
       "      <td>62</td>\n",
       "    </tr>\n",
       "    <tr>\n",
       "      <th>5</th>\n",
       "      <td>4.533</td>\n",
       "      <td>85</td>\n",
       "    </tr>\n",
       "    <tr>\n",
       "      <th>...</th>\n",
       "      <td>...</td>\n",
       "      <td>...</td>\n",
       "    </tr>\n",
       "    <tr>\n",
       "      <th>26</th>\n",
       "      <td>4.117</td>\n",
       "      <td>81</td>\n",
       "    </tr>\n",
       "    <tr>\n",
       "      <th>26</th>\n",
       "      <td>2.150</td>\n",
       "      <td>46</td>\n",
       "    </tr>\n",
       "    <tr>\n",
       "      <th>27</th>\n",
       "      <td>4.417</td>\n",
       "      <td>90</td>\n",
       "    </tr>\n",
       "    <tr>\n",
       "      <th>27</th>\n",
       "      <td>1.817</td>\n",
       "      <td>46</td>\n",
       "    </tr>\n",
       "    <tr>\n",
       "      <th>27</th>\n",
       "      <td>4.467</td>\n",
       "      <td>74</td>\n",
       "    </tr>\n",
       "  </tbody>\n",
       "</table>\n",
       "<p>272 rows × 2 columns</p>\n",
       "</div>"
      ],
      "text/plain": [
       "    eruptions  waiting\n",
       "1       3.600       79\n",
       "2       1.800       54\n",
       "3       3.333       74\n",
       "4       2.283       62\n",
       "5       4.533       85\n",
       "..        ...      ...\n",
       "26      4.117       81\n",
       "26      2.150       46\n",
       "27      4.417       90\n",
       "27      1.817       46\n",
       "27      4.467       74\n",
       "\n",
       "[272 rows x 2 columns]"
      ]
     },
     "execution_count": 102,
     "metadata": {},
     "output_type": "execute_result"
    }
   ],
   "source": [
    "data = pd.read_fwf('ex8.txt', index_col=0)\n",
    "data"
   ]
  },
  {
   "cell_type": "markdown",
   "metadata": {},
   "source": [
    "The mean waiting time:"
   ]
  },
  {
   "cell_type": "code",
   "execution_count": 103,
   "metadata": {},
   "outputs": [
    {
     "data": {
      "text/plain": [
       "np.float64(70.8970588235294)"
      ]
     },
     "execution_count": 103,
     "metadata": {},
     "output_type": "execute_result"
    }
   ],
   "source": [
    "theta = data['waiting'].mean()\n",
    "theta"
   ]
  },
  {
   "cell_type": "markdown",
   "metadata": {},
   "source": [
    "The standard error of the estimate:"
   ]
  },
  {
   "cell_type": "code",
   "execution_count": 104,
   "metadata": {},
   "outputs": [
    {
     "data": {
      "text/plain": [
       "np.float64(0.824316366377517)"
      ]
     },
     "execution_count": 104,
     "metadata": {},
     "output_type": "execute_result"
    }
   ],
   "source": [
    "se_theta = data['waiting'].std(ddof=1) / np.sqrt(data.shape[0])\n",
    "se_theta"
   ]
  },
  {
   "cell_type": "markdown",
   "metadata": {},
   "source": [
    "The 90% confidence interval for the waiting time:"
   ]
  },
  {
   "cell_type": "code",
   "execution_count": 114,
   "metadata": {},
   "outputs": [
    {
     "data": {
      "text/plain": [
       "array([69.54117906, 72.25293859])"
      ]
     },
     "execution_count": 114,
     "metadata": {},
     "output_type": "execute_result"
    }
   ],
   "source": [
    "confint(theta, se_theta, 0.1)"
   ]
  },
  {
   "cell_type": "markdown",
   "metadata": {},
   "source": [
    "The median waiting time:"
   ]
  },
  {
   "cell_type": "code",
   "execution_count": 115,
   "metadata": {},
   "outputs": [
    {
     "data": {
      "text/plain": [
       "np.float64(76.0)"
      ]
     },
     "execution_count": 115,
     "metadata": {},
     "output_type": "execute_result"
    }
   ],
   "source": [
    "data['waiting'].median()"
   ]
  },
  {
   "cell_type": "markdown",
   "metadata": {},
   "source": [
    "## Exercise 9\n",
    "\n",
    "Suppose $X_1, \\dots, X_n \\sim \\text{Bernoulli}(p_1)$ signify whether individuals in the first group recovered, and $Y_1, \\dots, Y_m \\sim \\text{Bernoulli}(p_2)$ signify whether individuals in the second group recovered.\n",
    "\n",
    "Then by the results of Exercise 2,\n",
    "$$\\hat{p}_1 = \\frac{1}{n} \\sum_{i=1}^n X_i,$$\n",
    "$$\\hat{p}_2 = \\frac{1}{m} \\sum_{i=1}^m Y_i,$$\n",
    "$$\\hat{\\theta} = \\hat{p}_1 - \\hat{p}_2,$$\n",
    "$$\\hat{\\sigma}_{p_1}^2 = \\frac{1}{n-1} \\sum_{i=1}^n (X_i - \\hat{p}_1)^2,$$\n",
    "$$\\hat{\\sigma}_{p_2}^2 = \\frac{1}{m-1} \\sum_{i=1}^m (Y_i - \\hat{p}_2)^2,$$\n",
    "$$\\hat{\\text{se}}_{\\hat{\\theta}}^2 = \\frac{\\hat{\\sigma}_{p_1}^2}{n} + \\frac{\\hat{\\sigma}_{p_2}^2}{m},$$\n",
    "and the $1-\\alpha$ confidence interval for $\\theta$ is\n",
    "$$\\hat{\\theta} \\pm z_{\\alpha / 2} \\hat{\\text{se}}_{\\hat{\\theta}}.$$\n",
    "\n",
    "Given that $X_i \\in \\{0, 1\\}$, we have $X_i^2 = X_i$ and so\n",
    "$$\\hat{\\sigma}_{p_1}^2 \n",
    "= \\frac{1}{n-1} \\sum_{i=1}^n (X_i - \\hat{p}_1)^2 \n",
    "= \\frac{1}{n-1} \\sum_{i=1}^n \\left(X_i^2 - 2 X_i \\hat{p}_1 + \\hat{p}_1^2\\right)\n",
    "= \\frac{1}{n-1} \\left(\\sum_{i=1}^n X_i - 2 \\hat{p}_1 \\sum_{i=1}^n X_i + n \\hat{p}_1^2\\right)\n",
    "= \\frac{1}{n-1} (n \\hat{p}_1 - 2 n \\hat{p}_1^2 + n \\hat{p}_1)\n",
    "= \\frac{n \\hat{p}_1 (1 - \\hat{p}_1)}{n-1}\n",
    "$$\n",
    "and similarly\n",
    "$$\\hat{\\sigma}_{p_2}^2= \\frac{m \\hat{p}_2 (1 - \\hat{p}_2)}{m-1}.$$\n"
   ]
  },
  {
   "cell_type": "code",
   "execution_count": 116,
   "metadata": {},
   "outputs": [],
   "source": [
    "n = m = 100\n",
    "p1 = 0.9\n",
    "p2 = 0.85\n",
    "theta = p1 - p2\n",
    "sigma_p1_sq = n * p1 * (1 - p1) / (n - 1)\n",
    "sigma_p2_sq = m * p2 * (1 - p2) / (m - 1)\n",
    "se = np.sqrt(sigma_p1_sq / n + sigma_p2_sq / m)"
   ]
  },
  {
   "cell_type": "code",
   "execution_count": 117,
   "metadata": {},
   "outputs": [
    {
     "data": {
      "text/plain": [
       "0.050000000000000044"
      ]
     },
     "execution_count": 117,
     "metadata": {},
     "output_type": "execute_result"
    }
   ],
   "source": [
    "theta"
   ]
  },
  {
   "cell_type": "code",
   "execution_count": 118,
   "metadata": {},
   "outputs": [
    {
     "data": {
      "text/plain": [
       "np.float64(0.04687184332805461)"
      ]
     },
     "execution_count": 118,
     "metadata": {},
     "output_type": "execute_result"
    }
   ],
   "source": [
    "se"
   ]
  },
  {
   "cell_type": "markdown",
   "metadata": {},
   "source": [
    "The approximate 80% confidence interval is:"
   ]
  },
  {
   "cell_type": "code",
   "execution_count": 119,
   "metadata": {},
   "outputs": [
    {
     "data": {
      "text/plain": [
       "array([-0.01006868,  0.11006868])"
      ]
     },
     "execution_count": 119,
     "metadata": {},
     "output_type": "execute_result"
    }
   ],
   "source": [
    "confint(theta, se, 0.2)"
   ]
  },
  {
   "cell_type": "markdown",
   "metadata": {},
   "source": [
    "The approximate 95% confidence interval is:"
   ]
  },
  {
   "cell_type": "code",
   "execution_count": 120,
   "metadata": {},
   "outputs": [
    {
     "data": {
      "text/plain": [
       "array([-0.04186712,  0.14186712])"
      ]
     },
     "execution_count": 120,
     "metadata": {},
     "output_type": "execute_result"
    }
   ],
   "source": [
    "confint(theta, se, 0.05)"
   ]
  },
  {
   "cell_type": "markdown",
   "metadata": {},
   "source": [
    "The results of the trial do not allow us to distinguish the efficacies of the two treatments."
   ]
  },
  {
   "cell_type": "markdown",
   "metadata": {},
   "source": [
    "## Exercise 10"
   ]
  },
  {
   "cell_type": "code",
   "execution_count": 121,
   "metadata": {},
   "outputs": [
    {
     "data": {
      "text/html": [
       "<div>\n",
       "<style scoped>\n",
       "    .dataframe tbody tr th:only-of-type {\n",
       "        vertical-align: middle;\n",
       "    }\n",
       "\n",
       "    .dataframe tbody tr th {\n",
       "        vertical-align: top;\n",
       "    }\n",
       "\n",
       "    .dataframe thead th {\n",
       "        text-align: right;\n",
       "    }\n",
       "</style>\n",
       "<table border=\"1\" class=\"dataframe\">\n",
       "  <thead>\n",
       "    <tr style=\"text-align: right;\">\n",
       "      <th></th>\n",
       "      <th>Unseeded_Clouds</th>\n",
       "      <th>Seeded_Clouds</th>\n",
       "    </tr>\n",
       "  </thead>\n",
       "  <tbody>\n",
       "    <tr>\n",
       "      <th>0</th>\n",
       "      <td>1202.6</td>\n",
       "      <td>2745.6</td>\n",
       "    </tr>\n",
       "    <tr>\n",
       "      <th>1</th>\n",
       "      <td>830.1</td>\n",
       "      <td>1697.8</td>\n",
       "    </tr>\n",
       "    <tr>\n",
       "      <th>2</th>\n",
       "      <td>372.4</td>\n",
       "      <td>1656.0</td>\n",
       "    </tr>\n",
       "    <tr>\n",
       "      <th>3</th>\n",
       "      <td>345.5</td>\n",
       "      <td>978.0</td>\n",
       "    </tr>\n",
       "    <tr>\n",
       "      <th>4</th>\n",
       "      <td>321.2</td>\n",
       "      <td>703.4</td>\n",
       "    </tr>\n",
       "    <tr>\n",
       "      <th>5</th>\n",
       "      <td>244.3</td>\n",
       "      <td>489.1</td>\n",
       "    </tr>\n",
       "    <tr>\n",
       "      <th>6</th>\n",
       "      <td>163.0</td>\n",
       "      <td>430.0</td>\n",
       "    </tr>\n",
       "    <tr>\n",
       "      <th>7</th>\n",
       "      <td>147.8</td>\n",
       "      <td>334.1</td>\n",
       "    </tr>\n",
       "    <tr>\n",
       "      <th>8</th>\n",
       "      <td>95.0</td>\n",
       "      <td>302.8</td>\n",
       "    </tr>\n",
       "    <tr>\n",
       "      <th>9</th>\n",
       "      <td>87.0</td>\n",
       "      <td>274.7</td>\n",
       "    </tr>\n",
       "    <tr>\n",
       "      <th>10</th>\n",
       "      <td>81.2</td>\n",
       "      <td>274.7</td>\n",
       "    </tr>\n",
       "    <tr>\n",
       "      <th>11</th>\n",
       "      <td>68.5</td>\n",
       "      <td>255.0</td>\n",
       "    </tr>\n",
       "    <tr>\n",
       "      <th>12</th>\n",
       "      <td>47.3</td>\n",
       "      <td>242.5</td>\n",
       "    </tr>\n",
       "    <tr>\n",
       "      <th>13</th>\n",
       "      <td>41.1</td>\n",
       "      <td>200.7</td>\n",
       "    </tr>\n",
       "    <tr>\n",
       "      <th>14</th>\n",
       "      <td>36.6</td>\n",
       "      <td>198.6</td>\n",
       "    </tr>\n",
       "    <tr>\n",
       "      <th>15</th>\n",
       "      <td>29.0</td>\n",
       "      <td>129.6</td>\n",
       "    </tr>\n",
       "    <tr>\n",
       "      <th>16</th>\n",
       "      <td>28.6</td>\n",
       "      <td>119.0</td>\n",
       "    </tr>\n",
       "    <tr>\n",
       "      <th>17</th>\n",
       "      <td>26.3</td>\n",
       "      <td>118.3</td>\n",
       "    </tr>\n",
       "    <tr>\n",
       "      <th>18</th>\n",
       "      <td>26.1</td>\n",
       "      <td>115.3</td>\n",
       "    </tr>\n",
       "    <tr>\n",
       "      <th>19</th>\n",
       "      <td>24.4</td>\n",
       "      <td>92.4</td>\n",
       "    </tr>\n",
       "    <tr>\n",
       "      <th>20</th>\n",
       "      <td>21.7</td>\n",
       "      <td>40.6</td>\n",
       "    </tr>\n",
       "    <tr>\n",
       "      <th>21</th>\n",
       "      <td>17.3</td>\n",
       "      <td>32.7</td>\n",
       "    </tr>\n",
       "    <tr>\n",
       "      <th>22</th>\n",
       "      <td>11.5</td>\n",
       "      <td>31.4</td>\n",
       "    </tr>\n",
       "    <tr>\n",
       "      <th>23</th>\n",
       "      <td>4.9</td>\n",
       "      <td>17.5</td>\n",
       "    </tr>\n",
       "    <tr>\n",
       "      <th>24</th>\n",
       "      <td>4.9</td>\n",
       "      <td>7.7</td>\n",
       "    </tr>\n",
       "    <tr>\n",
       "      <th>25</th>\n",
       "      <td>1.0</td>\n",
       "      <td>4.1</td>\n",
       "    </tr>\n",
       "  </tbody>\n",
       "</table>\n",
       "</div>"
      ],
      "text/plain": [
       "    Unseeded_Clouds  Seeded_Clouds\n",
       "0            1202.6         2745.6\n",
       "1             830.1         1697.8\n",
       "2             372.4         1656.0\n",
       "3             345.5          978.0\n",
       "4             321.2          703.4\n",
       "5             244.3          489.1\n",
       "6             163.0          430.0\n",
       "7             147.8          334.1\n",
       "8              95.0          302.8\n",
       "9              87.0          274.7\n",
       "10             81.2          274.7\n",
       "11             68.5          255.0\n",
       "12             47.3          242.5\n",
       "13             41.1          200.7\n",
       "14             36.6          198.6\n",
       "15             29.0          129.6\n",
       "16             28.6          119.0\n",
       "17             26.3          118.3\n",
       "18             26.1          115.3\n",
       "19             24.4           92.4\n",
       "20             21.7           40.6\n",
       "21             17.3           32.7\n",
       "22             11.5           31.4\n",
       "23              4.9           17.5\n",
       "24              4.9            7.7\n",
       "25              1.0            4.1"
      ]
     },
     "execution_count": 121,
     "metadata": {},
     "output_type": "execute_result"
    }
   ],
   "source": [
    "data = pd.read_csv('ex10.txt', sep='\\t')\n",
    "data"
   ]
  },
  {
   "cell_type": "markdown",
   "metadata": {},
   "source": [
    "The estimate of the difference:"
   ]
  },
  {
   "cell_type": "code",
   "execution_count": 122,
   "metadata": {},
   "outputs": [
    {
     "data": {
      "text/plain": [
       "np.float64(277.3961538461539)"
      ]
     },
     "execution_count": 122,
     "metadata": {},
     "output_type": "execute_result"
    }
   ],
   "source": [
    "theta = data['Seeded_Clouds'].mean() - data['Unseeded_Clouds'].mean()\n",
    "theta"
   ]
  },
  {
   "cell_type": "code",
   "execution_count": 123,
   "metadata": {},
   "outputs": [],
   "source": [
    "sigma_1 = data['Seeded_Clouds'].std(ddof=1)\n",
    "sigma_2 = data['Unseeded_Clouds'].std(ddof=1)"
   ]
  },
  {
   "cell_type": "markdown",
   "metadata": {},
   "source": [
    "The standard error of the estimate:"
   ]
  },
  {
   "cell_type": "code",
   "execution_count": 124,
   "metadata": {},
   "outputs": [
    {
     "data": {
      "text/plain": [
       "np.float64(138.81991721642947)"
      ]
     },
     "execution_count": 124,
     "metadata": {},
     "output_type": "execute_result"
    }
   ],
   "source": [
    "se = np.sqrt((sigma_1 ** 2 + sigma_2 ** 2) / data.shape[0])\n",
    "se"
   ]
  },
  {
   "cell_type": "markdown",
   "metadata": {},
   "source": [
    "The approximate 95% confidence interval:"
   ]
  },
  {
   "cell_type": "code",
   "execution_count": 125,
   "metadata": {},
   "outputs": [
    {
     "data": {
      "text/plain": [
       "array([  5.31411577, 549.47819193])"
      ]
     },
     "execution_count": 125,
     "metadata": {},
     "output_type": "execute_result"
    }
   ],
   "source": [
    "confint(theta, se, 0.05)"
   ]
  },
  {
   "cell_type": "markdown",
   "metadata": {},
   "source": [
    "Since the 95% confidence interval does not contain 0, we have some evidence that seeding clouds does increase the rainfall."
   ]
  }
 ],
 "metadata": {
  "kernelspec": {
   "display_name": "Python 3 (ipykernel)",
   "language": "python",
   "name": "python3"
  },
  "language_info": {
   "codemirror_mode": {
    "name": "ipython",
    "version": 3
   },
   "file_extension": ".py",
   "mimetype": "text/x-python",
   "name": "python",
   "nbconvert_exporter": "python",
   "pygments_lexer": "ipython3",
   "version": "3.12.6"
  }
 },
 "nbformat": 4,
 "nbformat_minor": 4
}
