{
 "cells": [
  {
   "cell_type": "markdown",
   "id": "622d9472-ace4-4b7a-b98e-edd7075878b6",
   "metadata": {},
   "source": [
    "We prove Theorem 10.6.\n",
    "\n",
    "The probability of rejecting the null hypothesis of the Wald test (Definition 10.3) when the true distribution of $\\hat{\\theta}$ is $N(\\theta_*, \\widehat{\\text{se}})$ is given by\n",
    "$$\\begin{split}\\mathbb{P}[|W| > z_{\\alpha/2}] \n",
    "&= \\mathbb{P}\\left[\\frac{\\hat{\\theta} - \\theta_0}{\\widehat{\\text{se}}} < -z_{\\alpha/2} \\text{ or } \\frac{\\hat{\\theta} - \\theta_0}{\\widehat{\\text{se}}} > z_{\\alpha/2}\\right] \\\\\n",
    "&= \\mathbb{P}\\left[\\frac{\\hat{\\theta} - \\theta_0}{\\widehat{\\text{se}}} < -z_{\\alpha/2} \\right] + \\mathbb{P}\\left[\\frac{\\hat{\\theta} - \\theta_0}{\\widehat{\\text{se}}} > z_{\\alpha/2}\\right] \\\\\n",
    "&= \\mathbb{P}\\left[\\frac{\\hat{\\theta} - \\theta_*}{\\widehat{\\text{se}}} < \\frac{\\theta_0 - \\theta_*}{\\widehat{\\text{se}}} - z_{\\alpha/2} \\right] + \\mathbb{P}\\left[\\frac{\\hat{\\theta} - \\theta_*}{\\widehat{\\text{se}}} > \\frac{\\theta_0 - \\theta_*}{\\widehat{\\text{se}}} + z_{\\alpha/2}\\right] \\\\\n",
    "&= \\Phi\\left[\\frac{\\theta_0 - \\theta_*}{\\widehat{\\text{se}}} - z_{\\alpha/2} \\right] + 1 - \\Phi\\left[\\frac{\\theta_0 - \\theta_*}{\\widehat{\\text{se}}} + z_{\\alpha/2}\\right].\n",
    "\\end{split}$$"
   ]
  }
 ],
 "metadata": {
  "kernelspec": {
   "display_name": "Python 3 (ipykernel)",
   "language": "python",
   "name": "python3"
  },
  "language_info": {
   "codemirror_mode": {
    "name": "ipython",
    "version": 3
   },
   "file_extension": ".py",
   "mimetype": "text/x-python",
   "name": "python",
   "nbconvert_exporter": "python",
   "pygments_lexer": "ipython3",
   "version": "3.12.6"
  }
 },
 "nbformat": 4,
 "nbformat_minor": 5
}
