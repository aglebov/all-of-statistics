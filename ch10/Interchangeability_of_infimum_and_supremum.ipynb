{
 "cells": [
  {
   "cell_type": "markdown",
   "id": "05486510-96dd-4279-8e48-56b4d03e3aee",
   "metadata": {},
   "source": [
    "Infimum and supremum are in general not interchangeable.\n",
    "\n",
    "Consider for example the function $F(x, y)$ defined by\n",
    "$$\\begin{split}\n",
    "F(0, 0) &= 0 \\\\\n",
    "F(0, 1) &= 1 \\\\\n",
    "F(1, 0) &= 1 \\\\\n",
    "F(1, 1) &= 0 \\\\\n",
    "\\end{split}$$\n",
    "\n",
    "Then $\\inf_y F(0, y) = 0$ and $\\inf_y F(1, y) = 0$, hence $\\inf_y F(x, y) = 0$ and $\\sup_x \\inf_y F(x, y) = 0$. On the other hard, $\\sup_x F(x,0) = 1$ and $\\sup_x F(x, 1)=1$, so $\\sup_x F(x, y) = 1$ and $\\inf_y \\sup_x F(x,y) = 1$. We can see that \n",
    "$$\\sup_x \\inf_y F(x, y) \\neq \\inf_y \\sup_x F(x,y).$$"
   ]
  },
  {
   "cell_type": "markdown",
   "id": "b906444f-9b16-4b09-8d50-4a39bc25c733",
   "metadata": {},
   "source": [
    "However, if $y \\geq y_0$, $F(x,y)$ is monotonic in $y$ and $\\sup_x F(x,y)$ exists for all $y$, then we have\n",
    "$$\\inf_y \\sup_x F(x,y) = \\sup_x \\inf_y F(x,y).$$\n",
    "\n",
    "Proof. Note that $\\inf_y F(x,y) = F(x, y_0)$, so \n",
    "$$\\sup_x \\inf_y F(x, y) = \\sup_x F(x, y_0).$$\n",
    "Since $F(x, y)$ is monotonic in $y$, $\\sup_x F(x,y)$ is also monotonic in $y$, so \n",
    "$$\\inf_y \\sup_x F(x, y) = \\sup_x F(x, y_0).$$\n",
    "We conclude that\n",
    "$$\\sup_x \\inf_y F(x, y) = \\inf_y \\sup_x F(x, y).$$"
   ]
  }
 ],
 "metadata": {
  "kernelspec": {
   "display_name": "Python 3 (ipykernel)",
   "language": "python",
   "name": "python3"
  },
  "language_info": {
   "codemirror_mode": {
    "name": "ipython",
    "version": 3
   },
   "file_extension": ".py",
   "mimetype": "text/x-python",
   "name": "python",
   "nbconvert_exporter": "python",
   "pygments_lexer": "ipython3",
   "version": "3.12.6"
  }
 },
 "nbformat": 4,
 "nbformat_minor": 5
}
