{
 "cells": [
  {
   "cell_type": "code",
   "execution_count": 63,
   "id": "ec87ee27-96e7-4aa2-b265-6bfb149995bf",
   "metadata": {},
   "outputs": [],
   "source": [
    "import numpy as np\n",
    "import scipy.stats as stats\n",
    "import matplotlib.pyplot as plt"
   ]
  },
  {
   "cell_type": "markdown",
   "id": "0e0cbcee-6f30-4b8f-8054-7e394519bac7",
   "metadata": {},
   "source": [
    "## Exercise 1\n",
    "\n",
    "See the separate notebook for the proof."
   ]
  },
  {
   "cell_type": "markdown",
   "id": "e26063cb-1bb6-41c0-ad38-31f60b23a4a7",
   "metadata": {},
   "source": [
    "## Exercise 3\n",
    "\n",
    "The suze $\\alpha$ Wald test rejects if and only if\n",
    "$$\\left|\\frac{\\hat{\\theta} - \\theta_0}{\\widehat{\\text{se}}}\\right| > z_{\\alpha/2},$$\n",
    "that is when\n",
    "$$\\theta_0 \\notin (\\hat{\\theta} - \\widehat{\\text{se}}\\, z_{\\alpha/2}, \\hat{\\theta} + \\widehat{\\text{se}}\\, z_{\\alpha/2}).$$"
   ]
  },
  {
   "cell_type": "markdown",
   "id": "3814be40-3eb5-49eb-8ecb-180dc62a9765",
   "metadata": {},
   "source": [
    "## Exercise 5\n",
    "\n",
    "The value $Y = \\max(X_1, \\dots, X_n)$ acts as the test statistic in this case.\n",
    "\n",
    "(a) Using the density of $Y$ derived in Exercise 4 in Chapter 9, we have\n",
    "$$\\beta(\\theta) = \\mathbb{P}_\\theta(Y > c) = \\mathbb{1}_{[0, \\theta]}(c) \\int_c^\\theta \\frac{n}{\\theta} \\left(\\frac{y}{\\theta}\\right)^n dy = \\left(1 - \\left(\\frac{c}{\\theta}\\right)^n\\right) \\mathbb{1}_{[0, \\theta]}(c).$$\n",
    "\n",
    "(b) By Definition 10.1, the size of the test\n",
    "$$\\alpha = \\sup_{\\theta \\in \\Theta_0} \\beta(\\theta) = (1 - (2c)^n) \\mathbb{1}_{[0, \\frac{1}{2}]}(c),$$\n",
    "since $\\Theta_0 = \\{\\frac{1}{2}\\}$.\n",
    "\n",
    "The value of $c$ that makes the size of the test $\\alpha$ is given by\n",
    "$$c = \\frac{1}{2}(1 - \\alpha)^{1/n}.$$\n",
    "\n",
    "(c) By Theorem 10.12,\n",
    "$$\\text{p-value} = \\mathbb{P}_{\\theta_0}(T(X^n) \\geq Y) = (1 - (2Y)^n) \\mathbb{1}_{[0, \\frac{1}{2}]}(c).$$"
   ]
  },
  {
   "cell_type": "code",
   "execution_count": 10,
   "id": "99a0672a-5725-4868-93e1-af903b5e2b55",
   "metadata": {},
   "outputs": [],
   "source": [
    "def pvalue(Y, n):\n",
    "    return 1 - (2 * Y) ** n if Y >= 0 and Y <= 0.5 else 0"
   ]
  },
  {
   "cell_type": "code",
   "execution_count": 11,
   "id": "e9419b2f-689a-46df-8228-568b69f1187e",
   "metadata": {},
   "outputs": [
    {
     "data": {
      "text/plain": [
       "0.5579975661205926"
      ]
     },
     "execution_count": 11,
     "metadata": {},
     "output_type": "execute_result"
    }
   ],
   "source": [
    "pvalue(0.48, 20)"
   ]
  },
  {
   "cell_type": "markdown",
   "id": "fea8c6f1-bedb-4637-93ff-262e737472eb",
   "metadata": {},
   "source": [
    "Since the p-value is large, we do not reject $H_0$."
   ]
  },
  {
   "cell_type": "markdown",
   "id": "8d060e4f-2862-4707-bf97-b2af1e2e2572",
   "metadata": {},
   "source": [
    "(d)"
   ]
  },
  {
   "cell_type": "code",
   "execution_count": 12,
   "id": "5a644795-89a0-4d94-8ca1-8f0a7d9f8c9f",
   "metadata": {},
   "outputs": [
    {
     "data": {
      "text/plain": [
       "0"
      ]
     },
     "execution_count": 12,
     "metadata": {},
     "output_type": "execute_result"
    }
   ],
   "source": [
    "pvalue(0.52, 20)"
   ]
  },
  {
   "cell_type": "markdown",
   "id": "74eac408-cbca-48fc-b5cd-4fbfa6cb91cb",
   "metadata": {},
   "source": [
    "We reject $H_0$.\n",
    "\n",
    "In fact, we can see that this test will reject the null hypothesis if and only if $Y > \\frac{1}{2}$."
   ]
  },
  {
   "cell_type": "markdown",
   "id": "95cd159f-9b72-4a1a-9d0f-7f01e7603def",
   "metadata": {},
   "source": [
    "## Exercise 6\n",
    "\n",
    "Denoting by $X_1 = 922$ the number of people who died before the holiday, by $X_2 = 997$ the number of people who died after the holiday and by $n = X_1 + X_2 = 1919$ the total number of people, we define the Pearson's $\\chi^2$ statistic \n",
    "$$T = \\frac{X_1 - n (1 - p_0)}{n (1 - p_0)} + \\frac{X_2 - n p_0}{n p_0},$$\n",
    "where the null hypothesis is that the probability of dying after a holiday is $p = p_0$."
   ]
  },
  {
   "cell_type": "code",
   "execution_count": 18,
   "id": "ebd67c29-6f96-4dc1-a5a1-54c836be7875",
   "metadata": {},
   "outputs": [],
   "source": [
    "X1 = 922\n",
    "X2 = 997\n",
    "n = X1 + X2\n",
    "p0 = 0.5\n",
    "k = 2"
   ]
  },
  {
   "cell_type": "code",
   "execution_count": 16,
   "id": "b7a5ddb6-4423-42f9-a978-d86b10a38aef",
   "metadata": {},
   "outputs": [
    {
     "data": {
      "text/plain": [
       "2.931214174048984"
      ]
     },
     "execution_count": 16,
     "metadata": {},
     "output_type": "execute_result"
    }
   ],
   "source": [
    "T = (X1 - n * (1 - p0)) ** 2 / n / (1 - p0) + (X2 - n * p0) ** 2 / n / p0\n",
    "T"
   ]
  },
  {
   "cell_type": "markdown",
   "id": "8be424de-6980-4ea8-88b4-b3cf7a08a82e",
   "metadata": {},
   "source": [
    "Using Theorem 10.17, the p-value is $\\mathbb{P}(\\chi_{k-1}^2 > t)$:"
   ]
  },
  {
   "cell_type": "code",
   "execution_count": 19,
   "id": "4cda2884-77c1-4af3-aec8-06fab2fd4c45",
   "metadata": {},
   "outputs": [
    {
     "data": {
      "text/plain": [
       "np.float64(0.08688212846769013)"
      ]
     },
     "execution_count": 19,
     "metadata": {},
     "output_type": "execute_result"
    }
   ],
   "source": [
    "stats.chi2.sf(T, df=k - 1)"
   ]
  },
  {
   "cell_type": "markdown",
   "id": "9dd9d02c-17a5-4f73-b918-194f12db11b3",
   "metadata": {},
   "source": [
    "At 95% confidence level, we do not reject the null hypothesis."
   ]
  },
  {
   "cell_type": "markdown",
   "id": "bf0bb337-cda3-447c-8d71-e59b4f632405",
   "metadata": {},
   "source": [
    "The estimate of $p$ is:"
   ]
  },
  {
   "cell_type": "code",
   "execution_count": 72,
   "id": "7cac10b0-7729-4ef6-a2a4-355c23142c89",
   "metadata": {},
   "outputs": [
    {
     "data": {
      "text/plain": [
       "0.5195414278269932"
      ]
     },
     "execution_count": 72,
     "metadata": {},
     "output_type": "execute_result"
    }
   ],
   "source": [
    "p_hat = X2 / n\n",
    "p_hat"
   ]
  },
  {
   "cell_type": "markdown",
   "id": "94702d53-229b-4921-930a-ef256d2783a7",
   "metadata": {},
   "source": [
    "The variance of the estimate is given by\n",
    "$$\\mathbb{V}\\left[\\frac{X_2}{n}\\right] = \\frac{\\mathbb{V}[X_2]}{n^2} = \\frac{n p(1 - p)}{n^2} = \\frac{p(1-p)}{n}.$$"
   ]
  },
  {
   "cell_type": "code",
   "execution_count": 74,
   "id": "e62f379c-aadc-44f7-b557-1550b4da30a0",
   "metadata": {},
   "outputs": [
    {
     "data": {
      "text/plain": [
       "np.float64(0.011405138868050746)"
      ]
     },
     "execution_count": 74,
     "metadata": {},
     "output_type": "execute_result"
    }
   ],
   "source": [
    "se = np.sqrt(p_hat * (1 - p_hat) / n)\n",
    "se"
   ]
  },
  {
   "cell_type": "markdown",
   "id": "b6f3ec07-dbb3-4a75-8628-f17c6254508e",
   "metadata": {},
   "source": [
    "Assuming asymptotic normality, we get the 90% confidence interval:"
   ]
  },
  {
   "cell_type": "code",
   "execution_count": 75,
   "id": "17e404c5-0278-465b-96f4-635d99a517ea",
   "metadata": {},
   "outputs": [
    {
     "data": {
      "text/plain": [
       "array([0.49718777, 0.54189509])"
      ]
     },
     "execution_count": 75,
     "metadata": {},
     "output_type": "execute_result"
    }
   ],
   "source": [
    "alpha = 0.05\n",
    "p_hat + stats.norm.ppf([alpha / 2, 1 - alpha / 2]) * se"
   ]
  },
  {
   "cell_type": "markdown",
   "id": "3c87f485-aab9-44a5-a75e-3e53157d96ce",
   "metadata": {},
   "source": [
    "## Exercise 7\n",
    "\n",
    "(a) We follow Example 10.8 using the non-parametric plug-in estimator for the difference of means\n",
    "$$\\hat{\\delta} = \\overline{X} - \\overline{Y}$$\n",
    "and for the standard error\n",
    "$$\\widehat{\\text{se}} = \\sqrt{\\frac{s_1^2}{n_1} + \\frac{s_2^2}{n_2}},$$\n",
    "where $s_1^2$ and $s_2^2$ are sample variances and $n_1$, $n_2$ are the numbers of elements in each of the two samples."
   ]
  },
  {
   "cell_type": "code",
   "execution_count": 21,
   "id": "55ffb4ad-0494-4e90-b58c-f959c873efbf",
   "metadata": {},
   "outputs": [],
   "source": [
    "X = np.array([.225, .262, .217, .240, .230, .229, .235, .217])\n",
    "Y = np.array([.209, .205, .196, .210, .202, .207, .224, .223, .220, .201])"
   ]
  },
  {
   "cell_type": "code",
   "execution_count": 46,
   "id": "555b7a54-b6b0-4a68-b543-1177a55e82db",
   "metadata": {},
   "outputs": [],
   "source": [
    "def wald_statistic(X, Y):\n",
    "    delta = np.mean(X) - np.mean(Y)\n",
    "    se = np.sqrt(np.var(X, ddof=1) / X.shape[0] + np.var(Y, ddof=1) / Y.shape[0])\n",
    "    return np.abs(delta / se), delta, se"
   ]
  },
  {
   "cell_type": "code",
   "execution_count": 47,
   "id": "63bc4f02-edb4-45d6-90d7-5b93ef927303",
   "metadata": {},
   "outputs": [],
   "source": [
    "W, delta, se = wald_statistic(X, Y)"
   ]
  },
  {
   "cell_type": "code",
   "execution_count": 49,
   "id": "4e1bd07d-23b2-4591-be37-1604e504a23f",
   "metadata": {},
   "outputs": [
    {
     "data": {
      "text/plain": [
       "np.float64(0.022175)"
      ]
     },
     "execution_count": 49,
     "metadata": {},
     "output_type": "execute_result"
    }
   ],
   "source": [
    "delta"
   ]
  },
  {
   "cell_type": "code",
   "execution_count": 50,
   "id": "f5e1167f-5cc1-4411-8606-09b3a0904398",
   "metadata": {},
   "outputs": [
    {
     "data": {
      "text/plain": [
       "np.float64(0.005987492751097445)"
      ]
     },
     "execution_count": 50,
     "metadata": {},
     "output_type": "execute_result"
    }
   ],
   "source": [
    "se"
   ]
  },
  {
   "cell_type": "code",
   "execution_count": 48,
   "id": "1ef1c2eb-f568-4794-958f-6c7f4b027ee1",
   "metadata": {},
   "outputs": [
    {
     "data": {
      "text/plain": [
       "np.float64(3.7035535443338206)"
      ]
     },
     "execution_count": 48,
     "metadata": {},
     "output_type": "execute_result"
    }
   ],
   "source": [
    "W"
   ]
  },
  {
   "cell_type": "markdown",
   "id": "ae673c84-f34c-4273-a622-33f3be18267c",
   "metadata": {},
   "source": [
    "The p-value is:"
   ]
  },
  {
   "cell_type": "code",
   "execution_count": 32,
   "id": "211886a5-070e-42a2-ad18-357f96a5c59c",
   "metadata": {},
   "outputs": [
    {
     "data": {
      "text/plain": [
       "np.float64(0.00021260028225810121)"
      ]
     },
     "execution_count": 32,
     "metadata": {},
     "output_type": "execute_result"
    }
   ],
   "source": [
    "2 * stats.norm.sf(W)"
   ]
  },
  {
   "cell_type": "markdown",
   "id": "91d369f3-63ba-481e-b95e-f5774b80d68e",
   "metadata": {},
   "source": [
    "The 95% confidence interval for the difference in means is:"
   ]
  },
  {
   "cell_type": "code",
   "execution_count": 30,
   "id": "684e5034-1084-46c0-a1f3-e3c3e44aad7d",
   "metadata": {},
   "outputs": [
    {
     "data": {
      "text/plain": [
       "array([0.01043973, 0.03391027])"
      ]
     },
     "execution_count": 30,
     "metadata": {},
     "output_type": "execute_result"
    }
   ],
   "source": [
    "alpha = 0.05\n",
    "delta + stats.norm.ppf([alpha / 2, 1 - alpha / 2]) * se"
   ]
  },
  {
   "cell_type": "markdown",
   "id": "f18b72e8-569a-4798-9d51-e71233a2f98e",
   "metadata": {},
   "source": [
    "We can see that the p-value is very small, and the 95% confidence interval does not include 0, so we reject the null hypothesis."
   ]
  },
  {
   "cell_type": "markdown",
   "id": "a06857a7-5d5b-4a1d-b9d3-4f68682e1a84",
   "metadata": {},
   "source": [
    "(b) For the permutation method, we assume both $X$ and $Y$ came from the same distribution."
   ]
  },
  {
   "cell_type": "code",
   "execution_count": 40,
   "id": "848be4df-85fe-4ad5-8563-48639cec4bfc",
   "metadata": {},
   "outputs": [],
   "source": [
    "rng = np.random.default_rng(12345)"
   ]
  },
  {
   "cell_type": "code",
   "execution_count": 51,
   "id": "dad58649-1ad5-47bc-b70b-32c2309b53a0",
   "metadata": {},
   "outputs": [],
   "source": [
    "m = 1000"
   ]
  },
  {
   "cell_type": "code",
   "execution_count": 53,
   "id": "3a997f8a-9789-4040-a096-e77257166f82",
   "metadata": {},
   "outputs": [],
   "source": [
    "W_star = stats.bootstrap(\n",
    "    (np.concatenate([X, Y]),), \n",
    "    lambda xy: wald_statistic(xy[:X.shape[0]], xy[X.shape[0]:])[0],\n",
    "    n_resamples=m,\n",
    "    random_state=rng,\n",
    ").bootstrap_distribution"
   ]
  },
  {
   "cell_type": "markdown",
   "id": "e5745272-bb1a-4048-978d-51367fd42bc6",
   "metadata": {},
   "source": [
    "The permutation p-value is:"
   ]
  },
  {
   "cell_type": "code",
   "execution_count": 55,
   "id": "bbfb4b51-8daf-4428-9876-1cd89ed2ff56",
   "metadata": {},
   "outputs": [
    {
     "data": {
      "text/plain": [
       "np.float64(0.002)"
      ]
     },
     "execution_count": 55,
     "metadata": {},
     "output_type": "execute_result"
    }
   ],
   "source": [
    "np.mean(W_star > W)"
   ]
  },
  {
   "cell_type": "markdown",
   "id": "8560eb3a-badb-4038-9acd-dc73b03ce81e",
   "metadata": {},
   "source": [
    "Since the p-value is very small, we reject the null hypothesis."
   ]
  },
  {
   "cell_type": "markdown",
   "id": "77173d18-6dff-4e05-a693-eb27291e4e55",
   "metadata": {},
   "source": [
    "## Exercise 8\n",
    "\n",
    "Since $T(X^n) = n^{-1} \\sum_{i=1}^n X_i$ and $X_i \\sim N(\\theta, 1)$, we have $T(X^n) \\sim N(\\theta, \\frac{1}{n})$.\n",
    "\n",
    "$\\Theta_0 = \\{0\\}$ and $\\Theta_1 = \\{1\\}$.\n",
    "\n",
    "(a) We have\n",
    "$$\\alpha = \\sup_{\\theta \\in \\Theta_0} \\mathbb{P}_\\theta(T(X^n) > c) = 1 - \\Phi(c \\sqrt{n}),$$\n",
    "so\n",
    "$$c = \\frac{1}{\\sqrt{n}} z_\\alpha.$$\n",
    "\n",
    "If $c > 0$, $\\alpha \\to 0$ as $n \\to \\infty$. If $c < 0$, $\\alpha \\to 1$ as $n \\to \\infty$, so the test becomes useless as it always rejects the null.\n",
    "\n",
    "(b) Under $H_1$, $T(X^n) \\sim N(1, \\frac{1}{n})$, therefore\n",
    "$$\\beta(1) = \\mathbb{P}_1(T(X^n) > c) = 1 - \\Phi(\\sqrt{n}(c - 1)).$$\n",
    "\n",
    "(c) If we use the value of $c$ found in (a), we obtain\n",
    "$$\\beta(1) = 1 - \\Phi(z_\\alpha - \\sqrt{n}),$$\n",
    "so $\\beta(1) \\to 1$ as $n \\to \\infty$."
   ]
  },
  {
   "cell_type": "markdown",
   "id": "1716937c-a801-4b4f-b0f3-8e803dada1e6",
   "metadata": {},
   "source": [
    "## Exercise 9\n",
    "\n",
    "We have\n",
    "$$\\begin{split}\n",
    "\\beta(\\theta_1) \n",
    "&= \\mathbb{P}_{\\theta_1}\\left(\\frac{|\\hat{\\theta} - \\theta_0|}{\\widehat{\\text{se}}} > z_{\\alpha / 2}\\right) \\\\\n",
    "&= \\mathbb{P}_{\\theta_1}\\left(\\frac{\\hat{\\theta} - \\theta_0}{\\widehat{\\text{se}}} < -z_{\\alpha / 2}\\right) + \\mathbb{P}_{\\theta_1}\\left(\\frac{\\hat{\\theta} - \\theta_0}{\\widehat{\\text{se}}} > z_{\\alpha / 2}\\right) \\\\\n",
    "&= \\mathbb{P}_{\\theta_1}\\left(\\frac{\\hat{\\theta} - \\theta_1}{\\widehat{\\text{se}}} < \\frac{\\theta_0 - \\theta_1}{\\widehat{\\text{se}}} -z_{\\alpha / 2}\\right) + \\mathbb{P}_{\\theta_1}\\left(\\frac{\\hat{\\theta} - \\theta_1}{\\widehat{\\text{se}}} > \\frac{\\theta_0 - \\theta_1}{\\widehat{\\text{se}}} + z_{\\alpha / 2}\\right) \\\\\n",
    "&= \\Phi\\left(\\frac{\\theta_0 - \\theta_1}{\\widehat{\\text{se}}} -z_{\\alpha / 2}\\right) + 1 - \\Phi\\left(\\frac{\\theta_0 - \\theta_1}{\\widehat{\\text{se}}} + z_{\\alpha / 2}\\right) \\\\\n",
    "\\end{split}.$$\n",
    "\n",
    "As $n \\to \\infty$, $\\widehat{\\text{se}} = \\{n I(\\hat{\\theta})\\}^{-1/2} \\to 0$. Since $\\theta_0 < \\theta_1$, we have\n",
    "$$\\Phi\\left(\\frac{\\theta_0 - \\theta_1}{\\widehat{\\text{se}}} -z_{\\alpha / 2}\\right) \\to 0$$\n",
    "and\n",
    "$$\\Phi\\left(\\frac{\\theta_0 - \\theta_1}{\\widehat{\\text{se}}} + z_{\\alpha / 2}\\right) \\to 0,$$\n",
    "so\n",
    "$$\\beta(\\theta_1) \\to 1.$$"
   ]
  },
  {
   "cell_type": "markdown",
   "id": "aff1d101-ae10-45df-b788-27b5b9aaedab",
   "metadata": {},
   "source": [
    "## Exercise 10\n",
    "\n",
    "We use the likelihood ratio test with $\\Theta = \\{(p_{1,1}, p_{1,2}, p_{1,3}, p_{1,4}, p_{2,1}, p_{2,2}, p_{2,3}, p_{2,4})\\}$, where $p_{1,1}$, $p_{1,2}$, $p_{1,3}$, $p_{1,4}$ are the probabilities of dying during weeks -2, -1, 1 and 2, respectively, for a Chinese woman, and $p_{2,1}$, $p_{2,2}$, $p_{2,3}$, $p_{2,4}$ are the corresponding probabilities for a Jewish woman. We have $p_{1,1} + p_{1,2} + p_{1,3} + p_{1,4} = 1$ and $p_{2,1} + p_{2,2} + p_{2,3} + p_{2,4} = 1$, so the dimension of $\\Theta$ is 6.\n",
    "\n",
    "The null hypothesis is that $p_{1,i} = p_{2,i}$ for $i=1,2,3,4$, thus the dimension of $\\Theta_0$ is 3.\n",
    "\n",
    "We assume that the number of deaths follow a multinomial distribution, so\n",
    "$$\\mathcal{L}(p_{1,1}, p_{1,2}, p_{1,3}, p_{1,4}, p_{2,1}, p_{2,2}, p_{2,3}, p_{2,4})  = {n_1 \\choose x_1\\; x_2\\; x_3\\; x_4} p_{1,1}^{x_1}\\; p_{1,2}^{x_2}\\; p_{1,3}^{x_3}\\; p_{1,4}^{x_4}\\, {n_2 \\choose y_1\\; y_2\\; y_3\\; y_4} p_{2,1}^{y_1}\\; p_{2,2}^{y_2}\\; p_{2,3}^{y_3}\\; p_{2,4}^{y_4}$$\n",
    "\n",
    "We find the MLE estimators for the parameters under the constraints\n",
    "$$\\begin{split}\n",
    "p_{1,1} + p_{1,2} + p_{1,3} + p_{1,4} &= 1 \\\\\n",
    "p_{2,1} + p_{2,2} + p_{2,3} + p_{2,4} &= 1 \\\\\n",
    "\\end{split}$$\n",
    "using the Lagrange multiplier method.\n",
    "\n",
    "Since the log-likelihood separates into the sum\n",
    "$$\\log \\mathcal{L}(p_{1,1}, p_{1,2}, p_{1,3}, p_{1,4}, p_{2,1}, p_{2,2}, p_{2,3}, p_{2,4})  = \\log {n_1 \\choose x_1\\; x_2\\; x_3\\; x_4} + x_1 \\log p_{1,1} + x_2 \\log p_{1,2} + x_3 \\log p_{1,3} + x_4 \\log p_{1,4} + \\log {n_2 \\choose y_1\\; y_2\\; y_3\\; y_4} + y_1 \\log p_{2,1} + y_2 \\log p_{2,2} + y_3 \\log p_{2,3} + y_4 \\log p_{2,4},$$\n",
    "we can optimise for two sets of probabilities separately.\n",
    "\n",
    "Introducing the Lagrange multiplier $\\lambda_1$, we maximise\n",
    "$$L_1 = \\log {n_1 \\choose x_1\\; x_2\\; x_3\\; x_4} + x_1 \\log p_{1,1} + x_2 \\log p_{1,2} + x_3 \\log p_{1,3} + x_4 \\log p_{1,4} + \\lambda_1(1 - p_{1,1} - p_{1,2} - p_{1,3} - p_{1,4}).$$\n",
    "Setting the derivatives\n",
    "$$\\frac{\\partial L_1}{\\partial p_{1,i}} = \\frac{x_i}{p_{1,i}} - \\lambda_1 = 0,$$\n",
    "we obtain\n",
    "$$p_{1,i} = \\frac{x_i}{\\lambda_1}.$$\n",
    "Setting\n",
    "$$\\frac{\\partial L_1}{\\partial \\lambda_1} = 1 - p_{1,1} - p_{1,2} - p_{1,3} - p_{1,4} = 0,$$\n",
    "we have\n",
    "$$\\sum_{i=1}^4 p_{1,i} = \\frac{\\sum_{i=1}^4 x_i}{\\lambda_1} = 1,$$\n",
    "thus\n",
    "$$\\lambda_1 = \\sum_{i=1}^4 x_i$$\n",
    "and finally\n",
    "$$\\hat{p}_{1,i} = \\frac{x_i}{\\sum_{i=1}^4 x_i}.$$\n",
    "Similarly, we obtain\n",
    "$$\\hat{p}_{2,i} = \\frac{y_i}{\\sum_{i=1}^4 y_i}.$$\n",
    "\n",
    "If $p_{1,i} = p_{2,i}$, the likelihood becomes\n",
    "$$\\mathcal{L}(p_{1,1}, p_{1,2}, p_{1,3}, p_{1,4}, p_{2,1}, p_{2,2}, p_{2,3}, p_{2,4}) = {n_1 \\choose x_1\\; x_2\\; x_3\\; x_4} {n_2 \\choose y_1\\; y_2\\; y_3\\; y_4} p_{1,1}^{x_1 + y_1}\\; p_{1,2}^{x_2 + y_2}\\; p_{1,3}^{x_3 + y_3}\\; p_{1,4}^{x_4 + y_4},$$\n",
    "which is maximised by\n",
    "$$\\tilde{p}_{1,i} = \\frac{x_i + y_i}{\\sum_{i=1}^4 x_i + y_i}.$$\n",
    "\n",
    "Then\n",
    "$$2 \\log \\frac{\\mathcal{L}(\\hat{\\theta})}{\\mathcal{L}(\\tilde{\\theta})} = 2 \\sum_{i=1}^4 (x_i \\log \\hat{p}_{1,i} + y_i \\log \\hat{p}_{2,i} - (x_i + y_i) \\log \\tilde{p}_{1,i})$$"
   ]
  },
  {
   "cell_type": "code",
   "execution_count": 57,
   "id": "5633c911-fa1e-4c70-9bfd-729901e1b46e",
   "metadata": {},
   "outputs": [],
   "source": [
    "X = np.array([55, 33, 70, 49])\n",
    "Y = np.array([141, 145, 139, 161])"
   ]
  },
  {
   "cell_type": "code",
   "execution_count": 59,
   "id": "0b1665ae-3ce9-4a30-90c1-fa1f6d8e8082",
   "metadata": {},
   "outputs": [],
   "source": [
    "p1_hat = X / np.sum(X)\n",
    "p2_hat = Y / np.sum(Y)\n",
    "p_tilde = (X + Y) / np.sum(X + Y)"
   ]
  },
  {
   "cell_type": "code",
   "execution_count": 67,
   "id": "8dd87c9c-168d-49a8-8b55-1d05741a9b4b",
   "metadata": {},
   "outputs": [
    {
     "data": {
      "image/png": "[encoded data removed]",
      "text/plain": [
       "<Figure size 640x480 with 1 Axes>"
      ]
     },
     "metadata": {},
     "output_type": "display_data"
    }
   ],
   "source": [
    "fig, ax = plt.subplots()\n",
    "ax.plot(p1_hat, label='$\\\\hat{p}_1$');\n",
    "ax.plot(p2_hat, label='$\\\\hat{p}_2$');\n",
    "ax.plot(p_tilde, label='$\\\\tilde{p}$');\n",
    "ax.legend();"
   ]
  },
  {
   "cell_type": "code",
   "execution_count": 68,
   "id": "5e2d52e3-50ad-4e0c-921b-77b6584d8362",
   "metadata": {},
   "outputs": [
    {
     "data": {
      "text/plain": [
       "np.float64(12.525391029825073)"
      ]
     },
     "execution_count": 68,
     "metadata": {},
     "output_type": "execute_result"
    }
   ],
   "source": [
    "lam = 2 * np.sum(X * np.log(p1_hat) + Y * np.log(p2_hat) - (X + Y) * np.log(p_tilde))\n",
    "lam"
   ]
  },
  {
   "cell_type": "markdown",
   "id": "80df90f1-2975-4e87-933c-50cb5891d9dc",
   "metadata": {},
   "source": [
    "Using Theorem 10.22, we obtain the p-value:"
   ]
  },
  {
   "cell_type": "code",
   "execution_count": 69,
   "id": "e9f7306c-20b1-4090-b768-b7c9852739eb",
   "metadata": {},
   "outputs": [
    {
     "data": {
      "text/plain": [
       "np.float64(0.005783928700160865)"
      ]
     },
     "execution_count": 69,
     "metadata": {},
     "output_type": "execute_result"
    }
   ],
   "source": [
    "stats.chi2.sf(lam, 3)"
   ]
  },
  {
   "cell_type": "markdown",
   "id": "875f0988-f3ef-4e92-9e9c-0fff9ae85bff",
   "metadata": {},
   "source": [
    "The p-value is below 0.01, so we reject the null hypothesis."
   ]
  },
  {
   "cell_type": "markdown",
   "id": "635ed0fc-0b87-4b47-8fd7-62db3fc864f7",
   "metadata": {},
   "source": [
    "## Exercise 11\n",
    "\n",
    "We use the likelihood ratio test to check if each of the drugs has an effect on the incidence of nausea.\n",
    "\n",
    "(a) Let $p_i$ is the probability of having nausea with the drug $i$ and $p_0$ is the probability of having nauses with a placebo. Then the likelihood\n",
    "$$\\mathcal{L}_i(p_0, p_i) = {n_0 \\choose x_0} p_0^{x_0} (1 - p_0)^{n_0 - x_0} {n_i \\choose x_i} p_i^{x_i} (1 - p_i)^{n_i - x_i}$$\n",
    "and the log-likelihood is\n",
    "$$\\log \\mathcal{L}_i(p_0, p_i) = \\log {n_0 \\choose x_0} + x_0 \\log p_0 + (n_0 - x_0) \\log (1 - p_0) + \\log {n_i \\choose x_i} + x_i \\log p_i + (n_i - x_i) \\log (1 - p_i).$$\n",
    "This is maximised by\n",
    "$$\\begin{split}\n",
    "\\hat{p}_0 &= \\frac{x_0}{n_0}, \\\\\n",
    "\\hat{p}_i &= \\frac{x_i}{n_i}. \\\\\n",
    "\\end{split}$$\n",
    "\n",
    "Under the null hypothesis, $p_i = p_0$, so similarly to Exercise 10, we obtain\n",
    "$$\\tilde{p}_i = \\frac{x_0 + x_i}{n_0 + n_i}.$$\n",
    "\n",
    "The test statistic is\n",
    "$$\\lambda_i = 2 \\log \\frac{\\mathcal{L}_i(\\hat{\\theta})}{\\mathcal{L}(\\tilde{\\theta})} = 2 (x_0 \\log \\hat{p}_0 + (n_0 - x_0) \\log (1 - \\hat{p}_0) + x_i \\log \\hat{p}_i + (n_i - x_i) \\log (1 - \\hat{p}_i) - (x_0 + x_i) \\log \\tilde{p}_i - (n_0 + n_i - x_0 - x_i) \\log (1 - \\tilde{p}_i)).$$\n",
    "\n",
    "The dimension of the unrestricted space is $r=2$, and of the restricted space is $q = 1$. The p-value is given by $\\mathbb{P}(\\chi_{r-q}^2 > \\lambda)$."
   ]
  },
  {
   "cell_type": "code",
   "execution_count": 76,
   "id": "59b015d9-f0ca-4e9e-a26b-9e6a9f82bee9",
   "metadata": {},
   "outputs": [],
   "source": [
    "N = np.array([80, 75, 85, 67, 85])\n",
    "X = np.array([45, 26, 52, 35, 37])"
   ]
  },
  {
   "cell_type": "code",
   "execution_count": 84,
   "id": "f86380e9-fc3a-4751-8bdc-535ba799c7a0",
   "metadata": {},
   "outputs": [],
   "source": [
    "p_hat = X / N\n",
    "p_tilde = (X[0] + X[1:]) / (N[0] + N[1:])"
   ]
  },
  {
   "cell_type": "code",
   "execution_count": 85,
   "id": "52cc93d7-0290-4863-8b18-ace7c2253cba",
   "metadata": {},
   "outputs": [],
   "source": [
    "lam = 2 * (\n",
    "    X[0] * np.log(p_hat[0])\n",
    "    + (N[0] - X[0]) * np.log(1 - p_hat[0])\n",
    "    + X[1:] * np.log(p_hat[1:])\n",
    "    + (N[1:] - X[1:]) * np.log(1 - p_hat[1:])\n",
    "    - (X[0] + X[1:]) * np.log(p_tilde)\n",
    "    - (N[0] + N[1:] - X[0] - X[1:]) * np.log(1 - p_tilde)\n",
    ")"
   ]
  },
  {
   "cell_type": "markdown",
   "id": "91b5b3b2-5945-4947-82b0-dd6609d006b3",
   "metadata": {},
   "source": [
    "The p-values are:"
   ]
  },
  {
   "cell_type": "code",
   "execution_count": 91,
   "id": "a91e6a33-5e02-4a25-94f4-936b0896314e",
   "metadata": {},
   "outputs": [
    {
     "data": {
      "text/plain": [
       "array([0.00678153, 0.52050746, 0.62675579, 0.10195167])"
      ]
     },
     "execution_count": 91,
     "metadata": {},
     "output_type": "execute_result"
    }
   ],
   "source": [
    "pvalues = stats.chi2.sf(lam, df=1)\n",
    "pvalues"
   ]
  },
  {
   "cell_type": "markdown",
   "id": "5cc96501-5aa3-4c91-a2ca-c02400064d90",
   "metadata": {},
   "source": [
    "At the 5% level, we reject the null in the first case (Chlorpromazine), but do not reject in the other three cases.\n",
    "\n",
    "The odds ratio of not developing nausea after using a drug vs placebo is:"
   ]
  },
  {
   "cell_type": "code",
   "execution_count": 117,
   "id": "dafe4fe7-f83b-45a0-ab74-13adf231a180",
   "metadata": {},
   "outputs": [
    {
     "data": {
      "text/plain": [
       "array([2.42307692, 0.81593407, 1.1755102 , 1.66795367])"
      ]
     },
     "execution_count": 117,
     "metadata": {},
     "output_type": "execute_result"
    }
   ],
   "source": [
    "(1 - p_hat[1:]) / p_hat[1:] / ((1 - p_hat[0]) / p_hat[0])"
   ]
  },
  {
   "cell_type": "markdown",
   "id": "f43173d4-e55d-4247-b4ba-e4fef01b0ca7",
   "metadata": {},
   "source": [
    "(b) Using the Bonferroni method, we use the threshold"
   ]
  },
  {
   "cell_type": "code",
   "execution_count": 92,
   "id": "27049305-9a7f-4ab2-a2dd-3755e8e992ea",
   "metadata": {},
   "outputs": [],
   "source": [
    "alpha = 0.05\n",
    "n_tests = 4"
   ]
  },
  {
   "cell_type": "code",
   "execution_count": 93,
   "id": "fc404def-ab8e-4841-bec7-212af00a5885",
   "metadata": {},
   "outputs": [
    {
     "data": {
      "text/plain": [
       "0.0125"
      ]
     },
     "execution_count": 93,
     "metadata": {},
     "output_type": "execute_result"
    }
   ],
   "source": [
    "alpha / n_tests"
   ]
  },
  {
   "cell_type": "markdown",
   "id": "aaee2b9a-d33b-4e07-b53f-ed3a8a92cbe1",
   "metadata": {},
   "source": [
    "This leads to the same conclusion as in (a).\n",
    "\n",
    "Using the Benjamini-Hochberg method does not change the conclusion in (a) either:"
   ]
  },
  {
   "cell_type": "code",
   "execution_count": 97,
   "id": "841ac344-e3d1-40ac-8b47-6ef11a471610",
   "metadata": {},
   "outputs": [
    {
     "data": {
      "text/plain": [
       "array([ True, False, False, False])"
      ]
     },
     "execution_count": 97,
     "metadata": {},
     "output_type": "execute_result"
    }
   ],
   "source": [
    "np.sort(pvalues) < np.arange(1, n_tests + 1) / n_tests * alpha"
   ]
  },
  {
   "cell_type": "markdown",
   "id": "c3eb198f-90a8-4277-b026-f65c6026b96f",
   "metadata": {},
   "source": [
    "## Exercise 12\n",
    "\n",
    "(a) If $X_i \\sim \\text{Poisson}(\\lambda)$, then $\\overline{X} \\approx N(\\lambda, \\frac{\\lambda}{n})$, so the size $\\alpha$ Wald test means rejecting the null hypothesis if\n",
    "$$\\frac{|\\overline{X} - \\lambda_0|}{\\widehat{\\text{se}}} > z_{\\alpha/2},$$\n",
    "where $\\widehat{\\text{se}}$ is the standard error.\n",
    "\n",
    "(b)"
   ]
  },
  {
   "cell_type": "code",
   "execution_count": 103,
   "id": "5a9f8d0a-ca9e-4432-a6e9-e7bc2406eed5",
   "metadata": {},
   "outputs": [],
   "source": [
    "lambda0 = 1\n",
    "n = 20\n",
    "alpha = 0.05\n",
    "m = 1000"
   ]
  },
  {
   "cell_type": "code",
   "execution_count": 105,
   "id": "9fe94bb3-0843-480e-b055-260c388eebf7",
   "metadata": {},
   "outputs": [],
   "source": [
    "X = stats.poisson.rvs(size=(m, n), mu=lambda0, random_state=rng)"
   ]
  },
  {
   "cell_type": "code",
   "execution_count": 113,
   "id": "559fccb2-1ab4-4d27-bea7-403b17cbb428",
   "metadata": {},
   "outputs": [],
   "source": [
    "W = np.abs(np.mean(X, axis=1) - lambda0) / np.std(X, axis=1) * np.sqrt(n)"
   ]
  },
  {
   "cell_type": "code",
   "execution_count": 114,
   "id": "0f6de399-bec8-4cb7-93cd-e8526a3270e3",
   "metadata": {},
   "outputs": [
    {
     "data": {
      "text/plain": [
       "np.float64(0.08)"
      ]
     },
     "execution_count": 114,
     "metadata": {},
     "output_type": "execute_result"
    }
   ],
   "source": [
    "np.mean(W > stats.norm.ppf(1 - alpha / 2))"
   ]
  },
  {
   "cell_type": "markdown",
   "id": "a96c0c69-503d-4aa0-a86a-2da9694bb9c6",
   "metadata": {},
   "source": [
    "The type I error rate is larger than but close to the desired level."
   ]
  },
  {
   "cell_type": "markdown",
   "id": "25e09a34-6bac-4a11-9137-a28323ea18ea",
   "metadata": {},
   "source": [
    "## Exercise 13\n",
    "\n",
    "The likelihood of observing $X_1, \\dots, X_n$ is\n",
    "$$\\mathcal{L}(\\mu,\\sigma) \n",
    "= \\prod_{i=1}^n \\frac{1}{\\sqrt{2\\pi} \\sigma} \\exp\\left\\{-\\frac{(X_i - \\mu)^2}{2\\sigma^2}\\right\\}\n",
    "= (2\\pi)^{-n/2} \\sigma^{-n} \\exp\\left\\{-\\frac{1}{2\\sigma^2}\\sum_{i=1}^n (X_i - \\mu)^2\\right\\}$$\n",
    "and the log-likelihood is\n",
    "$$\\log \\mathcal{L}(\\mu,\\sigma) \n",
    "= -\\frac{n}{2} \\log(2\\pi) -n \\log \\sigma -\\frac{1}{2\\sigma^2}\\sum_{i=1}^n (X_i - \\mu)^2.$$\n",
    "Maximising the log-likelihood leads to the MLE estimates\n",
    "$$\\begin{split}\n",
    "\\hat{\\mu} &= \\frac{1}{n} \\sum_{i=1}^n X_i = \\overline{X}, \\\\\n",
    "\\hat{\\sigma} &= \\frac{1}{n} \\sum_{i=1}^n (X_i - \\hat{\\mu})^2 = \\frac{1}{n} \\sum_{i=1}^n (X_i - \\overline{X})^2. \\\\\n",
    "\\end{split}$$\n",
    "Then\n",
    "$$\\log \\mathcal{L}(\\hat{\\mu},\\hat{\\sigma})\n",
    "= -\\frac{n}{2} \\log(2\\pi) -n \\log \\hat{\\sigma} - \\frac{n}{2}.$$\n",
    "\n",
    "Under the null hypothesis\n",
    "$$\\log \\mathcal{L}_0(\\sigma) \n",
    "= -\\frac{n}{2} \\log(2\\pi) -n \\log \\sigma -\\frac{1}{2\\sigma^2}\\sum_{i=1}^n (X_i - \\mu_0)^2.$$\n",
    "Maximising the log-likelihood leads to the estimate\n",
    "$$\\tilde{\\sigma} = \\frac{1}{n} \\sum_{i=1}^n (X_i - \\mu_0)^2.$$\n",
    "Thus,\n",
    "$$\\log \\mathcal{L}_0(\\tilde{\\sigma}) \n",
    "= -\\frac{n}{2} \\log(2\\pi) -n \\log \\tilde{\\sigma} -\\frac{n}{2}.$$\n",
    "\n",
    "The test statistic of the log-likelihood test is\n",
    "$$\\lambda \n",
    "= 2 (\\log \\mathcal{L}(\\hat{\\mu},\\hat{\\sigma}) - \\log \\mathcal{L}_0(\\tilde{\\sigma}) ) \n",
    "= 2n \\log \\frac{\\tilde{\\sigma}}{\\hat{\\sigma}}\n",
    "= n \\log \\frac{\\sum_{i=1}^n (X_i - \\mu_0)^2}{\\sum_{i=1}^n (X_i - \\overline{X})^2}\n",
    "= n \\log \\frac{\\sum_{i=1}^n (X_i - \\overline{X})^2 + \\sum_{i=1}^n (\\overline{X} - \\mu_0)^2}{\\sum_{i=1}^n (X_i - \\overline{X})^2}\n",
    "= n \\log \\left(1 + n \\frac{(\\overline{X} - \\mu_0)^2}{\\sum_{i=1}^n (X_i - \\overline{X})^2}\\right)\n",
    "= n \\log (1 + \\delta^2),$$\n",
    "where\n",
    "$$\\delta = \\frac{\\overline{X} - \\mu_0}{\\sqrt{\\frac{1}{n}\\sum_{i=1}^n (X_i - \\overline{X})^2}}.$$\n",
    "\n",
    "The p-values of the test is $\\mathbb{P}(\\chi_1^2 > \\lambda)$.\n",
    "\n",
    "The Wald test uses the test statistic\n",
    "$$W = \\frac{|\\overline{X} - \\mu_0|}{\\sqrt{\\frac{1}{n^2}\\sum_{i=1}^n (X_i - \\overline{X})^2}} \n",
    "= \\sqrt{n} \\frac{|\\overline{X} - \\mu_0|}{\\sqrt{\\frac{1}{n}\\sum_{i=1}^n (X_i - \\overline{X})^2}}\n",
    "= \\sqrt{n} |\\delta|.$$\n",
    "The Wald test is exact rather than asymptotic here, as $\\overline{X}$ has a normal distribution."
   ]
  },
  {
   "cell_type": "markdown",
   "id": "57cdb610-22d7-427b-9f41-bda5bd246704",
   "metadata": {},
   "source": [
    "## Exercise 14\n",
    "\n",
    "The likelihood in the unrestricted cases was derived in Exercise 13. Under the null hypothesis:\n",
    "$$\\log \\mathcal{L}_0(\\mu) \n",
    "= -\\frac{n}{2} \\log(2\\pi) -n \\log \\sigma_0 -\\frac{1}{2\\sigma_0^2}\\sum_{i=1}^n (X_i - \\mu)^2.$$\n",
    "Maximising the log-likelihood leads to the estimate\n",
    "$$\\tilde{\\mu} = \\frac{1}{n} \\sum_{i=1}^n X_i = \\overline{X} = \\hat{\\mu}.$$\n",
    "Thus,\n",
    "$$\\log \\mathcal{L}_0(\\tilde{\\mu}) \n",
    "= -\\frac{n}{2} \\log(2\\pi) -n \\log \\sigma_0 - \\frac{1}{2\\sigma_0^2} \\sum_{i=1}^n (X_i - \\tilde{\\mu})^2\n",
    "= -\\frac{n}{2} \\log(2\\pi) -n \\log \\sigma_0 - \\frac{1}{2\\sigma_0^2} \\sum_{i=1}^n (X_i - \\overline{X})^2\n",
    ".$$\n",
    "\n",
    "The test statistics in the likelihood test is\n",
    "$$\\lambda \n",
    "= 2 (\\log \\mathcal{L}(\\hat{\\mu},\\hat{\\sigma}) - \\log \\mathcal{L}_0(\\tilde{\\mu}) )\n",
    "= 2 \\left( n \\log \\sigma_0 + \\frac{1}{2\\sigma_0^2} \\sum_{i=1}^n (X_i - \\overline{X})^2 - n \\log \\hat{\\sigma} - \\frac{n}{2}  \\right)\n",
    "= 2 n \\left( \\log \\sigma_0 + \\frac{1}{2\\sigma_0^2} \\hat{\\sigma}^2 - \\log \\hat{\\sigma} - \\frac{1}{2} \\right)\n",
    "= n \\left( \\frac{\\hat{\\sigma}^2}{\\sigma_0^2} - \\log \\frac{\\hat{\\sigma}^2}{\\sigma_0^2}  - 1 \\right).\n",
    "$$\n",
    "\n",
    "Note that $\\hat{\\sigma} \\leq \\sigma_0$. Denote $r = \\frac{\\hat{\\sigma}^2}{\\sigma_0^2}$, so $\\lambda = n (r - \\log r - 1)$. We have $\\lambda \\to \\infty$ if $r \\to 0$ or $r \\to \\infty$, and the derivative $\\lambda' = 1 - \\frac{1}{r} = 0$ when $r = 1$, so $\\lambda$ is smallest when $r = 1$, in which case $\\lambda = 0$. Therefore, $\\lambda$ is non-negative and increases monotonically with $\\sigma_0 \\geq \\hat{\\sigma}$.\n",
    "\n",
    "We can rewrite the square of the Wald test statistic as\n",
    "$$W^2 \n",
    "= \\frac{n (\\overline{X} - \\mu_0)^2}{\\frac{1}{n} \\sum_{i=1}^n (X_i - \\overline{X})^2}\n",
    "= \\frac{\\sum_{i=1}^n (\\overline{X} - \\mu_0)^2}{\\frac{1}{n} \\sum_{i=1}^n (X_i - \\overline{X})^2}\n",
    "= \\frac{\\sum_{i=1}^n (X_i - \\mu_0)^2 - \\sum_{i=1}^n (X_i - \\overline{X})^2}{\\frac{1}{n} \\sum_{i=1}^n (X_i - \\overline{X})^2}\n",
    "= \\frac{n \\sigma_0^2 - n \\hat{\\sigma}}{\\hat{\\sigma}^2}\n",
    "= n \\left(\\frac{\\sigma_0^2}{\\hat{\\sigma}^2}- 1\\right).\n",
    "$$\n",
    "We see that $W^2$ is non-negative and increases monotonically when $\\sigma_0 \\geq \\hat{\\sigma}$."
   ]
  },
  {
   "cell_type": "markdown",
   "id": "c5798868-508c-42c5-9dfd-260f97ddf9e3",
   "metadata": {},
   "source": [
    "## Exercise 15\n",
    "\n",
    "Since $X \\sim \\text{Binomial}(n,p)$, the likelihood of the unrestricted model is given by\n",
    "$$\\mathcal{L}(p) = {n \\choose X} p^X (1-p)^{n-X}$$\n",
    "and the log-likelihood by\n",
    "$$\\log \\mathcal{L}(p) = \\log {n \\choose X} + X \\log p + (n-X) \\log (1-p),$$\n",
    "so the MLE estimator of $p$ is\n",
    "$$\\hat{p} = \\frac{X}{n}.$$\n",
    "\n",
    "Under the null hypothesis, the log-likelihood is constant\n",
    "$$\\log \\mathcal{L}_0 = \\log {n \\choose X} + X \\log p_0 + (n-X) \\log (1-p_0).$$\n",
    "\n",
    "The test statistic for the likelihood ratio test is\n",
    "$$\\lambda = 2 (\\log \\mathcal{L}(\\hat{p}) - \\log \\mathcal{L}_0) = 2 \\left( X \\log \\frac{\\hat{p}}{p_0} + (n-X) \\log \\frac{1 - \\hat{p}}{1 - p_0} \\right).$$\n",
    "\n",
    "Under the normal approximation for the null hypothesis, $X \\approx N(np_0, np_0(1-p_0))$, so \n",
    "$$\\frac{\\frac{X}{n} - p_0}{\\sqrt{\\frac{p_0(1-p_0)}{n}}} \\approx N(0, 1),$$\n",
    "so the Wald test statistic is\n",
    "$$W = \\frac{\\left|\\frac{X}{n} - p_0\\right|}{\\sqrt{\\frac{p_0(1-p_0)}{n}}}.$$"
   ]
  },
  {
   "cell_type": "markdown",
   "id": "145e9c91-07aa-4109-b756-1132dac64f9e",
   "metadata": {},
   "source": [
    "## Exercise 16\n",
    "\n",
    "Suppose we have an i.i.d. sample $X_1, \\dots, X_n$ from a distribution with density $f(x;\\theta)$. The likelihood is then\n",
    "$$\\mathcal{L}(\\theta) = \\prod_{i=1}^n f(x_i;\\theta)$$\n",
    "and the log-likelihood\n",
    "$$l(\\theta) = \\log \\mathcal{L}(\\theta) = \\sum_{i=1}^n \\log f(x_i;\\theta).$$\n",
    "Now,\n",
    "$$-\\frac{1}{n} \\frac{\\partial^2}{\\partial \\theta^2} l(\\theta)\n",
    "= - \\frac{1}{n} \\sum_{i=1}^n \\frac{\\partial^2}{\\partial \\theta^2} \\log f(x_i;\\theta)\n",
    "\\xrightarrow{P} -\\mathbb{E}\\left[\\frac{\\partial^2}{\\partial \\theta^2} \\log f(x_i;\\theta)\\right]\n",
    "= I(\\theta)$$\n",
    "by the law of large numbers (Theorem 5.6) and Theorem 9.17.\n",
    "\n",
    "Suppose that the null hypothesis holds and consider the MLE estimator of $\\theta$. By Theorem 9.18,\n",
    "$$\\frac{\\hat{\\theta} - \\theta_0}{\\widehat{\\text{se}}} \\rightsquigarrow N(0,1),$$\n",
    "where\n",
    "$$\\widehat{\\text{se}} = \\frac{1}{\\sqrt{I_n(\\hat{\\theta})}} = \\frac{1}{\\sqrt{n I(\\hat{\\theta})}},$$\n",
    "so \n",
    "$$W = (\\hat{\\theta} - \\theta_0) \\sqrt{n I(\\hat{\\theta})} \\rightsquigarrow N(0,1)$$\n",
    "can be used as the Wald test statistic in accordance with Definition 10.3.\n",
    "\n",
    "Using the Taylor expansion for the log-likelihood\n",
    "$$l(\\theta_0) \n",
    "\\approx l(\\hat{\\theta}) + l'(\\hat{\\theta})(\\theta_0 - \\hat{\\theta}) + \\frac{1}{2} l''(\\hat{\\theta}) (\\theta_0 - \\hat{\\theta})^2\n",
    "= l(\\hat{\\theta}) + \\frac{1}{2} l''(\\hat{\\theta}) (\\theta_0 - \\hat{\\theta})^2,$$\n",
    "since $l'(\\hat{\\theta}) = 0$ at the maximum.\n",
    "The test statistic of the likelihood ratio test is then\n",
    "$$\\lambda = 2 (l(\\hat{\\theta}) - l(\\theta_0)) = -l''(\\hat{\\theta}) (\\theta_0 - \\hat{\\theta})^2 = -\\frac{1}{n} l''(\\hat{\\theta}) (\\sqrt{n}(\\theta_0 - \\hat{\\theta}))^2.$$\n",
    "\n",
    "We have\n",
    "$$\\frac{W^2}{\\lambda} \n",
    "=\\frac{(\\hat{\\theta} - \\theta_0)^2 n I(\\hat{\\theta})}{-\\frac{1}{n} l''(\\hat{\\theta}) (\\sqrt{n}(\\theta_0 - \\hat{\\theta}))^2}\n",
    "= \\frac{I(\\hat{\\theta})}{-\\frac{1}{n} l''(\\hat{\\theta})}.$$\n",
    "As shown above,\n",
    "$$-\\frac{1}{n} l''(\\hat{\\theta}) \\xrightarrow{P} I(\\hat{\\theta}),$$\n",
    "so\n",
    "$$\\frac{W^2}{\\lambda} \\xrightarrow{P} 1.$$"
   ]
  }
 ],
 "metadata": {
  "kernelspec": {
   "display_name": "Python 3 (ipykernel)",
   "language": "python",
   "name": "python3"
  },
  "language_info": {
   "codemirror_mode": {
    "name": "ipython",
    "version": 3
   },
   "file_extension": ".py",
   "mimetype": "text/x-python",
   "name": "python",
   "nbconvert_exporter": "python",
   "pygments_lexer": "ipython3",
   "version": "3.12.6"
  }
 },
 "nbformat": 4,
 "nbformat_minor": 5
}
