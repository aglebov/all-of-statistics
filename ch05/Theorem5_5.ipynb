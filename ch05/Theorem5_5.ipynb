{
 "cells": [
  {
   "cell_type": "markdown",
   "id": "8e190697-1091-4469-af07-8f62f9cf831d",
   "metadata": {},
   "source": [
    "We give trivial examples for when items (c) and (e) in Theorem 5.5 do not hold for sequences of arbitrary random variables.\n",
    "\n",
    "(c) Let $X \\sim N(0,1)$ and $X_n = -X$, so $X_n \\rightsquigarrow X$. Let $Y_n = Y = X$, so $Y_n \\rightsquigarrow Y$. Then $X_n + Y_n = 0$, which does not converge in distribution to $X+Y = 2X$.\n",
    "\n",
    "(e) Let $X_n = X \\sim \\text{Bernoulli}(\\frac{1}{2})$ and $Y_n = 1 - X_n$, so $Y_n \\sim \\text{Bernoulli}(\\frac{1}{2})$ and trivially $Y_n \\rightsquigarrow X$. However, $X_n Y_n = X_n (1 - X_n) = 0$, which does not converge in disrtibution to $X Y = X^2 \\sim \\text{Bernoulli}(\\frac{1}{2})$."
   ]
  }
 ],
 "metadata": {
  "kernelspec": {
   "display_name": "Python 3 (ipykernel)",
   "language": "python",
   "name": "python3"
  },
  "language_info": {
   "codemirror_mode": {
    "name": "ipython",
    "version": 3
   },
   "file_extension": ".py",
   "mimetype": "text/x-python",
   "name": "python",
   "nbconvert_exporter": "python",
   "pygments_lexer": "ipython3",
   "version": "3.12.6"
  }
 },
 "nbformat": 4,
 "nbformat_minor": 5
}
