{
 "cells": [
  {
   "cell_type": "markdown",
   "id": "8e190697-1091-4469-af07-8f62f9cf831d",
   "metadata": {},
   "source": [
    "We give trivial examples for when items (c) and (e) in Theorem 5.5 do not hold for sequences of arbitrary random variables.\n",
    "\n",
    "(c) Let $X \\sim N(0,1)$ and $X_n = -X$, so $X_n \\rightsquigarrow X$. Let $Y_n = Y = X$, so $Y_n \\rightsquigarrow Y$. Then $X_n + Y_n = 0$, which does not converge in distribution to $X+Y = 2X$.\n",
    "\n",
    "(e) Let $X_n = X \\sim \\text{Bernoulli}(\\frac{1}{2})$ and $Y_n = 1 - X_n$, so $Y_n \\sim \\text{Bernoulli}(\\frac{1}{2})$ and trivially $Y_n \\rightsquigarrow X$. However, $X_n Y_n = X_n (1 - X_n) = 0$, which does not converge in disrtibution to $X Y = X^2 \\sim \\text{Bernoulli}(\\frac{1}{2})$."
   ]
  },
  {
   "cell_type": "markdown",
   "id": "43a7d291-69cb-4ba0-ac60-439d6cb52225",
   "metadata": {},
   "source": [
    "On the other hand, if $X_n$ and $Y_n$ are independent, $X_n \\rightsquigarrow X$, $Y_n \\rightsquigarrow Y$ and $X$ and $Y$ are independent, then $X_n + Y_n \\rightsquigarrow X + Y$. We can use the moment generating functions to demonstrate it:\n",
    "$$\\mathbb{E}\\left[e^{t(X_n + Y_n)}\\right] = \\mathbb{E}\\left[e^{t X_n} e^{t Y_n}\\right] = \\mathbb{E}\\left[e^{t X_n}\\right]\\mathbb{E}\\left[e^{t Y_n}\\right] \\to \\mathbb{E}\\left[e^{t X}\\right]\\mathbb{E}\\left[e^{t Y}\\right] = \\mathbb{E}\\left[e^{t (X + Y)}\\right].$$"
   ]
  }
 ],
 "metadata": {
  "kernelspec": {
   "display_name": "Python 3 (ipykernel)",
   "language": "python",
   "name": "python3"
  },
  "language_info": {
   "codemirror_mode": {
    "name": "ipython",
    "version": 3
   },
   "file_extension": ".py",
   "mimetype": "text/x-python",
   "name": "python",
   "nbconvert_exporter": "python",
   "pygments_lexer": "ipython3",
   "version": "3.12.6"
  }
 },
 "nbformat": 4,
 "nbformat_minor": 5
}
