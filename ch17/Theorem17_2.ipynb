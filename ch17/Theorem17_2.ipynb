{
 "cells": [
  {
   "cell_type": "markdown",
   "id": "ba6c6fc0-8dfe-47be-8ab7-79b2d18a1411",
   "metadata": {},
   "source": [
    "Definition 17.1 and Theorem 17.2 are not stated rigorously. Definition 17.1 only applies to continuous random variables, but Theorem 17.2 places no restrictions on $h(X)$, which might result in a discrete random variable (e.g. consider $h(x) = \\text{signum}(x)$)."
   ]
  },
  {
   "cell_type": "markdown",
   "id": "8878eb87-85d2-49d5-b46e-da6a3bccc953",
   "metadata": {},
   "source": [
    "We need to use a more general definition:\n",
    "Let $X$, $Y$ and $Z$ be random variables. $X$ and $Y$ are conditionallty independent given $Z$, written $X \\perp \\!\\!\\! \\perp Y | Z$ if \n",
    "$$\\mathbb{P}(X\\in A, Y\\in B | Z) = \\mathbb{P}(X \\in A | Z) \\mathbb{P}(Y \\in B | Z)$$\n",
    "for all $A$, $B$."
   ]
  },
  {
   "cell_type": "markdown",
   "id": "9464fc7f-9f39-48ca-88da-9cc8285cafef",
   "metadata": {},
   "source": [
    "We can also reformulate (17.2) as \n",
    "$$\\mathbb{P}(X \\in A | Y \\in B, Z \\in C) = \\mathbb{P}(X \\in A | Z \\in C).$$"
   ]
  },
  {
   "cell_type": "markdown",
   "id": "a2ec83af-9cb5-455a-9986-0a360204d4c9",
   "metadata": {},
   "source": [
    "#### Equivalence of definitions\n",
    "\n",
    "Suppose\n",
    "$$\\mathbb{P}(X\\in A, Y\\in B | Z \\in C) = \\mathbb{P}(X \\in A | Z \\in C) \\mathbb{P}(Y \\in B | Z \\in C).$$\n",
    "Then\n",
    "$$\\begin{split}\n",
    "\\mathbb{P}(X \\in A | Y \\in B, Z \\in C) \n",
    "&= \\frac{\\mathbb{P}(X \\in A, Y \\in B, Z \\in C)}{\\mathbb{P}(Y \\in B, Z \\in C)} \\\\\n",
    "&= \\frac{\\mathbb{P}(X \\in A, Y \\in B| Z \\in C) \\mathbb{P}(Z \\in C)}{\\mathbb{P}(Y \\in B| Z \\in C) \\mathbb{P}(Z \\in C)} \\\\\n",
    "&= \\frac{\\mathbb{P}(X \\in A| Z \\in C) \\mathbb{P}(Y \\in B | Z \\in C)}{\\mathbb{P}(Y \\in B| Z \\in C)} \\\\\n",
    "&= \\mathbb{P}(X \\in A| Z \\in C). \\\\\n",
    "\\end{split}$$\n",
    "\n",
    "Suppose\n",
    "$$\\mathbb{P}(X \\in A | Y \\in B, Z \\in C) = \\mathbb{P}(X \\in A| Z \\in C).$$\n",
    "Then\n",
    "$$\\begin{split}\n",
    "\\mathbb{P}(X\\in A, Y\\in B | Z \\in C) \n",
    "&= \\frac{\\mathbb{P}(X\\in A, Y\\in B, Z \\in C)}{\\mathbb{P}(Z \\in C)} \\\\\n",
    "&= \\frac{\\mathbb{P}(X\\in A | Y\\in B, Z \\in C) \\mathbb{P}(Y \\in B, Z \\in C)}{\\mathbb{P}(Z \\in C)} \\\\\n",
    "&= \\mathbb{P}(X\\in A | Z \\in C) \\mathbb{P}(Y \\in B| Z \\in C). \\\\\n",
    "\\end{split}$$"
   ]
  },
  {
   "cell_type": "markdown",
   "id": "d6ceacd9-9212-46b1-93d3-052eddea5207",
   "metadata": {},
   "source": [
    "#### Properties"
   ]
  },
  {
   "cell_type": "markdown",
   "id": "ce21529f-1dc6-4c3c-b578-cc3300c5ae7d",
   "metadata": {},
   "source": [
    "The first property\n",
    "$$X \\perp \\!\\!\\! \\perp Y | Z \\implies Y \\perp \\!\\!\\! \\perp X | Z$$\n",
    "holds immediately from the symmetry of the definition."
   ]
  },
  {
   "cell_type": "markdown",
   "id": "0ca57bc6-1ecc-4afc-82be-439dc5ba42a7",
   "metadata": {},
   "source": [
    "Suppose $X \\perp \\!\\!\\! \\perp Y | Z$ and $U = h(X)$. Then\n",
    "$$\\begin{split}\n",
    "\\mathbb{P}(U\\in A, Y\\in B | Z) \n",
    "&= \\mathbb{P}(X\\in h^{-1}(A), Y\\in B | Z)  \\\\\n",
    "&= \\mathbb{P}(X\\in h^{-1}(A) | Z) \\mathbb{P}(Y\\in B | Z) \\\\\n",
    "&= \\mathbb{P}(U\\in A | Z) \\mathbb{P}(Y\\in B | Z), \\\\\n",
    "\\end{split}$$\n",
    "so by definition $U \\perp \\!\\!\\! \\perp Y | Z$."
   ]
  },
  {
   "cell_type": "markdown",
   "id": "58a1dd9e-ec97-4c17-a7e8-bfd978fa6b48",
   "metadata": {},
   "source": [
    "Suppose $\\mathbb{P}(Z \\in C, U \\in D) > 0$, and thus also $\\mathbb{P}(Z \\in C) > 0$, $\\mathbb{P}(U \\in D) > 0$. Then\n",
    "$$\\begin{split}\n",
    "\\mathbb{P}(X \\in A, Y \\in B | Z \\in C, U \\in D) \n",
    "&= \\frac{\\mathbb{P}(X \\in A, Y \\in B, Z \\in C, U \\in D)}{\\mathbb{P}(Z \\in C, U \\in D)} \\\\\n",
    "&= \\frac{\\mathbb{P}(X \\in A, Y \\in B, Z \\in C, X \\in h^{-1}(D))}{\\mathbb{P}(Z \\in C, U \\in D)} \\\\\n",
    "&= \\frac{\\mathbb{P}(X \\in A \\cap h^{-1}(D), Y \\in B, Z \\in C)}{\\mathbb{P}(Z \\in C, U \\in D)} \\\\\n",
    "&= \\frac{\\mathbb{P}(X \\in A \\cap h^{-1}(D), Y \\in B| Z \\in C) \\mathbb{P}(Z \\in C)}{\\mathbb{P}(Z \\in C, U \\in D)} \\\\\n",
    "&= \\frac{\\mathbb{P}(X \\in A \\cap h^{-1}(D) | Z \\in C) \\mathbb{P}(Y \\in B | Z \\in C) \\mathbb{P}(Z \\in C)}{\\mathbb{P}(Z \\in C, U \\in D)} \\\\\n",
    "&= \\frac{\\mathbb{P}(X \\in A \\cap h^{-1}(D), Z \\in C) \\mathbb{P}(Y \\in B | Z \\in C)}{\\mathbb{P}(Z \\in C, U \\in D)} \\\\\n",
    "&= \\frac{\\mathbb{P}(X \\in A, Z \\in C, X \\in h^{-1}(D)) \\mathbb{P}(Y \\in B | Z \\in C)}{\\mathbb{P}(Z \\in C, U \\in D)} \\\\\n",
    "&= \\frac{\\mathbb{P}(X \\in A, Z \\in C, U \\in D) \\mathbb{P}(Y \\in B | Z \\in C)}{\\mathbb{P}(Z \\in C, U \\in D)} \\\\\n",
    "&= \\frac{\\mathbb{P}(X \\in A| Z \\in C, U \\in D) \\mathbb{P}(Z \\in C, U \\in D) \\mathbb{P}(Y \\in B | Z \\in C)}{\\mathbb{P}(Z \\in C, U \\in D)} \\\\\n",
    "&= \\mathbb{P}(X \\in A| Z \\in C, U \\in D) \\mathbb{P}(Y \\in B | Z \\in C) \\\\\n",
    "&= \\mathbb{P}(X \\in A| Z \\in C, U \\in D) \\mathbb{P}(Y \\in B | Z \\in C, U \\in D), \\\\\n",
    "\\end{split}$$\n",
    "where in the last step we used that $U \\perp \\!\\!\\! \\perp Y | Z$ and applied the second definition. By definition then $X \\perp \\!\\!\\! \\perp Y | (Z, U)$."
   ]
  },
  {
   "cell_type": "markdown",
   "id": "e94b5a06-fb14-4116-b71c-7f0a0d81da8b",
   "metadata": {},
   "source": [
    "Suppose $X \\perp \\!\\!\\! \\perp Y | Z$ and $X \\perp \\!\\!\\! \\perp W | (Y, Z)$, so\n",
    "$$\\begin{split}\n",
    "&\\mathbb{P}(X \\in A, Y \\in B | Z \\in C) = \\mathbb{P}(X \\in A | Z \\in C) \\mathbb{P}(Y \\in B| Z \\in C), \\\\\n",
    "&\\mathbb{P}(X \\in A, W \\in D | Y \\in B, Z \\in C) = \\mathbb{P}(X \\in A | Y \\in B, Z \\in C) \\mathbb{P}(W \\in D| Y \\in B, Z \\in C).\n",
    "\\end{split}$$\n",
    "Then\n",
    "$$\\begin{split}\n",
    "\\mathbb{P}(X \\in A, W \\in D, Y \\in B | Z \\in C)\n",
    "&= \\mathbb{P}(X \\in A, W \\in D | Y \\in B, Z \\in C) \\mathbb{P}(Y \\in B | Z \\in C) \\\\\n",
    "&= \\mathbb{P}(X \\in A | Y \\in B, Z \\in C) \\mathbb{P}(W \\in D| Y \\in B, Z \\in C) \\mathbb{P}(Y \\in B | Z \\in C) \\\\\n",
    "&= \\mathbb{P}(X \\in A Y \\in B | Z \\in C) \\mathbb{P}(W \\in D| Y \\in B, Z \\in C) \\\\\n",
    "&= \\mathbb{P}(X \\in A | Z \\in C) \\mathbb{P}(Y \\in B| Z \\in C) \\mathbb{P}(W \\in D| Y \\in B, Z \\in C) \\\\\n",
    "&= \\mathbb{P}(X \\in A | Z \\in C) \\mathbb{P}(W \\in D, Y \\in B | Z \\in C), \\\\\n",
    "\\end{split}$$\n",
    "so by definition, $X \\perp \\!\\!\\! \\perp (W, Y) | Z$."
   ]
  },
  {
   "cell_type": "markdown",
   "id": "98749b7f-e82e-424d-93f4-3fe7dc99c71a",
   "metadata": {},
   "source": [
    "Finally, suppose $X \\perp \\!\\!\\! \\perp Y | Z$ and $X \\perp \\!\\!\\! \\perp Z | Y$, that is\n",
    "$$\\begin{split}\n",
    "\\mathbb{P}(X \\in A, Y \\in B | Z \\in C) &= \\mathbb{P}(X \\in A | Z \\in C) \\mathbb{P}(Y \\in B | Z \\in C), \\\\\n",
    "\\mathbb{P}(X \\in A, Z \\in C | Y \\in B) &= \\mathbb{P}(X \\in A | Y \\in B) \\mathbb{P}(Z \\in C | Y \\in B). \\\\\n",
    "\\end{split}$$\n",
    "Since\n",
    "$$\\mathbb{P}(X \\in A, Y \\in B | Z \\in C) \\mathbb{P}(Z \\in C) = \\mathbb{P}(X \\in A, Y \\in B, Z \\in C) = \\mathbb{P}(X \\in A, Z \\in C | Y \\in B) \\mathbb{P}(Y \\in B),$$\n",
    "we obtain from the previous two equations\n",
    "$$\\begin{split}\n",
    "\\mathbb{P}(X \\in A | Z \\in C) \\mathbb{P}(Y \\in B | Z \\in C) \\mathbb{P}(Z \\in C) \n",
    "&= \\mathbb{P}(X \\in A | Y \\in B) \\mathbb{P}(Z \\in C | Y \\in B) \\mathbb{P}(Y \\in B) \\\\\n",
    "&= \\mathbb{P}(X \\in A | Y \\in B) \\mathbb{P}(Z \\in C, Y \\in B). \\\\\n",
    "\\end{split}$$\n",
    "Assuming $\\mathbb{P}(Z \\in C) > 0$ and dividing both sides by this probability, we get\n",
    "$$\\begin{split}\n",
    "\\mathbb{P}(X \\in A | Z \\in C) \\mathbb{P}(Y \\in B | Z \\in C) \n",
    "&= \\mathbb{P}(X \\in A | Y \\in B) \\mathbb{P}(Y \\in B | Z \\in C), \\\\\n",
    "\\end{split}$$\n",
    "thus\n",
    "$$\\mathbb{P}(X \\in A | Z \\in C) = \\mathbb{P}(X \\in A | Y \\in B).$$\n",
    "The equation holds for all $A$, $B$ and $C$, provided that the conditional probabilities are defined and $\\mathbb{P}(Z \\in C) > 0$. In particular, taking $B = \\Omega$, we get\n",
    "$$\\mathbb{P}(X \\in A | Z \\in C) = \\mathbb{P}(X \\in A),$$\n",
    "and taking $C = \\Omega$, we have\n",
    "$$\\mathbb{P}(X \\in A | Y \\in B) = \\mathbb{P}(X \\in A).$$\n",
    "Now using the alternative definition of independence for $X \\perp \\!\\!\\! \\perp Y | Z$, we have\n",
    "$$\\mathbb{P}(X \\in A | Y \\in B, Z \\in C) = \\mathbb{P}(X \\in A | Z \\in C) = \\mathbb{P}(X \\in A),$$\n",
    "so $X \\perp \\!\\!\\! \\perp (Y, Z)$."
   ]
  }
 ],
 "metadata": {
  "kernelspec": {
   "display_name": "Python 3 (ipykernel)",
   "language": "python",
   "name": "python3"
  },
  "language_info": {
   "codemirror_mode": {
    "name": "ipython",
    "version": 3
   },
   "file_extension": ".py",
   "mimetype": "text/x-python",
   "name": "python",
   "nbconvert_exporter": "python",
   "pygments_lexer": "ipython3",
   "version": "3.12.6"
  }
 },
 "nbformat": 4,
 "nbformat_minor": 5
}
