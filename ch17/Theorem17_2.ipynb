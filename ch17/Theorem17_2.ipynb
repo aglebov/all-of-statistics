{
 "cells": [
  {
   "cell_type": "markdown",
   "id": "ba6c6fc0-8dfe-47be-8ab7-79b2d18a1411",
   "metadata": {},
   "source": [
    "Definition 17.1 and Theorem 17.2 are not stated rigorously.\n",
    "\n",
    "We can use the following definition instead. Two events $A$ and $B$ are independend given a $\\sigma$-algebra $\\Sigma$ if\n",
    "$$\\mathbb{E}[\\mathbb{1}_A \\mathbb{1}_B | \\Sigma] = \\mathbb{E}[\\mathbb{1}_A|\\Sigma] \\; \\mathbb{E}[\\mathbb{1}_B|\\Sigma] \\quad \\text{a.s.}$$\n",
    "Random variables $X$ and $Y$ are conditionally independent given $Z$ if for all $A \\in \\sigma(X)$, $B \\in \\sigma(Y)$ we have\n",
    "$$\\mathbb{E}[\\mathbb{1}_A \\mathbb{1}_B | \\sigma(Z)] = \\mathbb{E}[\\mathbb{1}_A|\\sigma(Z)] \\; \\mathbb{E}[\\mathbb{1}_B|\\sigma(Z)] \\quad \\text{a.s.}$$"
   ]
  },
  {
   "cell_type": "markdown",
   "id": "9464fc7f-9f39-48ca-88da-9cc8285cafef",
   "metadata": {},
   "source": [
    "We can also reformulate (17.2) as for all $A \\in \\sigma(X)$ we have\n",
    "$$\\mathbb{E}[\\mathbb{1}_A | \\sigma(Y, Z)] = \\mathbb{E}[\\mathbb{1}_A | \\sigma(Z)] \\quad \\text{a.s.}$$"
   ]
  }
 ],
 "metadata": {
  "kernelspec": {
   "display_name": "Python 3 (ipykernel)",
   "language": "python",
   "name": "python3"
  },
  "language_info": {
   "codemirror_mode": {
    "name": "ipython",
    "version": 3
   },
   "file_extension": ".py",
   "mimetype": "text/x-python",
   "name": "python",
   "nbconvert_exporter": "python",
   "pygments_lexer": "ipython3",
   "version": "3.13.0"
  }
 },
 "nbformat": 4,
 "nbformat_minor": 5
}
