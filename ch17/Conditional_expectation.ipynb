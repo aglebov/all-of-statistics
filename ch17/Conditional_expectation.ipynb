{
 "cells": [
  {
   "cell_type": "markdown",
   "id": "0420d003-8a9b-4b4c-95e4-c0b910adea5b",
   "metadata": {},
   "source": [
    "## Properties of conditional expectation\n",
    "\n",
    "We look at some properties of the conditional expectation using the theorems from the lecture notes in Probability Theory by Markus Riedle."
   ]
  },
  {
   "cell_type": "markdown",
   "id": "0cc37d01-4a85-43c6-bec1-b933af26a2fe",
   "metadata": {},
   "source": [
    "**Statement 1**. Suppose $X \\geq 0$ $P$-a.s., then for any $A \\in \\mathcal{A}$ we have $\\mathbb{E}[X \\mathbb{1}_A] \\geq 0$.\n",
    "\n",
    "**Proof**. Let $B = \\{\\omega \\in \\Omega: X(\\omega) \\geq 0\\}$, so $\\mathbb{P}(B) = 1$ by assumption. We have \n",
    "$$\\mathbb{E}[X \\mathbb{1}_A] \n",
    "= \\mathbb{E}[X (\\mathbb{1}_{A\\cap B} + \\mathbb{1}_{A\\cap B^c})]\n",
    "= \\mathbb{E}[X \\mathbb{1}_{A\\cap B}] + \\mathbb{E}[X \\mathbb{1}_{A\\cap B^c}].$$\n",
    "\n",
    "Since $A \\cap B^c \\subset B^c$ and $\\mathbb{P}(B^c) = 0$, we obtain $\\mathbb{E}[X \\mathbb{1}_{A \\cap B^c}] = 0$ by Theorem 4.1.7(e). Since $\\mathbb{1}_{A \\cap B} \\geq 0$, we have by Theorem 4.1.7(b), $\\mathbb{E}[X \\mathbb{1}_{A\\cap B}] \\geq 0$, therefore $\\mathbb{E}[X \\mathbb{1}_A] \\geq 0$. "
   ]
  },
  {
   "cell_type": "markdown",
   "id": "96ec57cc-f238-4318-897f-8d4e95204205",
   "metadata": {},
   "source": [
    "**Statement 2**. Suppose $X(\\omega) > 0$ for all $\\omega \\in A$ and $\\mathbb{P}(A) > 0$. Then there is $\\varepsilon > 0$, such that $\\mathbb{P}(A \\cap \\{X > \\varepsilon\\}) > 0$.\n",
    "\n",
    "**Proof**. Assume for a contradition that for any $\\varepsilon > 0$, $\\mathbb{P}(A \\cap \\{X > \\varepsilon\\}) = 0$.\n",
    "\n",
    "Consider events $A_k = \\left\\{A \\cap \\left\\{X \\geq \\frac{1}{k}\\right\\}\\right\\}$. We have $A_1 \\subset A_2 \\subset \\dots$, thus by Theorem 1.2.13(f), \n",
    "$$\\lim_{k \\to \\infty} \\mathbb{P}(A_k) = \\mathbb{P}\\left( \\bigcup_{k=1}^\\infty A_k \\right) = \\mathbb{P}(A \\cap \\{X > 0\\}).$$\n",
    "By the assumption $\\mathbb{P}(A_k) = 0$, hence $\\lim_{k \\to \\infty} \\mathbb{P}(A_k) = 0$ and $\\mathbb{P}(A \\cap \\{X > 0\\}) = \\mathbb{P}(A) = 0$, which contradicts the assumption that $\\mathbb{P}(A) > 0$."
   ]
  },
  {
   "cell_type": "markdown",
   "id": "fbdce422-a0ff-422c-a1b7-3c38299e726b",
   "metadata": {},
   "source": [
    "**Statement 3**. Suppose $X(\\omega) \\geq \\varepsilon > 0$ for $\\omega \\in A$. Then $\\mathbb{E}[X \\mathbb{1}_A] \\geq \\varepsilon \\mathbb{P}(A)$.\n",
    "\n",
    "**Proof**. Note that $X \\mathbb{1}_A \\geq \\varepsilon \\mathbb{1}_A$, so by Theorem 4.1.7(b), $\\mathbb{E}[X \\mathbb{1}_A] \\geq \\mathbb{E}[\\varepsilon \\mathbb{1}_A] = \\varepsilon \\mathbb{P}(A)$."
   ]
  },
  {
   "cell_type": "markdown",
   "id": "7bc3a4f7-931b-48af-95d7-d5b7266407a1",
   "metadata": {},
   "source": [
    "**Statement 4**. Suppose $X(\\omega) > 0$ for all $\\omega \\in A$ and $\\mathbb{P}(A) > 0$. Then $\\mathbb{E}[X \\mathbb{1}_A] > 0$.\n",
    "\n",
    "**Proof**. By Statement 2, there is $\\varepsilon > 0$, such that $\\mathbb{P}(A \\cap \\{X > \\varepsilon\\}) > 0$. By Statement 3, $\\mathbb{E}[X \\mathbb{1}_{A \\cap \\{X > \\varepsilon\\}}] \\geq \\varepsilon \\mathbb{P}(A \\cap \\{X > \\varepsilon\\}) > 0$.\n",
    "\n",
    "Since $X \\mathbb{1}_A \\geq X \\mathbb{1}_{A\\cap \\{X > \\varepsilon\\}}$, we have $\\mathbb{E}[X \\mathbb{1}_A] \\geq \\mathbb{E}[X \\mathbb{1}_{A\\cap \\{X > \\varepsilon\\}}] > 0$ by Theorem 4.1.7(b)."
   ]
  },
  {
   "cell_type": "markdown",
   "id": "86c3f374-98fb-49aa-8e7c-28e675e0f207",
   "metadata": {},
   "source": [
    "**Statement 5**. If $X \\geq 0$ $P$-a.s., then $X \\mathbb{1}_{D} \\geq 0$ $P$-a.s. for any $D$.\n",
    "\n",
    "**Proof**. We have $\\mathbb{P}(X \\mathbb{1}_D < 0) = \\mathbb{P}(X < 0, \\mathbb{1}_D = 1) \\leq \\mathbb{P}(X < 0) = 0$."
   ]
  },
  {
   "cell_type": "markdown",
   "id": "60180faf-790f-47f2-bed7-d9731595c8f0",
   "metadata": {},
   "source": [
    "**Proof of Theorem 8.4.1(d)**. Given that $X \\geq 0$ $P$-a.s., we have $X \\mathbb{1}_{D} \\geq 0$ $P$-a.s. for any $D$ by Statement 5. Then by Statement 1, $\\mathbb{E}[X \\mathbb{1}_D] \\geq 0$.\n",
    "\n",
    "Let $B = \\{\\mathbb{E}[X | \\mathcal{D}] < 0\\}$ and assume for a contradiction that $\\mathbb{P}(B) > 0$. By Statement 4 then $\\mathbb{E}[-\\mathbb{E}[X | \\mathcal{D}] \\mathbb{1}_B] > 0$, so $\\mathbb{E}[\\mathbb{E}[X | \\mathcal{D}] \\mathbb{1}_B] < 0$.\n",
    "\n",
    "By Exercise 3.4.3, $B \\in \\mathcal{D}$, so by Definition 8.3.1(2), we have $\\mathbb{E}[\\mathbb{E}[X | \\mathcal{D}] \\mathbb{1}_B] = \\mathbb{E}[X \\mathbb{1}_B] \\geq 0$, obtaining a contradiction. Therefore, $\\mathbb{P}(B) = 0$."
   ]
  }
 ],
 "metadata": {
  "kernelspec": {
   "display_name": "Python 3 (ipykernel)",
   "language": "python",
   "name": "python3"
  },
  "language_info": {
   "codemirror_mode": {
    "name": "ipython",
    "version": 3
   },
   "file_extension": ".py",
   "mimetype": "text/x-python",
   "name": "python",
   "nbconvert_exporter": "python",
   "pygments_lexer": "ipython3",
   "version": "3.13.0"
  }
 },
 "nbformat": 4,
 "nbformat_minor": 5
}
