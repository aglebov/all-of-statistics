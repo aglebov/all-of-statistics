{
 "cells": [
  {
   "cell_type": "markdown",
   "id": "d12b1057-07b7-4fc4-9b8f-87e4bc6c3e7f",
   "metadata": {},
   "source": [
    "## Exercise 1\n",
    "\n",
    "Assume $f(x, y | z) = f(x|z) f(y|z)$. Then\n",
    "$$\\begin{split}\n",
    "f(x|y,z) \n",
    "&= \\frac{f(x,y,z)}{f(y, z)} \\\\\n",
    "&= \\frac{f(x,y|z) f(z)}{f(y, z)} \\\\\n",
    "&= \\frac{f(x|z) f(y|z)}{f(y| z)} \\\\\n",
    "&= f(x|z). \\\\\n",
    "\\end{split}$$\n",
    "\n",
    "Now assume $f(x|y,z) = f(x|z)$. Then\n",
    "$$\\begin{split}\n",
    "f(x,y|z) \n",
    "&= \\frac{f(x,y,z)}{f(z)} \\\\\n",
    "&= \\frac{f(x|y,z) f(y, z)}{f(z)} \\\\\n",
    "&= f(x|z) f(y|z).\n",
    "\\end{split}$$"
   ]
  },
  {
   "cell_type": "markdown",
   "id": "5bac9095-a14c-4c21-966f-a349bc6ff4f7",
   "metadata": {},
   "source": [
    "## Exercise 2\n",
    "\n",
    "The property $X \\perp \\!\\!\\! \\perp Y | Z \\implies Y \\perp \\!\\!\\! \\perp X | Z$ is immediate from the symmetry of (17.1)."
   ]
  },
  {
   "cell_type": "markdown",
   "id": "8e8c5d43-0637-45ff-b577-86d0deef8722",
   "metadata": {},
   "source": [
    "## Exercise 3"
   ]
  },
  {
   "cell_type": "code",
   "execution_count": 1,
   "id": "49417c2d-c035-4fa6-8e47-5ff31bc04900",
   "metadata": {},
   "outputs": [],
   "source": [
    "import numpy as np"
   ]
  },
  {
   "cell_type": "code",
   "execution_count": 2,
   "id": "2f4edf9a-cc07-4b6e-bfd4-9c3a5eada1e8",
   "metadata": {},
   "outputs": [],
   "source": [
    "p = np.array([\n",
    "    [\n",
    "        [0.405, 0.045],\n",
    "        [0.045, 0.005],\n",
    "    ],\n",
    "    [\n",
    "        [0.125, 0.125],\n",
    "        [0.125, 0.125],\n",
    "    ],\n",
    "])"
   ]
  },
  {
   "cell_type": "markdown",
   "id": "17923697-5849-4511-90db-893ac97c2a69",
   "metadata": {},
   "source": [
    "(a) The conditional distribution given $Z$ is:"
   ]
  },
  {
   "cell_type": "code",
   "execution_count": 3,
   "id": "cdafc790-56ba-4abc-8e20-f780539c71e6",
   "metadata": {},
   "outputs": [
    {
     "data": {
      "text/plain": [
       "array([[[0.81, 0.09],\n",
       "        [0.09, 0.01]],\n",
       "\n",
       "       [[0.25, 0.25],\n",
       "        [0.25, 0.25]]])"
      ]
     },
     "execution_count": 3,
     "metadata": {},
     "output_type": "execute_result"
    }
   ],
   "source": [
    "cond_xy = p / np.sum(p, axis=(1, 2))\n",
    "cond_xy"
   ]
  },
  {
   "cell_type": "markdown",
   "id": "0aed38ef-505d-4ebd-b6b4-6bbe4a624778",
   "metadata": {},
   "source": [
    "(b) We verify that $\\mathbb{P}(X=x, Y=y|Z) = \\mathbb{P}(X=x|Z) \\mathbb{P}(Y=y|Z)$."
   ]
  },
  {
   "cell_type": "markdown",
   "id": "a243c305-ff3a-4bb7-b79e-249249ba5e7f",
   "metadata": {},
   "source": [
    "Calculate $\\mathbb{P}(X=x|Z)$:"
   ]
  },
  {
   "cell_type": "code",
   "execution_count": 4,
   "id": "2dcb971e-048f-4815-bd60-0fb54e7deee3",
   "metadata": {},
   "outputs": [
    {
     "data": {
      "text/plain": [
       "array([[0.9, 0.1],\n",
       "       [0.5, 0.5]])"
      ]
     },
     "execution_count": 4,
     "metadata": {},
     "output_type": "execute_result"
    }
   ],
   "source": [
    "cond_x = np.sum(cond_xy, axis=2)\n",
    "cond_x"
   ]
  },
  {
   "cell_type": "markdown",
   "id": "5829b50a-ab2e-462b-b321-e1795d5f3cb0",
   "metadata": {},
   "source": [
    "Calculate $\\mathbb{P}(Y=y|Z)$:"
   ]
  },
  {
   "cell_type": "code",
   "execution_count": 5,
   "id": "2cac58bc-2851-43d1-8e27-9c23ecff5dc4",
   "metadata": {},
   "outputs": [
    {
     "data": {
      "text/plain": [
       "array([[0.9, 0.1],\n",
       "       [0.5, 0.5]])"
      ]
     },
     "execution_count": 5,
     "metadata": {},
     "output_type": "execute_result"
    }
   ],
   "source": [
    "cond_y = np.sum(cond_xy, axis=1)\n",
    "cond_y"
   ]
  },
  {
   "cell_type": "markdown",
   "id": "ce2f2085-3013-468e-b3a7-befa5989f529",
   "metadata": {},
   "source": [
    "Confirm that $\\mathbb{P}(X=x, Y=y|Z) = \\mathbb{P}(X=x|Z) \\mathbb{P}(Y=y|Z)$."
   ]
  },
  {
   "cell_type": "code",
   "execution_count": 6,
   "id": "863a4eec-f85c-4918-9367-6a196ba9ad7e",
   "metadata": {},
   "outputs": [
    {
     "data": {
      "text/plain": [
       "array([[[0.81, 0.09],\n",
       "        [0.09, 0.01]],\n",
       "\n",
       "       [[0.25, 0.25],\n",
       "        [0.25, 0.25]]])"
      ]
     },
     "execution_count": 6,
     "metadata": {},
     "output_type": "execute_result"
    }
   ],
   "source": [
    "res = np.einsum('ij,ik->ijk', cond_x, cond_y)\n",
    "res"
   ]
  },
  {
   "cell_type": "code",
   "execution_count": 7,
   "id": "a835019d-7553-4a15-9c0f-be9e4ac2ab0b",
   "metadata": {},
   "outputs": [],
   "source": [
    "np.testing.assert_allclose(res, cond_xy)"
   ]
  },
  {
   "cell_type": "markdown",
   "id": "492b2521-dd1e-438c-a1ad-72f4acb0b77c",
   "metadata": {},
   "source": [
    "(c) Marginal distribution of $X$:"
   ]
  },
  {
   "cell_type": "code",
   "execution_count": 8,
   "id": "290a95b2-34b2-448b-ae51-9258e11c4850",
   "metadata": {},
   "outputs": [
    {
     "data": {
      "text/plain": [
       "array([0.7, 0.3])"
      ]
     },
     "execution_count": 8,
     "metadata": {},
     "output_type": "execute_result"
    }
   ],
   "source": [
    "p_x = np.sum(p, axis=(0, 2))\n",
    "p_x"
   ]
  },
  {
   "cell_type": "markdown",
   "id": "e88abb66-e524-42b4-ae56-d2804d2e55cd",
   "metadata": {},
   "source": [
    "Marginal distribution of $Y$:"
   ]
  },
  {
   "cell_type": "code",
   "execution_count": 9,
   "id": "e5f6ad37-f076-4fde-b7ca-ac5a4bcf9594",
   "metadata": {},
   "outputs": [
    {
     "data": {
      "text/plain": [
       "array([0.7, 0.3])"
      ]
     },
     "execution_count": 9,
     "metadata": {},
     "output_type": "execute_result"
    }
   ],
   "source": [
    "p_y = np.sum(p, axis=(0, 1))\n",
    "p_y"
   ]
  },
  {
   "cell_type": "markdown",
   "id": "a2b8c805-3693-4901-8205-29d8dba806e1",
   "metadata": {},
   "source": [
    "(d) Calculate the joint distribution $\\mathbb{P}(X=x, Y=y)$:"
   ]
  },
  {
   "cell_type": "code",
   "execution_count": 10,
   "id": "901b36e8-e381-47e9-a1ed-0b6cdfd9741c",
   "metadata": {},
   "outputs": [
    {
     "data": {
      "text/plain": [
       "array([[0.53, 0.17],\n",
       "       [0.17, 0.13]])"
      ]
     },
     "execution_count": 10,
     "metadata": {},
     "output_type": "execute_result"
    }
   ],
   "source": [
    "np.sum(p, axis=0)"
   ]
  },
  {
   "cell_type": "markdown",
   "id": "5a961015-ae2a-4260-94a0-3ffed81043df",
   "metadata": {},
   "source": [
    "Check that $\\mathbb{P}(X=x, Y=y) \\neq \\mathbb{P}(X=x) \\mathbb{P}(Y=y)$:"
   ]
  },
  {
   "cell_type": "code",
   "execution_count": 11,
   "id": "5f3783bd-6eb2-4bec-b71e-54f1717f8895",
   "metadata": {},
   "outputs": [
    {
     "data": {
      "text/plain": [
       "array([[0.49, 0.21],\n",
       "       [0.21, 0.09]])"
      ]
     },
     "execution_count": 11,
     "metadata": {},
     "output_type": "execute_result"
    }
   ],
   "source": [
    "np.einsum('j,k->jk', p_x, p_y)"
   ]
  },
  {
   "cell_type": "markdown",
   "id": "c4d3f981-3930-47f6-a4a4-7bdbf1973b2f",
   "metadata": {},
   "source": [
    "## Exercise 4\n",
    "\n",
    "In the first DAG, $\\pi_Z = \\{Y\\}$, so by Theorem 17.6, $Z \\perp \\!\\!\\! \\perp X | Y$, and by properties of conditional expectation $X \\perp \\!\\!\\! \\perp Z | Y$.\n",
    "\n",
    "In the second DAG, $\\pi_X = \\{Y\\}$, so by Theorem 17.6, $X \\perp \\!\\!\\! \\perp Z | Y$.\n",
    "\n",
    "In the third DAG, $\\pi_X = \\{Y\\}$, so by Theorem 17.6, $X \\perp \\!\\!\\! \\perp Z | Y$."
   ]
  },
  {
   "cell_type": "markdown",
   "id": "2cf505ec-9441-4857-828b-01e07737d849",
   "metadata": {},
   "source": [
    "## Exercise 5\n",
    "\n",
    "We have $\\pi_X = \\emptyset$, so by Theorem 17.6, $X \\perp \\!\\!\\! \\perp Z$.\n",
    "\n",
    "$X$ and $Z$ are $d$-connected given $Y$, so by Theorem 17.10, $X$ and $Y$ are dependent given $Y$."
   ]
  },
  {
   "cell_type": "markdown",
   "id": "d51d4a8d-a19c-4c6c-bd71-dc6e85f95e28",
   "metadata": {},
   "source": [
    "## Exercise 6"
   ]
  },
  {
   "cell_type": "code",
   "execution_count": 12,
   "id": "47716f21-b967-49e0-8e87-a491df4a9f2b",
   "metadata": {},
   "outputs": [],
   "source": [
    "import scipy.stats as stats"
   ]
  },
  {
   "cell_type": "code",
   "execution_count": 13,
   "id": "2fb1e486-1cd0-4c8e-9459-083f273e5349",
   "metadata": {},
   "outputs": [],
   "source": [
    "rng = np.random.default_rng(12345)"
   ]
  },
  {
   "cell_type": "markdown",
   "id": "d248c109-9623-4db9-925c-1288f2f3a4e8",
   "metadata": {},
   "source": [
    "Generate random vectors corresponding to the DAG:"
   ]
  },
  {
   "cell_type": "code",
   "execution_count": 14,
   "id": "e4daa761-ddfc-4158-9797-d595b1baf2d1",
   "metadata": {},
   "outputs": [],
   "source": [
    "p_x = np.array([0.6, 0.4])\n",
    "p_y = np.array([\n",
    "    [0.7, 0.3],\n",
    "    [0.4, 0.6],\n",
    "])\n",
    "p_z = np.array([\n",
    "    [0.1, 0.3, 0.6],\n",
    "    [0.7, 0.1, 0.2],\n",
    "])"
   ]
  },
  {
   "cell_type": "markdown",
   "id": "c44ad58e-272f-41f1-9e66-ff9a5019964e",
   "metadata": {},
   "source": [
    "Calculate joint probabilities:"
   ]
  },
  {
   "cell_type": "code",
   "execution_count": 15,
   "id": "ee9831ce-9c4c-4b8f-a965-ba982132156a",
   "metadata": {},
   "outputs": [],
   "source": [
    "def theta(p_x, p_y, p_z):\n",
    "    def gen():\n",
    "        for r in range(2):\n",
    "            for s in range(2):\n",
    "                for t in range(3):\n",
    "                    yield p_x[r] * p_y[r, s] * p_z[s, t]\n",
    "    return np.fromiter(gen(), float)"
   ]
  },
  {
   "cell_type": "code",
   "execution_count": 16,
   "id": "408393b7-6d0c-48b8-a729-dc770e8722a3",
   "metadata": {},
   "outputs": [
    {
     "data": {
      "text/plain": [
       "array([0.042, 0.126, 0.252, 0.126, 0.018, 0.036, 0.016, 0.048, 0.096,\n",
       "       0.168, 0.024, 0.048])"
      ]
     },
     "execution_count": 16,
     "metadata": {},
     "output_type": "execute_result"
    }
   ],
   "source": [
    "theta(p_x, p_y, p_z)"
   ]
  },
  {
   "cell_type": "code",
   "execution_count": 17,
   "id": "47ea887f-727a-4323-a0c7-0f1f74a0699d",
   "metadata": {},
   "outputs": [],
   "source": [
    "n = 1000"
   ]
  },
  {
   "cell_type": "code",
   "execution_count": 18,
   "id": "38a078ce-c3d2-4d18-acef-c512a7fd50b6",
   "metadata": {},
   "outputs": [],
   "source": [
    "x = stats.bernoulli.rvs(p=p_x[1], size=n, random_state=rng)\n",
    "y = stats.bernoulli.rvs(p=p_y[x, 1], size=n, random_state=rng)\n",
    "z = np.fromiter((rng.choice(3, size=1, p=p_z[v])[0] for v in y), int)\n",
    "v = np.stack([x, y, z], axis=1)"
   ]
  },
  {
   "cell_type": "markdown",
   "id": "7a92453e-b66d-450a-8d84-88102da74716",
   "metadata": {},
   "source": [
    "The likelihood of one observation is given by\n",
    "$$\\begin{split}\n",
    "f(v_i) = f(x_i) f(y_i|x_i) f(z_i|y_i),\n",
    "\\end{split}$$\n",
    "where\n",
    "$$f(x_i) = p_{x=1}^{x_i} (1 - p_{x=1})^{1 - x_i},$$\n",
    "$$f(y_i|x_i) = \\begin{cases}\n",
    "p_{y=1|x=0}^{y_i} (1 - p_{y=1|x=0})^{1 - y_i}, &\\text{ if } x_i = 0 \\\\\n",
    "p_{y=1|x=1}^{y_i} (1 - p_{y=1|x=1})^{1 - y_i}, &\\text{ if } x_i = 1 \\\\\n",
    "\\end{cases}$$\n",
    "$$f(z_i|y_i) = \\begin{cases}\n",
    "p_{z=0|y=0}, &\\text{ if } z_i = 0, y_i = 0 \\\\\n",
    "p_{z=1|y=0}, &\\text{ if } z_i = 1, y_i = 0 \\\\\n",
    "1 - p_{z=0|y=0} - p_{z=1|y=0}, &\\text{ if } z_i = 2, y_i = 0 \\\\\n",
    "p_{z=0|y=1}, &\\text{ if } z_i = 0, y_i = 1 \\\\\n",
    "p_{z=1|y=1}, &\\text{ if } z_i = 1, y_i = 1 \\\\\n",
    "1 - p_{z=0|y=1} - p_{z=1|y=1}, &\\text{ if } z_i = 2, y_i = 1 \\\\\n",
    "\\end{cases}$$\n",
    "The log-likelihood for the sample is\n",
    "$$l = \\sum_{i=1}^n \\log f(x_i) + \\sum_{i=1}^n \\log f(y_i | x_i) + \\sum_{i=1}^n \\log f(z_i | y_i).$$\n",
    "Note that $p_{x=1}$ is only present in the terms $f(x_i)$, so we can find an estimator by maximising the log-likelihood\n",
    "$$l_1 = \\sum_{i=1}^n \\log f(x_i) = \\log p_{x=1} \\sum_{i=1}^n x_i + \\log(1 - p_{x=1}) \\sum_{i=1}^n (1-x_i).$$\n",
    "Taking the derivative by $p_{x=1}$ and setting it to zero yields\n",
    "$$\\hat{p}_{x=1} = \\frac{1}{n} \\sum_{i=1}^n x_i.$$\n",
    "Similarly, $p_{y=1|x=0}$ is only involved in the term $f(y_i|x_i)$ when $x_i = 0$, so we obtain\n",
    "$$\\hat{p}_{y=1|x=0} = \\frac{\\sum_{i=1}^n y_i (1 - x_i)}{\\sum_{i=1}^n (1 - x_i)},$$\n",
    "and\n",
    "$$\\hat{p}_{y=1|x=1} = \\frac{\\sum_{i=1}^n y_i x_i}{\\sum_{i=1}^n x_i}.$$\n",
    "Analogously,\n",
    "$$\\begin{split}\n",
    "\\hat{p}_{z=0|y=0} &= \\frac{\\sum_{i=1}^n \\mathbb{1}_{z_i = 0} \\mathbb{1}_{y_i = 0}}{\\sum_{i=1}^n \\mathbb{1}_{y_i = 0}}, \\\\\n",
    "\\hat{p}_{z=1|y=0} &= \\frac{\\sum_{i=1}^n \\mathbb{1}_{z_i = 1} \\mathbb{1}_{y_i = 0}}{\\sum_{i=1}^n \\mathbb{1}_{y_i = 0}}, \\\\\n",
    "\\hat{p}_{z=0|y=1} &= \\frac{\\sum_{i=1}^n \\mathbb{1}_{z_i = 0} \\mathbb{1}_{y_i = 1}}{\\sum_{i=1}^n \\mathbb{1}_{y_i = 1}}, \\\\\n",
    "\\hat{p}_{z=1|y=1} &= \\frac{\\sum_{i=1}^n \\mathbb{1}_{z_i = 1} \\mathbb{1}_{y_i = 1}}{\\sum_{i=1}^n \\mathbb{1}_{y_i = 1}}. \\\\\n",
    "\\end{split}$$"
   ]
  },
  {
   "cell_type": "code",
   "execution_count": 19,
   "id": "ff35271f-4849-4544-9225-69fc3ce78a0e",
   "metadata": {},
   "outputs": [],
   "source": [
    "def loglik_estimates(v):\n",
    "    n = v.shape[0]\n",
    "    \n",
    "    p_x1_hat = np.sum(v[:, 0]) / n\n",
    "    p_y1x0_hat = np.sum(v[:, 1] * (1 - v[:, 0])) / np.sum(1 - v[:, 0])\n",
    "    p_y1x1_hat = np.sum(v[:, 1] * v[:, 0]) / np.sum(v[:, 0])\n",
    "    p_z0y0_hat = np.sum((v[:, 1] == 0) & (v[:, 2] == 0)) / np.sum(v[:, 1] == 0)\n",
    "    p_z1y0_hat = np.sum((v[:, 1] == 0) & (v[:, 2] == 1)) / np.sum(v[:, 1] == 0)\n",
    "    p_z0y1_hat = np.sum((v[:, 1] == 1) & (v[:, 2] == 0)) / np.sum(v[:, 1] == 1)\n",
    "    p_z1y1_hat = np.sum((v[:, 1] == 1) & (v[:, 2] == 1)) / np.sum(v[:, 1] == 1)\n",
    "\n",
    "    p_x = np.array([1 - p_x1_hat, p_x1_hat])\n",
    "    p_y = np.array([\n",
    "        [1 - p_y1x0_hat, p_y1x0_hat],\n",
    "        [1 - p_y1x1_hat, p_y1x1_hat],\n",
    "    ])\n",
    "    p_z = np.array([\n",
    "        [p_z0y0_hat, p_z1y0_hat, 1 - p_z0y0_hat - p_z1y0_hat],\n",
    "        [p_z0y1_hat, p_z1y1_hat, 1 - p_z0y1_hat - p_z1y1_hat],\n",
    "    ])\n",
    "\n",
    "    return theta(p_x, p_y, p_z)"
   ]
  },
  {
   "cell_type": "code",
   "execution_count": 20,
   "id": "a71001c7-32ab-49c0-8c9f-6eb0fb2732e2",
   "metadata": {},
   "outputs": [
    {
     "data": {
      "text/plain": [
       "array([0.0413222 , 0.15643406, 0.24424374, 0.11985037, 0.01864339,\n",
       "       0.03950623, 0.0146778 , 0.05556594, 0.08675626, 0.15014963,\n",
       "       0.02335661, 0.04949377])"
      ]
     },
     "execution_count": 20,
     "metadata": {},
     "output_type": "execute_result"
    }
   ],
   "source": [
    "theta_hat = loglik_estimates(v)\n",
    "theta_hat"
   ]
  },
  {
   "cell_type": "markdown",
   "id": "a54a8dfd-677d-4f25-9e79-10d4d887fc7c",
   "metadata": {},
   "source": [
    "The estimates are close to the true values:"
   ]
  },
  {
   "cell_type": "code",
   "execution_count": 21,
   "id": "bedc3e21-ceca-4d42-96a1-29063e5d5316",
   "metadata": {},
   "outputs": [
    {
     "data": {
      "text/plain": [
       "array([0.042, 0.126, 0.252, 0.126, 0.018, 0.036, 0.016, 0.048, 0.096,\n",
       "       0.168, 0.024, 0.048])"
      ]
     },
     "execution_count": 21,
     "metadata": {},
     "output_type": "execute_result"
    }
   ],
   "source": [
    "theta(p_x, p_y, p_z)"
   ]
  },
  {
   "cell_type": "code",
   "execution_count": 22,
   "id": "2e6fd999-c593-4f85-bbce-0bb89837a59d",
   "metadata": {},
   "outputs": [],
   "source": [
    "n_resamples = 1000"
   ]
  },
  {
   "cell_type": "code",
   "execution_count": 23,
   "id": "3b49e150-9224-4790-8a3b-3b4b9be67835",
   "metadata": {},
   "outputs": [],
   "source": [
    "theta_boot = np.stack([loglik_estimates(v[rng.choice(v.shape[0], size=v.shape[0])]) for _ in range(n_resamples)])"
   ]
  },
  {
   "cell_type": "markdown",
   "id": "3a69515a-c8f6-4249-9b28-a47ea1878af2",
   "metadata": {},
   "source": [
    "The standard errors are:"
   ]
  },
  {
   "cell_type": "code",
   "execution_count": 24,
   "id": "56acf08f-31f9-404c-8f04-ffb5a6e4c2d1",
   "metadata": {},
   "outputs": [
    {
     "data": {
      "text/plain": [
       "array([0.00546709, 0.00998056, 0.0118261 , 0.00897292, 0.00294579,\n",
       "       0.00474853, 0.00210356, 0.00481993, 0.00708538, 0.01050407,\n",
       "       0.00361716, 0.00560527])"
      ]
     },
     "execution_count": 24,
     "metadata": {},
     "output_type": "execute_result"
    }
   ],
   "source": [
    "np.std(theta_boot, axis=0, ddof=1)"
   ]
  },
  {
   "cell_type": "markdown",
   "id": "4cb605af-0bcd-4c7d-a703-fb6af89600e5",
   "metadata": {},
   "source": [
    "The confidence intervals are:"
   ]
  },
  {
   "cell_type": "code",
   "execution_count": 25,
   "id": "b5eb401f-393c-4d67-ae40-6ade5249286d",
   "metadata": {},
   "outputs": [],
   "source": [
    "alpha = 0.05"
   ]
  },
  {
   "cell_type": "code",
   "execution_count": 26,
   "id": "24899933-43d8-46f5-ae7b-9e864525d17d",
   "metadata": {},
   "outputs": [
    {
     "data": {
      "text/plain": [
       "array([[0.02960101, 0.05090222],\n",
       "       [0.13819674, 0.17650047],\n",
       "       [0.22084086, 0.26651382],\n",
       "       [0.1018823 , 0.13664684],\n",
       "       [0.01282144, 0.0241617 ],\n",
       "       [0.02986529, 0.04884474],\n",
       "       [0.01029519, 0.01852191],\n",
       "       [0.04560474, 0.06478084],\n",
       "       [0.07132317, 0.09937628],\n",
       "       [0.12870113, 0.169635  ],\n",
       "       [0.01584382, 0.03030297],\n",
       "       [0.03800526, 0.06009284]])"
      ]
     },
     "execution_count": 26,
     "metadata": {},
     "output_type": "execute_result"
    }
   ],
   "source": [
    "(2 * theta_hat - np.quantile(theta_boot, [1 - alpha / 2, alpha / 2], axis=0)).T"
   ]
  },
  {
   "cell_type": "markdown",
   "id": "e136640d-fe99-4ef7-b85d-a43c9ae59205",
   "metadata": {},
   "source": [
    "## Exercise 7\n",
    "\n",
    "(a) The factorisation of the joint density is\n",
    "$$f(v) = f(z_1) f(z_2) f(z_3) f(z_4) f(x) f(y_1|x,z_1) f(y_2|x,z_2) f(y_3|x,z_3) f(y_4|x,z_4).$$\n",
    "\n",
    "(b) Since $\\pi_{Z_j} = \\emptyset$, we have by Theorem 17.6, $Z_j \\perp \\!\\!\\! \\perp \\{X, Z_2, Z_3, Z_4, Y_2, Y_3, Y_4\\}$ and in particular $Z_j \\perp \\!\\!\\! \\perp X$."
   ]
  },
  {
   "cell_type": "markdown",
   "id": "66375bf9-3b4f-4141-b3ba-8d4f926912a9",
   "metadata": {},
   "source": [
    "## Exercise 8\n",
    "\n",
    "(a) We have\n",
    "$$\\begin{split}\n",
    "\\mathbb{P}(Z=z|Y=y) \n",
    "&= \\frac{\\mathbb{P}(Z=z,Y=y)}{\\mathbb{P}(Y=y)} \\\\\n",
    "&= \\frac{\\mathbb{P}(Z=z,Y=y,X=0) + \\mathbb{P}(Z=z,Y=y,X=1)}{\\mathbb{P}(Y=y,X=0) + \\mathbb{P}(Y=y,X=1)} \\\\\n",
    "&= \\frac{\\mathbb{P}(Z=z|Y=y,X=0) \\mathbb{P}(Y=y|X=0) \\mathbb{P}(X=0)  + \\mathbb{P}(Z=z|Y=y,X=1)\\mathbb{P}(Y=y|X=1)\\mathbb{P}(X=1)}{\\mathbb{P}(Y=y|X=0)\\mathbb{P}(X=0) + \\mathbb{P}(Y=y|X=1)\\mathbb{P}(X=1)}, \\\\\n",
    "\\end{split}$$\n",
    "where\n",
    "$$\\begin{split}\n",
    "\\mathbb{P}(X=0) &= \\mathbb{P}(X=1) = \\frac{1}{2}, \\\\\n",
    "\\mathbb{P}(Y=y|X=0) &= \\left(\\frac{e^{-2}}{1 + e^{-2}} \\right)^y \\left(\\frac{1}{1 + e^{-2}} \\right)^{1-y} = \\frac{e^{-2y}}{1 + e^{-2}}, \\\\\n",
    "\\mathbb{P}(Y=y|X=1) &= \\left(\\frac{e^{2}}{1 + e^{2}} \\right)^y \\left(\\frac{1}{1 + e^{2}} \\right)^{1-y} = \\frac{e^{2y}}{1 + e^{2}}, \\\\\n",
    "\\mathbb{P}(Z=z|Y=y,X=0) &= \\left(\\frac{e^{2y-2}}{1 + e^{2y-2}} \\right)^z \\left(\\frac{1}{1 + e^{2y-2}} \\right)^{1-z} = \\frac{e^{(2y-2)z}}{1 + e^{2y-2}}, \\\\\n",
    "\\mathbb{P}(Z=z|Y=y,X=1) &= \\left(\\frac{e^{2y}}{1 + e^{2y}} \\right)^z \\left(\\frac{1}{1 + e^{2y}} \\right)^{1-z} = \\frac{e^{2yz}}{1 + e^{2y}}, \\\\\n",
    "\\end{split}$$"
   ]
  },
  {
   "cell_type": "code",
   "execution_count": 27,
   "id": "5154a69a-6159-44fa-92f3-36cabe5528f2",
   "metadata": {},
   "outputs": [],
   "source": [
    "def p_y_x(y, x):\n",
    "    u = np.exp(4 * x - 2)\n",
    "    return u ** y / (1 + u)"
   ]
  },
  {
   "cell_type": "code",
   "execution_count": 28,
   "id": "0af2ddb9-66fa-4ed3-9aaa-7b20d4228b02",
   "metadata": {},
   "outputs": [],
   "source": [
    "def p_z_xy(z, x, y):\n",
    "    u = np.exp(2 * (x + y) - 2)\n",
    "    return u ** z / (1 + u)"
   ]
  },
  {
   "cell_type": "code",
   "execution_count": 29,
   "id": "e3239b36-875e-47b1-ba07-22bbbe301222",
   "metadata": {},
   "outputs": [],
   "source": [
    "def p_z_y(z, y):\n",
    "    return (p_z_xy(z, 0, y) * p_y_x(y, 0) + p_z_xy(z, 1, y) * p_y_x(y, 1)) / (p_y_x(y, 0) + p_y_x(y, 1))        "
   ]
  },
  {
   "cell_type": "code",
   "execution_count": 30,
   "id": "cc0c6db1-7f3f-4f6a-beeb-5ea3297c0667",
   "metadata": {},
   "outputs": [
    {
     "data": {
      "text/plain": [
       "np.float64(0.8354049535854347)"
      ]
     },
     "execution_count": 30,
     "metadata": {},
     "output_type": "execute_result"
    }
   ],
   "source": [
    "p_z_y(1, 1)"
   ]
  },
  {
   "cell_type": "markdown",
   "id": "37a2a3fd-1493-4700-9675-7c6cb30dc7f1",
   "metadata": {},
   "source": [
    "(b)"
   ]
  },
  {
   "cell_type": "code",
   "execution_count": 31,
   "id": "e107263f-c314-4709-8937-7cf2a6bcc0a2",
   "metadata": {},
   "outputs": [],
   "source": [
    "import matplotlib.pyplot as plt"
   ]
  },
  {
   "cell_type": "code",
   "execution_count": 32,
   "id": "4f07f7d5-1711-4cd3-823b-214af05669aa",
   "metadata": {},
   "outputs": [],
   "source": [
    "n = 500_000"
   ]
  },
  {
   "cell_type": "code",
   "execution_count": 33,
   "id": "58cb2d4b-81b2-4c20-b839-0378aa65ee97",
   "metadata": {},
   "outputs": [],
   "source": [
    "x = stats.bernoulli.rvs(p=0.5, size=n, random_state=rng)\n",
    "y = stats.bernoulli.rvs(p=np.array([p_y_x(1, 0), p_y_x(1, 1)])[x], size=n, random_state=rng)\n",
    "pz = np.array([\n",
    "    [p_z_xy(1, 0, 0), p_z_xy(1, 0, 1)],\n",
    "    [p_z_xy(1, 1, 0), p_z_xy(1, 1, 1)],\n",
    "])\n",
    "z = stats.bernoulli.rvs(p=pz[x, y], size=n, random_state=rng)"
   ]
  },
  {
   "cell_type": "markdown",
   "id": "15b39b9d-2bf7-4bd9-93ae-0001b0152e81",
   "metadata": {},
   "source": [
    "The estimate of $\\mathbb{P}(Z=1|Y=1)$:"
   ]
  },
  {
   "cell_type": "code",
   "execution_count": 34,
   "id": "1cc60ebf-7fa2-4d11-a451-3c02f9d2460e",
   "metadata": {},
   "outputs": [
    {
     "data": {
      "text/plain": [
       "np.float64(0.834152088824986)"
      ]
     },
     "execution_count": 34,
     "metadata": {},
     "output_type": "execute_result"
    }
   ],
   "source": [
    "np.sum((z == 1) & (y == 1)) / np.sum(y == 1)"
   ]
  },
  {
   "cell_type": "code",
   "execution_count": 35,
   "id": "9528005f-ae4e-47ec-8c09-e0ef2a204d26",
   "metadata": {},
   "outputs": [
    {
     "data": {
      "image/png": "[encoded data removed]",
      "text/plain": [
       "<Figure size 640x480 with 1 Axes>"
      ]
     },
     "metadata": {},
     "output_type": "display_data"
    }
   ],
   "source": [
    "fig, ax = plt.subplots()\n",
    "ax.axhline(p_z_y(1, 1), linestyle='--', color='gray');\n",
    "ax.plot(np.arange(n), np.cumsum((z == 1) & (y == 1)) / np.cumsum(y == 1));\n",
    "ax.set_xscale('log');\n",
    "ax.set_xlabel('$n$');\n",
    "ax.set_ylabel('$P(Z=1|Y=1)$');\n",
    "ax.set_title('Convergence of $P(Z=1|Y=1)$');"
   ]
  },
  {
   "cell_type": "markdown",
   "id": "1df48b20-c30d-4774-9afb-417835eb846b",
   "metadata": {},
   "source": [
    "(c) The expression for $\\mathbb{P}(Z = 1 | Y := y)$ is obtained by dropping the term $f(y|\\pi_y)$:\n",
    "$$\\begin{split}\n",
    "\\mathbb{P}(Z=z|Y:=y) \n",
    "&= \\mathbb{P}(Z=z|Y=y,X=0) \\mathbb{P}(X=0)  + \\mathbb{P}(Z=z|Y=y,X=1)\\mathbb{P}(X=1), \\\\\n",
    "\\end{split}$$"
   ]
  },
  {
   "cell_type": "code",
   "execution_count": 36,
   "id": "502eb5a9-31d4-4965-8a1d-b93ea65aaa88",
   "metadata": {},
   "outputs": [],
   "source": [
    "def p_z_y_set(z, y):\n",
    "    return (p_z_xy(z, 0, y) + p_z_xy(z, 1, y)) / 2"
   ]
  },
  {
   "cell_type": "code",
   "execution_count": 37,
   "id": "20e41070-c47c-4119-9bc8-f073d44ea298",
   "metadata": {},
   "outputs": [
    {
     "data": {
      "text/plain": [
       "np.float64(0.6903985389889412)"
      ]
     },
     "execution_count": 37,
     "metadata": {},
     "output_type": "execute_result"
    }
   ],
   "source": [
    "p_z_y_set(1, 1)"
   ]
  },
  {
   "cell_type": "markdown",
   "id": "80aef12a-03bb-4b39-ba44-640ff0f77fa2",
   "metadata": {},
   "source": [
    "(d)"
   ]
  },
  {
   "cell_type": "code",
   "execution_count": 38,
   "id": "17c89390-5ff7-4cd8-84d3-0233bc6e9fc3",
   "metadata": {},
   "outputs": [],
   "source": [
    "x = stats.bernoulli.rvs(p=0.5, size=n, random_state=rng)\n",
    "y = np.repeat(1, n)\n",
    "z = stats.bernoulli.rvs(p=pz[x, y], size=n, random_state=rng)"
   ]
  },
  {
   "cell_type": "markdown",
   "id": "c33dab97-d69f-44de-ad52-da56d900efdc",
   "metadata": {},
   "source": [
    "The empirical estimate of $\\mathbb{P}(Z=1|Y:=1)$:"
   ]
  },
  {
   "cell_type": "code",
   "execution_count": 39,
   "id": "dd4c9947-89b0-42df-9457-626449827052",
   "metadata": {},
   "outputs": [
    {
     "data": {
      "text/plain": [
       "np.float64(0.690414)"
      ]
     },
     "execution_count": 39,
     "metadata": {},
     "output_type": "execute_result"
    }
   ],
   "source": [
    "np.sum((z == 1) & (y == 1)) / np.sum(y == 1)"
   ]
  },
  {
   "cell_type": "code",
   "execution_count": 40,
   "id": "626c3d5f-d212-4235-ac0a-35d1bde29ba6",
   "metadata": {},
   "outputs": [
    {
     "data": {
      "image/png": "[encoded data removed]",
      "text/plain": [
       "<Figure size 640x480 with 1 Axes>"
      ]
     },
     "metadata": {},
     "output_type": "display_data"
    }
   ],
   "source": [
    "fig, ax = plt.subplots()\n",
    "ax.axhline(p_z_y_set(1, 1), linestyle='--', color='gray');\n",
    "ax.plot(np.arange(n), np.cumsum((z == 1) & (y == 1)) / np.cumsum(y == 1));\n",
    "ax.set_xscale('log');\n",
    "ax.set_xlabel('$n$');\n",
    "ax.set_ylabel('$P(Z=1|Y:=1)$');\n",
    "ax.set_title('Convergence of $P(Z=1|Y:=1)$');"
   ]
  },
  {
   "cell_type": "markdown",
   "id": "7e57d1f8-90c5-4c07-a180-7e6f0cc0e95f",
   "metadata": {},
   "source": [
    "## Exercise 9\n",
    "\n",
    "(a) We have\n",
    "$$\\begin{split}\n",
    "f(x,y,z) \n",
    "&= f(z|x,y) f(y|x) f(x) \\\\\n",
    "&= \\frac{1}{\\sqrt{2\\pi}} \\exp\\left\\{-\\frac{(z - \\beta y - \\gamma x)^2}{2}\\right\\} \\frac{1}{\\sqrt{2\\pi}} \\exp\\left\\{-\\frac{(y - \\alpha x)^2}{2}\\right\\} \\frac{1}{\\sqrt{2\\pi}} \\exp\\left\\{-\\frac{x^2}{2}\\right\\} \\\\\n",
    "&= \\frac{1}{(2\\pi)^{\\frac{3}{2}}} \\exp\\left\\{-\\frac{1}{2}\\left((z - \\beta y - \\gamma x)^2 + (y - \\alpha x)^2 + x^2\\right)\\right\\} \\\\\n",
    "&= \\frac{1}{(2\\pi)^{\\frac{3}{2}}} \\exp\\left\\{-\\frac{1}{2}\\left(z^2 + \\beta^2 y^2 + \\gamma^2 x^2 - 2\\beta y z - 2 \\gamma x z + 2 \\beta \\gamma x y + y^2 - 2\\alpha x y + \\alpha^2 x^2 + x^2\\right)\\right\\} \\\\\n",
    "&= \\frac{1}{(2\\pi)^{\\frac{3}{2}}} \\exp\\left\\{-\\frac{1}{2}\\left(x^2 (1 + \\alpha^2 + \\gamma^2) + 2 xy (\\beta \\gamma - \\alpha) -2 xz \\gamma + y^2 (1 + \\beta^2) - 2 y z \\beta + z^2\\right)\\right\\} \\\\\n",
    "&= \\frac{1}{(2\\pi)^{\\frac{3}{2}}} \\exp\\left\\{-\\frac{1}{2} \\begin{pmatrix} x & y & z \\end{pmatrix} \\Sigma^{-1} \\begin{pmatrix} x \\\\ y \\\\ z \\end{pmatrix} \\right\\}, \\\\\n",
    "\\end{split}$$\n",
    "where\n",
    "$$\\Sigma^{-1} = \\begin{pmatrix}\n",
    "1 + \\alpha^2 + \\gamma^2 & \\beta \\gamma - \\alpha & -\\gamma \\\\\n",
    "\\beta \\gamma - \\alpha & 1 + \\beta^2 & -\\beta \\\\\n",
    "-\\gamma & -\\beta & 1 \\\\\n",
    "\\end{pmatrix}.$$\n",
    "We can verify that $|\\Sigma^{-1}| = 1$, so \n",
    "$$X, Y, Z \\sim \\text{Normal}\\left(0, \\Sigma\\right),$$\n",
    "where\n",
    "$$\\Sigma = \\begin{pmatrix}\n",
    "1 & \\alpha & \\alpha \\beta + \\gamma \\\\\n",
    "\\alpha & 1 + \\alpha^2 & \\beta + \\alpha^2 \\beta + \\alpha \\gamma \\\\\n",
    "\\alpha \\beta + \\gamma & \\beta + \\alpha^2 \\beta + \\alpha \\gamma & 1 + \\gamma^2 + \\beta^2 + \\alpha^2 \\beta^2 + 2 \\alpha \\beta \\gamma \\\\\n",
    "\\end{pmatrix}.$$\n",
    "\n",
    "By Theorem 2.44, \n",
    "$$Y, Z \\sim \\text{Normal}(0, \\Sigma_{YZ}),$$\n",
    "where\n",
    "$$\\Sigma_{YZ} = \\begin{pmatrix}\n",
    "1 + \\alpha^2 & \\beta + \\alpha^2 \\beta + \\alpha \\gamma \\\\\n",
    "\\beta + \\alpha^2 \\beta + \\alpha \\gamma & 1 + \\gamma^2 + \\beta^2 + \\alpha^2 \\beta^2 + 2 \\alpha \\beta \\gamma \\\\\n",
    "\\end{pmatrix}$$\n",
    "and\n",
    "$$Z|Y \\sim \\text{Normal}\\left(\\frac{\\beta + \\alpha^2 \\beta + \\alpha \\gamma}{1+\\alpha^2} y, 1 + \\gamma^2 + \\beta^2 + \\alpha^2 \\beta^2 + 2 \\alpha \\beta \\gamma - \\frac{(\\beta + \\alpha^2 \\beta + \\alpha \\gamma)^2}{1 + \\alpha^2}\\right),$$\n",
    "so\n",
    "$$f(z|y) = \\frac{1}{\\sqrt{2\\pi} \\sigma_{Z|Y}} \\exp\\left\\{ -\\frac{(z - \\mu_{Z|Y})^2}{2 \\sigma_{Z|Y}^2} \\right\\},$$\n",
    "where\n",
    "$$\\begin{split}\n",
    "\\mu_{Z|Y} &= \\frac{\\beta + \\alpha^2 \\beta + \\alpha \\gamma}{1+\\alpha^2} y, \\\\\n",
    "\\sigma_{Z|Y}^2 &= 1 + \\gamma^2 + \\beta^2 + \\alpha^2 \\beta^2 + 2 \\alpha \\beta \\gamma - \\frac{(\\beta + \\alpha^2 \\beta + \\alpha \\gamma)^2}{1 + \\alpha^2}. \\\\\n",
    "\\end{split}$$"
   ]
  },
  {
   "cell_type": "markdown",
   "id": "1de6c021-aa28-4aac-8b62-1cb39c5e2e90",
   "metadata": {},
   "source": [
    "(b) We have\n",
    "$$\\begin{split}\n",
    "f(x, z) &= f(z|x,y) f(x) \\\\\n",
    "&= \\frac{1}{\\sqrt{2\\pi}} \\exp\\left\\{-\\frac{(z - \\beta y - \\gamma x)^2}{2}\\right\\} \\frac{1}{\\sqrt{2\\pi}} \\exp\\left\\{-\\frac{x^2}{2}\\right\\} \\\\\n",
    "&= \\frac{1}{2\\pi} \\exp\\left\\{-\\frac{1}{2}\\left( (z - \\beta y - \\gamma x)^2 + x^2\\right)\\right\\} \\\\\n",
    "&= \\frac{1}{2\\pi} \\exp\\left\\{-\\frac{1}{2}\\left( (z - \\beta y)^2 - 2 (z - \\beta y) \\gamma x + \\gamma^2 x^2 + x^2\\right)\\right\\} \\\\\n",
    "&= \\frac{1}{2\\pi} \\exp\\left\\{-\\frac{1}{2}\\left( x^2 (1 + \\gamma^2) - 2 (z - \\beta y) \\gamma x + (z - \\beta y)^2\\right)\\right\\} \\\\\n",
    "&= \\frac{1}{2\\pi} \\exp\\left\\{-\\frac{1}{2}\\left( \\begin{pmatrix} x & z - \\beta y \\end{pmatrix} \\Sigma_{XZ}^{-1}  \\begin{pmatrix} x \\\\ z - \\beta y \\end{pmatrix} \\right)\\right\\}, \\\\\n",
    "\\end{split}$$\n",
    "where\n",
    "$$\\Sigma_{XZ}^{-1} = \\begin{pmatrix}\n",
    "1 + \\gamma^2 & -\\gamma \\\\\n",
    "-\\gamma & 1 \\\\\n",
    "\\end{pmatrix},$$\n",
    "so\n",
    "$$\\Sigma_{XZ} = \\begin{pmatrix}\n",
    "1  & \\gamma \\\\\n",
    "\\gamma & 1 + \\gamma^2 \\\\\n",
    "\\end{pmatrix}.$$\n",
    "We can verify that $|\\Sigma_{XZ}| = 1$, thus\n",
    "$$X, Z \\sim \\text{Normal}\\left( \\begin{pmatrix} 0 \\\\ \\beta y \\end{pmatrix}, \\Sigma_{XZ} \\right).$$\n",
    "The marginal is therefore\n",
    "$$Z | Y:=y \\sim \\text{Normal}\\left( \\beta y, 1 + \\gamma^2 \\right),$$\n",
    "so\n",
    "$$f(z | Y := y) = \\frac{1}{\\sqrt{2\\pi (1 + \\gamma^2)}} \\exp\\left\\{-\\frac{(z - \\beta y)^2}{2(1 + \\gamma^2)}\\right\\}$$\n",
    "and the expectation\n",
    "$$\\mathbb{E}[Z|Y:=y] = \\beta y.$$"
   ]
  },
  {
   "cell_type": "markdown",
   "id": "6b11eac8-edc2-4c1c-8115-5283b07beb4d",
   "metadata": {},
   "source": [
    "(c) The joint distribution of $(Y,Z)$ was found in (a). The correlation can be obtained immediately from $\\Sigma_{YZ}$:\n",
    "$$\\rho = \\frac{\\beta + \\alpha^2 \\beta + \\alpha \\gamma}{\\sqrt{ (1 + \\alpha^2) (1 + \\gamma^2 + \\beta^2 + \\alpha^2 \\beta^2 + 2 \\alpha \\beta \\gamma) }}.$$"
   ]
  },
  {
   "cell_type": "markdown",
   "id": "7bbd3fba-d9fe-4878-b979-5db0a870de23",
   "metadata": {},
   "source": [
    "(d) If $\\beta = 0$, but $\\alpha \\neq 0$ and $\\gamma \\neq 0$, we have $\\rho \\neq 0$, so although $Y$ does not directly affect $Z$, we would detect a correlation.\n",
    "\n",
    "Conversely, if for example $\\alpha = \\beta = 1$ and $\\gamma = -2$, we have $\\rho = 0$, although clearly $Y$ affects $Z$ in this case."
   ]
  },
  {
   "cell_type": "markdown",
   "id": "0642ce0c-c881-4bc9-b76c-6cdaeb6a20e4",
   "metadata": {},
   "source": [
    "(e) We have\n",
    "$$\\begin{split}\n",
    "f(x,y,z) \n",
    "&= f(z|x,y) f(y) f(x) \\\\\n",
    "&= \\frac{1}{\\sqrt{2\\pi}} \\exp\\left\\{-\\frac{(z - \\beta y - \\gamma x)^2}{2}\\right\\} \\frac{1}{\\sqrt{2\\pi}} \\exp\\left\\{-\\frac{(y - \\alpha)^2}{2}\\right\\} \\frac{1}{\\sqrt{2\\pi}} \\exp\\left\\{-\\frac{x^2}{2}\\right\\} \\\\\n",
    "&= \\frac{1}{(2\\pi)^{\\frac{3}{2}}} \\exp\\left\\{-\\frac{1}{2}\\left((z - \\beta y - \\gamma x)^2 + (y - \\alpha)^2 + x^2\\right)\\right\\} \\\\\n",
    "&= \\frac{1}{(2\\pi)^{\\frac{3}{2}}} \\exp\\left\\{-\\frac{1}{2}\\left((z - \\beta (y - \\alpha) - \\beta \\alpha - \\gamma x)^2 + (y - \\alpha)^2 + x^2\\right)\\right\\} \\\\\n",
    "&= \\frac{1}{(2\\pi)^{\\frac{3}{2}}} \\exp\\left\\{-\\frac{1}{2}\\left(((z - \\alpha \\beta) - \\beta (y - \\alpha) - \\gamma x)^2 + (y - \\alpha)^2 + x^2\\right)\\right\\} \\\\\n",
    "&= \\frac{1}{(2\\pi)^{\\frac{3}{2}}} \\exp\\left\\{-\\frac{1}{2}\\left((z - \\alpha \\beta)^2 + \\beta^2 (y - \\alpha)^2 + \\gamma^2 x^2 - 2 \\beta (y - \\alpha) (z - \\alpha \\beta)  - 2 \\gamma x (z - \\alpha \\beta) + 2 \\beta \\gamma x (y - \\alpha) + (y - \\alpha)^2 + x^2\\right)\\right\\} \\\\\n",
    "&= \\frac{1}{(2\\pi)^{\\frac{3}{2}}} \\exp\\left\\{-\\frac{1}{2}\\left( (1 + \\gamma^2) x^2 + 2 \\beta \\gamma x (y - \\alpha) - 2 \\gamma x (z - \\alpha \\beta) + (1 + \\beta^2) (y - \\alpha)^2 - 2 \\beta (y - \\alpha) (z - \\alpha \\beta) + (z - \\alpha \\beta)^2\\right)\\right\\} \\\\\n",
    "&= \\frac{1}{(2\\pi)^{\\frac{3}{2}}} \\exp\\left\\{-\\frac{1}{2} \\begin{pmatrix} x & y - \\alpha & z - \\alpha \\beta \\end{pmatrix} {\\Sigma^*}^{-1}  \\begin{pmatrix} x \\\\ y - \\alpha \\\\ z - \\alpha \\beta \\end{pmatrix}\\right\\}, \\\\\n",
    "\\end{split}$$\n",
    "where\n",
    "$${\\Sigma^*}^{-1} = \\begin{pmatrix}\n",
    "1 + \\gamma^2 & \\beta \\gamma & -\\gamma \\\\\n",
    "\\beta \\gamma & 1 + \\beta^2 & -\\beta \\\\\n",
    "-\\gamma & -\\beta & 1 \\\\\n",
    "\\end{pmatrix}.$$\n",
    "We can verify that $|{\\Sigma^*}^{-1}|$, so\n",
    "$$X, Y, Z \\sim \\text{Normal}\\left(\\begin{pmatrix} 0 \\\\ \\alpha \\\\ \\alpha \\beta \\end{pmatrix}, \\Sigma^* \\right),$$\n",
    "where\n",
    "$$\\Sigma^* = \\begin{pmatrix}\n",
    "1 & 0 & \\gamma \\\\\n",
    "0 & 1 & \\beta \\\\\n",
    "\\gamma & \\beta & 1 + \\beta^2 + \\gamma^2 \\\\\n",
    "\\end{pmatrix}.$$\n",
    "The joint distribution of $(Y,Z)$ in this case is\n",
    "$$Y, Z \\sim \\text{Normal}\\left( \\begin{pmatrix} \\alpha \\\\ \\alpha \\beta \\end{pmatrix}, \\begin{pmatrix} 1 & \\beta \\\\ \\beta & 1 + \\beta^2 + \\gamma^2 \\end{pmatrix} \\right),$$\n",
    "so the correlation is\n",
    "$$\\rho = \\frac{\\beta}{\\sqrt{1 + \\beta^2 + \\gamma^2}}.$$\n",
    "We can see that $\\rho = 0$ if and only if $\\beta = 0$, i.e. if $Z$ is not affected by $Y$."
   ]
  }
 ],
 "metadata": {
  "kernelspec": {
   "display_name": "Python 3 (ipykernel)",
   "language": "python",
   "name": "python3"
  },
  "language_info": {
   "codemirror_mode": {
    "name": "ipython",
    "version": 3
   },
   "file_extension": ".py",
   "mimetype": "text/x-python",
   "name": "python",
   "nbconvert_exporter": "python",
   "pygments_lexer": "ipython3",
   "version": "3.13.0"
  }
 },
 "nbformat": 4,
 "nbformat_minor": 5
}
