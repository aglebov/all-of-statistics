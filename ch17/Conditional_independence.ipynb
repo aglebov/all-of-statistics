{
 "cells": [
  {
   "cell_type": "markdown",
   "id": "6b73f4b6-e220-4396-9750-c3dd849b0bab",
   "metadata": {},
   "source": [
    "### Marginal independence does not imply joint independence\n",
    "\n",
    "Suppose $Y \\perp \\!\\!\\! \\perp X$ and $Z \\perp \\!\\!\\! \\perp X$. It does not necessarily imply that $(Y, Z) \\perp \\!\\!\\! \\perp X$.\n",
    "\n",
    "Consider the following configuration with 8 outcomes, where each outcome has equal probability:\n",
    "\n",
    "![Conditional probabilities example](cond_prob.png)\n",
    "\n",
    "We have:\n",
    "$$\\begin{split}\n",
    "\\mathbb{P}(X = 0) &= \\mathbb{P}(X = 1) = \\frac{4}{8} = \\frac{1}{2} \\\\\n",
    "\\mathbb{P}(Y = 0) &= \\mathbb{P}(Y = 1) = \\frac{4}{8} = \\frac{1}{2} \\\\\n",
    "\\mathbb{P}(Z = 0) &= \\frac{2}{8} = \\frac{1}{4} \\\\\n",
    "\\mathbb{P}(Z = 1) &= \\frac{6}{8} = \\frac{3}{4} \\\\\n",
    "\\mathbb{P}(Z = 1, Y = 1) &= \\frac{3}{8} \\\\\n",
    "\\mathbb{P}(Z = 1, Y = 1 | X = 0) &= \\frac{1}{4} \\neq \\mathbb{P}(Z = 1, Y = 1)\\\\\n",
    "\\mathbb{P}(Z = 1, Y = 1 | X = 1) &= \\frac{2}{4} \\neq \\mathbb{P}(Z = 1, Y = 1)\\\\\n",
    "\\end{split}$$"
   ]
  }
 ],
 "metadata": {
  "kernelspec": {
   "display_name": "Python 3 (ipykernel)",
   "language": "python",
   "name": "python3"
  },
  "language_info": {
   "codemirror_mode": {
    "name": "ipython",
    "version": 3
   },
   "file_extension": ".py",
   "mimetype": "text/x-python",
   "name": "python",
   "nbconvert_exporter": "python",
   "pygments_lexer": "ipython3",
   "version": "3.13.0"
  }
 },
 "nbformat": 4,
 "nbformat_minor": 5
}
