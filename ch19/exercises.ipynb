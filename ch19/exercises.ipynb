{
 "cells": [
  {
   "cell_type": "markdown",
   "id": "188e91d0-29aa-4d47-a560-c10ae130a3d8",
   "metadata": {},
   "source": [
    "## Exercise 1\n",
    "\n",
    "We have\n",
    "$$\\begin{split}\n",
    "\\beta_0 &= \\log p_{00} \\\\\n",
    "\\beta_1 &= \\log \\frac{p_{10}}{p_{00}} \\\\\n",
    "\\beta_2 &= \\log \\frac{p_{01}}{p_{00}} \\\\\n",
    "\\beta_3 &= \\log \\frac{p_{02}}{p_{00}} \\\\\n",
    "\\beta_4 &= \\log \\frac{p_{11} p_{00}}{p_{01} p_{10}} \\\\\n",
    "\\beta_5 &= \\log \\frac{p_{12} p_{00}}{p_{02} p_{10}} \\\\\n",
    "\\end{split}$$\n",
    "so\n",
    "$$\\begin{split}\n",
    "p_{00} &= e^{\\beta_0} \\\\\n",
    "p_{10} &= e^{\\beta_1} p_{00} = e^{\\beta_0 + \\beta_1} \\\\\n",
    "p_{01} &= e^{\\beta_2} p_{00} = e^{\\beta_0 + \\beta_2} \\\\\n",
    "p_{02} &= e^{\\beta_3} p_{00} = e^{\\beta_0 + \\beta_3} \\\\\n",
    "p_{11} &= e^{\\beta_4} \\frac{p_{01} p_{10}}{p_{00}} = e^{\\beta_0 + \\beta_1 + \\beta_2 + \\beta_4} \\\\\n",
    "p_{12} &= e^{\\beta_5} \\frac{p_{02} p_{10}}{p_{00}} = e^{\\beta_0 + \\beta_1 + \\beta_3 + \\beta_5} \\\\\n",
    "\\end{split}$$"
   ]
  },
  {
   "cell_type": "markdown",
   "id": "2bf1b8f9-4afe-4b69-9c53-fb69d3effe1f",
   "metadata": {},
   "source": [
    "## Exercise 2\n",
    "\n",
    "Suppose $X_b \\perp \\!\\!\\! \\perp X_c | X_a$, thus \n",
    "$$f(x_a, x_b, x_c) = f(x_b | x_a, x_c) f(x_a, x_c) = f(x_b | x_a) f(x_a, x_c),$$\n",
    "so we can take $g(x_a, x_b) = f(x_b | x_a)$ and $h(x_a, x_c) = f(x_a, x_c)$.\n",
    "\n",
    "Suppose $f(x_a, x_b, x_c) = g(x_a, x_b) h(x_a, x_c)$. Then \n",
    "$$f(x_b | x_a, x_c)\n",
    "= \\frac{f(x_a, x_b, x_c)}{f(x_a, x_c)}\n",
    "= \\frac{g(x_a, x_b) h(x_a, x_c)}{\\int g(x_a, x_b) h(x_a, x_c) dx_b}\n",
    "= \\frac{g(x_a, x_b) h(x_a, x_c)}{h(x_a, x_c) \\int g(x_a, x_b) dx_b}\n",
    "= \\frac{g(x_a, x_b)}{\\int g(x_a, x_b) dx_b}.$$\n",
    "On the other hand,\n",
    "$$f(x_b | x_a)\n",
    "= \\frac{f(x_a, x_b)}{f(x_a)}\n",
    "= \\frac{\\int f(x_a, x_b, x_c) dx_c}{\\int f(x_a, x_b, x_c) dx_b dx_c}\n",
    "= \\frac{\\int g(x_a, x_b) h(x_a, x_c) dx_c}{\\int \\int g(x_a, x_b) h(x_a, x_c) dx_b dx_c}\n",
    "= \\frac{g(x_a, x_b) \\int h(x_a, x_c) dx_c}{\\int g(x_a, x_b) dx_b \\int h(x_a, x_c) dx_c}\n",
    "= \\frac{g(x_a, x_b)}{\\int g(x_a, x_b) dx_b}.$$\n",
    "We can see that $f(x_b | x_a, x_c) = f(x_b | x_a)$, so by the definition in equation (17.2), $X_b \\perp \\!\\!\\! \\perp X_c | X_a$."
   ]
  },
  {
   "cell_type": "markdown",
   "id": "5434d91b-6a9e-416b-8810-2e953f2b9e43",
   "metadata": {},
   "source": [
    "## Exercise 3\n",
    "\n",
    "Let $f = \\sum_{A \\subset S} \\psi_A(x)$ be a graphical model, so by Definition 19.6, $\\psi_A)x = 0$ if and only if $\\{i,j\\} \\subset A$ and $(i,j)$ is not an edge. Suppose for some $A$ we have $\\psi_A = 0$, so by Definition 19.6, there are some $i$, $j$ such that $\\{i,j\\} \\subset A$ and $(i,j)$ is not an edge. If $A \\subset B$, then $\\{i,j\\} \\subset B$, so by Definition 19.6, $\\psi_B = 0$. Thus $f$ is hierarchical.\n",
    "\n",
    "A counterexample of a hierarchical model that is not graphical is given in Example 19.11."
   ]
  },
  {
   "cell_type": "markdown",
   "id": "de711a79-e14b-4dc0-bb22-4d8b91ddd19d",
   "metadata": {},
   "source": [
    "## Exercise 4\n",
    "\n",
    "(a)\n",
    "\n",
    "![Exercise 4](ex4.svg)"
   ]
  },
  {
   "cell_type": "markdown",
   "id": "082f99ef-8cfc-4149-b4bb-059443b75921",
   "metadata": {},
   "source": [
    "(b)\n",
    "\n",
    "$$\\begin{split}\n",
    "X_2 \\perp \\!\\!\\! \\perp X_3 | X_1, X_4 \\\\\n",
    "X_1 \\perp \\!\\!\\! \\perp X_4 | X_2, X_3 \\\\\n",
    "\\end{split}$$\n",
    "\n",
    "(c) We have $\\psi_2 = 0$, but $\\psi_{12} \\neq 0$, so the model is not hierarchical and therefore is not graphical either."
   ]
  },
  {
   "cell_type": "markdown",
   "id": "33c930e0-1feb-40eb-8f17-eda2c0e27b81",
   "metadata": {},
   "source": [
    "## Exercise 5\n",
    "\n",
    "The model is presented in the notebook for Example 19.15:\n",
    "$$\\begin{split}\n",
    "\\beta_0 &= \\log p_{000} \\\\\n",
    "\\beta_1 &= \\log \\frac{p_{100}}{p_{000}} \\\\\n",
    "\\beta_2 &= \\log \\frac{p_{010}}{p_{000}} \\\\\n",
    "\\beta_3 &= \\log \\frac{p_{001}}{p_{000}} \\\\\n",
    "\\beta_{12} &= \\log \\frac{p_{000} p_{110}}{p_{100} p_{010}} \\\\\n",
    "\\beta_{13} &= \\log \\frac{p_{000} p_{101}}{p_{100} p_{001}} \\\\\n",
    "\\beta_{23} &= \\log \\frac{p_{000} p_{011}}{p_{010} p_{001}} \\\\\n",
    "\\beta_{123} &= \\log \\frac{p_{001} p_{010} p_{100} p_{111}}{p_{000} p_{011} p_{101} p_{110}} \\\\\n",
    "\\end{split}$$"
   ]
  },
  {
   "cell_type": "code",
   "execution_count": 4,
   "id": "1dfb545a-794e-4d6d-ba70-49194e904873",
   "metadata": {},
   "outputs": [],
   "source": [
    "import numpy as np"
   ]
  },
  {
   "cell_type": "code",
   "execution_count": 3,
   "id": "261e359c-d8fd-4696-a6dd-e8f6c29f1f2b",
   "metadata": {},
   "outputs": [],
   "source": [
    "def calculate_beta(p):\n",
    "    return (\n",
    "        np.log(p[0, 0, 0]),\n",
    "        np.log(p[1, 0, 0] / p[0, 0, 0]),\n",
    "        np.log(p[0, 1, 0] / p[0, 0, 0]),\n",
    "        np.log(p[0, 0, 1] / p[0, 0, 0]),\n",
    "        np.log(p[0, 0, 0] * p[1, 1, 0] / p[1, 0, 0] / p[0, 1, 0]),\n",
    "        np.log(p[0, 0, 0] * p[1, 0, 1] / p[1, 0, 0] / p[0, 0, 1]),\n",
    "        np.log(p[0, 0, 0] * p[0, 1, 1] / p[0, 1, 0] / p[0, 0, 1]),\n",
    "        np.log(p[0, 0, 1] * p[0, 1, 0] * p[1, 0, 0] * p[1, 1, 1] / p[0, 0, 0] / p[0, 1, 1] / p[1, 0, 1] / p[1, 1, 0]),\n",
    "    )"
   ]
  },
  {
   "cell_type": "code",
   "execution_count": 5,
   "id": "fc2c3e13-9e6b-45f0-a97d-bf1fd6010ecf",
   "metadata": {},
   "outputs": [],
   "source": [
    "p = np.array([\n",
    "    [\n",
    "        [2, 8],\n",
    "        [4, 16],\n",
    "    ],\n",
    "    [\n",
    "        [16, 128],\n",
    "        [32, 256],\n",
    "    ]\n",
    "])"
   ]
  },
  {
   "cell_type": "code",
   "execution_count": 14,
   "id": "acae97da-4928-4a1b-a30f-de47303b7f02",
   "metadata": {},
   "outputs": [
    {
     "data": {
      "text/plain": [
       "(np.float64(0.6931471805599453),\n",
       " np.float64(2.0794415416798357),\n",
       " np.float64(0.6931471805599453),\n",
       " np.float64(1.3862943611198906),\n",
       " np.float64(0.0),\n",
       " np.float64(0.6931471805599453),\n",
       " np.float64(0.0),\n",
       " np.float64(0.0))"
      ]
     },
     "execution_count": 14,
     "metadata": {},
     "output_type": "execute_result"
    }
   ],
   "source": [
    "calculate_beta(p)"
   ]
  },
  {
   "cell_type": "markdown",
   "id": "83747d21-0f4c-429e-b24e-623f8810b8ab",
   "metadata": {},
   "source": [
    "The coefficients suggest the following model:\n",
    "\n",
    "![Exercise 5](ex5.svg)\n",
    "\n",
    "We see that \n",
    "$$\\begin{split}\n",
    "& X_2 \\perp \\!\\!\\! \\perp \\{X_1, X_3\\} \\\\\n",
    "& X_1 \\perp \\!\\!\\! \\perp X_2 | X_3 \\\\\n",
    "& X_3 \\perp \\!\\!\\! \\perp X_2 | X_1 \\\\\n",
    "\\end{split}$$"
   ]
  },
  {
   "cell_type": "markdown",
   "id": "3f31dde6-956d-43c5-ad64-ef4914eacba4",
   "metadata": {},
   "source": [
    "## Exercise 6\n",
    "\n",
    "The graphs are as follows:\n",
    "\n",
    "![Exercise 6](ex6.svg)\n",
    "\n",
    "(a) The model is graphical and therefore also hierarchical (by Lemma 19.9): we cannot add a term to the model without changing the graph.\n",
    "\n",
    "(b) The model is graphical and therefore also hierarchical (by Lemma 19.9): we cannot add a term to the model without changing the graph.\n",
    "\n",
    "(c) The model is graphical and therefore also hierarchical (by Lemma 19.9): we cannot add a term to the model without changing the graph.\n",
    "\n",
    "(d) The model is not hierarchical since, for example, the term $\\psi_1 = 0$, but $\\psi_{1234} \\neq 0$. By Lemma 19.9, the model is not graphical either."
   ]
  }
 ],
 "metadata": {
  "kernelspec": {
   "display_name": "Python 3 (ipykernel)",
   "language": "python",
   "name": "python3"
  },
  "language_info": {
   "codemirror_mode": {
    "name": "ipython",
    "version": 3
   },
   "file_extension": ".py",
   "mimetype": "text/x-python",
   "name": "python",
   "nbconvert_exporter": "python",
   "pygments_lexer": "ipython3",
   "version": "3.13.0"
  }
 },
 "nbformat": 4,
 "nbformat_minor": 5
}
