{
 "cells": [
  {
   "cell_type": "markdown",
   "id": "120a6167-e074-4689-b202-f03fc07d89f6",
   "metadata": {},
   "source": [
    "We replicate the results in Example 19.15.\n",
    "\n",
    "If $X_1$, $X_2$, $X_3$ are binary, we have for the saturated model\n",
    "$$\\log f = \\psi_0 + \\psi_1 + \\psi_2 + \\psi_3 + \\psi_{12} + \\psi_{13} + \\psi_{23} + \\psi_{123},$$\n",
    "where\n",
    "$$\\begin{split}\n",
    "\\psi_0 & = \\beta_0 \\\\\n",
    "\\psi_i & = \\beta_i x_i \\\\\n",
    "\\psi_{ij} & = \\beta_{ij} x_i x_j \\\\\n",
    "\\psi_{ijk} & = \\beta_{ijk} x_i x_j x_k \\\\\n",
    "\\end{split}$$"
   ]
  },
  {
   "cell_type": "markdown",
   "id": "d8d47b58-632b-4311-91f9-e903c9136e94",
   "metadata": {},
   "source": [
    "Since\n",
    "$$f = p_{000}^{(1-x_1)(1-x_2)(1-x_3)} p_{001}^{(1-x_1)(1-x_2)x_3} p_{010}^{(1-x_1)x_2(1-x_3)} p_{011}^{(1-x_1)x_2 x_3} p_{100}^{x_1(1-x_2)(1-x_3)} p_{101}^{x_1(1-x_2)x_3} p_{110}^{x_1 x_2 (1-x_3)} p_{111}^{x_1 x_2 x_3},\n",
    "$$\n",
    "we have\n",
    "$$\\begin{split}\n",
    "\\log f = &(1-x_1)(1-x_2)(1-x_3) \\log p_{000} + (1-x_1)(1-x_2)x_3 \\log p_{001} + (1-x_1)x_2(1-x_3) \\log p_{010} \\\\\n",
    "  & + (1-x_1)x_2 x_3 \\log p_{011} + x_1(1-x_2)(1-x_3) \\log p_{100} + x_1(1-x_2)x_3 \\log p_{101} \\\\\n",
    "  & + x_1 x_2 (1-x_3) \\log p_{110} + x_1 x_2 x_3 \\log p_{111} \\\\\n",
    "= & \\log p_{000} - x_1 \\log p_{000} - x_2 \\log p_{000} - x_3 \\log p_{000} + x_1 x_2 \\log p_{000} + x_1 x_3 \\log p_{000} + x_2 x_3 \\log p_{000} - x_1 x_2 x_3 \\log p_{000} \\\\\n",
    "  & + x_3 \\log p_{001} - x_1 x_3 \\log p_{001} - x_2 x_3 \\log p_{001} + x_1 x_2 x_3 \\log p_{001} \\\\\n",
    "  & + x_2 \\log p_{010} - x_1 x_2 \\log p_{010} - x_2 x_3 \\log p_{010} + x_1 x_2 x_3 \\log p_{010} \\\\\n",
    "  & + x_2 x_3 \\log p_{011} - x_1 x_2 x_3 \\log p_{011} \\\\\n",
    "  & + x_1 \\log p_{100} - x_1 x_2 \\log p_{100} - x_1 x_3 \\log p_{100} + x_1 x_2 x_3 \\log p_{100} \\\\\n",
    "  & + x_1 x_3 \\log p_{101} - x_1 x_2 x_3 \\log p_{101} \\\\\n",
    "  & + x_1 x_2 \\log p_{110} - x_1 x_2 x_3 \\log p_{110} \\\\\n",
    "  & + x_1 x_2 x_3 \\log p_{111} \\\\\n",
    "= & \\log p_{000} + x_1 \\log \\frac{p_{100}}{p_{000}} + x_2 \\log \\frac{p_{010}}{p_{000}} + x_3 \\log \\frac{p_{001}}{p_{000}} + x_1 x_2 \\log \\frac{p_{000} p_{110}}{p_{100} p_{010}} + x_1 x_3 \\log \\frac{p_{000} p_{101}}{p_{100} p_{001}} + x_2 x_3 \\log \\frac{p_{000} p_{011}}{p_{010} p_{001}} + x_1 x_2 x_3 \\log \\frac{p_{001} p_{010} p_{100} p_{111}}{p_{000} p_{011} p_{101} p_{110}},\n",
    "\\end{split}$$\n",
    "that is\n",
    "$$\\begin{split}\n",
    "\\beta_0 &= \\log p_{000} \\\\\n",
    "\\beta_1 &= \\log \\frac{p_{100}}{p_{000}} \\\\\n",
    "\\beta_2 &= \\log \\frac{p_{010}}{p_{000}} \\\\\n",
    "\\beta_3 &= \\log \\frac{p_{001}}{p_{000}} \\\\\n",
    "\\beta_{12} &= \\log \\frac{p_{000} p_{110}}{p_{100} p_{010}} \\\\\n",
    "\\beta_{13} &= \\log \\frac{p_{000} p_{101}}{p_{100} p_{001}} \\\\\n",
    "\\beta_{23} &= \\log \\frac{p_{000} p_{011}}{p_{010} p_{001}} \\\\\n",
    "\\beta_{123} &= \\log \\frac{p_{001} p_{010} p_{100} p_{111}}{p_{000} p_{011} p_{101} p_{110}} \\\\\n",
    "\\end{split}$$\n",
    "\n",
    "Solving these equations for the probabilities, we obtain\n",
    "$$\\begin{split}\n",
    "p_{000} &= e^{\\beta_0} \\\\\n",
    "p_{100} &= e^{\\beta_0 + \\beta_1} \\\\\n",
    "p_{010} &= e^{\\beta_0 + \\beta_2} \\\\\n",
    "p_{001} &= e^{\\beta_0 + \\beta_3} \\\\\n",
    "p_{110} &= e^{\\beta_0 + \\beta_1 + \\beta_2 + \\beta_{12}} \\\\\n",
    "p_{101} &= e^{\\beta_0 + \\beta_1 + \\beta_3 + \\beta_{13}} \\\\\n",
    "p_{011} &= e^{\\beta_0 + \\beta_2 + \\beta_3 + \\beta_{23}} \\\\\n",
    "p_{111} &= e^{\\beta_0 + \\beta_1 + \\beta_2 + \\beta_3 + \\beta_{123}} \\\\\n",
    "\\end{split}$$"
   ]
  },
  {
   "cell_type": "markdown",
   "id": "8a507674-c4a9-4c54-ad36-4a7fa46ce107",
   "metadata": {},
   "source": [
    "The constraint is $\\sum_{i,j,k} p_{ijk} = 1$, which leads to\n",
    "$$e^{\\beta_0} + e^{\\beta_0 + \\beta_1} + e^{\\beta_0 + \\beta_2} + e^{\\beta_0 + \\beta_3} + e^{\\beta_0 + \\beta_1 + \\beta_2 + \\beta_{12}} + e^{\\beta_0 + \\beta_1 + \\beta_3 + \\beta_{13}} + e^{\\beta_0 + \\beta_2 + \\beta_3 + \\beta_{23}} + e^{\\beta_0 + \\beta_1 + \\beta_2 + \\beta_3 + \\beta_{12} + \\beta_{13} + \\beta_{23} + \\beta_{123}} = 1,$$\n",
    "so\n",
    "$$1 + e^{\\beta_1} + e^{\\beta_2} + e^{\\beta_3} + e^{\\beta_1 + \\beta_2 + \\beta_{12}} + e^{\\beta_1 + \\beta_3 + \\beta_{13}} + e^{\\beta_2 + \\beta_3 + \\beta_{23}} + e^{\\beta_1 + \\beta_2 + \\beta_3 + \\beta_{12} + \\beta_{13} + \\beta_{23} + \\beta_{123}} = e^{-\\beta_0}$$\n",
    "and\n",
    "$$\\beta_0 = -\\log \\left(1 + e^{\\beta_1} + e^{\\beta_2} + e^{\\beta_3} + e^{\\beta_1 + \\beta_2 + \\beta_{12}} + e^{\\beta_1 + \\beta_3 + \\beta_{13}} + e^{\\beta_2 + \\beta_3 + \\beta_{23}} + e^{\\beta_1 + \\beta_2 + \\beta_3 + \\beta_{12} + \\beta_{13} + \\beta_{23} + \\beta_{123}}\\right)$$"
   ]
  },
  {
   "cell_type": "markdown",
   "id": "368c931f-19f6-4ff1-8cea-29bfa30d7920",
   "metadata": {},
   "source": [
    "The likelihood of a single observation if $f$, so the likelihood of a sample if \n",
    "$$\\mathcal{L} = \\prod_{l=1}^n f(x_l)$$\n",
    "and the log-likelihood is\n",
    "$$\\log \\mathcal{L} = \\sum_{l=1}^n \\log f(x_l) = \\sum_{x^*} \\sum_{x_l = x^*} \\log f(x^*) = \\sum_{x^*} n_{x^*} \\log f(x^*),$$\n",
    "where $x^*$ are distinct possible values of $X$."
   ]
  },
  {
   "cell_type": "code",
   "execution_count": 265,
   "id": "d0be9da0-a94a-43da-a053-12b50a43bf9e",
   "metadata": {},
   "outputs": [],
   "source": [
    "import numpy as np\n",
    "import pandas as pd\n",
    "import scipy.stats as stats\n",
    "from scipy.optimize import minimize\n",
    "import numdifftools as nd"
   ]
  },
  {
   "cell_type": "markdown",
   "id": "f3d64234-ff32-4247-a47c-e2af85bfd8d0",
   "metadata": {},
   "source": [
    "A function to generate indices to select ``k`` elements from an array of size ``d``."
   ]
  },
  {
   "cell_type": "code",
   "execution_count": 64,
   "id": "5a750e41-d447-4880-afd4-92b541b35787",
   "metadata": {},
   "outputs": [],
   "source": [
    "def generate_indices(d, k):\n",
    "    x = [i for i in range(k)]\n",
    "    yield tuple(x)\n",
    "    j = k - 1\n",
    "    while k > 0:\n",
    "        # if we cannot advance the last pointer\n",
    "        if x[j] == d - 1:\n",
    "            # find the preceding pointer that we can advance\n",
    "            i = j - 1\n",
    "            while i >= 0:\n",
    "                if x[i] < x[i + 1] - 1:\n",
    "                    break\n",
    "                i -= 1\n",
    "            if i < 0:\n",
    "                # cannot advance any of the pointers\n",
    "                break\n",
    "            # update the pointer that can advance\n",
    "            x[i] += 1\n",
    "            # set all subsequent pointers\n",
    "            for j in range(i + 1, k):\n",
    "                x[j] = x[i] + j - i\n",
    "        else:\n",
    "            x[j] += 1\n",
    "        yield tuple(x)"
   ]
  },
  {
   "cell_type": "code",
   "execution_count": 43,
   "id": "113d64b5-4615-4e9f-a210-4bdea81adfd5",
   "metadata": {},
   "outputs": [
    {
     "data": {
      "text/plain": [
       "[(0, 1),\n",
       " (0, 2),\n",
       " (0, 3),\n",
       " (0, 4),\n",
       " (1, 2),\n",
       " (1, 3),\n",
       " (1, 4),\n",
       " (2, 3),\n",
       " (2, 4),\n",
       " (3, 4)]"
      ]
     },
     "execution_count": 43,
     "metadata": {},
     "output_type": "execute_result"
    }
   ],
   "source": [
    "list(generate_indices(5, 2))"
   ]
  },
  {
   "cell_type": "markdown",
   "id": "895a84d4-cc49-4df9-aa32-d8bcccd1f5d2",
   "metadata": {},
   "source": [
    "A function to check if a model is hierarchical:"
   ]
  },
  {
   "cell_type": "code",
   "execution_count": 160,
   "id": "34165344-d5e5-4cd9-aaaa-f99b4768d64f",
   "metadata": {},
   "outputs": [],
   "source": [
    "def is_hierarchical(betas_included):\n",
    "    d = len(betas_included)\n",
    "    all_indices = [list(generate_indices(d, k)) for k in range(1, d + 1)]\n",
    "    for k in range(d):\n",
    "        for i, beta_included in enumerate(betas_included[k]):\n",
    "            if not beta_included:\n",
    "                for l in range(k + 1, d):\n",
    "                    for j, higher_dim_beta_included in enumerate(betas_included[l]):\n",
    "                        if higher_dim_beta_included and set(all_indices[k][i]).issubset(all_indices[l][j]):\n",
    "                            return False\n",
    "    return True"
   ]
  },
  {
   "cell_type": "markdown",
   "id": "1d957ace-151a-40ab-badc-ff09ef3c952d",
   "metadata": {},
   "source": [
    "A model is encoded as a list of tuples for combinations of each dimension, for example ``[(True, True, True), (False, True, True), (False,)]`` encodes a model that has non-zero $\\psi_0$, $\\psi_1$, $\\psi_2$, $\\psi_3$, $\\psi_{13}$, $\\psi_{23}$ and zero $\\psi_{12}$, $\\psi_{123}$, which is hierarchical. The order of flags in each group corresponds to the order generated by ``generate_indices`` for the given number of elements."
   ]
  },
  {
   "cell_type": "code",
   "execution_count": 161,
   "id": "23321586-d49e-4242-91fd-a6b480632c2c",
   "metadata": {},
   "outputs": [
    {
     "data": {
      "text/plain": [
       "True"
      ]
     },
     "execution_count": 161,
     "metadata": {},
     "output_type": "execute_result"
    }
   ],
   "source": [
    "is_hierarchical([(True, True, True), (False, True, True), (False,)])"
   ]
  },
  {
   "cell_type": "code",
   "execution_count": 162,
   "id": "a2fa4ae4-c231-4561-818c-5bbdb8513a8d",
   "metadata": {},
   "outputs": [
    {
     "data": {
      "text/plain": [
       "False"
      ]
     },
     "execution_count": 162,
     "metadata": {},
     "output_type": "execute_result"
    }
   ],
   "source": [
    "is_hierarchical([(True, True, False), (False, False, True), (False,)])"
   ]
  },
  {
   "cell_type": "markdown",
   "id": "a27e3c51-02bb-445d-bc9d-c50f4d7aa855",
   "metadata": {},
   "source": [
    "A function to calculate the value of\n",
    "$$e^{\\beta_1} + e^{\\beta_2} + e^{\\beta_3} + e^{\\beta_1 + \\beta_2 + \\beta_{12}} + e^{\\beta_1 + \\beta_3 + \\beta_{13}} + e^{\\beta_2 + \\beta_3 + \\beta_{23}} + e^{\\beta_1 + \\beta_2 + \\beta_3 + \\beta_{12} + \\beta_{13} + \\beta_{23} + \\beta_{123}}$$"
   ]
  },
  {
   "cell_type": "code",
   "execution_count": 202,
   "id": "c0981f13-7ede-47b8-91df-1636fe2c0407",
   "metadata": {},
   "outputs": [],
   "source": [
    "def calculate_beta_exp(betas, betas_included):\n",
    "    n_betas = sum(sum(v) for v in betas_included)\n",
    "    assert n_betas == len(betas)\n",
    "    d = len(betas_included)\n",
    "    all_indices = [list(generate_indices(d, k)) for k in range(1, d + 1)]\n",
    "    res = 0\n",
    "    beta_idx = 0\n",
    "    for k, betas_group in enumerate(betas_included):\n",
    "        for j, beta_included in enumerate(betas_group):\n",
    "            beta_exp = 0\n",
    "            if beta_included:\n",
    "                beta_exp += betas[beta_idx]\n",
    "                beta_idx += 1\n",
    "            beta_idx2 = 0\n",
    "            for k2 in range(k):\n",
    "                for j2, lower_dim_beta_included in enumerate(betas_included[k2]):\n",
    "                    if lower_dim_beta_included:\n",
    "                        if set(all_indices[k2][j2]).issubset(all_indices[k][j]):\n",
    "                            beta_exp += betas[beta_idx2]\n",
    "                        beta_idx2 += 1\n",
    "            res += np.exp(beta_exp)\n",
    "    return res"
   ]
  },
  {
   "cell_type": "code",
   "execution_count": 220,
   "id": "ac19deb7-2c87-4471-b37f-86a624963e58",
   "metadata": {},
   "outputs": [],
   "source": [
    "def calculate_beta0(betas, betas_included):\n",
    "    return -np.log(1 + calculate_beta_exp(betas, betas_included))"
   ]
  },
  {
   "cell_type": "markdown",
   "id": "e572f02e-62b2-426c-8604-8b697d4479e7",
   "metadata": {},
   "source": [
    "A function to calculate $\\log f$ given the values of $\\beta$ and the model specification:"
   ]
  },
  {
   "cell_type": "code",
   "execution_count": 221,
   "id": "7af10841-3300-44c5-bec9-c5177e17cdb6",
   "metadata": {},
   "outputs": [],
   "source": [
    "def calculate_log_f(betas, betas_included):\n",
    "    n_betas = sum(sum(v) for v in betas_included)\n",
    "    assert n_betas == len(betas)\n",
    "    d = len(betas_included)\n",
    "    res = np.zeros((2,) * d)\n",
    "    SLICE_ALL = slice(None, None, None)\n",
    "    all_indices = [list(generate_indices(d, k)) for k in range(1, d + 1)]\n",
    "    beta_idx = 0\n",
    "    for k, betas_group in enumerate(betas_included):\n",
    "        for j, beta_included in enumerate(betas_group):\n",
    "            if beta_included:\n",
    "                multi_idx = tuple([1 if i in all_indices[k][j] else SLICE_ALL for i in range(d)])\n",
    "                res[multi_idx] += betas[beta_idx]\n",
    "                beta_idx += 1\n",
    "    res += calculate_beta0(betas, betas_included)\n",
    "    return res"
   ]
  },
  {
   "cell_type": "markdown",
   "id": "93f49af7-70dd-4542-8a6b-10da48e243d2",
   "metadata": {},
   "source": [
    "A function to calculate the log-likelihood for a given sample:"
   ]
  },
  {
   "cell_type": "code",
   "execution_count": 222,
   "id": "5a1c85b6-7a47-4416-8cf0-6bf71513d6c1",
   "metadata": {},
   "outputs": [],
   "source": [
    "def log_lik(x, betas, betas_included):\n",
    "    return np.sum(x * calculate_log_f(betas, betas_included))"
   ]
  },
  {
   "cell_type": "code",
   "execution_count": 223,
   "id": "3e6dc8ec-99d1-4f73-a3da-acacda601db0",
   "metadata": {},
   "outputs": [],
   "source": [
    "x = np.array([\n",
    "    [\n",
    "        [35, 59],\n",
    "        [47, 112],\n",
    "    ],\n",
    "    [\n",
    "        [42, 77],\n",
    "        [26, 76],\n",
    "    ],\n",
    "])"
   ]
  },
  {
   "cell_type": "code",
   "execution_count": 224,
   "id": "cb96be0c-6191-425c-a008-e7845ce2a2dd",
   "metadata": {},
   "outputs": [],
   "source": [
    "betas_included = [(True, True, True), (True, True, True), (True,)]"
   ]
  },
  {
   "cell_type": "code",
   "execution_count": 225,
   "id": "c5943d03-e7d9-44eb-91e8-02761c312e87",
   "metadata": {},
   "outputs": [],
   "source": [
    "assert is_hierarchical(betas_included)"
   ]
  },
  {
   "cell_type": "code",
   "execution_count": 293,
   "id": "07dedf11-e163-4497-8e07-8816964d50b1",
   "metadata": {},
   "outputs": [],
   "source": [
    "def objective(beta):\n",
    "    return -log_lik(x, beta, betas_included)"
   ]
  },
  {
   "cell_type": "code",
   "execution_count": 294,
   "id": "200c6496-643c-462f-bc75-e049bb9f46c2",
   "metadata": {},
   "outputs": [],
   "source": [
    "n_betas = sum(sum(v) for v in betas_included)"
   ]
  },
  {
   "cell_type": "code",
   "execution_count": 295,
   "id": "6628a380-0910-403a-92b8-4b5f14f1e9e6",
   "metadata": {},
   "outputs": [
    {
     "data": {
      "text/plain": [
       "  message: Optimization terminated successfully.\n",
       "  success: True\n",
       "   status: 0\n",
       "      fun: 940.6701829745268\n",
       "        x: [ 1.823e-01  2.948e-01  5.222e-01 -7.744e-01  8.395e-02\n",
       "             3.462e-01  1.203e-01]\n",
       "      nit: 18\n",
       "      jac: [ 0.000e+00  0.000e+00  0.000e+00  7.629e-06  7.629e-06\n",
       "            -7.629e-06  0.000e+00]\n",
       " hess_inv: [[ 1.348e-02 -1.083e-03 ...  4.175e-03 -5.254e-05]\n",
       "            [-1.083e-03  3.542e-02 ... -2.670e-02  1.207e-05]\n",
       "            ...\n",
       "            [ 4.175e-03 -2.670e-02 ...  4.055e-02 -1.080e-02]\n",
       "            [-5.254e-05  1.207e-05 ... -1.080e-02  5.575e-02]]\n",
       "     nfev: 168\n",
       "     njev: 21"
      ]
     },
     "execution_count": 295,
     "metadata": {},
     "output_type": "execute_result"
    }
   ],
   "source": [
    "res = minimize(objective, np.repeat(0.1, n_betas))\n",
    "res"
   ]
  },
  {
   "cell_type": "code",
   "execution_count": 262,
   "id": "c40941b8-bfff-42a6-a52c-d685ef29b0d7",
   "metadata": {},
   "outputs": [],
   "source": [
    "h = nd.Hessian(objective)\n",
    "se = np.sqrt(np.diag(np.linalg.inv(h(res.x))))"
   ]
  },
  {
   "cell_type": "code",
   "execution_count": 269,
   "id": "e8b8551f-c1f7-4e99-9533-395167dad72d",
   "metadata": {},
   "outputs": [
    {
     "data": {
      "text/html": [
       "<div>\n",
       "<style scoped>\n",
       "    .dataframe tbody tr th:only-of-type {\n",
       "        vertical-align: middle;\n",
       "    }\n",
       "\n",
       "    .dataframe tbody tr th {\n",
       "        vertical-align: top;\n",
       "    }\n",
       "\n",
       "    .dataframe thead th {\n",
       "        text-align: right;\n",
       "    }\n",
       "</style>\n",
       "<table border=\"1\" class=\"dataframe\">\n",
       "  <thead>\n",
       "    <tr style=\"text-align: right;\">\n",
       "      <th></th>\n",
       "      <th>beta</th>\n",
       "      <th>se</th>\n",
       "      <th>W</th>\n",
       "      <th>p-value</th>\n",
       "    </tr>\n",
       "  </thead>\n",
       "  <tbody>\n",
       "    <tr>\n",
       "      <th>0</th>\n",
       "      <td>0.182321</td>\n",
       "      <td>0.228869</td>\n",
       "      <td>0.796617</td>\n",
       "      <td>0.425673</td>\n",
       "    </tr>\n",
       "    <tr>\n",
       "      <th>1</th>\n",
       "      <td>0.294799</td>\n",
       "      <td>0.223267</td>\n",
       "      <td>1.320390</td>\n",
       "      <td>0.186705</td>\n",
       "    </tr>\n",
       "    <tr>\n",
       "      <th>2</th>\n",
       "      <td>0.522189</td>\n",
       "      <td>0.213355</td>\n",
       "      <td>2.447507</td>\n",
       "      <td>0.014385</td>\n",
       "    </tr>\n",
       "    <tr>\n",
       "      <th>3</th>\n",
       "      <td>-0.774372</td>\n",
       "      <td>0.334842</td>\n",
       "      <td>-2.312650</td>\n",
       "      <td>0.020742</td>\n",
       "    </tr>\n",
       "    <tr>\n",
       "      <th>4</th>\n",
       "      <td>0.083947</td>\n",
       "      <td>0.286910</td>\n",
       "      <td>0.292591</td>\n",
       "      <td>0.769835</td>\n",
       "    </tr>\n",
       "    <tr>\n",
       "      <th>5</th>\n",
       "      <td>0.346162</td>\n",
       "      <td>0.275183</td>\n",
       "      <td>1.257934</td>\n",
       "      <td>0.208416</td>\n",
       "    </tr>\n",
       "    <tr>\n",
       "      <th>6</th>\n",
       "      <td>0.120338</td>\n",
       "      <td>0.405144</td>\n",
       "      <td>0.297026</td>\n",
       "      <td>0.766447</td>\n",
       "    </tr>\n",
       "  </tbody>\n",
       "</table>\n",
       "</div>"
      ],
      "text/plain": [
       "       beta        se         W   p-value\n",
       "0  0.182321  0.228869  0.796617  0.425673\n",
       "1  0.294799  0.223267  1.320390  0.186705\n",
       "2  0.522189  0.213355  2.447507  0.014385\n",
       "3 -0.774372  0.334842 -2.312650  0.020742\n",
       "4  0.083947  0.286910  0.292591  0.769835\n",
       "5  0.346162  0.275183  1.257934  0.208416\n",
       "6  0.120338  0.405144  0.297026  0.766447"
      ]
     },
     "execution_count": 269,
     "metadata": {},
     "output_type": "execute_result"
    }
   ],
   "source": [
    "pd.DataFrame({\n",
    "    'beta': res.x,\n",
    "    'se': se,\n",
    "    'W': res.x / se,\n",
    "    'p-value': 2 * stats.norm.sf(np.abs(res.x) / se),\n",
    "})"
   ]
  },
  {
   "cell_type": "code",
   "execution_count": 268,
   "id": "d2f023be-29c1-49b6-b43f-b2cb44cc32cb",
   "metadata": {},
   "outputs": [
    {
     "data": {
      "text/plain": [
       "np.float64(-2.6058588558268623)"
      ]
     },
     "execution_count": 268,
     "metadata": {},
     "output_type": "execute_result"
    }
   ],
   "source": [
    "calculate_beta0(res.x, betas_included)"
   ]
  },
  {
   "cell_type": "markdown",
   "id": "fbc272bb-a130-49c3-b1e7-cbef8115062a",
   "metadata": {},
   "source": [
    "The procedure used in the book (see ``example19.15.R``) fits a regression model\n",
    "$$\\log y = \\beta_0 + \\beta_1 x_1 + \\beta_2 x_2 + \\beta_3 x_3 + \\beta_{12} x_1 x_2 + \\beta_{13} x_1 x_3 + \\beta_{23} x_2 x_3 + \\beta_{123} x_1 x_2 x_3,$$\n",
    "so the intercept is $\\log 35 = 3.56$ (35 is the value of $y$ where $x_1 = x_2 = x_3 = 0$)."
   ]
  }
 ],
 "metadata": {
  "kernelspec": {
   "display_name": "Python 3 (ipykernel)",
   "language": "python",
   "name": "python3"
  },
  "language_info": {
   "codemirror_mode": {
    "name": "ipython",
    "version": 3
   },
   "file_extension": ".py",
   "mimetype": "text/x-python",
   "name": "python",
   "nbconvert_exporter": "python",
   "pygments_lexer": "ipython3",
   "version": "3.13.0"
  }
 },
 "nbformat": 4,
 "nbformat_minor": 5
}
