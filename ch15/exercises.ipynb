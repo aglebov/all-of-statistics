{
 "cells": [
  {
   "cell_type": "markdown",
   "id": "6d7015c7-2403-4496-abfb-171ea04ced20",
   "metadata": {},
   "source": [
    "## Exercise 1\n",
    "\n",
    "The equivalence of (1) and (4) was established in Exercise 5 in Chapter 2.\n",
    "\n",
    "The equivalence of (2) and (3) is trivial, since $\\log \\psi = 0$ if and only if $\\psi=1$.\n",
    "\n",
    "We check the equivalence of (2) and (4). Assume (4) holds, i.e. $p_{ij} = p_{i\\cdot} p_{\\cdot j}$. Then\n",
    "$$\\psi = \\frac{p_{00} p_{11}}{p_{01} p_{10}} = \\frac{p_{0\\cdot} p_{\\cdot 0} p_{1\\cdot} p_{\\cdot 1}}{p_{0\\cdot} p_{\\cdot 1} p_{1\\cdot} p_{\\cdot 0}} = 1.$$\n",
    "\n",
    "Conversely, suppose\n",
    "$$\\psi = \\frac{p_{00} p_{11}}{p_{01} p_{10}} = 1.$$\n",
    "Then\n",
    "$$\\frac{p_{00}}{p_{01}} = \\frac{p_{10}}{p_{11}} = k$$\n",
    "and so\n",
    "$$\\begin{split}\n",
    "p_{00} &= k p_{01}, \\\\\n",
    "p_{10} &= k p_{11}, \\\\\n",
    "\\end{split}$$\n",
    "from which we get\n",
    "$$\\begin{split}\n",
    "p_{0\\cdot} &= p_{00} + p_{01} = (k + 1) p_{01}, \\\\\n",
    "p_{1\\cdot} &= p_{10} + p_{11} = (k + 1) p_{11}, \\\\\n",
    "\\end{split}$$\n",
    "so\n",
    "$$p_{\\cdot 0} = p_{00} + p_{10} = k (p_{01} + p_{11}) = k p_{\\cdot 1}.$$\n",
    "Now\n",
    "$$\n",
    "1 = p_{\\cdot 0} + p_{\\cdot 1} = (k + 1) p_{\\cdot 1}, \\\\\n",
    "$$\n",
    "and therefore\n",
    "$$\\begin{split}\n",
    "p_{\\cdot 1} &= \\frac{1}{k + 1} \\\\\n",
    "p_{\\cdot 0} &= \\frac{k}{k + 1} \\\\\n",
    "\\end{split}$$\n",
    "Using the previously obtained equations, we get\n",
    "$$\\begin{split}\n",
    "p_{01} &= \\frac{p_{0\\cdot}}{k + 1} = p_{0 \\cdot} p_{\\cdot 1} \\\\\n",
    "p_{11} &= \\frac{p_{1\\cdot}}{k + 1} = p_{1\\cdot} p_{\\cdot 1} \\\\\n",
    "p_{00} &= k p_{01} = p_{0\\cdot}\\frac{k}{k + 1} = p_{0\\cdot} p_{\\cdot 0} \\\\\n",
    "p_{10} &= k p_{11} = p_{1\\cdot}\\frac{k}{k + 1} = p_{1\\cdot} p_{\\cdot 0} \\\\\n",
    "\\end{split}$$\n",
    "as required."
   ]
  },
  {
   "cell_type": "markdown",
   "id": "815ebb2d-4df8-478a-b7b1-e4671645f21a",
   "metadata": {},
   "source": [
    "## Exercise 2\n",
    "\n",
    "The likelihood is given by\n",
    "$$\\mathcal{L}(p) = {n \\choose {X_{00}\\; X_{01}\\; X_{10}\\; X_{11}}} p_{00}^{X_{00}} p_{01}^{X_{01}} p_{10}^{X_{10}} p_{11}^{X_{11}},$$\n",
    "so the log-likelihood is\n",
    "$$\\mathcal{l}(p) = \\log {n \\choose {X_{00}\\; X_{01}\\; X_{10}\\; X_{11}}} + X_{00} \\log p_{00} + X_{01} \\log p_{01} + X_{10} \\log p_{10} + X_{11} \\log p_{11}$$\n",
    "and the MLE estimates are\n",
    "$$\\hat{p}_{ij} = \\frac{X_{ij}}{n} = \\frac{X_{ij}}{X_{\\cdot\\cdot}}.$$\n",
    "The log-likelihood evaluated at the MLE is\n",
    "$$\\mathcal{l}(\\hat{p}) = \\log {n \\choose {X_{00}\\; X_{01}\\; X_{10}\\; X_{11}}} + \\sum_{i=0}^1 \\sum_{j=0}^1 X_{ij} \\log \\frac{X_{ij}}{X_{\\cdot\\cdot}}.$$\n",
    "\n",
    "Under the independence model $p_{ij} = p_{i\\cdot} p_{\\cdot j}$, so\n",
    "$$\\mathcal{L}_0(p) \n",
    "= {n \\choose {X_{00}\\; X_{01}\\; X_{10}\\; X_{11}}} (p_{0\\cdot} p_{\\cdot 0})^{X_{00}} (p_{0\\cdot} p_{\\cdot 1})^{X_{01}} (p_{1\\cdot} p_{\\cdot 0})^{X_{10}} (p_{1\\cdot} p_{\\cdot 1})^{X_{11}}\n",
    "= {n \\choose {X_{00}\\; X_{01}\\; X_{10}\\; X_{11}}} p_{0\\cdot}^{X_{00} + X_{01}} p_{1 \\cdot}^{X_{10} + X_{11}} p_{\\cdot 0}^{X_{00} + X_{10}} p_{\\cdot 1}^{X_{01} + X_{11}}\n",
    "= {n \\choose {X_{00}\\; X_{01}\\; X_{10}\\; X_{11}}} p_{0\\cdot}^{X_{0\\cdot}} p_{1 \\cdot}^{X_{1\\cdot}} p_{\\cdot 0}^{X_{\\cdot 0}} p_{\\cdot 1}^{X_{\\cdot 1}},$$\n",
    "so the log-likelihood is\n",
    "$$\\mathcal{l}_0(p) = \\log {n \\choose {X_{00}\\; X_{01}\\; X_{10}\\; X_{11}}} + X_{0\\cdot} \\log p_{0\\cdot} + X_{1\\cdot} \\log p_{1\\cdot} + X_{\\cdot 0} \\log p_{\\cdot 0} + X_{\\cdot 1} \\log p_{\\cdot 1},$$\n",
    "and the MLE estimates\n",
    "$$\\begin{split}\n",
    "\\tilde{p}_{i\\cdot} &= \\frac{X_{i\\cdot}}{n} = \\frac{X_{i\\cdot}}{X_{\\cdot\\cdot}} \\\\\n",
    "\\tilde{p}_{\\cdot i} &= \\frac{X_{\\cdot i}}{n} = \\frac{X_{\\cdot i}}{X_{\\cdot\\cdot}} \\\\\n",
    "\\end{split}$$\n",
    "The log-likelihood evaluated at the MLE is\n",
    "$$\\begin{split}\n",
    "\\mathcal{l}_0(\\tilde{p}) \n",
    "&= \\log {n \\choose {X_{00}\\; X_{01}\\; X_{10}\\; X_{11}}} + (X_{00} + X_{01}) \\log \\tilde{p}_{0\\cdot} + (X_{10} + X_{11}) \\log \\tilde{p}_{1\\cdot} + (X_{00} + X_{10}) \\log \\tilde{p}_{\\cdot 0} + (X_{01} + X_{11}) \\log \\tilde{p}_{\\cdot 1} \\\\\n",
    "&= \\log {n \\choose {X_{00}\\; X_{01}\\; X_{10}\\; X_{11}}} + X_{00} \\log (\\tilde{p}_{0\\cdot} \\tilde{p}_{\\cdot 0}) + X_{01} \\log (\\tilde{p}_{0\\cdot} \\tilde{p}_{\\cdot 1}) + X_{10} \\log (\\tilde{p}_{1\\cdot} \\tilde{p}_{\\cdot 0}) + X_{11} \\log (\\tilde{p}_{1\\cdot} \\tilde{p}_{\\cdot 1}) \\\\\n",
    "&= \\log {n \\choose {X_{00}\\; X_{01}\\; X_{10}\\; X_{11}}} + \\sum_{i=0}^1 \\sum_{j=0}^1 X_{ij} \\log \\frac{X_{i \\cdot} X_{\\cdot j}}{X_{\\cdot\\cdot}^2}\n",
    "\\end{split}$$\n",
    "\n",
    "Then by Definition 10.21, the likelihood ratio test statistic is\n",
    "$$T = 2 (\\mathcal{l}(\\hat{p}) - \\mathcal{l}_0(\\tilde{p})) = \\sum_{i=0}^1 \\sum_{j=0}^1 X_{ij} \\log \\frac{X_{ij} X_{\\cdot\\cdot}}{X_{i \\cdot} X_{\\cdot j}}.$$\n",
    "\n",
    "The constraint $\\psi = 1$ removes one degree of freedom, so by Theorem 10.22, under $H_0$, $T \\rightsquigarrow \\chi_1^2$."
   ]
  },
  {
   "cell_type": "markdown",
   "id": "04930f83-ccb9-4229-b90e-c05292676189",
   "metadata": {},
   "source": [
    "## Exercise 3\n",
    "\n",
    "We have\n",
    "$$\\gamma = \\log \\psi = \\log p_{00} + \\log p_{11} - \\log p_{01} - \\log p_{10}.$$\n",
    "Note that $p_{00} + p_{01} + p_{10} + p_{11} = 1$, so we can set \n",
    "$$p_{11} = 1 - p_{00} - p_{01} - p_{10}.$$\n",
    "Then\n",
    "$$\\gamma = \\log p_{00} + \\log (1 - p_{00} - p_{01} - p_{10}) - \\log p_{01} - \\log p_{10}$$\n",
    "and\n",
    "$$\\begin{split}\n",
    "\\frac{\\partial \\gamma}{\\partial p_{00}} &= \\frac{1}{p_{00}} - \\frac{1}{p_{11}} \\\\\n",
    "\\frac{\\partial \\gamma}{\\partial p_{01}} &= -\\frac{1}{p_{01}} - \\frac{1}{p_{11}} \\\\\n",
    "\\frac{\\partial \\gamma}{\\partial p_{10}} &= -\\frac{1}{p_{10}} - \\frac{1}{p_{11}} \\\\\n",
    "\\end{split}$$\n",
    "\n",
    "By Theorem 14.6,\n",
    "$$\\sqrt{n} (\\hat{p} - p) \\rightsquigarrow N(0, \\Sigma),$$\n",
    "where\n",
    "$$\\Sigma = \\begin{pmatrix}\n",
    "p_{00}(1 - p_{00}) & -p_{00} p_{01}     & -p_{00} p_{10}     \\\\\n",
    "-p_{00} p_{01}     & p_{01}(1 - p_{01}) & -p_{01} p_{10}     \\\\\n",
    "-p_{00} p_{10}     & -p_{01} p_{10}     & p_{10}(1 - p_{10}) \\\\\n",
    "\\end{pmatrix}$$\n",
    "\n",
    "Then\n",
    "$$\\begin{split}\n",
    "((\\nabla \\gamma)^T \\Sigma)_1 \n",
    "&= \\left( \\frac{1}{p_{00}} - \\frac{1}{p_{11}} \\right) p_{00}(1 - p_{00}) + \\left( -\\frac{1}{p_{01}} - \\frac{1}{p_{11}} \\right) (-p_{00} p_{01}) + \\left( -\\frac{1}{p_{10}} - \\frac{1}{p_{11}} \\right) (-p_{00} p_{10}) \\\\\n",
    "&= 1 - p_{00} - \\frac{p_{00}(1 - p_{00})}{p_{11}} + p_{00} + \\frac{p_{00} p_{01}}{p_{11}} + p_{00} - \\frac{p_{00} p_{10}}{p_{11}} \\\\\n",
    "&= 1 + p_{00} - \\frac{p_{00}(1 - p_{00} - p_{01} - p_{10})}{p_{11}} \\\\\n",
    "&= 1 + p_{00} - \\frac{p_{00}p_{11}}{p_{11}} \\\\\n",
    "&= 1, \\\\\n",
    "((\\nabla \\gamma)^T \\Sigma)_2\n",
    "&= \\left( \\frac{1}{p_{00}} - \\frac{1}{p_{11}} \\right) (-p_{00} p_{01}) + \\left( -\\frac{1}{p_{01}} - \\frac{1}{p_{11}} \\right) p_{01}(1 - p_{01}) + \\left( -\\frac{1}{p_{10}} - \\frac{1}{p_{11}} \\right) (-p_{01} p_{10}) \\\\\n",
    "&= -p_{01} + \\frac{p_{00} p_{01}}{p_{11}} - (1 - p_{01}) - \\frac{p_{01}(1 - p_{01})}{p_{11}} + p_{01} + \\frac{p_{01} p_{10}}{p_{11}} \\\\\n",
    "&= p_{01} - 1 + \\frac{p_{01}(p_{00} + p_{01} + p_{10} - 1)}{p_{11}} \\\\\n",
    "&= p_{01} - 1 - \\frac{p_{01}p_{11}}{p_{11}} \\\\\n",
    "&= -1, \\\\\n",
    "((\\nabla \\gamma)^T \\Sigma)_3\n",
    "&= \\left( \\frac{1}{p_{00}} - \\frac{1}{p_{11}} \\right) (-p_{00} p_{10}) + \\left( -\\frac{1}{p_{01}} - \\frac{1}{p_{11}} \\right) (-p_{01} p_{10}) + \\left( -\\frac{1}{p_{10}} - \\frac{1}{p_{11}} \\right) p_{10}(1 - p_{10}) \\\\\n",
    "&= -p_{10} + \\frac{p_{00} p_{10}}{p_{11}}  + p_{10} + \\frac{p_{01} p_{10}}{p_{11}} - (1 - p_{10}) - \\frac{p_{10}(1 - p_{10})}{p_{11}} \\\\\n",
    "&= p_{10} - 1 + \\frac{p_{10}(p_{00} + p_{01} + p_{10} - 1)}{p_{11}} \\\\\n",
    "&= p_{10} - 1 - \\frac{p_{10}p_{11}}{p_{11}} \\\\\n",
    "&= -1,\n",
    "\\end{split}$$\n",
    "so\n",
    "$$\\begin{split}\n",
    "(\\nabla \\gamma)^T \\Sigma  \\nabla \\gamma\n",
    "&= \\begin{pmatrix} 1 & -1 & -1 \\end{pmatrix} \\begin{pmatrix} \\frac{1}{p_{00}} - \\frac{1}{p_{11}} \\\\ -\\frac{1}{p_{01}} - \\frac{1}{p_{11}} \\\\ -\\frac{1}{p_{10}} - \\frac{1}{p_{11}} \\end{pmatrix} \\\\\n",
    "&= \\frac{1}{p_{00}} - \\frac{1}{p_{11}}  + \\frac{1}{p_{01}} + \\frac{1}{p_{11}} + \\frac{1}{p_{10}} + \\frac{1}{p_{11}} \\\\\n",
    "&= \\frac{1}{p_{00}} + \\frac{1}{p_{01}} + \\frac{1}{p_{10}} + \\frac{1}{p_{11}}. \\\\\n",
    "\\end{split}$$"
   ]
  },
  {
   "cell_type": "markdown",
   "id": "baf7a719-1bb0-49c4-8dab-73b9306bc5f8",
   "metadata": {},
   "source": [
    "By Theorem 9.28 (multiparameter delta method), we have\n",
    "$$\\widehat{\\text{se}}(\\hat{\\gamma})^2 = (\\nabla \\gamma)^T \\Sigma  \\nabla \\gamma = \\frac{1}{p_{00}} + \\frac{1}{p_{01}} + \\frac{1}{p_{10}} + \\frac{1}{p_{11}}.$$\n",
    "\n",
    "Since $\\psi = e^\\gamma$, we have $\\nabla \\psi = e^\\gamma = \\psi$, so using Theorem 9.28 again,\n",
    "$$\\widehat{\\text{se}}(\\hat{\\psi})^2 = (\\nabla \\psi)^T \\widehat{\\text{se}}(\\hat{\\gamma})^2 \\nabla \\psi = \\psi^2 \\widehat{\\text{se}}(\\hat{\\gamma})^2.$$"
   ]
  },
  {
   "cell_type": "markdown",
   "id": "774d37e8-652a-44f7-a40e-3bc65a5b3eba",
   "metadata": {},
   "source": [
    "## Exercise 4"
   ]
  },
  {
   "cell_type": "code",
   "execution_count": 1,
   "id": "268d06ea-00a5-463e-983e-a3f2de6a6a90",
   "metadata": {},
   "outputs": [],
   "source": [
    "import numpy as np\n",
    "import scipy.stats as stats"
   ]
  },
  {
   "cell_type": "code",
   "execution_count": 2,
   "id": "ec40d8b1-45ed-4b9e-b8bd-003d6bd231d0",
   "metadata": {},
   "outputs": [],
   "source": [
    "X = np.array([\n",
    "    [14, 641],\n",
    "    [62, 594],\n",
    "])"
   ]
  },
  {
   "cell_type": "markdown",
   "id": "9d385f5d-7cf4-4da9-9a46-c13544de3e6d",
   "metadata": {},
   "source": [
    "#### The likelihood ratio test"
   ]
  },
  {
   "cell_type": "markdown",
   "id": "7c13443b-e641-4f31-bcb4-cf39ea2c4490",
   "metadata": {},
   "source": [
    "The test statistic:"
   ]
  },
  {
   "cell_type": "code",
   "execution_count": 3,
   "id": "31a77254-1ecc-4f61-8645-5b8ebdfa926c",
   "metadata": {},
   "outputs": [],
   "source": [
    "def likelihood_statistic(X):\n",
    "    return 2 * np.sum(X * np.log(X * np.sum(X) / np.sum(X, axis=1).reshape(-1, 1) / np.sum(X, axis=0)))"
   ]
  },
  {
   "cell_type": "code",
   "execution_count": 4,
   "id": "806938d7-e80e-44e6-b0dc-e39a407cf9e9",
   "metadata": {},
   "outputs": [
    {
     "data": {
      "text/plain": [
       "np.float64(34.5335058946819)"
      ]
     },
     "execution_count": 4,
     "metadata": {},
     "output_type": "execute_result"
    }
   ],
   "source": [
    "T = likelihood_statistic(X)\n",
    "T"
   ]
  },
  {
   "cell_type": "markdown",
   "id": "5a25fc60-90c7-47e4-bf08-6964f7476cee",
   "metadata": {},
   "source": [
    "The p-value:"
   ]
  },
  {
   "cell_type": "code",
   "execution_count": 5,
   "id": "97099af2-a0dd-44c0-b71d-0f553fd1c0b1",
   "metadata": {},
   "outputs": [
    {
     "data": {
      "text/plain": [
       "np.float64(4.189768076417254e-09)"
      ]
     },
     "execution_count": 5,
     "metadata": {},
     "output_type": "execute_result"
    }
   ],
   "source": [
    "stats.chi2.sf(T, df=1)"
   ]
  },
  {
   "cell_type": "markdown",
   "id": "be94ec10-fe86-44ae-923c-cdb7c30848e3",
   "metadata": {},
   "source": [
    "We strongly reject the null hypothesis of independence."
   ]
  },
  {
   "cell_type": "markdown",
   "id": "75ee9d6d-066f-497b-8327-d62c30fc45de",
   "metadata": {},
   "source": [
    "#### The Pearson's $\\chi^2$ test"
   ]
  },
  {
   "cell_type": "markdown",
   "id": "08ebaa40-b840-4869-a6d0-6c854915539d",
   "metadata": {},
   "source": [
    "The test statistic:"
   ]
  },
  {
   "cell_type": "code",
   "execution_count": 6,
   "id": "b150594b-2d8a-4279-97d5-2b05841bda90",
   "metadata": {},
   "outputs": [],
   "source": [
    "def pearson_statistic(X):\n",
    "    E = np.sum(X, axis=1).reshape(-1, 1) * np.sum(X, axis=0) / np.sum(X)\n",
    "    return np.sum((X - E) ** 2 / E)"
   ]
  },
  {
   "cell_type": "code",
   "execution_count": 7,
   "id": "0db362d5-1250-4d58-9a68-85c05b0894b2",
   "metadata": {},
   "outputs": [
    {
     "data": {
      "text/plain": [
       "np.float64(32.10370934362603)"
      ]
     },
     "execution_count": 7,
     "metadata": {},
     "output_type": "execute_result"
    }
   ],
   "source": [
    "U = pearson_statistic(X)\n",
    "U"
   ]
  },
  {
   "cell_type": "markdown",
   "id": "32060d67-9048-4f2d-8097-ef0431dce38b",
   "metadata": {},
   "source": [
    "The p-value:"
   ]
  },
  {
   "cell_type": "code",
   "execution_count": 8,
   "id": "e0e71ad2-551e-4912-853a-7f77fad62780",
   "metadata": {},
   "outputs": [
    {
     "data": {
      "text/plain": [
       "np.float64(1.461579874549676e-08)"
      ]
     },
     "execution_count": 8,
     "metadata": {},
     "output_type": "execute_result"
    }
   ],
   "source": [
    "stats.chi2.sf(U, df=1)"
   ]
  },
  {
   "cell_type": "markdown",
   "id": "0a3c132d-9a1a-4bea-b69d-8151f0d931d4",
   "metadata": {},
   "source": [
    "We strongly reject the null hypothesis of independence."
   ]
  },
  {
   "cell_type": "markdown",
   "id": "6c744e7d-727f-44dd-9ef4-6921d484548c",
   "metadata": {},
   "source": [
    "## Exercise 5"
   ]
  },
  {
   "cell_type": "code",
   "execution_count": 9,
   "id": "54622a8c-3986-4d7a-8dc2-2841e627f4de",
   "metadata": {},
   "outputs": [],
   "source": [
    "import pandas as pd"
   ]
  },
  {
   "cell_type": "code",
   "execution_count": 10,
   "id": "cf345f6d-b2e9-4930-a7f9-05c17d291e0e",
   "metadata": {},
   "outputs": [
    {
     "data": {
      "text/html": [
       "<div>\n",
       "<style scoped>\n",
       "    .dataframe tbody tr th:only-of-type {\n",
       "        vertical-align: middle;\n",
       "    }\n",
       "\n",
       "    .dataframe tbody tr th {\n",
       "        vertical-align: top;\n",
       "    }\n",
       "\n",
       "    .dataframe thead th {\n",
       "        text-align: right;\n",
       "    }\n",
       "</style>\n",
       "<table border=\"1\" class=\"dataframe\">\n",
       "  <thead>\n",
       "    <tr style=\"text-align: right;\">\n",
       "      <th></th>\n",
       "      <th>AGE</th>\n",
       "      <th>SEX</th>\n",
       "      <th>INC</th>\n",
       "      <th>POL</th>\n",
       "      <th>AREA</th>\n",
       "      <th>FIN</th>\n",
       "      <th>STAT</th>\n",
       "    </tr>\n",
       "  </thead>\n",
       "  <tbody>\n",
       "    <tr>\n",
       "      <th>0</th>\n",
       "      <td>3.0</td>\n",
       "      <td>0</td>\n",
       "      <td>2.0</td>\n",
       "      <td>2.0</td>\n",
       "      <td>1</td>\n",
       "      <td>2.0</td>\n",
       "      <td>1.0</td>\n",
       "    </tr>\n",
       "    <tr>\n",
       "      <th>1</th>\n",
       "      <td>2.0</td>\n",
       "      <td>0</td>\n",
       "      <td>3.0</td>\n",
       "      <td>3.0</td>\n",
       "      <td>1</td>\n",
       "      <td>3.0</td>\n",
       "      <td>1.0</td>\n",
       "    </tr>\n",
       "    <tr>\n",
       "      <th>2</th>\n",
       "      <td>1.0</td>\n",
       "      <td>0</td>\n",
       "      <td>2.0</td>\n",
       "      <td>NaN</td>\n",
       "      <td>1</td>\n",
       "      <td>2.0</td>\n",
       "      <td>1.0</td>\n",
       "    </tr>\n",
       "    <tr>\n",
       "      <th>3</th>\n",
       "      <td>3.0</td>\n",
       "      <td>1</td>\n",
       "      <td>2.0</td>\n",
       "      <td>1.0</td>\n",
       "      <td>1</td>\n",
       "      <td>1.0</td>\n",
       "      <td>0.0</td>\n",
       "    </tr>\n",
       "    <tr>\n",
       "      <th>4</th>\n",
       "      <td>3.0</td>\n",
       "      <td>1</td>\n",
       "      <td>3.0</td>\n",
       "      <td>3.0</td>\n",
       "      <td>3</td>\n",
       "      <td>2.0</td>\n",
       "      <td>NaN</td>\n",
       "    </tr>\n",
       "    <tr>\n",
       "      <th>...</th>\n",
       "      <td>...</td>\n",
       "      <td>...</td>\n",
       "      <td>...</td>\n",
       "      <td>...</td>\n",
       "      <td>...</td>\n",
       "      <td>...</td>\n",
       "      <td>...</td>\n",
       "    </tr>\n",
       "    <tr>\n",
       "      <th>204</th>\n",
       "      <td>1.0</td>\n",
       "      <td>0</td>\n",
       "      <td>3.0</td>\n",
       "      <td>3.0</td>\n",
       "      <td>2</td>\n",
       "      <td>NaN</td>\n",
       "      <td>1.0</td>\n",
       "    </tr>\n",
       "    <tr>\n",
       "      <th>205</th>\n",
       "      <td>1.0</td>\n",
       "      <td>1</td>\n",
       "      <td>2.0</td>\n",
       "      <td>3.0</td>\n",
       "      <td>3</td>\n",
       "      <td>3.0</td>\n",
       "      <td>1.0</td>\n",
       "    </tr>\n",
       "    <tr>\n",
       "      <th>206</th>\n",
       "      <td>3.0</td>\n",
       "      <td>1</td>\n",
       "      <td>1.0</td>\n",
       "      <td>3.0</td>\n",
       "      <td>2</td>\n",
       "      <td>2.0</td>\n",
       "      <td>0.0</td>\n",
       "    </tr>\n",
       "    <tr>\n",
       "      <th>207</th>\n",
       "      <td>3.0</td>\n",
       "      <td>0</td>\n",
       "      <td>3.0</td>\n",
       "      <td>3.0</td>\n",
       "      <td>3</td>\n",
       "      <td>1.0</td>\n",
       "      <td>1.0</td>\n",
       "    </tr>\n",
       "    <tr>\n",
       "      <th>208</th>\n",
       "      <td>2.0</td>\n",
       "      <td>0</td>\n",
       "      <td>3.0</td>\n",
       "      <td>3.0</td>\n",
       "      <td>2</td>\n",
       "      <td>2.0</td>\n",
       "      <td>0.0</td>\n",
       "    </tr>\n",
       "  </tbody>\n",
       "</table>\n",
       "<p>209 rows × 7 columns</p>\n",
       "</div>"
      ],
      "text/plain": [
       "     AGE  SEX  INC  POL  AREA  FIN  STAT\n",
       "0    3.0    0  2.0  2.0     1  2.0   1.0\n",
       "1    2.0    0  3.0  3.0     1  3.0   1.0\n",
       "2    1.0    0  2.0  NaN     1  2.0   1.0\n",
       "3    3.0    1  2.0  1.0     1  1.0   0.0\n",
       "4    3.0    1  3.0  3.0     3  2.0   NaN\n",
       "..   ...  ...  ...  ...   ...  ...   ...\n",
       "204  1.0    0  3.0  3.0     2  NaN   1.0\n",
       "205  1.0    1  2.0  3.0     3  3.0   1.0\n",
       "206  3.0    1  1.0  3.0     2  2.0   0.0\n",
       "207  3.0    0  3.0  3.0     3  1.0   1.0\n",
       "208  2.0    0  3.0  3.0     2  2.0   0.0\n",
       "\n",
       "[209 rows x 7 columns]"
      ]
     },
     "execution_count": 10,
     "metadata": {},
     "output_type": "execute_result"
    }
   ],
   "source": [
    "data = pd.read_csv('montana.txt', sep='\\t', na_values='*')\n",
    "data"
   ]
  },
  {
   "cell_type": "code",
   "execution_count": 11,
   "id": "36e47dbc-358e-4edc-973c-81dc700b7cb2",
   "metadata": {},
   "outputs": [
    {
     "data": {
      "text/html": [
       "<div>\n",
       "<style scoped>\n",
       "    .dataframe tbody tr th:only-of-type {\n",
       "        vertical-align: middle;\n",
       "    }\n",
       "\n",
       "    .dataframe tbody tr th {\n",
       "        vertical-align: top;\n",
       "    }\n",
       "\n",
       "    .dataframe thead th {\n",
       "        text-align: right;\n",
       "    }\n",
       "</style>\n",
       "<table border=\"1\" class=\"dataframe\">\n",
       "  <thead>\n",
       "    <tr style=\"text-align: right;\">\n",
       "      <th></th>\n",
       "      <th>AGE</th>\n",
       "      <th>SEX</th>\n",
       "      <th>INC</th>\n",
       "      <th>POL</th>\n",
       "      <th>AREA</th>\n",
       "      <th>FIN</th>\n",
       "      <th>STAT</th>\n",
       "    </tr>\n",
       "  </thead>\n",
       "  <tbody>\n",
       "    <tr>\n",
       "      <th>89</th>\n",
       "      <td>NaN</td>\n",
       "      <td>1</td>\n",
       "      <td>1.0</td>\n",
       "      <td>1.0</td>\n",
       "      <td>1</td>\n",
       "      <td>1.0</td>\n",
       "      <td>0.0</td>\n",
       "    </tr>\n",
       "  </tbody>\n",
       "</table>\n",
       "</div>"
      ],
      "text/plain": [
       "    AGE  SEX  INC  POL  AREA  FIN  STAT\n",
       "89  NaN    1  1.0  1.0     1  1.0   0.0"
      ]
     },
     "execution_count": 11,
     "metadata": {},
     "output_type": "execute_result"
    }
   ],
   "source": [
    "data[data['AGE'].isna()]"
   ]
  },
  {
   "cell_type": "code",
   "execution_count": 12,
   "id": "896eddb0-f0ca-4c18-bf50-f33f966e9d97",
   "metadata": {},
   "outputs": [
    {
     "data": {
      "text/html": [
       "<div>\n",
       "<style scoped>\n",
       "    .dataframe tbody tr th:only-of-type {\n",
       "        vertical-align: middle;\n",
       "    }\n",
       "\n",
       "    .dataframe tbody tr th {\n",
       "        vertical-align: top;\n",
       "    }\n",
       "\n",
       "    .dataframe thead th {\n",
       "        text-align: right;\n",
       "    }\n",
       "</style>\n",
       "<table border=\"1\" class=\"dataframe\">\n",
       "  <thead>\n",
       "    <tr style=\"text-align: right;\">\n",
       "      <th></th>\n",
       "      <th>AGE</th>\n",
       "      <th>SEX</th>\n",
       "      <th>INC</th>\n",
       "      <th>POL</th>\n",
       "      <th>AREA</th>\n",
       "      <th>FIN</th>\n",
       "      <th>STAT</th>\n",
       "    </tr>\n",
       "  </thead>\n",
       "  <tbody>\n",
       "    <tr>\n",
       "      <th>204</th>\n",
       "      <td>1.0</td>\n",
       "      <td>0</td>\n",
       "      <td>3.0</td>\n",
       "      <td>3.0</td>\n",
       "      <td>2</td>\n",
       "      <td>NaN</td>\n",
       "      <td>1.0</td>\n",
       "    </tr>\n",
       "  </tbody>\n",
       "</table>\n",
       "</div>"
      ],
      "text/plain": [
       "     AGE  SEX  INC  POL  AREA  FIN  STAT\n",
       "204  1.0    0  3.0  3.0     2  NaN   1.0"
      ]
     },
     "execution_count": 12,
     "metadata": {},
     "output_type": "execute_result"
    }
   ],
   "source": [
    "data[data['FIN'].isna()]"
   ]
  },
  {
   "cell_type": "code",
   "execution_count": 13,
   "id": "db57afe5-41e2-4fbb-a9c8-b98cdefa7faf",
   "metadata": {},
   "outputs": [
    {
     "data": {
      "text/html": [
       "<div>\n",
       "<style scoped>\n",
       "    .dataframe tbody tr th:only-of-type {\n",
       "        vertical-align: middle;\n",
       "    }\n",
       "\n",
       "    .dataframe tbody tr th {\n",
       "        vertical-align: top;\n",
       "    }\n",
       "\n",
       "    .dataframe thead th {\n",
       "        text-align: right;\n",
       "    }\n",
       "</style>\n",
       "<table border=\"1\" class=\"dataframe\">\n",
       "  <thead>\n",
       "    <tr style=\"text-align: right;\">\n",
       "      <th></th>\n",
       "      <th>AGE</th>\n",
       "      <th>FIN</th>\n",
       "    </tr>\n",
       "  </thead>\n",
       "  <tbody>\n",
       "    <tr>\n",
       "      <th>0</th>\n",
       "      <td>3</td>\n",
       "      <td>2</td>\n",
       "    </tr>\n",
       "    <tr>\n",
       "      <th>1</th>\n",
       "      <td>2</td>\n",
       "      <td>3</td>\n",
       "    </tr>\n",
       "    <tr>\n",
       "      <th>2</th>\n",
       "      <td>1</td>\n",
       "      <td>2</td>\n",
       "    </tr>\n",
       "    <tr>\n",
       "      <th>3</th>\n",
       "      <td>3</td>\n",
       "      <td>1</td>\n",
       "    </tr>\n",
       "    <tr>\n",
       "      <th>4</th>\n",
       "      <td>3</td>\n",
       "      <td>2</td>\n",
       "    </tr>\n",
       "    <tr>\n",
       "      <th>...</th>\n",
       "      <td>...</td>\n",
       "      <td>...</td>\n",
       "    </tr>\n",
       "    <tr>\n",
       "      <th>203</th>\n",
       "      <td>1</td>\n",
       "      <td>3</td>\n",
       "    </tr>\n",
       "    <tr>\n",
       "      <th>205</th>\n",
       "      <td>1</td>\n",
       "      <td>3</td>\n",
       "    </tr>\n",
       "    <tr>\n",
       "      <th>206</th>\n",
       "      <td>3</td>\n",
       "      <td>2</td>\n",
       "    </tr>\n",
       "    <tr>\n",
       "      <th>207</th>\n",
       "      <td>3</td>\n",
       "      <td>1</td>\n",
       "    </tr>\n",
       "    <tr>\n",
       "      <th>208</th>\n",
       "      <td>2</td>\n",
       "      <td>2</td>\n",
       "    </tr>\n",
       "  </tbody>\n",
       "</table>\n",
       "<p>207 rows × 2 columns</p>\n",
       "</div>"
      ],
      "text/plain": [
       "     AGE  FIN\n",
       "0      3    2\n",
       "1      2    3\n",
       "2      1    2\n",
       "3      3    1\n",
       "4      3    2\n",
       "..   ...  ...\n",
       "203    1    3\n",
       "205    1    3\n",
       "206    3    2\n",
       "207    3    1\n",
       "208    2    2\n",
       "\n",
       "[207 rows x 2 columns]"
      ]
     },
     "execution_count": 13,
     "metadata": {},
     "output_type": "execute_result"
    }
   ],
   "source": [
    "data_filtered = data[(~data['AGE'].isna()) & (~data['FIN'].isna())][['AGE', 'FIN']].astype(int)\n",
    "data_filtered"
   ]
  },
  {
   "cell_type": "code",
   "execution_count": 14,
   "id": "bdf5a5be-94ea-4939-9379-a22c12f187e4",
   "metadata": {},
   "outputs": [
    {
     "data": {
      "text/html": [
       "<div>\n",
       "<style scoped>\n",
       "    .dataframe tbody tr th:only-of-type {\n",
       "        vertical-align: middle;\n",
       "    }\n",
       "\n",
       "    .dataframe tbody tr th {\n",
       "        vertical-align: top;\n",
       "    }\n",
       "\n",
       "    .dataframe thead tr th {\n",
       "        text-align: left;\n",
       "    }\n",
       "\n",
       "    .dataframe thead tr:last-of-type th {\n",
       "        text-align: right;\n",
       "    }\n",
       "</style>\n",
       "<table border=\"1\" class=\"dataframe\">\n",
       "  <thead>\n",
       "    <tr>\n",
       "      <th></th>\n",
       "      <th colspan=\"3\" halign=\"left\">count</th>\n",
       "    </tr>\n",
       "    <tr>\n",
       "      <th>FIN</th>\n",
       "      <th>1</th>\n",
       "      <th>2</th>\n",
       "      <th>3</th>\n",
       "    </tr>\n",
       "    <tr>\n",
       "      <th>AGE</th>\n",
       "      <th></th>\n",
       "      <th></th>\n",
       "      <th></th>\n",
       "    </tr>\n",
       "  </thead>\n",
       "  <tbody>\n",
       "    <tr>\n",
       "      <th>1</th>\n",
       "      <td>21</td>\n",
       "      <td>16</td>\n",
       "      <td>34</td>\n",
       "    </tr>\n",
       "    <tr>\n",
       "      <th>2</th>\n",
       "      <td>17</td>\n",
       "      <td>23</td>\n",
       "      <td>26</td>\n",
       "    </tr>\n",
       "    <tr>\n",
       "      <th>3</th>\n",
       "      <td>22</td>\n",
       "      <td>37</td>\n",
       "      <td>11</td>\n",
       "    </tr>\n",
       "  </tbody>\n",
       "</table>\n",
       "</div>"
      ],
      "text/plain": [
       "    count        \n",
       "FIN     1   2   3\n",
       "AGE              \n",
       "1      21  16  34\n",
       "2      17  23  26\n",
       "3      22  37  11"
      ]
     },
     "execution_count": 14,
     "metadata": {},
     "output_type": "execute_result"
    }
   ],
   "source": [
    "counts = data_filtered.value_counts().sort_index().to_frame().unstack()\n",
    "counts"
   ]
  },
  {
   "cell_type": "markdown",
   "id": "314801ef-8267-45fc-af79-2cb22e1ca6be",
   "metadata": {},
   "source": [
    "The likelihood ratio test statistic:"
   ]
  },
  {
   "cell_type": "code",
   "execution_count": 15,
   "id": "8a4be128-ee81-4eb9-b99f-20dcbe8cc9b7",
   "metadata": {},
   "outputs": [
    {
     "data": {
      "text/plain": [
       "np.float64(22.063714570284077)"
      ]
     },
     "execution_count": 15,
     "metadata": {},
     "output_type": "execute_result"
    }
   ],
   "source": [
    "T = likelihood_statistic(counts.values)\n",
    "T"
   ]
  },
  {
   "cell_type": "markdown",
   "id": "fe8bc30f-97f1-4166-ace6-b2f273458c24",
   "metadata": {},
   "source": [
    "The p-value:"
   ]
  },
  {
   "cell_type": "code",
   "execution_count": 16,
   "id": "039b1ff7-4eaf-4052-a149-c9306d7add4d",
   "metadata": {},
   "outputs": [
    {
     "data": {
      "text/plain": [
       "np.float64(0.0001946515775722613)"
      ]
     },
     "execution_count": 16,
     "metadata": {},
     "output_type": "execute_result"
    }
   ],
   "source": [
    "stats.chi2.sf(T, df=(counts.shape[0] - 1) * (counts.shape[1] - 1))"
   ]
  },
  {
   "cell_type": "markdown",
   "id": "d8fa2fdf-8c73-47dc-9d46-9f81548c1db2",
   "metadata": {},
   "source": [
    "The Pearson's test statistic:"
   ]
  },
  {
   "cell_type": "code",
   "execution_count": 17,
   "id": "22bea66a-1b0f-4fa7-880a-a890da200cbd",
   "metadata": {},
   "outputs": [
    {
     "data": {
      "text/plain": [
       "np.float64(20.67931434486018)"
      ]
     },
     "execution_count": 17,
     "metadata": {},
     "output_type": "execute_result"
    }
   ],
   "source": [
    "U = pearson_statistic(counts.values)\n",
    "U"
   ]
  },
  {
   "cell_type": "markdown",
   "id": "32dea8fe-6843-4c12-b8f5-2daad3071d72",
   "metadata": {},
   "source": [
    "The p-value:"
   ]
  },
  {
   "cell_type": "code",
   "execution_count": 18,
   "id": "df89b93d-a210-4a83-88b9-3467aac8e0ef",
   "metadata": {},
   "outputs": [
    {
     "data": {
      "text/plain": [
       "np.float64(0.0003665589857165083)"
      ]
     },
     "execution_count": 18,
     "metadata": {},
     "output_type": "execute_result"
    }
   ],
   "source": [
    "stats.chi2.sf(U, df=(counts.shape[0] - 1) * (counts.shape[1] - 1))"
   ]
  },
  {
   "cell_type": "markdown",
   "id": "5d17e795-f125-40c9-92e1-76a6e26e8c9a",
   "metadata": {},
   "source": [
    "Both test strongly reject the null hypothesis of independence."
   ]
  },
  {
   "cell_type": "markdown",
   "id": "21443f6b-5523-47dd-9e4d-4cd61cb8e43e",
   "metadata": {},
   "source": [
    "## Exercise 6"
   ]
  },
  {
   "cell_type": "code",
   "execution_count": 19,
   "id": "72dec0ec-980a-49a6-8dc5-4dfcf9a29152",
   "metadata": {},
   "outputs": [
    {
     "data": {
      "text/html": [
       "<div>\n",
       "<style scoped>\n",
       "    .dataframe tbody tr th:only-of-type {\n",
       "        vertical-align: middle;\n",
       "    }\n",
       "\n",
       "    .dataframe tbody tr th {\n",
       "        vertical-align: top;\n",
       "    }\n",
       "\n",
       "    .dataframe thead th {\n",
       "        text-align: right;\n",
       "    }\n",
       "</style>\n",
       "<table border=\"1\" class=\"dataframe\">\n",
       "  <thead>\n",
       "    <tr style=\"text-align: right;\">\n",
       "      <th></th>\n",
       "      <th>City</th>\n",
       "      <th>JanTemp</th>\n",
       "      <th>Lat</th>\n",
       "      <th>Long</th>\n",
       "    </tr>\n",
       "  </thead>\n",
       "  <tbody>\n",
       "    <tr>\n",
       "      <th>0</th>\n",
       "      <td>Mobile, AL</td>\n",
       "      <td>44</td>\n",
       "      <td>31.2</td>\n",
       "      <td>88.5</td>\n",
       "    </tr>\n",
       "    <tr>\n",
       "      <th>1</th>\n",
       "      <td>Montgomery, AL</td>\n",
       "      <td>38</td>\n",
       "      <td>32.9</td>\n",
       "      <td>86.8</td>\n",
       "    </tr>\n",
       "    <tr>\n",
       "      <th>2</th>\n",
       "      <td>Phoenix, AZ</td>\n",
       "      <td>35</td>\n",
       "      <td>33.6</td>\n",
       "      <td>112.5</td>\n",
       "    </tr>\n",
       "    <tr>\n",
       "      <th>3</th>\n",
       "      <td>Little Rock, AR</td>\n",
       "      <td>31</td>\n",
       "      <td>35.4</td>\n",
       "      <td>92.8</td>\n",
       "    </tr>\n",
       "    <tr>\n",
       "      <th>4</th>\n",
       "      <td>Los Angeles, CA</td>\n",
       "      <td>47</td>\n",
       "      <td>34.3</td>\n",
       "      <td>118.7</td>\n",
       "    </tr>\n",
       "    <tr>\n",
       "      <th>5</th>\n",
       "      <td>San Francisco, CA</td>\n",
       "      <td>42</td>\n",
       "      <td>38.4</td>\n",
       "      <td>123.0</td>\n",
       "    </tr>\n",
       "    <tr>\n",
       "      <th>6</th>\n",
       "      <td>Denver, CO</td>\n",
       "      <td>15</td>\n",
       "      <td>40.7</td>\n",
       "      <td>105.3</td>\n",
       "    </tr>\n",
       "    <tr>\n",
       "      <th>7</th>\n",
       "      <td>New Haven, CT</td>\n",
       "      <td>22</td>\n",
       "      <td>41.7</td>\n",
       "      <td>73.4</td>\n",
       "    </tr>\n",
       "    <tr>\n",
       "      <th>8</th>\n",
       "      <td>Wilmington, DE</td>\n",
       "      <td>26</td>\n",
       "      <td>40.5</td>\n",
       "      <td>76.3</td>\n",
       "    </tr>\n",
       "    <tr>\n",
       "      <th>9</th>\n",
       "      <td>Washington, DC</td>\n",
       "      <td>30</td>\n",
       "      <td>39.7</td>\n",
       "      <td>77.5</td>\n",
       "    </tr>\n",
       "    <tr>\n",
       "      <th>10</th>\n",
       "      <td>Jacksonville, FL</td>\n",
       "      <td>45</td>\n",
       "      <td>31.0</td>\n",
       "      <td>82.3</td>\n",
       "    </tr>\n",
       "    <tr>\n",
       "      <th>11</th>\n",
       "      <td>Key West, FL</td>\n",
       "      <td>65</td>\n",
       "      <td>25.0</td>\n",
       "      <td>82.0</td>\n",
       "    </tr>\n",
       "    <tr>\n",
       "      <th>12</th>\n",
       "      <td>Miami, FL</td>\n",
       "      <td>58</td>\n",
       "      <td>26.3</td>\n",
       "      <td>80.7</td>\n",
       "    </tr>\n",
       "    <tr>\n",
       "      <th>13</th>\n",
       "      <td>Atlanta, GA</td>\n",
       "      <td>37</td>\n",
       "      <td>33.9</td>\n",
       "      <td>85.0</td>\n",
       "    </tr>\n",
       "    <tr>\n",
       "      <th>14</th>\n",
       "      <td>Boise, ID</td>\n",
       "      <td>22</td>\n",
       "      <td>43.7</td>\n",
       "      <td>117.1</td>\n",
       "    </tr>\n",
       "    <tr>\n",
       "      <th>15</th>\n",
       "      <td>Chicago, IL</td>\n",
       "      <td>19</td>\n",
       "      <td>42.3</td>\n",
       "      <td>88.0</td>\n",
       "    </tr>\n",
       "    <tr>\n",
       "      <th>16</th>\n",
       "      <td>Indianapolis, IN</td>\n",
       "      <td>21</td>\n",
       "      <td>39.8</td>\n",
       "      <td>86.9</td>\n",
       "    </tr>\n",
       "    <tr>\n",
       "      <th>17</th>\n",
       "      <td>Des Moines, IA</td>\n",
       "      <td>11</td>\n",
       "      <td>41.8</td>\n",
       "      <td>93.6</td>\n",
       "    </tr>\n",
       "    <tr>\n",
       "      <th>18</th>\n",
       "      <td>Wichita, KS</td>\n",
       "      <td>22</td>\n",
       "      <td>38.1</td>\n",
       "      <td>97.6</td>\n",
       "    </tr>\n",
       "    <tr>\n",
       "      <th>19</th>\n",
       "      <td>Louisville, KY</td>\n",
       "      <td>27</td>\n",
       "      <td>39.0</td>\n",
       "      <td>86.5</td>\n",
       "    </tr>\n",
       "    <tr>\n",
       "      <th>20</th>\n",
       "      <td>New Orleans, LA</td>\n",
       "      <td>45</td>\n",
       "      <td>30.8</td>\n",
       "      <td>90.2</td>\n",
       "    </tr>\n",
       "    <tr>\n",
       "      <th>21</th>\n",
       "      <td>Portland, ME</td>\n",
       "      <td>12</td>\n",
       "      <td>44.2</td>\n",
       "      <td>70.5</td>\n",
       "    </tr>\n",
       "    <tr>\n",
       "      <th>22</th>\n",
       "      <td>Baltimore, MD</td>\n",
       "      <td>25</td>\n",
       "      <td>39.7</td>\n",
       "      <td>77.3</td>\n",
       "    </tr>\n",
       "    <tr>\n",
       "      <th>23</th>\n",
       "      <td>Boston, MA</td>\n",
       "      <td>23</td>\n",
       "      <td>42.7</td>\n",
       "      <td>71.4</td>\n",
       "    </tr>\n",
       "    <tr>\n",
       "      <th>24</th>\n",
       "      <td>Detroit, MI</td>\n",
       "      <td>21</td>\n",
       "      <td>43.1</td>\n",
       "      <td>83.9</td>\n",
       "    </tr>\n",
       "    <tr>\n",
       "      <th>25</th>\n",
       "      <td>Minneapolis, MN</td>\n",
       "      <td>2</td>\n",
       "      <td>45.9</td>\n",
       "      <td>93.9</td>\n",
       "    </tr>\n",
       "    <tr>\n",
       "      <th>26</th>\n",
       "      <td>St. Louis, MO</td>\n",
       "      <td>24</td>\n",
       "      <td>39.3</td>\n",
       "      <td>90.5</td>\n",
       "    </tr>\n",
       "    <tr>\n",
       "      <th>27</th>\n",
       "      <td>Helena, MT</td>\n",
       "      <td>8</td>\n",
       "      <td>47.1</td>\n",
       "      <td>112.4</td>\n",
       "    </tr>\n",
       "    <tr>\n",
       "      <th>28</th>\n",
       "      <td>Omaha, NE</td>\n",
       "      <td>13</td>\n",
       "      <td>41.9</td>\n",
       "      <td>96.1</td>\n",
       "    </tr>\n",
       "    <tr>\n",
       "      <th>29</th>\n",
       "      <td>Concord, NH</td>\n",
       "      <td>11</td>\n",
       "      <td>43.5</td>\n",
       "      <td>71.9</td>\n",
       "    </tr>\n",
       "    <tr>\n",
       "      <th>30</th>\n",
       "      <td>Atlantic City, NJ</td>\n",
       "      <td>27</td>\n",
       "      <td>39.8</td>\n",
       "      <td>75.3</td>\n",
       "    </tr>\n",
       "    <tr>\n",
       "      <th>31</th>\n",
       "      <td>Albuquerque, NM</td>\n",
       "      <td>24</td>\n",
       "      <td>35.1</td>\n",
       "      <td>106.7</td>\n",
       "    </tr>\n",
       "    <tr>\n",
       "      <th>32</th>\n",
       "      <td>Albany, NY</td>\n",
       "      <td>14</td>\n",
       "      <td>42.6</td>\n",
       "      <td>73.7</td>\n",
       "    </tr>\n",
       "    <tr>\n",
       "      <th>33</th>\n",
       "      <td>New York, NY</td>\n",
       "      <td>27</td>\n",
       "      <td>40.8</td>\n",
       "      <td>74.6</td>\n",
       "    </tr>\n",
       "    <tr>\n",
       "      <th>34</th>\n",
       "      <td>Charlotte, NC</td>\n",
       "      <td>34</td>\n",
       "      <td>35.9</td>\n",
       "      <td>81.5</td>\n",
       "    </tr>\n",
       "    <tr>\n",
       "      <th>35</th>\n",
       "      <td>Raleigh, NC</td>\n",
       "      <td>31</td>\n",
       "      <td>36.4</td>\n",
       "      <td>78.9</td>\n",
       "    </tr>\n",
       "    <tr>\n",
       "      <th>36</th>\n",
       "      <td>Bismarck, ND</td>\n",
       "      <td>0</td>\n",
       "      <td>47.1</td>\n",
       "      <td>101.0</td>\n",
       "    </tr>\n",
       "    <tr>\n",
       "      <th>37</th>\n",
       "      <td>Cincinnati, OH</td>\n",
       "      <td>26</td>\n",
       "      <td>39.2</td>\n",
       "      <td>85.0</td>\n",
       "    </tr>\n",
       "    <tr>\n",
       "      <th>38</th>\n",
       "      <td>Cleveland, OH</td>\n",
       "      <td>21</td>\n",
       "      <td>42.3</td>\n",
       "      <td>82.5</td>\n",
       "    </tr>\n",
       "    <tr>\n",
       "      <th>39</th>\n",
       "      <td>Oklahoma City, OK</td>\n",
       "      <td>28</td>\n",
       "      <td>35.9</td>\n",
       "      <td>97.5</td>\n",
       "    </tr>\n",
       "    <tr>\n",
       "      <th>40</th>\n",
       "      <td>Portland, OR</td>\n",
       "      <td>33</td>\n",
       "      <td>45.6</td>\n",
       "      <td>123.2</td>\n",
       "    </tr>\n",
       "    <tr>\n",
       "      <th>41</th>\n",
       "      <td>Harrisburg, PA</td>\n",
       "      <td>24</td>\n",
       "      <td>40.9</td>\n",
       "      <td>77.8</td>\n",
       "    </tr>\n",
       "    <tr>\n",
       "      <th>42</th>\n",
       "      <td>Philadelphia, PA</td>\n",
       "      <td>24</td>\n",
       "      <td>40.9</td>\n",
       "      <td>75.5</td>\n",
       "    </tr>\n",
       "    <tr>\n",
       "      <th>43</th>\n",
       "      <td>Charleston, SC</td>\n",
       "      <td>38</td>\n",
       "      <td>33.3</td>\n",
       "      <td>80.8</td>\n",
       "    </tr>\n",
       "    <tr>\n",
       "      <th>44</th>\n",
       "      <td>Nashville, TN</td>\n",
       "      <td>31</td>\n",
       "      <td>36.7</td>\n",
       "      <td>87.6</td>\n",
       "    </tr>\n",
       "    <tr>\n",
       "      <th>45</th>\n",
       "      <td>Amarillo, TX</td>\n",
       "      <td>24</td>\n",
       "      <td>35.6</td>\n",
       "      <td>101.9</td>\n",
       "    </tr>\n",
       "    <tr>\n",
       "      <th>46</th>\n",
       "      <td>Galveston, TX</td>\n",
       "      <td>49</td>\n",
       "      <td>29.4</td>\n",
       "      <td>95.5</td>\n",
       "    </tr>\n",
       "    <tr>\n",
       "      <th>47</th>\n",
       "      <td>Houston, TX</td>\n",
       "      <td>44</td>\n",
       "      <td>30.1</td>\n",
       "      <td>95.9</td>\n",
       "    </tr>\n",
       "    <tr>\n",
       "      <th>48</th>\n",
       "      <td>Salt Lake City, UT</td>\n",
       "      <td>18</td>\n",
       "      <td>41.1</td>\n",
       "      <td>112.3</td>\n",
       "    </tr>\n",
       "    <tr>\n",
       "      <th>49</th>\n",
       "      <td>Burlington, VT</td>\n",
       "      <td>7</td>\n",
       "      <td>45.0</td>\n",
       "      <td>73.9</td>\n",
       "    </tr>\n",
       "    <tr>\n",
       "      <th>50</th>\n",
       "      <td>Norfolk, VA</td>\n",
       "      <td>32</td>\n",
       "      <td>37.0</td>\n",
       "      <td>76.6</td>\n",
       "    </tr>\n",
       "    <tr>\n",
       "      <th>51</th>\n",
       "      <td>Seattle, WA</td>\n",
       "      <td>33</td>\n",
       "      <td>48.1</td>\n",
       "      <td>122.5</td>\n",
       "    </tr>\n",
       "    <tr>\n",
       "      <th>52</th>\n",
       "      <td>Spokane, WA</td>\n",
       "      <td>19</td>\n",
       "      <td>48.1</td>\n",
       "      <td>117.9</td>\n",
       "    </tr>\n",
       "    <tr>\n",
       "      <th>53</th>\n",
       "      <td>Madison, WI</td>\n",
       "      <td>9</td>\n",
       "      <td>43.4</td>\n",
       "      <td>90.2</td>\n",
       "    </tr>\n",
       "    <tr>\n",
       "      <th>54</th>\n",
       "      <td>Milwaukee, WI</td>\n",
       "      <td>13</td>\n",
       "      <td>43.3</td>\n",
       "      <td>88.1</td>\n",
       "    </tr>\n",
       "    <tr>\n",
       "      <th>55</th>\n",
       "      <td>Cheyenne, WY</td>\n",
       "      <td>14</td>\n",
       "      <td>41.2</td>\n",
       "      <td>104.9</td>\n",
       "    </tr>\n",
       "  </tbody>\n",
       "</table>\n",
       "</div>"
      ],
      "text/plain": [
       "                  City  JanTemp   Lat   Long\n",
       "0           Mobile, AL       44  31.2   88.5\n",
       "1       Montgomery, AL       38  32.9   86.8\n",
       "2          Phoenix, AZ       35  33.6  112.5\n",
       "3      Little Rock, AR       31  35.4   92.8\n",
       "4      Los Angeles, CA       47  34.3  118.7\n",
       "5    San Francisco, CA       42  38.4  123.0\n",
       "6           Denver, CO       15  40.7  105.3\n",
       "7        New Haven, CT       22  41.7   73.4\n",
       "8       Wilmington, DE       26  40.5   76.3\n",
       "9       Washington, DC       30  39.7   77.5\n",
       "10    Jacksonville, FL       45  31.0   82.3\n",
       "11        Key West, FL       65  25.0   82.0\n",
       "12           Miami, FL       58  26.3   80.7\n",
       "13         Atlanta, GA       37  33.9   85.0\n",
       "14           Boise, ID       22  43.7  117.1\n",
       "15         Chicago, IL       19  42.3   88.0\n",
       "16    Indianapolis, IN       21  39.8   86.9\n",
       "17      Des Moines, IA       11  41.8   93.6\n",
       "18         Wichita, KS       22  38.1   97.6\n",
       "19      Louisville, KY       27  39.0   86.5\n",
       "20     New Orleans, LA       45  30.8   90.2\n",
       "21        Portland, ME       12  44.2   70.5\n",
       "22       Baltimore, MD       25  39.7   77.3\n",
       "23          Boston, MA       23  42.7   71.4\n",
       "24         Detroit, MI       21  43.1   83.9\n",
       "25     Minneapolis, MN        2  45.9   93.9\n",
       "26       St. Louis, MO       24  39.3   90.5\n",
       "27          Helena, MT        8  47.1  112.4\n",
       "28           Omaha, NE       13  41.9   96.1\n",
       "29         Concord, NH       11  43.5   71.9\n",
       "30   Atlantic City, NJ       27  39.8   75.3\n",
       "31     Albuquerque, NM       24  35.1  106.7\n",
       "32          Albany, NY       14  42.6   73.7\n",
       "33        New York, NY       27  40.8   74.6\n",
       "34       Charlotte, NC       34  35.9   81.5\n",
       "35         Raleigh, NC       31  36.4   78.9\n",
       "36        Bismarck, ND        0  47.1  101.0\n",
       "37      Cincinnati, OH       26  39.2   85.0\n",
       "38       Cleveland, OH       21  42.3   82.5\n",
       "39   Oklahoma City, OK       28  35.9   97.5\n",
       "40        Portland, OR       33  45.6  123.2\n",
       "41      Harrisburg, PA       24  40.9   77.8\n",
       "42    Philadelphia, PA       24  40.9   75.5\n",
       "43      Charleston, SC       38  33.3   80.8\n",
       "44       Nashville, TN       31  36.7   87.6\n",
       "45        Amarillo, TX       24  35.6  101.9\n",
       "46       Galveston, TX       49  29.4   95.5\n",
       "47         Houston, TX       44  30.1   95.9\n",
       "48  Salt Lake City, UT       18  41.1  112.3\n",
       "49      Burlington, VT        7  45.0   73.9\n",
       "50         Norfolk, VA       32  37.0   76.6\n",
       "51         Seattle, WA       33  48.1  122.5\n",
       "52         Spokane, WA       19  48.1  117.9\n",
       "53         Madison, WI        9  43.4   90.2\n",
       "54       Milwaukee, WI       13  43.3   88.1\n",
       "55        Cheyenne, WY       14  41.2  104.9"
      ]
     },
     "execution_count": 19,
     "metadata": {},
     "output_type": "execute_result"
    }
   ],
   "source": [
    "data = pd.read_csv('USTemperatures.txt', sep='\\t')\n",
    "data"
   ]
  },
  {
   "cell_type": "markdown",
   "id": "4863874f-a66f-4cd3-b1ed-3378f6be8aec",
   "metadata": {},
   "source": [
    "The estimated correlation:"
   ]
  },
  {
   "cell_type": "code",
   "execution_count": 20,
   "id": "43c82872-8dc1-4e18-95c6-2f83c45de2da",
   "metadata": {},
   "outputs": [
    {
     "data": {
      "text/plain": [
       "np.float64(-0.8480352058672054)"
      ]
     },
     "execution_count": 20,
     "metadata": {},
     "output_type": "execute_result"
    }
   ],
   "source": [
    "rho_hat = np.corrcoef(data['JanTemp'], data['Lat'])[0, 1]\n",
    "rho_hat"
   ]
  },
  {
   "cell_type": "code",
   "execution_count": 21,
   "id": "152ad4e4-0610-46bf-bbbb-4dfb7dbff95f",
   "metadata": {},
   "outputs": [],
   "source": [
    "import sys\n",
    "sys.path.append('..')\n",
    "from ch14.fisher import fisher_conf_int"
   ]
  },
  {
   "cell_type": "markdown",
   "id": "80d25582-c5ca-470e-aa99-d7d93fc6da4c",
   "metadata": {},
   "source": [
    "The confidence interval:"
   ]
  },
  {
   "cell_type": "code",
   "execution_count": 22,
   "id": "739ffdb7-663e-4fd2-a890-13e52bc9aa86",
   "metadata": {},
   "outputs": [
    {
     "data": {
      "text/plain": [
       "array([-0.90840732, -0.75301956])"
      ]
     },
     "execution_count": 22,
     "metadata": {},
     "output_type": "execute_result"
    }
   ],
   "source": [
    "fisher_conf_int(rho_hat, data.shape[0], 0.05)"
   ]
  },
  {
   "cell_type": "markdown",
   "id": "3731c620-ca19-4ad4-9eb6-86d0ffde69ef",
   "metadata": {},
   "source": [
    "By Theorem 10.10, a Wald test would reject the null hypothesis if the true value of $\\rho$ does not lie in the confidence interval."
   ]
  },
  {
   "cell_type": "markdown",
   "id": "29b73945-78d9-4b9a-8808-bd9069a6f220",
   "metadata": {},
   "source": [
    "## Exercise 7"
   ]
  },
  {
   "cell_type": "code",
   "execution_count": 23,
   "id": "b99c74f9-9d00-4983-b920-6ab9c10dd01a",
   "metadata": {},
   "outputs": [],
   "source": [
    "import matplotlib.pyplot as plt"
   ]
  },
  {
   "cell_type": "code",
   "execution_count": 24,
   "id": "26a3e6a3-7ff4-492c-98f9-1239ab88e291",
   "metadata": {},
   "outputs": [
    {
     "data": {
      "text/html": [
       "<div>\n",
       "<style scoped>\n",
       "    .dataframe tbody tr th:only-of-type {\n",
       "        vertical-align: middle;\n",
       "    }\n",
       "\n",
       "    .dataframe tbody tr th {\n",
       "        vertical-align: top;\n",
       "    }\n",
       "\n",
       "    .dataframe thead th {\n",
       "        text-align: right;\n",
       "    }\n",
       "</style>\n",
       "<table border=\"1\" class=\"dataframe\">\n",
       "  <thead>\n",
       "    <tr style=\"text-align: right;\">\n",
       "      <th></th>\n",
       "      <th>Treatment</th>\n",
       "      <th>Begin</th>\n",
       "      <th>End</th>\n",
       "      <th>Decrease</th>\n",
       "    </tr>\n",
       "  </thead>\n",
       "  <tbody>\n",
       "    <tr>\n",
       "      <th>0</th>\n",
       "      <td>Calcium</td>\n",
       "      <td>107</td>\n",
       "      <td>100</td>\n",
       "      <td>7</td>\n",
       "    </tr>\n",
       "    <tr>\n",
       "      <th>1</th>\n",
       "      <td>Calcium</td>\n",
       "      <td>110</td>\n",
       "      <td>114</td>\n",
       "      <td>-4</td>\n",
       "    </tr>\n",
       "    <tr>\n",
       "      <th>2</th>\n",
       "      <td>Calcium</td>\n",
       "      <td>123</td>\n",
       "      <td>105</td>\n",
       "      <td>18</td>\n",
       "    </tr>\n",
       "    <tr>\n",
       "      <th>3</th>\n",
       "      <td>Calcium</td>\n",
       "      <td>129</td>\n",
       "      <td>112</td>\n",
       "      <td>17</td>\n",
       "    </tr>\n",
       "    <tr>\n",
       "      <th>4</th>\n",
       "      <td>Calcium</td>\n",
       "      <td>112</td>\n",
       "      <td>115</td>\n",
       "      <td>-3</td>\n",
       "    </tr>\n",
       "    <tr>\n",
       "      <th>5</th>\n",
       "      <td>Calcium</td>\n",
       "      <td>111</td>\n",
       "      <td>116</td>\n",
       "      <td>-5</td>\n",
       "    </tr>\n",
       "    <tr>\n",
       "      <th>6</th>\n",
       "      <td>Calcium</td>\n",
       "      <td>107</td>\n",
       "      <td>106</td>\n",
       "      <td>1</td>\n",
       "    </tr>\n",
       "    <tr>\n",
       "      <th>7</th>\n",
       "      <td>Calcium</td>\n",
       "      <td>112</td>\n",
       "      <td>102</td>\n",
       "      <td>10</td>\n",
       "    </tr>\n",
       "    <tr>\n",
       "      <th>8</th>\n",
       "      <td>Calcium</td>\n",
       "      <td>136</td>\n",
       "      <td>125</td>\n",
       "      <td>11</td>\n",
       "    </tr>\n",
       "    <tr>\n",
       "      <th>9</th>\n",
       "      <td>Calcium</td>\n",
       "      <td>102</td>\n",
       "      <td>104</td>\n",
       "      <td>-2</td>\n",
       "    </tr>\n",
       "    <tr>\n",
       "      <th>10</th>\n",
       "      <td>Placebo</td>\n",
       "      <td>123</td>\n",
       "      <td>124</td>\n",
       "      <td>-1</td>\n",
       "    </tr>\n",
       "    <tr>\n",
       "      <th>11</th>\n",
       "      <td>Placebo</td>\n",
       "      <td>109</td>\n",
       "      <td>97</td>\n",
       "      <td>12</td>\n",
       "    </tr>\n",
       "    <tr>\n",
       "      <th>12</th>\n",
       "      <td>Placebo</td>\n",
       "      <td>112</td>\n",
       "      <td>113</td>\n",
       "      <td>-1</td>\n",
       "    </tr>\n",
       "    <tr>\n",
       "      <th>13</th>\n",
       "      <td>Placebo</td>\n",
       "      <td>102</td>\n",
       "      <td>105</td>\n",
       "      <td>-3</td>\n",
       "    </tr>\n",
       "    <tr>\n",
       "      <th>14</th>\n",
       "      <td>Placebo</td>\n",
       "      <td>98</td>\n",
       "      <td>95</td>\n",
       "      <td>3</td>\n",
       "    </tr>\n",
       "    <tr>\n",
       "      <th>15</th>\n",
       "      <td>Placebo</td>\n",
       "      <td>114</td>\n",
       "      <td>119</td>\n",
       "      <td>-5</td>\n",
       "    </tr>\n",
       "    <tr>\n",
       "      <th>16</th>\n",
       "      <td>Placebo</td>\n",
       "      <td>119</td>\n",
       "      <td>114</td>\n",
       "      <td>5</td>\n",
       "    </tr>\n",
       "    <tr>\n",
       "      <th>17</th>\n",
       "      <td>Placebo</td>\n",
       "      <td>112</td>\n",
       "      <td>114</td>\n",
       "      <td>2</td>\n",
       "    </tr>\n",
       "    <tr>\n",
       "      <th>18</th>\n",
       "      <td>Placebo</td>\n",
       "      <td>110</td>\n",
       "      <td>121</td>\n",
       "      <td>-11</td>\n",
       "    </tr>\n",
       "    <tr>\n",
       "      <th>19</th>\n",
       "      <td>Placebo</td>\n",
       "      <td>117</td>\n",
       "      <td>118</td>\n",
       "      <td>-1</td>\n",
       "    </tr>\n",
       "    <tr>\n",
       "      <th>20</th>\n",
       "      <td>Placebo</td>\n",
       "      <td>130</td>\n",
       "      <td>133</td>\n",
       "      <td>-3</td>\n",
       "    </tr>\n",
       "  </tbody>\n",
       "</table>\n",
       "</div>"
      ],
      "text/plain": [
       "   Treatment  Begin  End  Decrease\n",
       "0    Calcium    107  100         7\n",
       "1    Calcium    110  114        -4\n",
       "2    Calcium    123  105        18\n",
       "3    Calcium    129  112        17\n",
       "4    Calcium    112  115        -3\n",
       "5    Calcium    111  116        -5\n",
       "6    Calcium    107  106         1\n",
       "7    Calcium    112  102        10\n",
       "8    Calcium    136  125        11\n",
       "9    Calcium    102  104        -2\n",
       "10   Placebo    123  124        -1\n",
       "11   Placebo    109   97        12\n",
       "12   Placebo    112  113        -1\n",
       "13   Placebo    102  105        -3\n",
       "14   Placebo     98   95         3\n",
       "15   Placebo    114  119        -5\n",
       "16   Placebo    119  114         5\n",
       "17   Placebo    112  114         2\n",
       "18   Placebo    110  121       -11\n",
       "19   Placebo    117  118        -1\n",
       "20   Placebo    130  133        -3"
      ]
     },
     "execution_count": 24,
     "metadata": {},
     "output_type": "execute_result"
    }
   ],
   "source": [
    "data = pd.read_csv('calcium.txt', sep='\\t')\n",
    "data"
   ]
  },
  {
   "cell_type": "code",
   "execution_count": 25,
   "id": "34cda90f-694b-48bb-ae4b-0a00725b9eb6",
   "metadata": {},
   "outputs": [],
   "source": [
    "def cdf_series(vals):\n",
    "    vals = np.sort(vals)\n",
    "    return pd.DataFrame({\n",
    "        'F': np.arange(1, vals.shape[0] + 1) / vals.shape[0],\n",
    "        'x': vals,\n",
    "    }).groupby('x')['F'].max()"
   ]
  },
  {
   "cell_type": "code",
   "execution_count": 26,
   "id": "77227700-722f-4bed-96e6-78deb538b1f9",
   "metadata": {},
   "outputs": [],
   "source": [
    "def cdf_diff(cdf1, cdf2):\n",
    "    cdfs = pd.concat([cdf1.rename('cdf1'), cdf2.rename('cdf2')], axis=1).sort_index().ffill().fillna(0)\n",
    "    return (cdfs['cdf2'] - cdfs['cdf1']).abs()"
   ]
  },
  {
   "cell_type": "code",
   "execution_count": 27,
   "id": "2c2973e1-c881-4fdc-9eb9-fc54daab02ea",
   "metadata": {},
   "outputs": [],
   "source": [
    "calcium_drop = data[data['Treatment'] == 'Calcium']['Decrease']\n",
    "placebo_drop = data[data['Treatment'] == 'Placebo']['Decrease']\n",
    "calcium_cdf = cdf_series(calcium_drop.values)\n",
    "placebo_cdf = cdf_series(placebo_drop.values)\n",
    "diff = cdf_diff(calcium_cdf, placebo_cdf)"
   ]
  },
  {
   "cell_type": "code",
   "execution_count": 28,
   "id": "067b5b1a-42c8-4be2-b993-665a81d5fae2",
   "metadata": {},
   "outputs": [
    {
     "data": {
      "image/png": "[encoded data removed]",
      "text/plain": [
       "<Figure size 640x480 with 1 Axes>"
      ]
     },
     "metadata": {},
     "output_type": "display_data"
    }
   ],
   "source": [
    "fig, ax = plt.subplots()\n",
    "ax.step(calcium_cdf.index, calcium_cdf, where='post', label='Calcium');\n",
    "ax.step(placebo_cdf.index, placebo_cdf, where='post', label='Placebo');\n",
    "ax.step(diff.index, diff, where='post', label='Absolute difference');\n",
    "ax.set_ylabel('F');\n",
    "ax.set_title('Empirical CDF');\n",
    "ax.legend();"
   ]
  },
  {
   "cell_type": "code",
   "execution_count": 29,
   "id": "6561a26c-522e-4804-b824-ee79adf2cf57",
   "metadata": {},
   "outputs": [
    {
     "data": {
      "text/plain": [
       "np.float64(0.40909090909090906)"
      ]
     },
     "execution_count": 29,
     "metadata": {},
     "output_type": "execute_result"
    }
   ],
   "source": [
    "D = diff.max()\n",
    "D"
   ]
  },
  {
   "cell_type": "markdown",
   "id": "f9a5640c-e9bb-42e8-8d11-2bef8cb9133f",
   "metadata": {},
   "source": [
    "From Theorem 15.12, we have under $F_1 = F_2$ that\n",
    "$$\\lim_{n \\to \\infty} \\mathbb{P} \\left( \\sqrt{\\frac{n_1 n_2}{n_1 + n_2}} D \\leq t \\right) = H(t),$$\n",
    "so\n",
    "$$\\lim_{n \\to \\infty} \\mathbb{P} \\left( \\sqrt{\\frac{n_1 n_2}{n_1 + n_2}} D > t \\right) = 1-H(t),$$\n",
    "thus the p-value is given by\n",
    "$$1 - H\\left( \\sqrt{\\frac{n_1 n_2}{n_1 + n_2}} d\\right),$$\n",
    "where \n",
    "$$d = \\sup_x |\\hat{F}_1(x) - \\hat{F}_2(x)|.$$"
   ]
  },
  {
   "cell_type": "code",
   "execution_count": 30,
   "id": "9f4e5ae6-8bf9-4ad6-bc19-7447605c606a",
   "metadata": {},
   "outputs": [],
   "source": [
    "def H(t, terms=10):\n",
    "    j = np.arange(1, terms + 1)\n",
    "    return 1 - 2 * np.sum((-1) ** (j - 1) * np.exp(-2 * j ** 2 * t ** 2))"
   ]
  },
  {
   "cell_type": "markdown",
   "id": "32bbf909-1c3e-44a1-9f8a-16bf25f4dc04",
   "metadata": {},
   "source": [
    "The p-value of the Kolmogorov-Smirnov test is then:"
   ]
  },
  {
   "cell_type": "code",
   "execution_count": 31,
   "id": "ac604fb6-826a-48f8-ad51-1432e4e9c231",
   "metadata": {},
   "outputs": [
    {
     "data": {
      "text/plain": [
       "np.float64(0.34462136336194327)"
      ]
     },
     "execution_count": 31,
     "metadata": {},
     "output_type": "execute_result"
    }
   ],
   "source": [
    "n1 = calcium_drop.shape[0]\n",
    "n2 = placebo_drop.shape[0]\n",
    "1 - H(np.sqrt(n1 * n2 / (n1 + n2)) * D, terms=10)"
   ]
  },
  {
   "cell_type": "markdown",
   "id": "b8da3dbd-cdc1-46ec-8046-a34dc683ad89",
   "metadata": {},
   "source": [
    "We do not reject the null hypothesis of independence."
   ]
  },
  {
   "cell_type": "markdown",
   "id": "bba0fa90-bbdf-46a2-a3cb-5748a1c6802f",
   "metadata": {},
   "source": [
    "We can also use the implementation of the test in `scipy`, which uses the exact sampling formula:"
   ]
  },
  {
   "cell_type": "code",
   "execution_count": 32,
   "id": "fc1bd9c4-d544-49c2-abba-9f7e37eda9c3",
   "metadata": {},
   "outputs": [
    {
     "data": {
      "text/plain": [
       "KstestResult(statistic=np.float64(0.4090909090909091), pvalue=np.float64(0.28689086970820715), statistic_location=np.int64(5), statistic_sign=np.int8(-1))"
      ]
     },
     "execution_count": 32,
     "metadata": {},
     "output_type": "execute_result"
    }
   ],
   "source": [
    "stats.ks_2samp(data[data['Treatment'] == 'Calcium']['Decrease'].values, data[data['Treatment'] == 'Placebo']['Decrease'].values)"
   ]
  },
  {
   "cell_type": "markdown",
   "id": "f4c826d0-838e-4e5a-821e-54abfb5574cf",
   "metadata": {},
   "source": [
    "The conclusion remains unchanged."
   ]
  }
 ],
 "metadata": {
  "kernelspec": {
   "display_name": "Python 3 (ipykernel)",
   "language": "python",
   "name": "python3"
  },
  "language_info": {
   "codemirror_mode": {
    "name": "ipython",
    "version": 3
   },
   "file_extension": ".py",
   "mimetype": "text/x-python",
   "name": "python",
   "nbconvert_exporter": "python",
   "pygments_lexer": "ipython3",
   "version": "3.12.6"
  }
 },
 "nbformat": 4,
 "nbformat_minor": 5
}
