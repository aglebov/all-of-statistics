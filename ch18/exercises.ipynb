{
 "cells": [
  {
   "cell_type": "markdown",
   "id": "d4f7487f-20c8-4011-ac61-e1007a48c00b",
   "metadata": {},
   "source": [
    "## Exercise 1\n",
    "\n",
    "![Exercise 1](ex1.svg)"
   ]
  },
  {
   "cell_type": "markdown",
   "id": "a9c82bad-a077-4dd9-92eb-a913c7b389f1",
   "metadata": {},
   "source": [
    "## Exercise 2\n",
    "\n",
    "![Exercise 2](ex2.svg)"
   ]
  },
  {
   "cell_type": "markdown",
   "id": "5b74215b-f6c8-4ceb-ac20-225dae582fe4",
   "metadata": {},
   "source": [
    "## Exercise 3\n",
    "\n",
    "(a)\n",
    "$$\\begin{split}\n",
    "X_1 \\perp \\!\\!\\! \\perp X_3 | X_2 \\\\\n",
    "X_1 \\perp \\!\\!\\! \\perp X_4 | X_2 \\\\\n",
    "X_3 \\perp \\!\\!\\! \\perp X_4 | X_2 \\\\\n",
    "X_1 \\perp \\!\\!\\! \\perp (X_3, X_4) | X_2 \\\\\n",
    "X_3 \\perp \\!\\!\\! \\perp (X_1, X_4) | X_2 \\\\\n",
    "X_4 \\perp \\!\\!\\! \\perp (X_1, X_3) | X_2 \\\\\n",
    "\\end{split}$$"
   ]
  },
  {
   "cell_type": "markdown",
   "id": "70b68db0-7880-469c-8206-d02c203c0260",
   "metadata": {},
   "source": [
    "(b) \n",
    "$$\\begin{split}\n",
    "X_1 \\perp \\!\\!\\! \\perp X_3 | X_2 \\\\\n",
    "X_1 \\perp \\!\\!\\! \\perp X_4 | X_2 \\\\\n",
    "X_1 \\perp \\!\\!\\! \\perp (X_3, X_4) | X_2 \\\\\n",
    "X_1 \\perp \\!\\!\\! \\perp X_4 | X_3 \\\\\n",
    "X_2 \\perp \\!\\!\\! \\perp X_4 | X_3 \\\\\n",
    "(X_1, X_2) \\perp \\!\\!\\! \\perp X_4 | X_3 \\\\\n",
    "\\end{split}$$"
   ]
  },
  {
   "cell_type": "markdown",
   "id": "48a66ff7-e0d1-4830-a3d3-1775bb01cbe1",
   "metadata": {},
   "source": [
    "(c)\n",
    "$$\\begin{split}\n",
    "X_2 \\perp \\!\\!\\! \\perp X_4 | X_1, X_3 \\\\\n",
    "X_1 \\perp \\!\\!\\! \\perp X_3 | X_2, X_4 \\\\\n",
    "\\end{split}$$"
   ]
  },
  {
   "cell_type": "markdown",
   "id": "e641c34d-52c1-48b0-834e-f709d3fb10b0",
   "metadata": {},
   "source": [
    "(d)\n",
    "$$\\begin{split}\n",
    "X_1 \\perp \\!\\!\\! \\perp (X_4, X_5, X_6) | X_2, X_3 \\\\\n",
    "X_4 \\perp \\!\\!\\! \\perp (X_1, X_3, X_6) | X_2, X_5 \\\\\n",
    "X_6 \\perp \\!\\!\\! \\perp (X_1, X_2, X_4) | X_3, X_5 \\\\\n",
    "X_4 \\perp \\!\\!\\! \\perp (X_3, X_6) | X_1, X_2, X_5 \\\\\n",
    "X_6 \\perp \\!\\!\\! \\perp (X_2, X_4) | X_1, X_3, X_5 \\\\\n",
    "X_1 \\perp \\!\\!\\! \\perp (X_5, X_6) | X_2, X_3, X_4 \\\\\n",
    "X_1 \\perp \\!\\!\\! \\perp X_4 | X_2, X_3, X_5 \\\\\n",
    "X_1 \\perp \\!\\!\\! \\perp X_6 | X_2, X_3, X_5 \\\\\n",
    "X_4 \\perp \\!\\!\\! \\perp X_6 | X_2, X_3, X_5 \\\\\n",
    "X_1 \\perp \\!\\!\\! \\perp (X_4, X_6) | X_2, X_3, X_5 \\\\\n",
    "X_4 \\perp \\!\\!\\! \\perp (X_1, X_6) | X_2, X_3, X_5 \\\\\n",
    "X_6 \\perp \\!\\!\\! \\perp (X_1, X_4) | X_2, X_3, X_5 \\\\\n",
    "X_1 \\perp \\!\\!\\! \\perp (X_4, X_6) | X_2, X_3, X_6 \\\\\n",
    "X_4 \\perp \\!\\!\\! \\perp X_6 | X_1, X_2, X_3, X_5 \\\\\n",
    "X_3 \\perp \\!\\!\\! \\perp X_4 | X_1, X_2, X_5, X_6 \\\\\n",
    "X_2 \\perp \\!\\!\\! \\perp X_6 | X_1, X_3, X_4, X_5 \\\\\n",
    "X_1 \\perp \\!\\!\\! \\perp X_6 | X_2, X_3, X_4, X_5 \\\\\n",
    "X_1 \\perp \\!\\!\\! \\perp X_5 | X_2, X_3, X_4, X_6 \\\\\n",
    "X_1 \\perp \\!\\!\\! \\perp X_6 | X_2, X_3, X_4, X_5 \\\\\n",
    "X_1 \\perp \\!\\!\\! \\perp X_4 | X_2, X_3, X_5, X_6 \\\\\n",
    "\\end{split}$$"
   ]
  },
  {
   "cell_type": "markdown",
   "id": "0656ffbe-688b-4cf7-8136-eb86a64383c8",
   "metadata": {},
   "source": [
    "## Exercise 4\n",
    "\n",
    "The unrestricted likelihood for a single observation is given by\n",
    "$$\\mathcal{L}(x_1, x_2, x_3) = p_{000}^{(1-x_1)(1-x_2)(1-x_3)} p_{001}^{(1-x_1)(1-x_2)x_3} p_{010}^{(1-x_1) x_2 (1-x_3)} p_{011}^{(1-x_1)x_2 x_3} p_{100}^{x_1 (1-x_2)(1-x_3)} p_{101}^{x_1 (1-x_2)x_3} p_{110}^{x_1 x_2 (1-x_3)} p_{111}^{x_1 x_2 x_3},$$\n",
    "where $p_{ijk} = \\mathbb{P}(X_1=i, X_2=j, X_3=k)$, thus $\\sum_{i,j,k} p_{ijk} = 1$, and so\n",
    "$$\\hat{p}_{ijk} = \\frac{1}{n} \\sum_{l=1}^n \\mathbb{1}_{x_{l,1} = i, x_{l,2} = j, x_{l,3} = k}$$\n",
    "\n",
    "Under the restricted model $X_1 \\perp \\!\\!\\! \\perp X_2 | X_3$, we have\n",
    "$$\\mathbb{P}(X_1 = x_1, X_2 = x_2, X_3 = x_3)\n",
    "= \\mathbb{P}(X_1 = x_1, X_2 = x_2 | X_3 = x_3) \\mathbb{P}(X_3 = x_3)\n",
    "= \\mathbb{P}(X_1 = x_1 | X_3 = x_3) \\mathbb{P}(X_2 = x_2 | X_3 = x_3) \\mathbb{P}(X_3 = x_3),$$\n",
    "so the likelihood for a single observation is given by\n",
    "$$\\begin{split}\n",
    "\\mathcal{L}_0(x_1, x_2, x_3) = \n",
    "& (p_{x_1=0|x_3=0} p_{x_2=0|x_3=0} p_{x_3=0})^{(1-x_1)(1-x_2)(1-x_3)} (p_{x_1=0|x_3=1} p_{x_2=0|x_3=1} p_{x_3=1})^{(1-x_1)(1-x_2)x_3}\\\\\n",
    "& \\times (p_{x_1=0|x_3=0} p_{x_2=1|x_3=0} p_{x_3=0})^{(1-x_1)x_2(1-x_3)} (p_{x_1=0|x_3=1} p_{x_2=1|x_3=1} p_{x_3=1})^{(1-x_1)x_2 x_3} \\\\\n",
    "& \\times (p_{x_1=1|x_3=0} p_{x_2=0|x_3=0} p_{x_3=0})^{x_1(1-x_2)(1-x_3)} (p_{x_1=1|x_3=1} p_{x_2=0|x_3=1} p_{x_3=1})^{x_1(1-x_2)x_3} \\\\\n",
    "& \\times (p_{x_1=1|x_3=0} p_{x_2=1|x_3=0} p_{x_3=0})^{x_1 x_2(1-x_3)} (p_{x_1=1|x_3=1} p_{x_2=1|x_3=1} p_{x_3=1})^{x_1 x_2 x_3}, \\\\\n",
    "\\end{split}$$\n",
    "so\n",
    "$$\\begin{split}\n",
    "\\log \\mathcal{L}_0(x_1, x_2, x_3) = \n",
    "& (1-x_1)(1-x_2)(1-x_3)(\\log p_{x_1=0|x_3=0} + \\log p_{x_2=0|x_3=0} + \\log p_{x_3=0}) \\\\\n",
    "& + (1-x_1)(1-x_2)x_3 (\\log p_{x_1=0|x_3=1} + \\log p_{x_2=0|x_3=1} + \\log p_{x_3=1}) \\\\\n",
    "& + (1-x_1)x_2(1-x_3) (\\log p_{x_1=0|x_3=0} + \\log p_{x_2=1|x_3=0} + \\log p_{x_3=0}) \\\\\n",
    "& + (1-x_1)x_2 x_3 (\\log p_{x_1=0|x_3=1} + \\log p_{x_2=1|x_3=1} + \\log p_{x_3=1}) \\\\\n",
    "& + x_1(1-x_2)(1-x_3) (\\log p_{x_1=1|x_3=0} + \\log p_{x_2=0|x_3=0} + \\log p_{x_3=0}) \\\\\n",
    "& + x_1(1-x_2)x_3 (\\log p_{x_1=1|x_3=1} + \\log p_{x_2=0|x_3=1} + \\log p_{x_3=1}) \\\\\n",
    "& + x_1 x_2(1-x_3) (\\log p_{x_1=1|x_3=0} + \\log p_{x_2=1|x_3=0} + \\log p_{x_3=0}) \\\\\n",
    "& + x_1 x_2 x_3 (\\log p_{x_1=1|x_3=1} + \\log p_{x_2=1|x_3=1} + \\log p_{x_3=1}) \\\\\n",
    "= & (1 - x_3) \\log p_{x_3=0} + x_3 \\log p_{x_3=1} \\\\\n",
    "& + (1 - x_1) (1 - x_3) \\log p_{x_1=0|x_3=0} + x_1 (1 - x_3) \\log p_{x_1=1|x_3=0} \\\\\n",
    "& + (1 - x_1) x_3 \\log p_{x_1=0|x_3=1} + x_1 x_3 \\log p_{x_1=1|x_3=1} \\\\\n",
    "& + (1 - x_2) (1 - x_3) \\log p_{x_2=0|x_3=0} + x_2 (1 - x_3) \\log p_{x_2=1|x_3=0} \\\\\n",
    "& + (1 - x_2) x_3 \\log p_{x_2=0|x_3=1} + x_2 x_3 \\log p_{x_2=1|x_3=1}. \\\\\n",
    "\\end{split}$$\n",
    "Maximising the log-likelihood under the constraints \n",
    "$$\\begin{split}\n",
    "& p_{x_3=0} + p_{x_3=1} = 1 \\\\\n",
    "& p_{x_1=0|x_3=0} + p_{x_1=1|x_3=0} = 1 \\\\\n",
    "& p_{x_1=0|x_3=1} + p_{x_1=1|x_3=1} = 1 \\\\\n",
    "\\end{split}$$\n",
    "yields\n",
    "$$\\begin{split}\n",
    "\\hat{p}_{x_3 = 1} &= \\frac{1}{n} \\sum_{l=1}^n \\mathbb{1}_{x_{l,3} = 1} \\\\\n",
    "\\hat{p}_{x_1=1 | x_3 = 0} &= \\frac{\\sum_{l=1}^n \\mathbb{1}_{x_{l,1} = 1, x_{l,3}=0}}{\\sum_{l=1}^n \\mathbb{1}_{x_{l,3} = 0}} \\\\\n",
    "\\hat{p}_{x_1=1 | x_3 = 1} &= \\frac{\\sum_{l=1}^n \\mathbb{1}_{x_{l,1} = 1, x_{l,3}=1}}{\\sum_{l=1}^n \\mathbb{1}_{x_{l,3} = 1}} \\\\\n",
    "\\hat{p}_{x_2=1 | x_3 = 0} &= \\frac{\\sum_{l=1}^n \\mathbb{1}_{x_{l,2} = 1, x_{l,3}=0}}{\\sum_{l=1}^n \\mathbb{1}_{x_{l,3} = 0}} \\\\\n",
    "\\hat{p}_{x_2=1 | x_3 = 1} &= \\frac{\\sum_{l=1}^n \\mathbb{1}_{x_{l,2} = 1, x_{l,3}=1}}{\\sum_{l=1}^n \\mathbb{1}_{x_{l,3} = 1}} \\\\\n",
    "\\end{split}$$"
   ]
  },
  {
   "cell_type": "markdown",
   "id": "921af64e-1971-4286-a478-aca0750dd75d",
   "metadata": {},
   "source": [
    "The test statistic for the likelihood ratio test is\n",
    "$$\\lambda = 2 \\log \\frac{\\mathcal{L}}{\\mathcal{L}_0}.$$\n",
    "The unrestricted model has 7 independent parameters, whereas the restricted model has 5 independent parameters, so the likelihood ratio test statistic is asymptotically distributed as $\\chi^2_2$."
   ]
  },
  {
   "cell_type": "markdown",
   "id": "0184a2d9-45ef-4bca-9a76-21359f778b12",
   "metadata": {},
   "source": [
    "## Exercise 5\n",
    "\n",
    "(a) Assuming a multinomial distribution, we have the likelihood\n",
    "$$\\mathcal{L}(p_{1,1,1}, p_{1,1,2}, p_{1,2,1}, p_{1,2,2}, p_{2,1,1}, p_{2,1,2}, p_{2,2,1}, p_{2,2,2})  = {n \\choose x_{1,1,1}\\; x_{1,1,2}\\; x_{1,2,1}\\; x_{1,2,2}\\; x_{2,1,1}\\; x_{2,1,2}\\; x_{2,2,1}\\; x_{2,2,2}} p_{1,1,1}^{x_{1,1,1}}\\; p_{1,1,2}^{x_{1,1,2}}\\; p_{1,2,1}^{x_{1,2,1}}\\; p_{1,2,2}^{x_{1,2,2}}\\; p_{2,1,1}^{x_{2,1,1}}\\; p_{2,1,2}^{x_{2,1,2}}\\; p_{2,2,1}^{x_{2,2,1}}\\; p_{2,2,2}^{x_{2,2,2}},$$\n",
    "where\n",
    "$$\\begin{split}\n",
    "p_{1,1,1} &= \\mathbb{P}(X_1 = \\text{Boston}, X_2 = \\text{malignant}, X_3=\\text{died}) \\\\\n",
    "p_{1,1,2} &= \\mathbb{P}(X_1 = \\text{Boston}, X_2 = \\text{malignant}, X_3=\\text{survived}) \\\\\n",
    "p_{1,2,1} &= \\mathbb{P}(X_1 = \\text{Boston}, X_2 = \\text{benign}, X_3=\\text{died}) \\\\\n",
    "p_{1,2,2} &= \\mathbb{P}(X_1 = \\text{Boston}, X_2 = \\text{benign}, X_3=\\text{survived}) \\\\\n",
    "p_{2,1,1} &= \\mathbb{P}(X_1 = \\text{Glamorgan}, X_2 = \\text{malignant}, X_3=\\text{died}) \\\\\n",
    "p_{2,1,2} &= \\mathbb{P}(X_1 = \\text{Glamorgan}, X_2 = \\text{malignant}, X_3=\\text{survived}) \\\\\n",
    "p_{2,2,1} &= \\mathbb{P}(X_1 = \\text{Glamorgan}, X_2 = \\text{benign}, X_3=\\text{died}) \\\\\n",
    "p_{2,2,2} &= \\mathbb{P}(X_1 = \\text{Glamorgan}, X_2 = \\text{benign}, X_3=\\text{survived}) \\\\\n",
    "\\end{split}$$"
   ]
  },
  {
   "cell_type": "code",
   "execution_count": 36,
   "id": "6d3a016d-32e5-464e-a773-deaa870c68af",
   "metadata": {},
   "outputs": [],
   "source": [
    "import numpy as np\n",
    "import scipy.stats as stats"
   ]
  },
  {
   "cell_type": "code",
   "execution_count": 7,
   "id": "152c64cb-5a9a-465f-b401-386b04344b11",
   "metadata": {},
   "outputs": [],
   "source": [
    "x = np.array([\n",
    "    [\n",
    "        [35, 59], \n",
    "        [47, 112],\n",
    "    ],\n",
    "    [\n",
    "        [42, 77],\n",
    "        [26, 76],\n",
    "    ],\n",
    "])"
   ]
  },
  {
   "cell_type": "markdown",
   "id": "1df991d7-4ccf-41b3-a0b3-5e2505f953e2",
   "metadata": {},
   "source": [
    "The maximum likelihood estimator of the probabilities is:"
   ]
  },
  {
   "cell_type": "code",
   "execution_count": 73,
   "id": "978c7f96-4060-4bb3-a983-7f515ce30563",
   "metadata": {},
   "outputs": [
    {
     "data": {
      "text/plain": [
       "array([[[0.07383966, 0.12447257],\n",
       "        [0.09915612, 0.23628692]],\n",
       "\n",
       "       [[0.08860759, 0.16244726],\n",
       "        [0.05485232, 0.16033755]]])"
      ]
     },
     "execution_count": 73,
     "metadata": {},
     "output_type": "execute_result"
    }
   ],
   "source": [
    "p_hat = x / np.sum(x)\n",
    "p_hat"
   ]
  },
  {
   "cell_type": "markdown",
   "id": "4fe77b33-1ff0-4db5-be65-f6b4f4e57579",
   "metadata": {},
   "source": [
    "(b) The estimated probability that somebody with a benign tumor at the Glamorgan clinic will die:"
   ]
  },
  {
   "cell_type": "code",
   "execution_count": 13,
   "id": "6bf58cf6-dbce-4d77-a20f-54b9106a0b1b",
   "metadata": {},
   "outputs": [
    {
     "data": {
      "text/plain": [
       "np.float64(0.2549019607843137)"
      ]
     },
     "execution_count": 13,
     "metadata": {},
     "output_type": "execute_result"
    }
   ],
   "source": [
    "p = p_hat[1, 1, 0] / np.sum(p_hat[1, 1])\n",
    "p"
   ]
  },
  {
   "cell_type": "markdown",
   "id": "38ef3e57-e95a-4c73-b82d-81d0dfbf7b25",
   "metadata": {},
   "source": [
    "Following section 14.4, the standard error of the estimate is"
   ]
  },
  {
   "cell_type": "code",
   "execution_count": 14,
   "id": "2a943c6c-c7d7-4f50-bf59-ff040710dfa1",
   "metadata": {},
   "outputs": [
    {
     "data": {
      "text/plain": [
       "np.float64(0.02001723683244977)"
      ]
     },
     "execution_count": 14,
     "metadata": {},
     "output_type": "execute_result"
    }
   ],
   "source": [
    "np.sqrt(p * (1 - p) / np.sum(x))"
   ]
  },
  {
   "cell_type": "markdown",
   "id": "88b0c83b-72ef-4d17-8b86-c83dc9c4908e",
   "metadata": {},
   "source": [
    "(c) Using the results of Exercise 4, we test the hypothesis $X_1 \\perp \\!\\!\\! \\perp X_2 | X_3$."
   ]
  },
  {
   "cell_type": "markdown",
   "id": "5ff67885-e755-4313-93f3-45f7ad7b3a8a",
   "metadata": {},
   "source": [
    "The probabilities $p_{x_3=\\{0,1\\}}$:"
   ]
  },
  {
   "cell_type": "code",
   "execution_count": 82,
   "id": "c164629d-70c0-4e4d-8a78-a7b49a954d09",
   "metadata": {},
   "outputs": [
    {
     "data": {
      "text/plain": [
       "array([[[0.3164557, 0.6835443]]])"
      ]
     },
     "execution_count": 82,
     "metadata": {},
     "output_type": "execute_result"
    }
   ],
   "source": [
    "p3 = np.sum(x, axis=(0, 1), keepdims=True) / np.sum(x)\n",
    "p3"
   ]
  },
  {
   "cell_type": "markdown",
   "id": "636d1f68-1b64-40f0-9e1d-5cc2c3974dc8",
   "metadata": {},
   "source": [
    "The probabilities $p_{x_1=\\{0,1\\}|x_3=\\{0,1\\}}$:"
   ]
  },
  {
   "cell_type": "code",
   "execution_count": 83,
   "id": "8b9f273d-afe6-4798-ae77-1e23e23e39de",
   "metadata": {},
   "outputs": [
    {
     "data": {
      "text/plain": [
       "array([[[0.54666667, 0.52777778]],\n",
       "\n",
       "       [[0.45333333, 0.47222222]]])"
      ]
     },
     "execution_count": 83,
     "metadata": {},
     "output_type": "execute_result"
    }
   ],
   "source": [
    "p1 = np.sum(x, axis=1, keepdims=True) / np.sum(x) / p3\n",
    "p1"
   ]
  },
  {
   "cell_type": "markdown",
   "id": "d0e8996e-fdc1-4957-b668-e580a5cd8815",
   "metadata": {},
   "source": [
    "The probabilities $p_{x_2=\\{0,1\\}|x_3=\\{0,1\\}}$:"
   ]
  },
  {
   "cell_type": "code",
   "execution_count": 84,
   "id": "759d0116-19d9-477a-afc9-edf470389493",
   "metadata": {},
   "outputs": [
    {
     "data": {
      "text/plain": [
       "array([[[0.51333333, 0.41975309],\n",
       "        [0.48666667, 0.58024691]]])"
      ]
     },
     "execution_count": 84,
     "metadata": {},
     "output_type": "execute_result"
    }
   ],
   "source": [
    "p2 = np.sum(x, axis=0, keepdims=True) / np.sum(x) / p3\n",
    "p2"
   ]
  },
  {
   "cell_type": "markdown",
   "id": "8a79361f-4501-420a-9725-e482b3a9c9d1",
   "metadata": {},
   "source": [
    "The log-likelihood under unrestricted model:"
   ]
  },
  {
   "cell_type": "code",
   "execution_count": 85,
   "id": "9ec0b0cc-14c2-481f-b46e-fb404f34254e",
   "metadata": {},
   "outputs": [
    {
     "data": {
      "text/plain": [
       "np.float64(-940.6701829745211)"
      ]
     },
     "execution_count": 85,
     "metadata": {},
     "output_type": "execute_result"
    }
   ],
   "source": [
    "L1 = np.sum(x * np.log(p_hat))\n",
    "L1"
   ]
  },
  {
   "cell_type": "markdown",
   "id": "b106e32f-9839-40db-a8e3-21eb8703dcd0",
   "metadata": {},
   "source": [
    "The log-likelihood under the restricted model:"
   ]
  },
  {
   "cell_type": "code",
   "execution_count": 86,
   "id": "98eedf2e-01c3-494a-9612-5ecb62798d1a",
   "metadata": {},
   "outputs": [
    {
     "data": {
      "text/plain": [
       "np.float64(-947.5607811932782)"
      ]
     },
     "execution_count": 86,
     "metadata": {},
     "output_type": "execute_result"
    }
   ],
   "source": [
    "L0 = np.sum(x * np.log(p1 * p2 * p3))\n",
    "L0"
   ]
  },
  {
   "cell_type": "markdown",
   "id": "e4ed813e-096e-4a5f-b424-0817ca7e7b26",
   "metadata": {},
   "source": [
    "The test statistics of the likelihood ratio test is:"
   ]
  },
  {
   "cell_type": "code",
   "execution_count": 87,
   "id": "6341a464-6b3f-4953-8f75-2894f432eec6",
   "metadata": {},
   "outputs": [
    {
     "data": {
      "text/plain": [
       "np.float64(13.781196437514154)"
      ]
     },
     "execution_count": 87,
     "metadata": {},
     "output_type": "execute_result"
    }
   ],
   "source": [
    "lam = 2 * (L1 - L0)\n",
    "lam"
   ]
  },
  {
   "cell_type": "markdown",
   "id": "fed07551-9ff2-4cea-9ed5-d83dec31197d",
   "metadata": {},
   "source": [
    "The p-value is small, so we reject the null hypothesis of conditional independence:"
   ]
  },
  {
   "cell_type": "code",
   "execution_count": 88,
   "id": "0cb7c4c8-85da-4df8-8271-8c8240a05d6b",
   "metadata": {},
   "outputs": [
    {
     "data": {
      "text/plain": [
       "np.float64(0.001017305087944568)"
      ]
     },
     "execution_count": 88,
     "metadata": {},
     "output_type": "execute_result"
    }
   ],
   "source": [
    "stats.chi2.sf(lam, df=2)"
   ]
  },
  {
   "cell_type": "markdown",
   "id": "18321170-fc5b-46f1-9274-397941ee6181",
   "metadata": {},
   "source": [
    "We wrap the test in a function:"
   ]
  },
  {
   "cell_type": "code",
   "execution_count": 99,
   "id": "8a2c5f11-ebc1-4aa9-8771-f1c6a7841a87",
   "metadata": {},
   "outputs": [],
   "source": [
    "def test_cond_independence(x, cond_idx):\n",
    "    other_idx = tuple(i for i in range(3) if i != cond_idx)\n",
    "    p_hat = x / np.sum(x)\n",
    "    p3 = np.sum(x, axis=other_idx, keepdims=True) / np.sum(x)\n",
    "    p1 = np.sum(x, axis=other_idx[1], keepdims=True) / np.sum(x) / p3\n",
    "    p2 = np.sum(x, axis=other_idx[0], keepdims=True) / np.sum(x) / p3\n",
    "    L1 = np.sum(x * np.log(p_hat))\n",
    "    L0 = np.sum(x * np.log(p1 * p2 * p3))\n",
    "    lam = 2 * (L1 - L0)\n",
    "    pvalue = stats.chi2.sf(lam, df=2)\n",
    "    return lam, pvalue"
   ]
  },
  {
   "cell_type": "code",
   "execution_count": 100,
   "id": "4b4af05f-82a7-4f2d-a735-7d96a7c77e20",
   "metadata": {},
   "outputs": [
    {
     "data": {
      "text/plain": [
       "(np.float64(13.781196437514154), np.float64(0.001017305087944568))"
      ]
     },
     "execution_count": 100,
     "metadata": {},
     "output_type": "execute_result"
    }
   ],
   "source": [
    "test_cond_independence(x, 2)"
   ]
  },
  {
   "cell_type": "markdown",
   "id": "158efdca-d659-4128-b88a-82239cd26a5b",
   "metadata": {},
   "source": [
    "Now we test the hypothesis $X_1 \\perp \\!\\!\\! \\perp X_3 | X_2$:"
   ]
  },
  {
   "cell_type": "code",
   "execution_count": 101,
   "id": "7c9842be-e705-4c93-a8d5-4ab2514b13f4",
   "metadata": {},
   "outputs": [
    {
     "data": {
      "text/plain": [
       "(np.float64(0.600069271822349), np.float64(0.7407925622119846))"
      ]
     },
     "execution_count": 101,
     "metadata": {},
     "output_type": "execute_result"
    }
   ],
   "source": [
    "test_cond_independence(x, 1)"
   ]
  },
  {
   "cell_type": "markdown",
   "id": "30a1629c-f817-441d-bd61-e646351ad1fc",
   "metadata": {},
   "source": [
    "We do not reject the null hypothesis of conditional independence."
   ]
  },
  {
   "cell_type": "markdown",
   "id": "80bcbfb9-e2e3-4a60-b15c-97c1042933f7",
   "metadata": {},
   "source": [
    "Finally, we test the hypothesis $X_2 \\perp \\!\\!\\! \\perp X_3 | X_1$:"
   ]
  },
  {
   "cell_type": "code",
   "execution_count": 102,
   "id": "6a90ba72-5a39-4b6d-80a1-e7747fd3d445",
   "metadata": {},
   "outputs": [
    {
     "data": {
      "text/plain": [
       "(np.float64(4.072425016249781), np.float64(0.13052212738006227))"
      ]
     },
     "execution_count": 102,
     "metadata": {},
     "output_type": "execute_result"
    }
   ],
   "source": [
    "test_cond_independence(x, 0)"
   ]
  },
  {
   "cell_type": "markdown",
   "id": "a8062bc1-9c06-4c2f-8054-95979ecbd25e",
   "metadata": {},
   "source": [
    "We do not reject the null hypothesis of conditional independence."
   ]
  },
  {
   "cell_type": "markdown",
   "id": "bba0ceaf-e070-4af5-a8d4-f5e0aa37bd02",
   "metadata": {},
   "source": [
    "The resulting graph is as follows\n",
    "\n",
    "![Exercise 5](ex5.svg)\n",
    "\n",
    "The graph suggests that dying ($X_3$) is independent of the type of tumor ($X_2$) and the test location ($X_1$), which does not seem particularly credible."
   ]
  }
 ],
 "metadata": {
  "kernelspec": {
   "display_name": "Python 3 (ipykernel)",
   "language": "python",
   "name": "python3"
  },
  "language_info": {
   "codemirror_mode": {
    "name": "ipython",
    "version": 3
   },
   "file_extension": ".py",
   "mimetype": "text/x-python",
   "name": "python",
   "nbconvert_exporter": "python",
   "pygments_lexer": "ipython3",
   "version": "3.13.0"
  }
 },
 "nbformat": 4,
 "nbformat_minor": 5
}
