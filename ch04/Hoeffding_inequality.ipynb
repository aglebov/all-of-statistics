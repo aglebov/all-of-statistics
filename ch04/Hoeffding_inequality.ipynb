{
 "cells": [
  {
   "cell_type": "markdown",
   "id": "67850325-a04f-4480-a749-9b91131116a4",
   "metadata": {},
   "source": [
    "Here we check that $g''(u) \\leq \\frac{1}{4}$ as used in the proof of Theorem 4.4 on page 67.\n",
    "\n",
    "If \n",
    "$$g(u) = -\\gamma u + \\log (1 - \\gamma + \\gamma e^u),$$\n",
    "then\n",
    "$$\\begin{split}\n",
    "g'(u) &= -\\gamma + \\frac{\\gamma e^u}{1 - \\gamma + \\gamma e^u} \\\\\n",
    "g''(u) &= \\frac{\\gamma e^u(1 - \\gamma + \\gamma e^u) - \\gamma^2 e^{2u}}{(1 - \\gamma + \\gamma e^u)^2} = \\frac{\\gamma (1 - \\gamma) e^u}{(1 - \\gamma + \\gamma e^u)^2} \\\\\n",
    "g'''(u) &= \\gamma (1 - \\gamma) \\frac{ e^u (1 - \\gamma + \\gamma e^u)^2 - 2 (1 - \\gamma + \\gamma e^u) \\gamma e^{2u}}{(1 - \\gamma + \\gamma e^u)^4} \n",
    "= \\gamma (1 - \\gamma) \\frac{e^u (1 - \\gamma - \\gamma e^u)}{(1 - \\gamma + \\gamma e^u)^3}\\\\\n",
    "\\end{split}$$\n",
    "\n",
    "Note that if $u \\to +\\infty$ or $u \\to -\\infty$, $g''(u) \\to 0$.\n",
    "If $\\gamma \\in (0, 1)$, then $g''(u) > 0$, so $g''(u)$ can only have a maximum. To find it, we set $g'''(u) = 0$ and obtain $u = \\log\\frac{1-\\gamma}{\\gamma}$. Then \n",
    "$$g''\\left(\\log\\frac{1-\\gamma}{\\gamma}\\right) = \\frac{1}{4}.$$\n",
    "If $\\gamma < 0$ or $\\gamma > 1$, $g''(u) < 0$, so\n",
    "$$g''(u) \\leq \\frac{1}{4}.$$"
   ]
  }
 ],
 "metadata": {
  "kernelspec": {
   "display_name": "Python 3 (ipykernel)",
   "language": "python",
   "name": "python3"
  },
  "language_info": {
   "codemirror_mode": {
    "name": "ipython",
    "version": 3
   },
   "file_extension": ".py",
   "mimetype": "text/x-python",
   "name": "python",
   "nbconvert_exporter": "python",
   "pygments_lexer": "ipython3",
   "version": "3.12.6"
  }
 },
 "nbformat": 4,
 "nbformat_minor": 5
}
