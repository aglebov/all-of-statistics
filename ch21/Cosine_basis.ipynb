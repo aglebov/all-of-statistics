{
 "cells": [
  {
   "cell_type": "markdown",
   "id": "d7a7e48c-9b03-47f4-82e4-46c0fca8e5d1",
   "metadata": {},
   "source": [
    "We know that\n",
    "$$\\cos(a + b) = \\cos a \\cos b - \\sin a \\sin b,$$\n",
    "then\n",
    "$$\\cos(a + b) + \\cos(a - b) = \\cos a \\cos b - \\sin a \\sin b + \\cos a \\cos b + \\sin a \\sin b = 2 \\cos a \\cos b,$$\n",
    "thus\n",
    "$$\\cos a \\cos b = \\frac{\\cos(a + b) + \\cos(a - b)}{2}.$$\n",
    "Then for $j > k$\n",
    "$$\\begin{split}\n",
    "\\int_0^1 \\phi_j(x) \\phi_k(x) dx \n",
    "&= \\int_0^1 \\sqrt{2} \\cos(j\\pi x) \\sqrt{2} \\cos(k\\pi x) dx \\\\\n",
    "&= 2 \\int_0^1 \\cos(j\\pi x) \\cos(k\\pi x) dx \\\\\n",
    "&= 2 \\int_0^1 \\frac{\\cos(j\\pi x + k\\pi x) + \\cos(j\\pi x - k \\pi x)}{2} dx \\\\\n",
    "&= \\int_0^1 \\cos((j+k)\\pi x) dx + \\int_0^1 \\cos((j-k)\\pi x) dx \\\\\n",
    "&= \\frac{1}{(j+k)\\pi} \\left.\\sin((j+k)\\pi x)\\right|_0^1 + \\frac{1}{(j-k)\\pi} \\left. \\sin((j-k)\\pi x)\\right|_0^1 \\\\\n",
    "&=0.\n",
    "\\end{split}$$"
   ]
  },
  {
   "cell_type": "markdown",
   "id": "bf96b99f-1c06-408e-830a-9918fade3e99",
   "metadata": {},
   "source": [
    "If $j = k$, then\n",
    "$$\\begin{split}\n",
    "\\int_0^1 \\phi_j(x) \\phi_k(x) dx \n",
    "&= \\int_0^1 \\sqrt{2} \\cos(j\\pi x) \\sqrt{2} \\cos(k\\pi x) dx \\\\\n",
    "&= 2 \\int_0^1 \\cos^2(j\\pi x) dx \\\\\n",
    "&= 2 \\int_0^1 \\frac{1 + \\cos(2j\\pi x)}{2} dx \\\\\n",
    "&= \\int_0^1 (1 + \\cos(2j\\pi x)) dx \\\\\n",
    "&= 1 + \\frac{1}{2j\\pi} \\left.\\sin(2j \\pi x)\\right|_0^1 \\\\\n",
    "&= 1.\n",
    "\\end{split}$$"
   ]
  },
  {
   "cell_type": "markdown",
   "id": "85f1ac63-8b57-45e0-b970-ff2bb951591d",
   "metadata": {},
   "source": [
    "We can see that\n",
    "$$\\int_0^1 \\phi_j(x) \\phi_k(x) dx = \\begin{cases}\n",
    "0, &\\text{ if } j \\neq k \\\\\n",
    "1, &\\text{ if } j = k,\n",
    "\\end{cases}$$\n",
    "hence $\\phi_j$ are orthonormal."
   ]
  }
 ],
 "metadata": {
  "kernelspec": {
   "display_name": "Python 3 (ipykernel)",
   "language": "python",
   "name": "python3"
  },
  "language_info": {
   "codemirror_mode": {
    "name": "ipython",
    "version": 3
   },
   "file_extension": ".py",
   "mimetype": "text/x-python",
   "name": "python",
   "nbconvert_exporter": "python",
   "pygments_lexer": "ipython3",
   "version": "3.13.0"
  }
 },
 "nbformat": 4,
 "nbformat_minor": 5
}
