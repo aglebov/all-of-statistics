{
 "cells": [
  {
   "cell_type": "markdown",
   "id": "9843d76c-964c-4cc0-861b-41a05abc7b9a",
   "metadata": {},
   "source": [
    "## Exercise 1\n",
    "\n",
    "Theorem 14.1 is the same as Lemma 3.21. The proof was given in Exercise 20 in Chapter 3."
   ]
  },
  {
   "cell_type": "markdown",
   "id": "fb6a81a9-13b2-4dd6-b73f-9bab8c4771f8",
   "metadata": {},
   "source": [
    "## Exercise 2\n",
    "\n",
    "Note that the full matrix $\\Sigma$ is singular, so it could not have been obtained by inverting the Fisher information matrix. For example, for $k=2$ we have\n",
    "$$\\Sigma = \\begin{pmatrix}\n",
    "p_1(1 - p_1) & -p_1 p_2 \\\\\n",
    "-p_1 p_2     & p_2 (1 - p_2) \\\\\n",
    "\\end{pmatrix}.$$\n",
    "\n",
    "Then\n",
    "$$|\\Sigma| = p_1 (1 - p_1) p_2 (1 - p_2) - p_1^2 p_2^2 = p_1 p_2 (1 - p_1 - p_2 + p_1 p_2) - p_1^2 p_2^2 = p_1 p_2 (1 - p_1 - p_2) = 0,$$\n",
    "since $p_1 + p_2 = 1$.\n",
    "\n",
    "To obtain the Fisher information matrix, we set \n",
    "$$p_k = 1 - \\sum_{l=1}^{k-1} p_l,$$\n",
    "so\n",
    "$$\\frac{\\partial p_k}{\\partial p_i} = -1$$\n",
    "for $i < k$.\n",
    "The log-likelihood becomes\n",
    "$$\\mathcal{l}(p) = \\sum_{l=1}^{k-1} X_l \\log p_l + X_k \\log p_k,$$\n",
    "so\n",
    "$$\\frac{\\partial}{\\partial p_i} \\mathcal{l}(p) = \\frac{X_i}{p_i} + \\frac{X_k}{p_k} \\frac{\\partial p_k}{\\partial p_i} = \\frac{X_i}{p_i} - \\frac{X_k}{p_k}$$\n",
    "and\n",
    "$$\\frac{\\partial^2}{\\partial p_i \\partial p_j} \\mathcal{l}(p) = \\begin{cases}\n",
    "-\\frac{X_i}{p_i^2} + \\frac{X_k}{p_k^2} \\frac{\\partial p_k}{\\partial p_i} = -\\frac{X_i}{p_i^2} - \\frac{X_k}{p_k^2} , &\\text{if } i = j, \\\\\n",
    "\\frac{X_k}{p_k^2} \\frac{\\partial p_k}{\\partial p_i} = -\\frac{X_k}{p_k^2}, &\\text{if } i \\neq j.\n",
    "\\end{cases}$$\n",
    "The elements of the Fisher information matrix are given by\n",
    "$$(I_n)_{ij} = -\\mathbb{E}\\left[\\frac{\\partial^2}{\\partial p_i \\partial p_j} \\mathcal{l}(p)\\right] = \\begin{cases}\n",
    "\\frac{\\mathbb{E}[X_i]}{p_i^2} + \\frac{\\mathbb{E}[X_k]}{p_k^2} = \\frac{n p_1}{p_i^2} + \\frac{n p_k}{p_k^2} = \\frac{n}{p_i} + \\frac{n}{p_k}, &\\text{if } i = j, \\\\\n",
    "\\frac{\\mathbb{E}[X_k]}{p_k^2} = \\frac{n p_k}{p_k^2} = \\frac{n}{p_k}, &\\text{if } i \\neq j,\n",
    "\\end{cases}$$\n",
    "so the matrix is of the form\n",
    "$$I_n = n \\begin{pmatrix}\n",
    "\\frac{1}{p_1} + \\frac{1}{p_k} & \\frac{1}{p_k} & \\cdots & \\frac{1}{p_k} \\\\\n",
    "\\frac{1}{p_k} & \\frac{1}{p_2} + \\frac{1}{p_k} & \\cdots & \\frac{1}{p_k} \\\\\n",
    "\\vdots & \\vdots & \\ddots & \\vdots \\\\\n",
    "\\frac{1}{p_k} & \\frac{1}{p_k} & \\cdots & \\frac{1}{p_{k-1}} + \\frac{1}{p_k} \\\\\n",
    "\\end{pmatrix}\n",
    "= \\frac{n}{p_k} \\begin{pmatrix}\n",
    "\\frac{p_1 + p_k}{p_1} & 1 & \\cdots & 1 \\\\\n",
    "1 & \\frac{p_2 + p_k}{p_2} & \\cdots & 1 \\\\\n",
    "\\vdots & \\vdots & \\ddots & \\vdots \\\\\n",
    "1 & 1 & \\cdots & \\frac{p_{k-1} + p_k}{p_{k-1}} \\\\\n",
    "\\end{pmatrix}.$$\n",
    "Note that the size of the matrix is $(k - 1) \\times (k - 1)$."
   ]
  },
  {
   "cell_type": "markdown",
   "id": "2bce7e14-2279-41a6-b102-a88b5b60b3bb",
   "metadata": {},
   "source": [
    "We verify that the Fisher information matrix $I = \\frac{1}{n} I_n$ is the inverse of the upper-left $(k-1)\\times(k-1)$ submatrix of $\\Sigma$, where\n",
    "$$\\Sigma = \\begin{pmatrix}\n",
    "p_1 (1 - p_1) & -p_1 p_2 & \\cdots & -p_1 p_{k-1} \\\\\n",
    "- p_1 p_2 & p_2 (1 - p_2) & \\cdots & -p_2 p_{k-1} \\\\\n",
    "\\vdots & \\vdots & \\ddots & \\vdots \\\\\n",
    "- p_1 p_{k-1} & p_2 p_{k-1} & \\cdots & p_{k-1} (1 - p_{k-1}) \\\\\n",
    "\\end{pmatrix}$$\n",
    "by calculating the elements of the product matrix directly. The diagonal elements are\n",
    "$$\\begin{split}\n",
    "\\left(I \\Sigma\\right)_{ii}\n",
    "= \\sum_{l=1}^{k=1} I_{il} \\Sigma_{li}\n",
    "&= \\frac{1}{p_k} \\left( - \\sum_{\\substack{l = 1 \\\\ l \\neq i}}^{k-1} p_l p_i + \\frac{p_i + p_k}{p_i} p_i (1 - p_i) \\right) \\\\\n",
    "&= \\frac{1}{p_k} \\left( - \\sum_{\\substack{l = 1 \\\\ l \\neq i}}^{k-1} p_l p_i + p_i + p_k - p_i p_k - p_i^2 \\right) \\\\\n",
    "&= \\frac{1}{p_k} \\left( - \\sum_{l = 1}^{k-1} p_l p_i + p_i + p_k - p_i p_k \\right) \\\\\n",
    "&= \\frac{1}{p_k} \\left( - p_i \\sum_{l = 1}^{k-1} p_l + p_i + p_k - p_i p_k \\right) \\\\\n",
    "&= \\frac{1}{p_k} \\left( - p_i \\left(1 +  \\sum_{l = 1}^{k-1} p_l\\right) + p_i + p_k \\right) \\\\\n",
    "&= \\frac{1}{p_k} \\left( - p_i + p_i + p_k \\right) \\\\\n",
    "&= \\frac{1}{p_k} p_k \\\\\n",
    "&= 1.\n",
    "\\end{split}$$\n",
    "\n",
    "Since both $I$ and $\\Sigma$ are symmetric, their product is symmetric, so we only need to calculate the off-diagonal elements for $i < j$:\n",
    "$$\\begin{split}\n",
    "\\left(I \\Sigma\\right)_{ij}\n",
    "= \\sum_{l=1}^{k=1} I_{il} \\Sigma_{lj}\n",
    "&= \\frac{1}{p_k} \\left( - \\sum_{\\substack{l = 1 \\\\ l \\neq i \\\\ l \\neq j}}^{k-1} p_l p_j - \\frac{p_i + p_k}{p_i} p_i p_j + p_j (1 - p_j) \\right) \\\\\n",
    "&= \\frac{1}{p_k} \\left( - \\sum_{\\substack{l = 1 \\\\ l \\neq i \\\\ l \\neq j}}^{k-1} p_l p_j - p_i p_j - p_k p_j + p_j - p_j^2  \\right) \\\\\n",
    "&= \\frac{1}{p_k} \\left( - \\sum_{l = 1}^{k-1} p_l p_j - p_k p_j + p_j \\right) \\\\\n",
    "&= \\frac{1}{p_k} \\left( - p_j \\left( \\sum_{l = 1}^{k-1} p_l + p_k \\right) + p_j \\right) \\\\\n",
    "&= \\frac{1}{p_k} \\left( - p_j + p_j \\right) \\\\\n",
    "&= 0.\n",
    "\\end{split}$$\n",
    "We can see that the product is the identity matrix, hence the matrices are inverses of each other."
   ]
  },
  {
   "cell_type": "markdown",
   "id": "c3828bfd-61af-4546-bd94-28200804d8d4",
   "metadata": {},
   "source": [
    "## Exercise 3"
   ]
  },
  {
   "cell_type": "code",
   "execution_count": 1,
   "id": "98d6ae7c-9f9e-4268-b471-b502dc4ed4dd",
   "metadata": {},
   "outputs": [],
   "source": [
    "import numpy as np\n",
    "import scipy.stats as stats"
   ]
  },
  {
   "cell_type": "code",
   "execution_count": 2,
   "id": "c8650ebf-6077-41ee-9a90-960775eb85f0",
   "metadata": {},
   "outputs": [],
   "source": [
    "rng = np.random.default_rng(12345)"
   ]
  },
  {
   "cell_type": "markdown",
   "id": "2b85f90f-dcb1-464d-9139-469c19baa6e2",
   "metadata": {},
   "source": [
    "### First approach\n",
    "\n",
    "Based on the analogy of drawing $n$ balls from an urn with balls of $k$ colors, where the probability of drawing a ball of color $i$ is $p_i$."
   ]
  },
  {
   "cell_type": "code",
   "execution_count": 3,
   "id": "83c2457b-850e-4b7c-bcf2-aab533c49840",
   "metadata": {},
   "outputs": [],
   "source": [
    "def multinomial_rvs(n, p, size, random_state):\n",
    "    k = p.shape[0]\n",
    "\n",
    "    def counts(x):\n",
    "        values, counts = np.unique(x, return_counts=True)\n",
    "        res = np.zeros(k, dtype='int64')\n",
    "        res[values] = counts\n",
    "        return res\n",
    "\n",
    "    size_n = (*size, n) if type(size) == tuple else (size, n)\n",
    "    x = random_state.choice(k, size=size_n, p=p)\n",
    "    return np.apply_along_axis(counts, -1, x)"
   ]
  },
  {
   "cell_type": "code",
   "execution_count": 4,
   "id": "231aa873-d913-4bb8-896f-2992705aaa91",
   "metadata": {},
   "outputs": [
    {
     "data": {
      "text/plain": [
       "array([[[1, 4, 4, 1],\n",
       "        [1, 4, 4, 1],\n",
       "        [5, 3, 2, 0]],\n",
       "\n",
       "       [[0, 2, 5, 3],\n",
       "        [1, 6, 2, 1],\n",
       "        [3, 6, 1, 0]],\n",
       "\n",
       "       [[1, 8, 1, 0],\n",
       "        [2, 2, 6, 0],\n",
       "        [3, 3, 4, 0]],\n",
       "\n",
       "       [[2, 5, 1, 2],\n",
       "        [1, 6, 3, 0],\n",
       "        [4, 1, 3, 2]],\n",
       "\n",
       "       [[2, 6, 2, 0],\n",
       "        [0, 2, 6, 2],\n",
       "        [4, 2, 3, 1]]])"
      ]
     },
     "execution_count": 4,
     "metadata": {},
     "output_type": "execute_result"
    }
   ],
   "source": [
    "n = 10\n",
    "p = np.array([0.2, 0.3, 0.4, 0.1])\n",
    "multinomial_rvs(n, p, size=(5, 3), random_state=rng)"
   ]
  },
  {
   "cell_type": "markdown",
   "id": "10d136d1-f150-4bd6-a0a3-2005d4d22bda",
   "metadata": {},
   "source": [
    "### Second approach"
   ]
  },
  {
   "cell_type": "markdown",
   "id": "e4a4a5dd-87f0-4291-828e-31d74ac9688d",
   "metadata": {},
   "source": [
    "Given the value $X_1 = n_1$, the distribution of the remaining variables $X_2, \\dots, X_k$ is $\\text{Multinomial}\\left(n-n_1, \\left(\\frac{p_2}{\\sum_{i=2}^k p_i}, \\dots, \\frac{p_k}{\\sum_{i=2}^k p_i}\\right)\\right)$, i.e. with the probabilities of the remaining categories renormalised.\n",
    "\n",
    "So we can build an algorithm that draws $X_i$ iteratively from the conditional distribution $P(X_i | X_1 = n_1, \\dots, X_{i-1} = n_{i-1})$, which is \n",
    "$$\\text{Binomial}\\left(n - \\sum_{j=1}^{i-1} n_j, \\frac{p_i}{\\sum_{j=i}^k p_j} \\right).$$\n",
    "Given the preceding values, the last element $X_k$ is fixed, so does not need to be drawn randomly."
   ]
  },
  {
   "cell_type": "code",
   "execution_count": 5,
   "id": "db98382a-9126-4776-ad61-28aa719d8801",
   "metadata": {},
   "outputs": [],
   "source": [
    "def multinomial_rvs_binom_one(n, p, random_state):\n",
    "    k = p.shape[0]\n",
    "    n_remaining = n\n",
    "    res = []\n",
    "    for i in range(k - 1):\n",
    "        p_rescaled = p[i:]\n",
    "        p_rescaled = p_rescaled / np.sum(p_rescaled)\n",
    "        x = stats.binom.rvs(n=n_remaining, p=p_rescaled[0], size=1, random_state=random_state)[0]\n",
    "        res.append(x)\n",
    "        n_remaining -= x\n",
    "    res.append(n_remaining)\n",
    "    return np.array(res)"
   ]
  },
  {
   "cell_type": "code",
   "execution_count": 6,
   "id": "79ddff45-b3f3-4bef-bc51-a07b38d4acf8",
   "metadata": {},
   "outputs": [],
   "source": [
    "def multinomial_rvs_binom(n, p, size, random_state):\n",
    "    total_size = np.prod(np.array(size))\n",
    "    x = np.stack([multinomial_rvs_binom_one(n, p, random_state) for i in range(total_size)], axis=0)\n",
    "    if type(size) == tuple:\n",
    "        return x.reshape(*size, -1)\n",
    "    else:\n",
    "        return x"
   ]
  },
  {
   "cell_type": "code",
   "execution_count": 7,
   "id": "e8236a35-5570-4134-aced-12d4abfe35ac",
   "metadata": {},
   "outputs": [
    {
     "data": {
      "text/plain": [
       "array([[[3, 4, 3, 0],\n",
       "        [1, 3, 5, 1],\n",
       "        [1, 2, 6, 1]],\n",
       "\n",
       "       [[4, 5, 1, 0],\n",
       "        [3, 3, 3, 1],\n",
       "        [1, 5, 2, 2]],\n",
       "\n",
       "       [[3, 5, 0, 2],\n",
       "        [2, 4, 3, 1],\n",
       "        [1, 3, 6, 0]],\n",
       "\n",
       "       [[4, 0, 5, 1],\n",
       "        [1, 2, 7, 0],\n",
       "        [3, 3, 4, 0]],\n",
       "\n",
       "       [[7, 1, 2, 0],\n",
       "        [1, 4, 5, 0],\n",
       "        [3, 4, 3, 0]]])"
      ]
     },
     "execution_count": 7,
     "metadata": {},
     "output_type": "execute_result"
    }
   ],
   "source": [
    "multinomial_rvs_binom(n, p, size=(5, 3), random_state=rng)"
   ]
  },
  {
   "cell_type": "markdown",
   "id": "04e7cafc-788e-4c3c-8e8c-c1da2c65ced4",
   "metadata": {},
   "source": [
    "The direct implementation is very fast for small $n$:"
   ]
  },
  {
   "cell_type": "code",
   "execution_count": 8,
   "id": "3acc8fe8-8ea2-4603-b8fb-046ef936bce2",
   "metadata": {},
   "outputs": [
    {
     "name": "stdout",
     "output_type": "stream",
     "text": [
      "3.54 ms ± 24.2 μs per loop (mean ± std. dev. of 7 runs, 100 loops each)\n"
     ]
    }
   ],
   "source": [
    "%%timeit\n",
    "multinomial_rvs(10, p, size=100, random_state=rng)"
   ]
  },
  {
   "cell_type": "code",
   "execution_count": 9,
   "id": "15f42e6f-980e-4969-b105-00751aa3ba04",
   "metadata": {},
   "outputs": [
    {
     "name": "stdout",
     "output_type": "stream",
     "text": [
      "32.4 ms ± 698 μs per loop (mean ± std. dev. of 7 runs, 10 loops each)\n"
     ]
    }
   ],
   "source": [
    "%%timeit\n",
    "multinomial_rvs_binom(10, p, size=100, random_state=rng)"
   ]
  },
  {
   "cell_type": "markdown",
   "id": "7ac3f495-d1a5-453b-a7b0-8b020e125a80",
   "metadata": {},
   "source": [
    "But it loses out to the second implementation as $n$ grows:"
   ]
  },
  {
   "cell_type": "code",
   "execution_count": 10,
   "id": "49d449e3-265c-47ce-b5ef-615c0ba162f7",
   "metadata": {},
   "outputs": [
    {
     "name": "stdout",
     "output_type": "stream",
     "text": [
      "190 ms ± 3.23 ms per loop (mean ± std. dev. of 7 runs, 10 loops each)\n"
     ]
    }
   ],
   "source": [
    "%%timeit\n",
    "multinomial_rvs(50_000, p, size=100, random_state=rng)"
   ]
  },
  {
   "cell_type": "code",
   "execution_count": 11,
   "id": "84e489b6-dadb-497d-9381-443d78047681",
   "metadata": {},
   "outputs": [
    {
     "name": "stdout",
     "output_type": "stream",
     "text": [
      "33.7 ms ± 372 μs per loop (mean ± std. dev. of 7 runs, 10 loops each)\n"
     ]
    }
   ],
   "source": [
    "%%timeit\n",
    "multinomial_rvs_binom(50_000, p, size=100, random_state=rng)"
   ]
  },
  {
   "cell_type": "markdown",
   "id": "8bac2d31-6826-4612-91d8-fd50aff8ba73",
   "metadata": {},
   "source": [
    "## Exercise 4\n",
    "\n",
    "Using Theorem 14.2, $N(\\mu, \\Sigma)$ can be obtained as $\\mu + \\Sigma^{1/2} Z$, where $Z \\sim N(0, I)$."
   ]
  },
  {
   "cell_type": "code",
   "execution_count": 12,
   "id": "38fadea2-7e1d-4d9d-909e-9ef16be65fe3",
   "metadata": {},
   "outputs": [],
   "source": [
    "from scipy.linalg import sqrtm"
   ]
  },
  {
   "cell_type": "code",
   "execution_count": 13,
   "id": "99e452d5-0808-4e87-9e11-8c106bd9aaef",
   "metadata": {},
   "outputs": [],
   "source": [
    "def multivariate_normal_rvs(mean, cov, size, random_state):\n",
    "    sqrt_cov = sqrtm(cov)\n",
    "    k = mean.shape[0]\n",
    "    size_k = (*size, k) if type(size) == tuple else (size, k)\n",
    "    z = stats.norm.rvs(size=size_k, random_state=random_state)\n",
    "    return z @ sqrt_cov + mean"
   ]
  },
  {
   "cell_type": "code",
   "execution_count": 14,
   "id": "5a088063-fd23-4ab4-a00d-d5465b11766f",
   "metadata": {},
   "outputs": [
    {
     "data": {
      "text/plain": [
       "array([[[-0.1520211 , -0.04528769],\n",
       "        [ 1.89060222, -0.23577425],\n",
       "        [-0.27100631, -0.35917534]],\n",
       "\n",
       "       [[-1.85343425, -3.18548235],\n",
       "        [-2.83334093, -1.00481407],\n",
       "        [-0.77732981, -1.31508386]],\n",
       "\n",
       "       [[-0.25681945, -0.58879019],\n",
       "        [-2.72761396, -1.65008146],\n",
       "        [ 1.21284017,  0.033073  ]],\n",
       "\n",
       "       [[ 0.03827756, -0.55015666],\n",
       "        [ 1.79883394,  1.24107232],\n",
       "        [ 0.34984607, -0.59549895]],\n",
       "\n",
       "       [[ 0.06178462,  0.18773396],\n",
       "        [-0.66801389,  0.35200432],\n",
       "        [ 0.3279481 ,  0.05188939]]])"
      ]
     },
     "execution_count": 14,
     "metadata": {},
     "output_type": "execute_result"
    }
   ],
   "source": [
    "mean = np.array([0.5, -0.3])\n",
    "Sigma = np.array([\n",
    "    [2.0, 0.8],\n",
    "    [0.8, 1.0],\n",
    "])\n",
    "multivariate_normal_rvs(mean, Sigma, size=(5, 3), random_state=rng)"
   ]
  },
  {
   "cell_type": "markdown",
   "id": "d55059a5-f138-4988-ad13-abb03ca4d2a2",
   "metadata": {},
   "source": [
    "## Exercise 5"
   ]
  },
  {
   "cell_type": "code",
   "execution_count": 15,
   "id": "70f25e3c-f6ca-433a-a77e-61d00ca94711",
   "metadata": {},
   "outputs": [],
   "source": [
    "import matplotlib.pyplot as plt"
   ]
  },
  {
   "cell_type": "code",
   "execution_count": 16,
   "id": "9e2d384d-31aa-4ffb-86ff-0913faadbc01",
   "metadata": {},
   "outputs": [],
   "source": [
    "n = 100\n",
    "mean = np.array([3., 8.])\n",
    "cov = np.array([\n",
    "    [1., 1.],\n",
    "    [1., 2.],\n",
    "])\n",
    "x = stats.multivariate_normal.rvs(mean=mean, cov=cov, size=n, random_state=rng)"
   ]
  },
  {
   "cell_type": "code",
   "execution_count": 17,
   "id": "a870cfa9-3963-45f8-965c-3799e330dacf",
   "metadata": {},
   "outputs": [
    {
     "data": {
      "image/png": "[encoded data removed]",
      "text/plain": [
       "<Figure size 640x480 with 1 Axes>"
      ]
     },
     "metadata": {},
     "output_type": "display_data"
    }
   ],
   "source": [
    "fig, ax = plt.subplots()\n",
    "ax.scatter(x[:, 0], x[:, 1]);\n",
    "ax.set_xlabel('$x_1$');\n",
    "ax.set_ylabel('$x_2$');\n",
    "ax.set_title('Sample from a multivate normal');"
   ]
  },
  {
   "cell_type": "markdown",
   "id": "66042a4d-c655-4682-9fc3-9b556db1499f",
   "metadata": {},
   "source": [
    "The sample mean:"
   ]
  },
  {
   "cell_type": "code",
   "execution_count": 18,
   "id": "a200c937-b2d1-4387-bfb5-38d10632a806",
   "metadata": {},
   "outputs": [
    {
     "data": {
      "text/plain": [
       "array([2.88829979, 7.96689129])"
      ]
     },
     "execution_count": 18,
     "metadata": {},
     "output_type": "execute_result"
    }
   ],
   "source": [
    "np.mean(x, axis=0)"
   ]
  },
  {
   "cell_type": "markdown",
   "id": "39c0c072-10d2-4966-a6bb-ceda42f8b3a2",
   "metadata": {},
   "source": [
    "The sample covariance matrix:"
   ]
  },
  {
   "cell_type": "code",
   "execution_count": 19,
   "id": "083e6d0c-0eef-44c2-ac72-842d44bfc238",
   "metadata": {},
   "outputs": [
    {
     "data": {
      "text/plain": [
       "array([[1.17008588, 1.0689675 ],\n",
       "       [1.0689675 , 1.94385104]])"
      ]
     },
     "execution_count": 19,
     "metadata": {},
     "output_type": "execute_result"
    }
   ],
   "source": [
    "cov_hat = np.cov(x, rowvar=False, ddof=1)\n",
    "cov_hat"
   ]
  },
  {
   "cell_type": "markdown",
   "id": "8331d07d-786d-4d61-8826-9b757350f700",
   "metadata": {},
   "source": [
    "The sample correlation betweeen $X_1$ and $X_2$:"
   ]
  },
  {
   "cell_type": "code",
   "execution_count": 20,
   "id": "867d0f4e-3b9f-4964-9c27-3a10870da635",
   "metadata": {},
   "outputs": [
    {
     "data": {
      "text/plain": [
       "np.float64(0.7088007090723288)"
      ]
     },
     "execution_count": 20,
     "metadata": {},
     "output_type": "execute_result"
    }
   ],
   "source": [
    "rho_hat = cov_hat[0, 1] / np.sqrt(cov_hat[0, 0] * cov_hat[1, 1])\n",
    "rho_hat"
   ]
  },
  {
   "cell_type": "code",
   "execution_count": 21,
   "id": "18835c5b-98a1-47b5-b24c-df220787e23b",
   "metadata": {},
   "outputs": [
    {
     "data": {
      "text/plain": [
       "PearsonRResult(statistic=np.float64(0.7088007090723291), pvalue=np.float64(1.5765134126685553e-16))"
      ]
     },
     "execution_count": 21,
     "metadata": {},
     "output_type": "execute_result"
    }
   ],
   "source": [
    "stats.pearsonr(x[:, 0], x[:, 1])"
   ]
  },
  {
   "cell_type": "code",
   "execution_count": 22,
   "id": "e3530a45-f530-47f8-96bd-a8ba161fd0cb",
   "metadata": {},
   "outputs": [
    {
     "data": {
      "text/plain": [
       "np.float64(0.7088007090723287)"
      ]
     },
     "execution_count": 22,
     "metadata": {},
     "output_type": "execute_result"
    }
   ],
   "source": [
    "np.corrcoef(x, rowvar=False)[0, 1]"
   ]
  },
  {
   "cell_type": "markdown",
   "id": "a40b27ef-f43a-437e-a640-bbe700ddfa45",
   "metadata": {},
   "source": [
    "The true correlation is:"
   ]
  },
  {
   "cell_type": "code",
   "execution_count": 23,
   "id": "17935ba1-b4a0-4155-9df9-7779076d218f",
   "metadata": {},
   "outputs": [
    {
     "data": {
      "text/plain": [
       "np.float64(0.7071067811865475)"
      ]
     },
     "execution_count": 23,
     "metadata": {},
     "output_type": "execute_result"
    }
   ],
   "source": [
    "rho = cov[0, 1] / np.sqrt(cov[0, 0] * cov[1, 1])\n",
    "rho"
   ]
  },
  {
   "cell_type": "markdown",
   "id": "34343337-2e57-45cf-971c-69672862fb9f",
   "metadata": {},
   "source": [
    "The Fisher approximate confidence interval for the correlation is:"
   ]
  },
  {
   "cell_type": "code",
   "execution_count": 24,
   "id": "f3ce4500-815e-4db4-bfc1-afce01cddff1",
   "metadata": {},
   "outputs": [],
   "source": [
    "from fisher import fisher_conf_int"
   ]
  },
  {
   "cell_type": "code",
   "execution_count": 27,
   "id": "cb4b8501-8144-432f-9b60-52f813f576ba",
   "metadata": {},
   "outputs": [],
   "source": [
    "alpha = 0.05"
   ]
  },
  {
   "cell_type": "code",
   "execution_count": 28,
   "id": "01b32e58-3a53-4274-bab3-cb2c3ee63839",
   "metadata": {},
   "outputs": [
    {
     "data": {
      "text/plain": [
       "array([0.59525473, 0.79459437])"
      ]
     },
     "execution_count": 28,
     "metadata": {},
     "output_type": "execute_result"
    }
   ],
   "source": [
    "fisher_conf_int(rho_hat, n, alpha)"
   ]
  },
  {
   "cell_type": "markdown",
   "id": "2922da69-94c3-419a-94d6-5067a5c213f7",
   "metadata": {},
   "source": [
    "The bootstrap estimate of the confidence interval:"
   ]
  },
  {
   "cell_type": "code",
   "execution_count": 30,
   "id": "6d503164-35cc-45b1-a0b3-cbc7c03aba44",
   "metadata": {},
   "outputs": [],
   "source": [
    "m = 1000"
   ]
  },
  {
   "cell_type": "code",
   "execution_count": 31,
   "id": "c5d93159-70cc-43e0-a21c-b7140e17b19c",
   "metadata": {},
   "outputs": [],
   "source": [
    "res = stats.bootstrap((x[:, 0], x[:, 1]), lambda x, y: stats.pearsonr(x, y)[0], n_resamples=m, paired=True, random_state=rng)"
   ]
  },
  {
   "cell_type": "code",
   "execution_count": 32,
   "id": "04e69545-1d98-49e1-a523-109590a40f5b",
   "metadata": {},
   "outputs": [
    {
     "data": {
      "text/plain": [
       "array([0.62079353, 0.82986566])"
      ]
     },
     "execution_count": 32,
     "metadata": {},
     "output_type": "execute_result"
    }
   ],
   "source": [
    "2 * rho_hat - np.quantile(res.bootstrap_distribution, [1 - alpha / 2, alpha / 2])"
   ]
  },
  {
   "cell_type": "markdown",
   "id": "c887f745-706f-401a-891d-b5d0b11d0c68",
   "metadata": {},
   "source": [
    "The confidence intervals agree well."
   ]
  },
  {
   "cell_type": "markdown",
   "id": "70d52f2a-55a5-4a01-9eae-6343633bb947",
   "metadata": {},
   "source": [
    "## Exercise 6"
   ]
  },
  {
   "cell_type": "code",
   "execution_count": 33,
   "id": "d29481cf-fb15-49de-844c-d9b72ebe34a5",
   "metadata": {},
   "outputs": [],
   "source": [
    "repeats = 1000"
   ]
  },
  {
   "cell_type": "code",
   "execution_count": 34,
   "id": "abc7f2d2-a02b-4168-b40f-5ad59538087d",
   "metadata": {},
   "outputs": [],
   "source": [
    "def calculate_conf_ints():\n",
    "    x = stats.multivariate_normal.rvs(mean=mean, cov=cov, size=n, random_state=rng)\n",
    "    cov_hat = np.cov(x, rowvar=False, ddof=1)\n",
    "    rho_hat = cov_hat[0, 1] / np.sqrt(cov_hat[0, 0] * cov_hat[1, 1])\n",
    "    fisher_conf_int = fisher_transform_inv(fisher_transform(rho_hat) + np.array([-1, 1]) * stats.norm.ppf(1 - alpha / 2) / np.sqrt(n - 3))\n",
    "    bootstrap = stats.bootstrap((x[:, 0], x[:, 1]), lambda x, y: stats.pearsonr(x, y)[0], n_resamples=m, paired=True, random_state=rng)\n",
    "    bootstrap_conf_int = 2 * rho_hat - np.quantile(bootstrap.bootstrap_distribution, [1 - alpha / 2, alpha / 2])\n",
    "    return np.stack([fisher_conf_int, bootstrap_conf_int])"
   ]
  },
  {
   "cell_type": "code",
   "execution_count": 35,
   "id": "6932a852-93de-474f-89a4-2ca9848d63a3",
   "metadata": {},
   "outputs": [
    {
     "name": "stdout",
     "output_type": "stream",
     "text": [
      "CPU times: user 21min 52s, sys: 4.17 s, total: 21min 56s\n",
      "Wall time: 21min 57s\n"
     ]
    }
   ],
   "source": [
    "%%time\n",
    "conf_ints = np.stack([calculate_conf_ints() for i in range(repeats)])"
   ]
  },
  {
   "cell_type": "code",
   "execution_count": 36,
   "id": "1cfe5d2d-ae5d-4fbf-9a7f-8871d548fdaa",
   "metadata": {},
   "outputs": [
    {
     "data": {
      "text/plain": [
       "array([0.955, 0.926])"
      ]
     },
     "execution_count": 36,
     "metadata": {},
     "output_type": "execute_result"
    }
   ],
   "source": [
    "np.mean(np.apply_along_axis(lambda x: x[0] <= rho and rho <= x[1], 2, conf_ints), axis=0)"
   ]
  }
 ],
 "metadata": {
  "kernelspec": {
   "display_name": "Python 3 (ipykernel)",
   "language": "python",
   "name": "python3"
  },
  "language_info": {
   "codemirror_mode": {
    "name": "ipython",
    "version": 3
   },
   "file_extension": ".py",
   "mimetype": "text/x-python",
   "name": "python",
   "nbconvert_exporter": "python",
   "pygments_lexer": "ipython3",
   "version": "3.12.6"
  }
 },
 "nbformat": 4,
 "nbformat_minor": 5
}
