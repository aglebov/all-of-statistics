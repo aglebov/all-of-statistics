{
 "cells": [
  {
   "cell_type": "markdown",
   "metadata": {},
   "source": [
    "## Exercise 1\n",
    "\n",
    "Assuming that $X_1, \\dots, X_n \\sim \\text{Poisson}(\\lambda)$ are independent observations (this assumption is missing from the statement of the problem) and that $\\hat{\\lambda} = \\frac{1}{n} \\sum_{i=1}^n X_i$,\n",
    "\n",
    "$$\\text{bias} = E[\\hat{\\lambda}] - \\lambda = \\frac{1}{n} \\sum_{i=1}^n E[X_i] - \\lambda = \\frac{1}{n} n\\lambda - \\lambda = 0,$$\n",
    "\n",
    "$$\\text{se}^2 = V[\\hat{\\lambda}] = \\frac{1}{n^2} n V[X_i] = \\frac{\\lambda}{n},$$\n",
    "\n",
    "$$\\text{MSE} = \\text{bias}^2 + \\text{se}^2 = \\frac{\\lambda}{n}.$$\n",
    "\n",
    "Since $\\text{bias}=0$, this is an unbiased estimator. By Theorem 6.10, we can see that $\\hat{\\lambda}$ is also a consistent estimator."
   ]
  },
  {
   "cell_type": "markdown",
   "metadata": {},
   "source": [
    "## Exercise 2\n",
    "\n",
    "Let $X_1, \\dots, X_n \\sim \\text{Uniform}(0, \\theta)$ be independent observations (this assumption is missing from the statement of the problem). To begin with, we find the distribution of $Y_n = \\max(X_1, \\dots, X_n)$:\n",
    "\n",
    "$$F_{Y_n}(y) = P(Y_n \\leq y) = P(X_1 \\leq y, \\dots, X_n \\leq y) = P(X_1 \\leq y)^n = \\left(\\frac{y}{\\theta}\\right)^n$$\n",
    "\n",
    "and therefore\n",
    "\n",
    "$$f_{Y_n}(y) = F_{Y_n}'(y) = \\begin{cases}\n",
    "0, &\\text{if } y < 0, \\\\\n",
    "\\frac{n}{\\theta} \\left(\\frac{y}{\\theta}\\right)^{n-1}, &\\text{if } 0 \\leq y < \\theta, \\\\\n",
    "0, &\\text{if } \\theta \\leq y.\n",
    "\\end{cases}$$\n",
    "\n",
    "Then\n",
    "$$E[Y_n] \n",
    "= \\int_0^\\theta y \\frac{n}{\\theta} \\left(\\frac{y}{\\theta}\\right)^{n-1} dy \n",
    "= n \\int_0^\\theta \\left(\\frac{y}{\\theta}\\right)^n dy\n",
    "= n \\theta \\int_0^1 z^n dz\n",
    "= \\frac{n\\theta}{n+1},$$\n",
    "\n",
    "$$E\\left[Y_n^2\\right] \n",
    "= \\int_0^\\theta y^2 \\frac{n}{\\theta} \\left(\\frac{y}{\\theta}\\right)^{n-1} dy \n",
    "= n \\theta \\int_0^\\theta \\left(\\frac{y}{\\theta}\\right)^{n+1} dy\n",
    "= n \\theta^2 \\int_0^1 z^{n+1} dz\n",
    "= \\frac{n\\theta^2}{n+2},$$\n",
    "\n",
    "$$V[Y_n] \n",
    "= E\\left[Y_n^2\\right] - E[Y_n]^2\n",
    "= \\frac{n\\theta^2}{n+2} - \\frac{n^2\\theta^2}{(n+1)^2}\n",
    "= \\frac{n \\theta^2}{(n+1)^2 (n+2)},$$\n",
    "\n",
    "and so\n",
    "\n",
    "$$\\text{bias} = E[Y_n] - \\theta = -\\frac{\\theta}{n+1},$$\n",
    "$$\\text{se}^2 = V[Y_n] = \\frac{n \\theta^2}{(n+1)^2 (n+2)},$$\n",
    "$$\\text{MSE} = \\text{bias}^2 + \\text{se}^2 = \\frac{\\theta^2}{(n+1)^2} + \\frac{n \\theta^2}{(n+1)^2 (n+2)} = \\frac{2 \\theta}{(n+1)(n+2)}.$$\n",
    "\n",
    "Since $\\text{bias} \\neq 0$, this estimator is biased. However, $\\text{MSE} \\to 0$ as $n \\to \\infty$, so the estimator is consistent."
   ]
  },
  {
   "cell_type": "markdown",
   "metadata": {},
   "source": [
    "## Exercise 3\n",
    "\n",
    "Again let $X_1, \\dots, X_n \\sim \\text{Uniform}(0, \\theta)$ be independent observations (this assumption is missing from the statement of the problem) and $\\hat{\\theta} = 2 \\bar{X}_n$, where $\\bar{X}_n = \\frac{1}{n} \\sum_{i=1}^n X_i$.\n",
    "\n",
    "We have\n",
    "$$E[\\hat{\\theta}] = E[2 \\hat{X}_n] = E\\left[\\frac{2}{n} \\sum_{i=1}^n X_i \\right] = \\frac{2}{n} \\sum_{i=1}^n E[X_i] = \\theta,$$\n",
    "so\n",
    "$$\\text{bias} = E[\\hat{\\theta}] - \\theta = 0.$$\n",
    "\n",
    "Now,\n",
    "$$V[\\hat{\\theta}] = V[2 \\hat{X}_n] = V\\left[\\frac{2}{n} \\sum_{i=1}^n X_i \\right] = \\frac{4}{n^2} \\sum_{i=1}^n V[X_i] = \\frac{\\theta^2}{3n},$$\n",
    "and hence\n",
    "$$\\text{se}^2 = V[\\hat{\\theta}] = \\frac{\\theta^2}{3n}$$\n",
    "and\n",
    "$$\\text{MSE} = \\text{bias}^2 + \\text{se}^2 = \\frac{\\theta^2}{3n}.$$\n",
    "\n",
    "Since $\\text{bias}=0$, this is an unbiased estimator, and because $\\text{MSE} \\to 0$ as $n \\to \\infty$, it is also consistent."
   ]
  }
 ],
 "metadata": {
  "kernelspec": {
   "display_name": "Python 3 (ipykernel)",
   "language": "python",
   "name": "python3"
  },
  "language_info": {
   "codemirror_mode": {
    "name": "ipython",
    "version": 3
   },
   "file_extension": ".py",
   "mimetype": "text/x-python",
   "name": "python",
   "nbconvert_exporter": "python",
   "pygments_lexer": "ipython3",
   "version": "3.12.6"
  }
 },
 "nbformat": 4,
 "nbformat_minor": 4
}
