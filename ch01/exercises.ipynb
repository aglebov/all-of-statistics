{
 "cells": [
  {
   "cell_type": "markdown",
   "metadata": {},
   "source": [
    "#### Exercise 1.\n",
    "\n",
    "Suppose:\n",
    "   * $A_1 \\subset A_2 \\subset \\cdots$,\n",
    "   * $A_i \\to A = \\bigcup_{i=1}^{\\infty} A_i$,\n",
    "   * $B_1 = A_1$, $B_2 = \\{\\omega \\in \\Omega | \\omega \\in A_2, \\omega \\notin A_1\\}$, ...\n",
    "\n",
    "Notice that $B_n = A_n - A_{n-1}$ for $n > 1$: since $A_1 \\subset A_2 \\subset \\cdots$, $\\omega \\notin A_i \\implies \\omega \\notin A_j$ for all $j < i$, and so $B_n = \\{\\omega \\in \\Omega | \\omega \\in A_n, \\omega \\notin A_{n-1}, ..., \\omega \\notin A_1 \\} = \\{\\omega \\in \\Omega | \\omega \\in A_n, \\omega \\notin A_{n-1}\\} = A_n - A_{n-1}$.\n",
    "\n",
    "We show that $B_1, B_2, ...$ are disjoint. Consider any $B_i$ and $B_j$ where $i < j$. By construction, $B_j = \\{\\omega \\in \\Omega | \\omega \\in A_j, \\omega \\notin A_{j-1}, ..., \\omega \\notin A_1 \\}$, and therefore $B_i \\cap B_j = \\empty$.\n",
    "\n",
    "Next we show that $A_n = \\bigcup_{i=1}^{n}A_i$ by induction. The base of induction for $n=1$ is trivial: $A_1 = \\bigcup_{i=1}^1 A_i = A_1$. For the inductive step, assume that $A_n = \\bigcup_{i=1}^{n}A_i$. Then $\\bigcup_{i=1}^{n + 1}A_i = \\bigcup_{i=1}^{n}A_i \\cup A_{n+1} = A_n \\cup A_{n+1} = A_{n+1}$, where we used the assumption and the fact that $A_n \\subset A_{n+1}$. This establshes the induction.\n",
    "\n",
    "Now we show that $A_n = \\bigcup_{i=1}^{n}B_i$ again by induction. The base of induction for $n=1$ is $A_1 = \\bigcup_{i=1}^{1}B_i = B_1 = A_1$. For the inductive step, assume that $A_n = \\bigcup_{i=1}^{n}B_i$. Then $\\bigcup_{i=1}^{n + 1}B_i = \\bigcup_{i=1}^{n}B_i \\cup B_{n+1} = A_n \\cup B_{n+1} = A_n \\cup (A_{n+1} - A_n) = A_{n+1}$. This establishes the induction.\n",
    "\n",
    "Finally, we need to show that $\\bigcup_{i=1}^{\\infty}B_i = \\bigcup_{i=1}^{\\infty}A_i$. Consider any $\\omega \\in \\bigcup_{i=1}^{\\infty}B_i$: by definition of union, $\\exists j: \\omega \\in B_j$ and therefore $\\omega \\in A_j$ and $\\omega \\bigcup_{i=1}^{\\infty}A_i$. Similarly, consider $\\omega \\in \\bigcup_{i=1}^{\\infty}A_i$: by definition of union, $\\exists j: \\omega \\in A_j$. Pick the smallest $j$ such that $\\omega \\in A_j$ and $\\omega \\notin A_{j-1}$ or $j = 1$. We can always do so by starting from any $j$ such that $\\omega \\in A_j$ and decrementing it as long as $\\omega \\in A_{j-1}$. Given $A_1 \\subset A_2 \\subset \\cdots$, if we find $j$ such that $\\omega \\in A_j$ and $\\omega \\notin A_{j-1}$, then $\\omega \\in A_k$ for all $k \\geq j$ and $\\omega \\notin A_l$ for all $l \\leq j - 1$. If $\\omega \\in A_j$ and $\\omega \\notin A_{j-1}$, then $\\omega \\in B_j = A_j - A_{j-1}$. If the smallest $j=1$, then $\\omega \\in A_1 = B_1$. In either case, $\\omega \\in B_j$ and therefore $\\omega \\in \\bigcup_{i=1}^{\\infty}B_i$."
   ]
  },
  {
   "cell_type": "markdown",
   "metadata": {},
   "source": [
    "Now suppose:\n",
    "   * $A_1 \\supset A_2 \\supset \\cdots$,\n",
    "   * $A_i \\to A = \\bigcap_{i=1}^{\\infty} A_i$,\n",
    "   * $B_i = A_i^c, B = A^c$\n",
    "\n",
    "Notice that $B_1 \\subset B_2 \\subset \\cdots$, since $\\omega \\in A_2 \\implies \\omega A_1$, $\\omega \\notin A_1 \\implies \\omega \\notin A_2$ and $\\omega \\in A_1^c \\implies \\omega \\in A_2^c$ are equivalent statements.\n",
    "\n",
    "Notice also that $B_n \\to \\bigcup_{i=1}^{\\infty} B_i = \\bigcup_{i=1}^{\\infty} A_i^c = \\left( \\bigcap_{i=1}^{\\infty} A_i \\right)^c = A^c = B$.\n",
    "\n",
    "Since $B_n$ is an increasing sequence and $B_n \\to B$ when $n \\to \\infty$, we have $P(B_n) \\to P(B)$. Given that $P(B_n) = P(A_n^c) = 1 - P(A_n)$ and $P(B) = 1 - P(A^c)$, we obtain $P(A_n) \\to P(A)$."
   ]
  },
  {
   "cell_type": "markdown",
   "metadata": {},
   "source": [
    "#### Exercise 2\n",
    "\n",
    "By Axiom 3, $P(A \\cup A^c) = P(A) + P(A^c)$. Note that $A \\cup A^c = \\Omega$, so using Axiom 2, $P(A \\cup A^c) = P(\\Omega) = 1$. Combining the two equations, we have $P(A) + P(A^c) = 1$, or equivalently $P(A^c) = 1 - P(A)$.\n",
    "\n",
    "Notice that $\\empty = \\Omega^c$, hence $P(\\empty) = 1 - P(\\Omega^c) = 1 - 1 = 0$.\n",
    "\n",
    "For any A by Axiom 1, $P(A) \\geq 0$. From the result above, $P(A) = 1 - P(A^c)$, but by Axiom 1 again $P(A^c) \\geq 0$, so $P(A) \\leq 1$.\n",
    "\n",
    "Suppose $A \\subset B$, then $B = A \\cup (B - A)$ and $A \\cap (B - A) = \\empty$. By Axiom 3 then $P(B) = P(A \\cup (B - A)) = P(A) + P(B - A)$. By Axiom 1, $P(B - A) \\geq 0$ and therefore $P(B) \\geq P(A)$.\n",
    "\n",
    "From Axiom 3, it immediately follows that $A \\cap B = \\empty \\implies P(A \\cup B) = P(A) + P(B)$.\n",
    "\n"
   ]
  },
  {
   "cell_type": "markdown",
   "metadata": {},
   "source": [
    "#### Exercise 3\n",
    "\n",
    "(a) Consider $B_n$ and $B_{n+1}$. For any $\\omega \\in B_{n+1} = \\bigcup_{i=n+1}^{\\infty} A_i$, we have $\\omega \\in B_{n} = \\bigcup_{i=n}^{\\infty} A_i = A_n \\cup \\bigcup_{i=n+1}^{\\infty} A_i = A_n \\cup B_{n+1}$. Therefore, $B_n \\supset B_{n+1}$.\n",
    "\n",
    "Consider now $C_n$ and $C_{n+1}$. For any $\\omega \\in C_{n} = \\bigcap_{i=n}^{\\infty} A_i = A_n \\cap \\bigcap_{i=n+1}^{\\infty} A_i = A_n \\cap C_{n+1}$, we have $\\omega \\in C_{n+1}$. Therefore, $C_n \\subset C_{n+1}$.\n",
    "\n",
    "(b) $\\omega \\in \\bigcap_{n=1}^{\\infty} B_n \\iff \\forall n\\; \\omega \\in B_n = \\bigcup_{i=n}^{\\infty} A_i \\iff \\forall n\\; \\exists m\\; \\omega \\in A_m \\iff \\omega$ belongs to an infinite number of the events $A_1, A_2, \\dots$.\n",
    "\n",
    "(c) $\\omega \\in \\bigcup_{n=1}^{\\infty} C_n \\iff \\exists n\\; \\omega \\in C_n = \\bigcap_{i=n}^{\\infty} A_i \\iff \\exists n\\; \\forall m \\geq n\\; \\omega \\in A_m \\iff \\omega$ belongs to all the events $A_1, A_2, \\dots$ except possibly a finite number of those events."
   ]
  },
  {
   "cell_type": "markdown",
   "metadata": {},
   "source": []
  },
  {
   "cell_type": "markdown",
   "metadata": {},
   "source": [
    "#### Exercise 4\n",
    "\n",
    "First, we prove that $\\left( \\bigcup_{i \\in I} A_i \\right)^c = \\bigcap_{i \\in I} A_i^c$:\n",
    "$$\\omega \\in \\left( \\bigcup_{i \\in I} A_i \\right)^c \n",
    "\\iff \\omega \\notin \\bigcup_{i \\in I} A_i\n",
    "\\iff \\forall i \\in I: \\omega \\notin A_i\n",
    "\\iff \\forall i \\in I: \\omega \\in A_i^c\n",
    "\\iff \\omega \\in \\bigcap_{i \\in I} A_i^c.\n",
    "$$\n",
    "\n",
    "Next, we prove that $\\left( \\bigcap_{i \\in I} A_i \\right)^c = \\bigcup_{i \\in I} A_i^c$:\n",
    "$$\\omega \\in \\left( \\bigcap_{i \\in I} A_i \\right)^c \n",
    "\\iff \\omega \\notin \\bigcap_{i \\in I} A_i\n",
    "\\iff \\exists i \\in I: \\omega \\notin A_i\n",
    "\\iff \\exists i \\in I: \\omega \\in A_i^c\n",
    "\\iff \\omega \\in \\bigcup_{i \\in I} A_i^c.\n",
    "$$"
   ]
  },
  {
   "cell_type": "markdown",
   "metadata": {},
   "source": [
    "#### Exercise 5\n",
    "\n",
    "The sample space is $\\Omega = \\{ \\omega_1\\omega_2\\dots\\omega_k\\}$, where:\n",
    "   * $\\omega_i \\in \\{H, T\\}$ for all $i$, \n",
    "   * $\\omega_k=H$,\n",
    "   * only one of $\\omega_i=H$ for $i=1,\\dots,k-1$,\n",
    "   * $k=2,3,\\dots$.\n",
    "\n",
    "Example outcomes are:\n",
    "   * HH\n",
    "   * THH\n",
    "   * HTH\n",
    "   * TTHH\n",
    "   * THTH\n",
    "   * HTTH\n",
    "   * TTTHH\n",
    "   * TTHTH\n",
    "   * THTTH\n",
    "   * HTTTH\n",
    "   * ...\n",
    "\n",
    "To calculate the probabilities of stopping after $k$ tosses, consider another sample space $\\Omega'=\\{\\omega_1,\\omega_2,\\dots|\\omega_i \\in \\{H, T\\}\\}$ of infinite sequences of tosses.\n",
    "\n",
    "First, notice that the event of obtaining $\\omega_1\\omega_2\\dots\\omega_k$ in the first $k$ tosses has probability $\\frac{1}{2^k}$, since for a given $k$ such events constitute a partition of $\\Omega'$ and are equally likely. Notice that the event of stopping after $k$ tosses is a union $k-1$ disjoint events (where the $k$-th toss and exactly one of the previous $k-1$ tosses result in a head). Therefore, the probability of stopping after $k$ tosses is $\\frac{k-1}{2^k}$.\n",
    "\n",
    "Now, calculate the probability of stopping:\n",
    "$$\\sum_{k=2}^\\infty \\frac{k-1}{2^k} \n",
    "= \\sum_{k=0}^\\infty \\frac{k+1}{2^{k+2}} \n",
    "= \\frac14 \\sum_{k=0}^\\infty \\frac{k+1}{2^k}\n",
    "= \\frac14 \\left(\\sum_{k=0}^\\infty k \\left(\\frac12\\right)^k + \\sum_{k=0}^\\infty \\left(\\frac12\\right)^k \\right) \n",
    "= \\frac14 \\left( \\frac{\\frac12}{\\left(1 - \\frac12\\right)^2} + \\frac{1}{1 - \\frac12} \\right) = 1,$$\n",
    "where we used the formulas:\n",
    "$$\\sum_{k=0}^\\infty a^k = \\frac{1}{1 - a}$$\n",
    "and \n",
    "$$\\sum_{k=0}^\\infty k a^k = \\frac{a}{(1 - a)^2}.$$\n",
    "\n",
    "The second formula can be derived from the first by setting $f(a) = \\sum_{k=0}^\\infty a^k$ and taking its derivative: $f'(a) = \\sum_{k=0}^\\infty k a^{k-1} = \\frac{1}{a} \\sum_{k=0}^\\infty k a^k$, whereas on the other hand $f(a) = \\frac{1}{1-a}$ and so $f'(a) = \\frac{1}{(1 - a)^2}$, so finally $\\sum_{k=0}^\\infty k a^k = \\frac{a}{(1-a)^2}$.\n",
    "\n",
    "We see that the probability of stopping equals 1, therefore the probability of never stopping is 0.\n",
    "\n",
    "We can therefore ignore the event of never stopping and collapse the each event of stopping after a given sequence of tosses into an outcome, producing the sample space defined at the beginning."
   ]
  },
  {
   "cell_type": "markdown",
   "metadata": {},
   "source": [
    "#### Exercise 6\n",
    "\n",
    "Consider $A = \\{0\\}, B=\\{1, 2\\}$. Since $|A| \\neq |B|$, we have $P(A) \\neq P(B)$, and so $P(A)$ and $P(B)$ cannot be simultaneously zero.\n",
    "\n",
    "Suppose that $P(A) = p > 0$ and consider events $A_0=\\{0\\}, A_1=\\{1\\}, A_2=\\{2\\}, \\dots$. Since $|A_0|=|A_1|=|A_2|=\\dots$, we have $P(A_i)=p$ for all $i$. Take $n = \\lceil 1/p \\rceil$. All $A_i$ are disjoint, so by Axiom 3, $P(\\bigcup_{i=0}^n A_i) = \\sum_{i=0}^n P(A_i) = \\sum_{i=0}^n p = (n + 1) p > 1$. This contradicts the property that $P(\\bigcup_{i=0}^n A_i) \\leq 1$.\n",
    "\n",
    "Suppose on the other hand that $P(B) = p > 0$ and consider events $B_1 =\\{1, 2\\}, B_2=\\{3, 4\\}, \\dots$. Since $|B_1|=|B_2|=\\dots$, we have $P(B_i)=p$ for all $i$. Take $n = \\lceil 1/p \\rceil$. All $B_i$ are disjoint, so by Axiom 3, $P(\\bigcup_{i=0}^n B_i) = \\sum_{i=0}^n P(B_i) = \\sum_{i=0}^n p = (n + 1) p > 1$. This contradicts the property that $P(\\bigcup_{i=0}^n B_i) \\leq 1$.\n",
    "\n",
    "Therefore, an infinite set cannot have a uniform distribution."
   ]
  },
  {
   "cell_type": "markdown",
   "metadata": {},
   "source": [
    "#### Exercise 7\n",
    "\n",
    "Define $B_n = A_n - \\bigcup_{i=1}^{n-1} A_i$.\n",
    "\n",
    "Notice that $B_n \\subset A_n$, hence $P(B_n) \\leq P(A_n)$.\n",
    "\n",
    "For any $m > n$, $B_m \\cap B_n = \\empty$ since $B_n$ contain only elements present in $A_n$ and $B_m$ does not contain any elements from any $B_i$, where $i < m$, including $i = n$. Therefore, all $B_n$ are disjoint.\n",
    "\n",
    "Next we show that $\\bigcup_{n=1}^{\\infty}B_n = \\bigcup_{n=1}^{\\infty}A_n$: \n",
    "$$\n",
    "\\omega \\in \\bigcup_{n=1}^{\\infty}B_n \n",
    "\\iff \\exists n: \\omega \\in B_n = A_n - \\bigcup_{i=1}^{n-1} A_i\n",
    "\\iff \\exists n: \\omega \\in A_n \\wedge \\omega \\notin \\bigcup_{i=1}^{n-1} A_i\n",
    "\\iff \\omega \\in \\bigcup_{n=1}^{\\infty}A_n.\n",
    "$$\n",
    "\n",
    "The implication $\\omega \\in \\bigcup_{n=1}^{\\infty}A_n \\implies \\exists n: \\omega \\in A_n \\wedge \\omega \\notin \\bigcup_{i=1}^{n-1} A_i$ by definition of the union and the fact it's indexed by natural numbers, so we can always pick the smallest $n$ such that $\\omega \\in A_n$, and hence $\\omega \\notin \\bigcup_{i=1}^{n-1} A_i$.\n",
    "\n",
    "Now \n",
    "$$P\\left(\\bigcup_{n=1}^{\\infty}A_n\\right) = P\\left(\\bigcup_{n=1}^{\\infty}B_n\\right) = \\sum_{n=1}^\\infty P(B_n) \\leq \\sum_{n=1}^\\infty P(A_n).$$"
   ]
  },
  {
   "cell_type": "markdown",
   "metadata": {},
   "source": [
    "#### Exercise 8\n",
    "\n",
    "If $P(A_i) = 1$, then $P(A_i^c) = 1 - P(A_i) = 0$ by equations (1.1).\n",
    "\n",
    "From the result of Exercise 7, $P(\\bigcup_{i=1}^\\infty A_i^c) \\leq \\sum_{i=1}^\\infty P(A_i^c) = 0$. From Axiom 1, $P(\\bigcup_{i=1}^\\infty A_i^c) \\geq 0$. Combining the two results, we have $P(\\bigcup_{i=1}^\\infty A_i^c) = 0$.\n",
    "\n",
    "Then $P(\\bigcap_{i=1}^\\infty A_i) = 1 - P((\\bigcap_{i=1}^\\infty A_i)^c) = 1 - P(\\bigcup_{i=1}^\\infty A_i^c) = 1.$\n",
    "\n"
   ]
  },
  {
   "cell_type": "markdown",
   "metadata": {},
   "source": [
    "#### Exercise 9\n",
    "\n",
    "We have $P(B) > 0$ for a fixed event $B$.\n",
    "\n",
    "Take any event $A$. By Axiom 1, $P(AB) \\geq 0$, therefore $P(A|B) = \\frac{P(AB)}{P(B)} \\geq 0$, so Axiom 1 holds for $P(\\cdot|B)$.\n",
    "\n",
    "By Axiom 2, $P(\\Omega) = 1$. Then $P(\\Omega|B) = \\frac{P(\\Omega B)}{P(B)} = \\frac{P(B)}{P(B)} = 1$, where we used the fact that $\\Omega B = B$, since $B \\subset \\Omega$. Thus Axiom 2 holds for $P(\\cdot|B)$.\n",
    "\n",
    "Take any disjoint events $A_1, A_2, \\dots$. Notice that $A_1 B, A_2 B, \\dots$ are also disjoint, since $(A_i \\cap B) \\cap (A_j \\cap B) = (A_i \\cap A_j) \\cap B = \\empty \\cap B = \\empty$. Therefore by Axiom 3, $P(\\bigcup_{i=1}^\\infty A_i B) = \\sum_{i=1}^\\infty P(A_i B)$.\n",
    "\n",
    "By definition, \n",
    "$$\n",
    "P\\left(\\left.\\bigcup_{i=1}^\\infty A_i \\right| B\\right) \n",
    "= \\frac{P\\left((\\bigcup_{i=1}^\\infty A_i) B\\right)}{P(B)} \n",
    "= \\frac{P(\\bigcup_{i=1}^\\infty A_i B)}{P(B)}\n",
    "= \\frac{\\sum_{i=1}^\\infty P(A_i B)}{P(B)}\n",
    "= \\sum_{i=1}^\\infty \\frac{P(A_i B)}{P(B)}\n",
    "= \\sum_{i=1}^\\infty P(A_i | B),\n",
    "$$\n",
    "where we used the distibutivity of intersection: $(\\bigcup_{i=1}^\\infty A_i) \\cap B = \\bigcup_{i=1}^\\infty (A_i \\cap B)$. Therefore, Axiom 3 holds for $P(\\cdot|B)$.\n"
   ]
  },
  {
   "cell_type": "markdown",
   "metadata": {},
   "source": [
    "#### Exercise 10\n",
    "\n",
    "Define $\\Omega = \\{(\\omega_1, \\omega_2)\\}$ where $\\omega_1$ is where the prize is and $\\omega_2$ is the door Monty opens.\n",
    "\n",
    "The strategy is to always pick the first door initially, therefore Monty can only open door 2 or 3. The following outcomes are therefore possible: $\\Omega = \\{ (1, 2), (1, 3), (2, 3), (3, 2) \\}$. The prize is equally likely to be behind any of the doors, so $P(\\{(1,2), (1, 3\\}) = P(\\{(2, 3)\\}) = P(\\{(3, 2)\\})= \\frac13$. If the prize is behind the first door, and the player selects it initially, Monty opens either the second or the third door with equal likelihood, hence $P(\\{(1, 2)\\}) = P(\\{(1, 3)\\}) = \\frac12 \\cdot \\frac13 = \\frac16$.\n",
    "\n",
    "$P(\\text{\"switch and win\"}) = P(\\{(2, 3), (3, 2)\\}) = \\frac23$.\n",
    "\n",
    "$P(\\text{\"don't switch and win\"}) = P(\\{(1, 2), (1, 3)\\}) = \\frac13$.\n",
    "\n",
    "Therefore, it is beneficial to switch."
   ]
  },
  {
   "cell_type": "markdown",
   "metadata": {},
   "source": [
    "#### Exercise 11\n",
    "\n",
    "From Lemma 1.6, $P(A \\cup B) = P(A) + P(B) - P(AB)$. By definition of independence, $P(AB) = P(A) P(B)$.\n",
    "\n",
    "Then $P(A^c B^c) = P((A \\cup B)^c) = 1 - P(A \\cup B) = 1 - P(A) - P(B) + P(AB) = 1 - P(A) - P(B) + P(A) P(B) = (1 - P(A)) (1 - P(B)) = P(A^c) P(B^c)$, hence by definition, $A^c$ and $B^c$ are independent."
   ]
  },
  {
   "cell_type": "markdown",
   "metadata": {},
   "source": [
    "#### Exercise 12\n",
    "\n",
    "The cards are:\n",
    "   * G | G\n",
    "   * R | R\n",
    "   * G | R\n",
    "\n",
    "The event space is $\\Omega = \\{(\\omega_1, \\omega_2)\\}$, where $\\omega_1 \\in \\{1, 2, 3\\}$ is the card chosen and $\\omega_2 \\in \\{1, 2\\}$ is the side chosen. All of the 6 outcomes are equally likely.\n",
    "\n",
    "Define the events $A$ = \"the first side chosen is green\" = $\\{(1, 1), (1, 2), (3, 1)\\}$, $B$ = \"the other side of the chosen card is green\" = $\\{(1, 1), (1, 2), (3, 2)\\}$. The intersection $AB = \\{(1, 1), (1, 2)\\}$.\n",
    "\n",
    "Then $P(B|A) = \\frac{P(AB)}{P(A)} = \\frac{2/6}{3/6} = \\frac23$."
   ]
  },
  {
   "cell_type": "markdown",
   "metadata": {},
   "source": [
    "#### Exercise 13\n",
    "\n",
    "(a) Example outcomes:\n",
    "   * HT\n",
    "   * TH\n",
    "   * HHT\n",
    "   * TTH\n",
    "   * HHHT\n",
    "   * TTTH\n",
    "\n",
    "The sample space $\\Omega = \\{ \\omega_1\\omega_2\\dots\\omega_k | \\omega_1,\\dots,\\omega_k \\in \\{H, T\\}, \\omega_1=\\omega_2=\\dots=\\omega_{k-1}\\neq\\omega_k, k=2, 3,\\dots \\}$.\n",
    "\n",
    "(b) Given the coin is fair, the probability of all outcomes of length $k$ is equal to $\\frac1{2^k}$. Two such outcomes result in stopping at length $k$, therefore the probability of stopping at length $k$ is $\\frac2{2^k} = 2^{1-k}$. The rigorous arguments follows the steps outlines in the solution for Exercise 5 by considering sequences of infinite lengths.\n",
    "\n",
    "The probability that three tosses are required is therefore $\\frac14$."
   ]
  },
  {
   "cell_type": "markdown",
   "metadata": {},
   "source": [
    "#### Exercise 14\n",
    "\n",
    "Suppose $P(A) = 0$. Take any event $B$, note that $AB \\subset A$, and so by equations (1.1) $P(AB) \\leq P(A) = 0$. However from Axiom 2, $P(AB)\\geq 0$, therefore $P(AB) = 0 = P(A) P(B)$ and we conclude that $A$ and $B$ are independent.\n",
    "\n",
    "Suppose $P(A) = 1$. Take any event $B$, note that $A \\subset A \\cup B$, and so again by equations (1.1), $P(A) \\leq P(A \\cup B)$ or equivalently $P(A \\cup B) \\geq P(A) = 1$. However, by equations (1.1) also $P(A \\cup B) \\leq 1$, so $P(A \\cup B) = 1$. By Lemma 1.6, $P(A \\cup B) = P(A) + P(B) - P(AB)$, from which $P(B) - P(AB) = P(A \\cup B) - P(A) = 1 - 1 = 0$, and so $P(AB) = P(B) = P(A) P(B)$. We conclude that $A$ and $B$ are independent.\n",
    "\n",
    "Suppose now that $A$ is independent of itself, i.e. $P(A A) = P(A) P(A)$. Given $A \\cap A = A$, we have $P(A) = P(A)^2$. By equations (1.1), $0 \\leq P(A) \\leq 1$. If $P(A) = 0$ or $P(A) = 1$, then $P(A) = P(A)^2$ holds. If $0 < P(A) < 1$, then $P(A) = P(A)^2$ cannot hold, so we conclude that $P(A)$ is either 0 or 1."
   ]
  },
  {
   "cell_type": "markdown",
   "metadata": {},
   "source": [
    "#### Exercise 15\n",
    "\n",
    "The sample space is $\\Omega = \\{\\omega_1\\omega_2\\omega_3 | \\omega_i \\in \\{N, B\\}, i=1,2,3\\}$, where B denotes that the $i$-th child has blue eyes, and N denotes any other eye colour, and the index $i$ is in the order of birth.\n",
    "\n",
    "The possible outcomes and their probabilities are:\n",
    "   * $P(N N N)=\\left(\\frac34\\right)^3 = \\frac{27}{64}$,\n",
    "   * $P(N N B)=\\left(\\frac34\\right)^2 \\frac14 = \\frac{9}{64}$,\n",
    "   * $P(N B N)=\\left(\\frac34\\right)^2 \\frac14 = \\frac{9}{64}$,\n",
    "   * $P(N B B)=\\frac34 \\left(\\frac14\\right)^2 = \\frac{3}{64}$,\n",
    "   * $P(B N N)=\\left(\\frac34\\right)^2 \\frac14 = \\frac{9}{64}$,\n",
    "   * $P(B N B)=\\frac34 \\left(\\frac14\\right)^2 = \\frac{3}{64}$,\n",
    "   * $P(B B N)=\\frac34 \\left(\\frac14\\right)^2 = \\frac{3}{64}$,\n",
    "   * $P(B B B)=\\left(\\frac14\\right)^3 = \\frac{1}{64}$.\n",
    "\n",
    "(a) The event A (\"at least one child has blue eyes\") contains the following outcomes:\n",
    "   * $P(N N B)=\\frac{9}{64}$,\n",
    "   * $P(N B N)=\\frac{9}{64}$,\n",
    "   * $P(N B B)=\\frac{3}{64}$,\n",
    "   * $P(B N N)=\\frac{9}{64}$,\n",
    "   * $P(B N B)=\\frac{3}{64}$,\n",
    "   * $P(B B N)=\\frac{3}{64}$,\n",
    "   * $P(B B B)=\\frac{1}{64}$,\n",
    "\n",
    "therefore $P(A) = \\frac{37}{64}$.\n",
    "\n",
    "The event B (\"at least two children have blue eyes\") contain the following outcomes:\n",
    "   * $P(N B B)=\\frac{3}{64}$,\n",
    "   * $P(B N B)=\\frac{3}{64}$,\n",
    "   * $P(B B N)=\\frac{3}{64}$,\n",
    "   * $P(B B B)=\\frac{1}{64}$,\n",
    "\n",
    "therefore $P(B) = \\frac{10}{64}$.\n",
    "\n",
    "Notice that $B \\subset A$, therefore $AB = B$, so $P(AB) = P(B)$ and $P(B|A) = \\frac{P(AB)}{P(A)} = \\frac{P(B)}{P(A)} = \\frac{10}{37}$.\n",
    "\n",
    "(b) The event C (\"the youngest child has blue eyes\") contains the following outcomes:\n",
    "   * $P(N N B)=\\frac{9}{64}$,\n",
    "   * $P(N B B)=\\frac{3}{64}$,\n",
    "   * $P(B N B)=\\frac{3}{64}$,\n",
    "   * $P(B B B)=\\frac{1}{64}$.\n",
    "\n",
    "Its probability is therefore $P(C) = \\frac{16}{64} = \\frac14$.\n",
    "\n",
    "The intersection BC contains the following outcomes:\n",
    "   * $P(N B B)=\\frac{3}{64}$,\n",
    "   * $P(B N B)=\\frac{3}{64}$,\n",
    "   * $P(B B B)=\\frac{1}{64}$,\n",
    "\n",
    "and its probability is $P(BC) = \\frac{7}{64}$. Therefore, $P(B|C) = \\frac{P(BC)}{P(C)} = \\frac{7/64}{1/4} = \\frac{7}{16}$."
   ]
  },
  {
   "cell_type": "markdown",
   "metadata": {},
   "source": [
    "#### Exercise 16\n",
    "\n",
    "If $P(B) > 0$, then $P(AB) = P(A|B) P(B)$ holds by the definition of conditional probability.\n",
    "\n",
    "Suppose $P(B) = 0$. Since $AB \\subset B$, we have $P(AB) \\leq P(B) = 0$ by equations (1.1). Also by equations (1.1), $P(AB) \\geq 0$. Combining the two inequalities, we obtain $P(AB) = 0$. But then $P(AB) = 0 = P(A|B) P(B)$.\n",
    "\n",
    "The argument for $P(AB) = P(B|A) P(A)$ is symmetrical."
   ]
  },
  {
   "cell_type": "markdown",
   "metadata": {},
   "source": [
    "#### Exercise 17\n",
    "\n",
    "By repeated application of Lemma 1.14, $P(ABC) = P(A|BC)P(BC) = P(A|BC)P(B|C)P(C)$."
   ]
  },
  {
   "cell_type": "markdown",
   "metadata": {},
   "source": [
    "#### Exercise 18\n",
    "\n",
    "We have $\\bigcup_{i=1}^k A_i = \\Omega$ and $P(B) > 0$.\n",
    "\n",
    "By the results of Exercise 9, \n",
    "$$\\sum_{i=1}^k P(A_i | B) = P\\left(\\bigcup_{i=1}^k A_i\\right) = P(\\Omega|B) = 1.$$\n",
    "\n",
    "Suppose $P(A_1|B) < P(A_1)$ and $P(A_i|B) \\leq P(A_i)$ for $i=2,\\dots, k$. Then \n",
    "$$\\sum_{i=1}^k P(A_i | B) < \\sum_{i=1}^k P(A_i) = P\\left(\\bigcup_{i=1}^k A_i\\right) = P(\\Omega) = 1,$$\n",
    "where we used Axiom 3.\n",
    "\n",
    "Therefore if $P(A_1|B) < P(A_1)$, we must have $P(A_i|B) > P(A_i)$ for some $i=2,\\dots, k$."
   ]
  },
  {
   "cell_type": "markdown",
   "metadata": {},
   "source": [
    "#### Exercise 19\n",
    "\n",
    "The probabilities given are:\n",
    "   * $P(\\text{M}) = 0.3$,\n",
    "   * $P(\\text{W}) = 0.5$,\n",
    "   * $P(\\text{L}) = 0.2$,\n",
    "   * $P(\\text{virus}|\\text{M}) = 0.65$,\n",
    "   * $P(\\text{virus}|\\text{W}) = 0.82$,\n",
    "   * $P(\\text{virus}|\\text{L}) = 0.5$.\n",
    "\n",
    "By Bayes' theorem, \n",
    "$$P(\\text{W}|\\text{virus}) = \\frac{P(\\text{virus}|\\text{W}) P(\\text{W})}{P(\\text{virus}|\\text{W}) P(\\text{W}) + P(\\text{virus}|\\text{M}) P(\\text{M}) + P(\\text{virus}|\\text{L}) P(\\text{L})} = \\frac{0.82 \\cdot 0.5}{0.82 \\cdot 0.5 + 0.65 \\cdot 0.3 + 0.5 \\cdot 0.2} \\approx 0.58.$$\n",
    "   "
   ]
  },
  {
   "cell_type": "markdown",
   "metadata": {},
   "source": [
    "#### Exercise 20\n",
    "\n",
    "We have $P(H|C_i) = p_i$ as provided in the statement of the problem, and $P(C_i)=\\frac15$ as coins are equally likely to be selected.\n",
    "\n",
    "(a) By Bayes' theorem, $P(C_i|H) = \\frac{P(H|C_i)P(C_i)}{P(H)}$.\n",
    "\n",
    "$P(H) = \\sum_{i=1}^5 P(H|C_i) P(C_i) = \\frac15 \\sum_{i=1}^5 p_i = 0.5$.\n",
    "\n",
    "The posterior probabilities are:\n",
    "   * $P(C_1|H) = 0$,\n",
    "   * $P(C_2|H) = \\frac{1/4 \\cdot 1/5}{1/2} = 0.1$,\n",
    "   * $P(C_3|H) = \\frac{1/2 \\cdot 1/5}{1/2} = 0.2$,\n",
    "   * $P(C_4|H) = \\frac{3/4 \\cdot 1/5}{1/2} = 0.3$,\n",
    "   * $P(C_5|H) = \\frac{1 \\cdot 1/5}{1/2} = 0.4$.\n",
    "\n",
    "(b) By definition of conditional probability and the law of total probability, \n",
    "$$P(H_2|H_1) = \\frac{P(H_2 H_1)}{P(H_1)} = \\frac{\\sum_{i=1}^5 P(H_2 H_1|C_i) P(C_i)}{P(H_1)} = \\frac25 \\sum_{i=1}^5 p_i^2 = \\frac25 \\cdot \\frac{30}{16} = \\frac34.$$\n",
    "\n",
    "(c) The probabilities of getting the first head after 4 tosses of each coin are as follows:\n",
    "   * $P(B_4|C_1) = 0$,\n",
    "   * $P(B_4|C_2) = \\left(\\frac34\\right)^3 \\frac14 = \\frac{27}{256}$,\n",
    "   * $P(B_4|C_1) = \\left(\\frac12\\right)^3 \\frac12 = \\frac{1}{16}$,\n",
    "   * $P(B_4|C_1) = \\left(\\frac14\\right)^3 \\frac34 = \\frac{3}{256}$,\n",
    "   * $P(B_4|C_1) = 0$.\n",
    "\n",
    "By Bayes' theorem, $P(C_i|B_4) = \\frac{P(B_4|C_i)P(C_i)}{\\sum_{i=1}^5 P(B_4|C_i)P(C_i)} = \\frac{P(B_4|C_i)}{\\sum_{i=1}^5 P(B_4|C_i)}$, given that all $P(C_i) = \\frac15$.\n",
    "\n",
    "$\\sum_{i=1}^5 P(B_4|C_i) = \\frac{46}{256}$ and the posterior probabilities are:\n",
    "   * $P(C_1|B_4) = 0$,\n",
    "   * $P(C_2|B_4) = \\frac{27}{46} \\approx 0.59$,\n",
    "   * $P(C_3|B_4) = \\frac{16}{46} \\approx 0.35$,\n",
    "   * $P(C_4|B_4) = \\frac{3}{46} \\approx 0.07$,\n",
    "   * $P(C_5|B_4) = 0$."
   ]
  },
  {
   "cell_type": "markdown",
   "metadata": {},
   "source": [
    "#### Exercise 21"
   ]
  },
  {
   "cell_type": "code",
   "execution_count": 1,
   "metadata": {},
   "outputs": [],
   "source": [
    "import numpy as np\n",
    "import matplotlib.pyplot as plt\n",
    "import scipy.stats as stats"
   ]
  },
  {
   "cell_type": "code",
   "execution_count": 2,
   "metadata": {},
   "outputs": [],
   "source": [
    "ns = np.logspace(0, 5, 11).astype('int')"
   ]
  },
  {
   "cell_type": "code",
   "execution_count": 3,
   "metadata": {},
   "outputs": [],
   "source": [
    "rng = np.random.default_rng(12345)"
   ]
  },
  {
   "cell_type": "code",
   "execution_count": 4,
   "metadata": {},
   "outputs": [
    {
     "data": {
      "image/png": "[encoded data removed]",
      "text/plain": [
       "<Figure size 640x480 with 1 Axes>"
      ]
     },
     "metadata": {},
     "output_type": "display_data"
    }
   ],
   "source": [
    "p = 0.3\n",
    "p_est = np.fromiter((np.mean(stats.bernoulli.rvs(p=p, size=n, random_state=rng)) for n in ns), dtype='float64')\n",
    "fig, ax = plt.subplots();\n",
    "ax.plot(ns, p_est);\n",
    "ax.set_xscale('log');\n",
    "ax.set_title(f'Convergence of emprical frequency for p={p}');"
   ]
  },
  {
   "cell_type": "code",
   "execution_count": 5,
   "metadata": {},
   "outputs": [
    {
     "data": {
      "image/png": "[encoded data removed]",
      "text/plain": [
       "<Figure size 640x480 with 1 Axes>"
      ]
     },
     "metadata": {},
     "output_type": "display_data"
    }
   ],
   "source": [
    "p = 0.03\n",
    "p_est = np.fromiter((np.mean(stats.bernoulli.rvs(p=p, size=n, random_state=rng)) for n in ns), dtype='float64')\n",
    "fig, ax = plt.subplots();\n",
    "ax.plot(ns, p_est);\n",
    "ax.set_xscale('log');\n",
    "ax.set_title(f'Convergence of emprical frequency for p={p}');"
   ]
  },
  {
   "cell_type": "markdown",
   "metadata": {},
   "source": [
    "#### Exercise 22"
   ]
  },
  {
   "cell_type": "code",
   "execution_count": 6,
   "metadata": {},
   "outputs": [
    {
     "data": {
      "image/png": "[encoded data removed]",
      "text/plain": [
       "<Figure size 640x480 with 1 Axes>"
      ]
     },
     "metadata": {},
     "output_type": "display_data"
    }
   ],
   "source": [
    "p = 0.3\n",
    "ns = np.array([10, 100, 1000])\n",
    "\n",
    "N_est = np.fromiter((np.sum(stats.bernoulli.rvs(p=p, size=n, random_state=rng)) for n in ns), dtype='int')\n",
    "fig, ax = plt.subplots();\n",
    "ax.plot(ns, N_est, label='Estimate');\n",
    "ax.plot(ns, p * ns, label='Expected value')\n",
    "ax.set_title(f'Comparison of number of observed heads');\n",
    "ax.legend();"
   ]
  },
  {
   "cell_type": "markdown",
   "metadata": {},
   "source": [
    "#### Exercise 23"
   ]
  },
  {
   "cell_type": "code",
   "execution_count": 7,
   "metadata": {},
   "outputs": [],
   "source": [
    "n = 10000\n",
    "draws = stats.randint.rvs(1, 7, size=n, random_state=rng)"
   ]
  },
  {
   "cell_type": "code",
   "execution_count": 8,
   "metadata": {},
   "outputs": [],
   "source": [
    "A = np.isin(draws, [2, 4, 6])\n",
    "B = np.isin(draws, [1, 2, 3, 4])\n",
    "AB = A & B"
   ]
  },
  {
   "cell_type": "code",
   "execution_count": 9,
   "metadata": {},
   "outputs": [],
   "source": [
    "p_A = np.mean(A)\n",
    "p_B = np.mean(B)\n",
    "p_AB = np.mean(AB)"
   ]
  },
  {
   "cell_type": "code",
   "execution_count": 10,
   "metadata": {},
   "outputs": [
    {
     "data": {
      "text/plain": [
       "0.32897448"
      ]
     },
     "execution_count": 10,
     "metadata": {},
     "output_type": "execute_result"
    }
   ],
   "source": [
    "p_A * p_B"
   ]
  },
  {
   "cell_type": "code",
   "execution_count": 11,
   "metadata": {},
   "outputs": [
    {
     "data": {
      "text/plain": [
       "0.3307"
      ]
     },
     "execution_count": 11,
     "metadata": {},
     "output_type": "execute_result"
    }
   ],
   "source": [
    "p_AB"
   ]
  },
  {
   "cell_type": "markdown",
   "metadata": {},
   "source": [
    "Now pick an event that is not independent of A:"
   ]
  },
  {
   "cell_type": "code",
   "execution_count": 12,
   "metadata": {},
   "outputs": [],
   "source": [
    "C = np.isin(draws, [1, 2, 3])\n",
    "AC = A & C"
   ]
  },
  {
   "cell_type": "code",
   "execution_count": 13,
   "metadata": {},
   "outputs": [],
   "source": [
    "p_C = np.mean(C)\n",
    "p_AC = np.mean(AC)"
   ]
  },
  {
   "cell_type": "code",
   "execution_count": 14,
   "metadata": {},
   "outputs": [
    {
     "data": {
      "text/plain": [
       "0.24732041999999999"
      ]
     },
     "execution_count": 14,
     "metadata": {},
     "output_type": "execute_result"
    }
   ],
   "source": [
    "p_A * p_C"
   ]
  },
  {
   "cell_type": "code",
   "execution_count": 15,
   "metadata": {},
   "outputs": [
    {
     "data": {
      "text/plain": [
       "0.1645"
      ]
     },
     "execution_count": 15,
     "metadata": {},
     "output_type": "execute_result"
    }
   ],
   "source": [
    "p_AC"
   ]
  }
 ],
 "metadata": {
  "kernelspec": {
   "display_name": ".venv",
   "language": "python",
   "name": "python3"
  },
  "language_info": {
   "codemirror_mode": {
    "name": "ipython",
    "version": 3
   },
   "file_extension": ".py",
   "mimetype": "text/x-python",
   "name": "python",
   "nbconvert_exporter": "python",
   "pygments_lexer": "ipython3",
   "version": "3.11.3"
  },
  "orig_nbformat": 4
 },
 "nbformat": 4,
 "nbformat_minor": 2
}
