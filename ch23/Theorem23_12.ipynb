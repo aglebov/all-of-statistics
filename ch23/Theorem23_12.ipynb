{
 "cells": [
  {
   "cell_type": "markdown",
   "id": "9cd22ebd-877a-4d0d-ae4e-f2a89554f68f",
   "metadata": {},
   "source": [
    "**Lemma 1**. The accessibility relation is transitive, i.e. if $i \\rightarrow j$ and $j \\rightarrow k$, then $i \\rightarrow k$.\n",
    "\n",
    "**Proof**. By assumption $p_{ij}(n) > 0$ and $p_{jk}(m) > 0$ for some $n$ and $m$. By Theorem 23.9, $p_{ik}(n + m) \\geq p_{ij}(n) p_{jk}(m) > 0$, therefore by definition $i \\rightarrow k$."
   ]
  },
  {
   "cell_type": "markdown",
   "id": "80fb4e88-795a-40be-a843-b2b923bcd4ad",
   "metadata": {},
   "source": [
    "**Definition 1**. If a relation is reflexive, symmetric and transitive, it is called an equivalence."
   ]
  },
  {
   "cell_type": "markdown",
   "id": "3d0c7135-e0a1-4d16-9e4d-321c32423249",
   "metadata": {},
   "source": [
    "**Definition 2**. The set of equivalence classes of an equivalence relation $\\leftrightarrow$ is the set $\\{ \\{ x_j \\in \\mathcal{X}: x_j \\leftrightarrow x_i \\}: x_i \\in \\mathcal{X}\\}$, which can also be written as $\\{[x_i]: x_i \\in \\mathcal{X}\\}$, where $[x_i] = \\{x_j \\in \\mathcal{X} : x_j \\leftrightarrow x_i\\}$."
   ]
  },
  {
   "cell_type": "markdown",
   "id": "0f595fef-b7d6-45e8-b716-fbbc04c4476d",
   "metadata": {},
   "source": [
    "**Lemma 2**. The equivalence classes of a given equivalence relation $\\leftrightarrow$ on $\\mathcal{X}$ uniquely define a partition of $\\mathcal{X}$."
   ]
  },
  {
   "cell_type": "markdown",
   "id": "675575dd-6038-4522-93e5-2c56f59fe2b5",
   "metadata": {},
   "source": [
    "**Proof**. Suppose $\\leftrightarrow$ is an equivalence relation on $\\mathcal{X}$. For every $x_i \\in \\mathcal{X}$, we have $x_i \\leftrightarrow x_i$ by reflexivity, so $x_i \\in [x_i]$, and $\\mathcal{X} \\subset \\bigcup_{x_i \\in \\mathcal{X}} [x_i]$. Also for any $x_i \\mathcal{X}$, $[x_i] \\subset \\mathcal{X}$ by construction, so $\\bigcup_{x_i \\in \\mathcal{X}} [x_i] \\subset \\mathcal{X}$. Thus, we obtain $\\mathcal{X} = \\bigcup_{x_i \\in \\mathcal{X}} [x_i]$. We need to show that all elements of $\\{ \\{ x_j \\in \\mathcal{X}: x_j \\leftrightarrow x_i \\}: x_i \\in \\mathcal{X}\\}$ are disoint. Suppose the opposity, i.e. that $[x_i] \\cap [x_j] \\neq \\emptyset$ and $[x_i] \\neq [x_j]$ for some $x_i$, $x_j$. Then there is $x_k \\in [x_i]$ and $x_k \\in [x_j]$. Then by transitivity all elements of $[x_i]$ and $[x_j]$ are equivalent via $x_k$, thus $[x_i]=[x_j]$.\n",
    "\n",
    "Suppose we are given a partition of $\\mathcal{X}$: $\\mathcal{X} = \\bigcup_{i \\in I} X_i$. Then we can define an equivalence relation $\\leftrightarrow$ by $x_i \\leftrightarrow x_j \\iff \\exists k: x_i \\in X_k \\wedge x_j \\in X_k$. We show that this is indeed an equivalence relation. For any $x_i \\in \\mathcal{X}$, there is $X_k$ such that $x_i \\in X_k$, thus $x_i \\leftrightarrow x_i$ and the relation is reflexive. If $x_i \\leftrightarrow x_j$, then we know that there is $X_k$ containing both $x_i$ and $x_j$, and so $x_j \\leftrightarrow x_i$. If $x_i \\leftrightarrow x_j$ and $x_j \\leftrightarrow x_k$, then we know that there are $X_m$ and $X_n$ such that $x_i \\in X_m$, $x_j \\in X_m$, $x_j \\in X_n$, $x_k \\in X_n$. Since $X_m$ and $X_n$ are elements of a partition, however, they are disjoint, so the only way we can have $x_j \\in X_m$ and $x_j \\in X_n$ is if $X_m = X_n$, which means $x_i, x_j, x_k \\in X_m = X_n$ and by construction $x_j \\leftrightarrow x_k$. The relation is therefore transitive. By Definition 1, the relation is an equivalence.\n",
    "\n",
    "We also want to show that the mapping between equivalence relations and partitions is bijective. Suppose there are two equivalence relations $\\leftrightarrow$ and $\\Leftrightarrow$ that disagree on some elements $x_i$ and $x_j$, i.e. $x_i \\leftrightarrow x_j$, but $x_i \\nLeftrightarrow x_j$, but both equivalence relations correspond to the same partition. Then because $x_i \\leftrightarrow x_j$, there is an element of this partition $[x_k]$, such that $x_i, x_j \\in [x_k]$. Since the partitions are the same for both relations, it must be that $x_i \\Leftrightarrow x_j$. The two equivalence relations are therefore equal."
   ]
  },
  {
   "cell_type": "markdown",
   "id": "e29c431c-aca8-4bf8-abbb-6c0f6a340d6c",
   "metadata": {},
   "source": [
    "**Theorem 23.12**. The communication relationship satisfies the following properties:\n",
    "\n",
    "   1. $i \\leftrightarrow i$.\n",
    "   2. If $i \\leftrightarrow j$ then $j \\leftrightarrow i$.\n",
    "   3. If $i \\leftrightarrow j$ and $j \\leftrightarrow k$ then $i \\leftrightarrow k$.\n",
    "   4. The set of states $\\mathcal{X}$ can be written as a disjoint union of classes $\\mathcal{X} = \\mathcal{X}_1 \\cup \\mathcal{X}_2 \\cup \\dots$ where two states $i$ and $j$ communicate with each other if and only if they are in the same class."
   ]
  },
  {
   "cell_type": "markdown",
   "id": "c5867a01-8753-4d8c-99e1-8587a36f1dd2",
   "metadata": {},
   "source": [
    "**Proof**.\n",
    "\n",
    "1. Trivially, $p_{ii}(0) = 1$, thus $i \\leftrightarrow i$.\n",
    "\n",
    "2. Suppose $i \\leftrightarrow j$, then by definition $i \\rightarrow j$ and $j \\rightarrow i$, so by definition $j \\leftrightarrow i$.\n",
    "\n",
    "3. Suppose $i \\leftrightarrow j$ and $j \\leftrightarrow k$. Then by definition $i \\rightarrow j$, $j \\rightarrow k$ and by the preceding Lemma, $i \\rightarrow k$. Similarly, we have $k \\rightarrow i$. Then by definition, $i \\leftrightarrow k$.\n",
    "\n",
    "4. (1-3) establish that $\\leftrightarrow$ is an equivalence relation, thus by Lemma 2 its equivalence classes uniquely define a partition of $\\mathcal{X}$."
   ]
  }
 ],
 "metadata": {
  "kernelspec": {
   "display_name": "Python 3 (ipykernel)",
   "language": "python",
   "name": "python3"
  },
  "language_info": {
   "codemirror_mode": {
    "name": "ipython",
    "version": 3
   },
   "file_extension": ".py",
   "mimetype": "text/x-python",
   "name": "python",
   "nbconvert_exporter": "python",
   "pygments_lexer": "ipython3",
   "version": "3.13.0"
  }
 },
 "nbformat": 4,
 "nbformat_minor": 5
}
