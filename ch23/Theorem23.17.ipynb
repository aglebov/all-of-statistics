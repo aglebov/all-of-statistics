{
 "cells": [
  {
   "cell_type": "markdown",
   "id": "9d4b146a-dd98-4b1e-b9f4-f18b20dc22b3",
   "metadata": {},
   "source": [
    "**Theorem (Decomposition)**. The state space $\\mathcal{X}$ can be written as the disjoint union\n",
    "$$\\mathcal{X} = \\mathcal{X}_T \\cup \\mathcal{X}_1 \\cup \\mathcal{X}_2 \\cup \\dots,$$\n",
    "where $\\mathcal{X}_T$ are the transient states and each $\\mathcal{X}_i$ is a closed, irreducible set of recurrent states."
   ]
  },
  {
   "cell_type": "markdown",
   "id": "bd739e0f-ea2a-4186-bf7b-edcc4273049a",
   "metadata": {},
   "source": [
    "**Proof**. By Theorem 23.12(4), the state space can be written as\n",
    "$$\\mathcal{X} = \\mathcal{X}_1 \\cup \\mathcal{X}_2 \\cup \\dots,$$\n",
    "where two states communicate with each other if and only if there are in the same class. By Theorem 23.16, if $\\mathcal{X}_i$ contains a recurrent state, then all of the states in $\\mathcal{X}_i$ are recurrent, and if $\\mathcal{X}_i$ contains a transient state, then all of the states in $\\mathcal{X}_i$ are transient. Let\n",
    "$$\\mathcal{X}_T = \\bigcup \\{\\mathcal{X}_i: \\mathcal{X}_i \\text{ contains a transient state}\\}.$$\n",
    "By construction, $\\mathcal{X}_T$ only contains transient states. Since $\\mathcal{X}_1, \\mathcal{X}_2, \\dots$ form a partitition of $\\mathcal{X}$, each transient state is in one of $\\mathcal{X}_i$, so it is also in $\\mathcal{X}_T$.\n",
    "\n",
    "We renumber the remaining classes containing recurrent states only as $\\mathcal{X}_1, \\mathcal{X}_2, \\dots$. Each $\\mathcal{X}_i$ is irreducible by construction in Theorem 23.12(4).\n",
    "\n",
    "Suppose that there is a non-zero probability of escaping from a class of recurrent states $\\mathcal{X}_i$ into $\\mathcal{X}_j$ with $i \\neq j$, i.e. there are two states $k \\in \\mathcal{X}_i$, $l \\in \\mathcal{X}_j$ such that $p_{kl} > 0$.\n",
    "The probability of going from class $\\mathcal{X}_j$ to class $\\mathcal{X}_i$ must be zero, since otherwise the two classes would communicate and thus be identical by construction.\n",
    "\n",
    "We have\n",
    "$$\\begin{split}\n",
    "\\mathbb{P}(X_n = k \\text{ for some } n \\geq 1 | X_0 = k) \n",
    "&= \\sum_m \\mathbb{P}(X_n = k \\text{ for some } n \\geq 1 | X_1 = m) \\mathbb{P}(X_1 = m | X_0 = k) \\\\\n",
    "&= \\mathbb{P}(X_n = k \\text{ for some } n \\geq 1 | X_1 = l) \\mathbb{P}(X_1 = l | X_0 = k) + \\sum_{m\\neq l} \\mathbb{P}(X_n = k \\text{ for some } n \\geq 1 | X_1 = m) \\mathbb{P}(X_1 = m | X_0 = k). \\\\\n",
    "\\end{split}$$\n",
    "\n",
    "The probability of returning from class $\\mathcal{X}_j$ to class $\\mathcal{X}_i$ is zero, i.e. $\\mathbb{P}(X_n = k \\text{ for some } n \\geq 1 | X_1 = l)=0$, therefore\n",
    "$$\\begin{split}\n",
    "\\mathbb{P}(X_n = k \\text{ for some } n \\geq 1 | X_0 = k) \n",
    "&= \\sum_{m\\neq l} \\mathbb{P}(X_n = k \\text{ for some } n \\geq 1 | X_1 = m) \\mathbb{P}(X_1 = m | X_0 = k) \\\\\n",
    "&\\leq \\sum_{m\\neq l} \\mathbb{P}(X_1 = m | X_0 = k) \\\\\n",
    "&= 1 - \\mathbb{P}(X_1 = l | X_0 = k) \\\\\n",
    "&< 1,\n",
    "\\end{split}$$\n",
    "and so the state $k$ cannot be recurrent by Definition 23.14. The contradiction shows that for any $k \\in \\mathcal{X}_i$, $l \\in \\mathcal{X}_j$ with $i \\neq j$ it must be that $p_{kl} = 0$, and we conclude that the classes $\\mathcal{X}_i$ are closed."
   ]
  }
 ],
 "metadata": {
  "kernelspec": {
   "display_name": "Python 3 (ipykernel)",
   "language": "python",
   "name": "python3"
  },
  "language_info": {
   "codemirror_mode": {
    "name": "ipython",
    "version": 3
   },
   "file_extension": ".py",
   "mimetype": "text/x-python",
   "name": "python",
   "nbconvert_exporter": "python",
   "pygments_lexer": "ipython3",
   "version": "3.13.0"
  }
 },
 "nbformat": 4,
 "nbformat_minor": 5
}
