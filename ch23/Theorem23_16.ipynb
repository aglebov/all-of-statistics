{
 "cells": [
  {
   "cell_type": "markdown",
   "id": "5eb28c20-f933-4c89-8edf-3a67af36f399",
   "metadata": {},
   "source": [
    "**Lemma**. If a state $j$ is transient, then $\\sum_{n} p_{ij}(n) < \\infty$.\n",
    "\n",
    "**Proof**. We prove the statement by contradiction. Suppose $j$ is transient, but $\\sum_{n} p_{ij}(n) = \\infty$ for some $i$.\n",
    "\n",
    "Suppose that for some $m$ the probability of returning to $j$ after $m$ steps is non zero, i.e. $p_{jj}(m) > 0$. Then \n",
    "$$\\sum_{n} p_{ij}(n) p_{jj}"
   ]
  },
  {
   "cell_type": "markdown",
   "id": "5adf0b91-0567-4368-a361-2fa2a407fe2a",
   "metadata": {},
   "source": [
    "**Theorem 23.16.** Facts about recurrence.\n",
    "\n",
    "   1. If a state $i$ is recurrent and $i \\leftrightarrow j$, then $j$ is recurrent.\n",
    "   2. If a state $i$ is transient and $i \\leftrightarrow j$, then $j$ is transient.\n",
    "   3. A finite Markov chain must have at least one recurrent state.\n",
    "   4. The states of a finite, irreducible Markov chain are all recurrent."
   ]
  },
  {
   "cell_type": "markdown",
   "id": "13016567-85a0-4096-9f87-9acb8f0f538b",
   "metadata": {},
   "source": [
    "**Proof**.\n",
    "\n",
    "1. Since $i \\leftrightarrow j$, we have $p_{ij}(n_1) > 0$ and $p_{ji}(n_2) > 0$. Then using Theorem 23.9,\n",
    "$$\\begin{split}\n",
    "\\sum_{n=0}^\\infty p_{jj}(n) \n",
    "&= \\sum_{n=0}^{n_1 + n_2} p_{jj}(n) + \\sum_{n=n_1 + n_2}^\\infty p_{jj}(n) \\\\\n",
    "&\\geq \\sum_{n=0}^{n_1 + n_2} p_{jj}(n) + \\sum_{n=n_1 + n_2}^\\infty p_{ji}(n_2) p_{ii}(n - n_1 - n_2) p_{ij}(n_1) \\\\\n",
    "&= \\sum_{n=0}^{n_1 + n_2} p_{jj}(n) + p_{ji}(n_2) p_{ij}(n_1) \\sum_{n=0}^\\infty  p_{ii}(n) \\\\\n",
    "&= \\infty,\n",
    "\\end{split}$$\n",
    "therefore $j$ is recurrent."
   ]
  },
  {
   "cell_type": "markdown",
   "id": "5d39bda3-2644-4ef1-8f86-1b5052ae81d2",
   "metadata": {},
   "source": [
    "2. Suppose for a contradiction that $i$ is transient, $i \\leftrightarrow j$, but $j$ is recurrent. Since $j$ is recurrent, (1) implies that that $i$ is recurrent too, and we obtain a contradiction."
   ]
  },
  {
   "cell_type": "markdown",
   "id": "baa67ea4-9b24-48ae-b97d-3a3f7a1cec36",
   "metadata": {},
   "source": [
    "4. Since the chain is finite, by (3) it has a recurrent state. Since the chain is irreducible, all states communicate with each other. Thus by (1), all states are recurrent."
   ]
  }
 ],
 "metadata": {
  "kernelspec": {
   "display_name": "Python 3 (ipykernel)",
   "language": "python",
   "name": "python3"
  },
  "language_info": {
   "codemirror_mode": {
    "name": "ipython",
    "version": 3
   },
   "file_extension": ".py",
   "mimetype": "text/x-python",
   "name": "python",
   "nbconvert_exporter": "python",
   "pygments_lexer": "ipython3",
   "version": "3.13.0"
  }
 },
 "nbformat": 4,
 "nbformat_minor": 5
}
